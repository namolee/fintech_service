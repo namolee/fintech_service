{
 "cells": [
  {
   "cell_type": "markdown",
   "id": "7a529143",
   "metadata": {},
   "source": [
    "# 문자열 사용하기, 문자열 함수"
   ]
  },
  {
   "cell_type": "markdown",
   "id": "7e003aa2",
   "metadata": {},
   "source": [
    "1. 문자열 사용하기의 기본"
   ]
  },
  {
   "cell_type": "markdown",
   "id": "1b8bdad6",
   "metadata": {},
   "source": [
    " \" 따옴표 안에 문자를 넣어서 문자열을 만든다. <br>\n",
    " ' 도 가능"
   ]
  },
  {
   "cell_type": "code",
   "execution_count": 1,
   "id": "4884125f",
   "metadata": {},
   "outputs": [
    {
     "data": {
      "text/plain": [
       "'hello, world'"
      ]
     },
     "execution_count": 1,
     "metadata": {},
     "output_type": "execute_result"
    }
   ],
   "source": [
    "hello='hello, world'\n",
    "hello"
   ]
  },
  {
   "cell_type": "code",
   "execution_count": 2,
   "id": "fcbe289d",
   "metadata": {},
   "outputs": [
    {
     "data": {
      "text/plain": [
       "'hello, world'"
      ]
     },
     "execution_count": 2,
     "metadata": {},
     "output_type": "execute_result"
    }
   ],
   "source": [
    "hello2=\"hello, world\"\n",
    "hello2"
   ]
  },
  {
   "cell_type": "code",
   "execution_count": 5,
   "id": "81e3595c",
   "metadata": {},
   "outputs": [
    {
     "data": {
      "text/plain": [
       "\"hello, 'world'\""
      ]
     },
     "execution_count": 5,
     "metadata": {},
     "output_type": "execute_result"
    }
   ],
   "source": [
    "hello3=\"hello, 'world'\"\n",
    "hello3"
   ]
  },
  {
   "cell_type": "code",
   "execution_count": 9,
   "id": "c30a4eab",
   "metadata": {},
   "outputs": [
    {
     "data": {
      "text/plain": [
       "'\"hello\", world'"
      ]
     },
     "execution_count": 9,
     "metadata": {},
     "output_type": "execute_result"
    }
   ],
   "source": [
    "hello4='\"hello\", world'\n",
    "hello4"
   ]
  },
  {
   "cell_type": "markdown",
   "id": "2ac2f3ef",
   "metadata": {},
   "source": [
    "여러 줄로 된 문자열 사용하기 <br>\n",
    "'''내용'''<br>\n",
    "\"\"\"내용\"\"\""
   ]
  },
  {
   "cell_type": "code",
   "execution_count": 10,
   "id": "1fe74935",
   "metadata": {},
   "outputs": [
    {
     "name": "stdout",
     "output_type": "stream",
     "text": [
      "\n",
      "안녕하세요\n",
      "python 수업입니다.\n",
      "\n"
     ]
    },
    {
     "data": {
      "text/plain": [
       "'\\n안녕하세요\\npython 수업입니다.\\n'"
      ]
     },
     "execution_count": 10,
     "metadata": {},
     "output_type": "execute_result"
    }
   ],
   "source": [
    "hello5='''\n",
    "안녕하세요\n",
    "python 수업입니다.\n",
    "'''\n",
    "print(hello5)\n",
    "hello5"
   ]
  },
  {
   "cell_type": "code",
   "execution_count": 12,
   "id": "d8e0ff37",
   "metadata": {},
   "outputs": [
    {
     "name": "stdout",
     "output_type": "stream",
     "text": [
      "\n",
      "\"안녕하세요\"\n",
      "'python' 수업입니다.\n",
      "\n"
     ]
    },
    {
     "data": {
      "text/plain": [
       "'\\n\"안녕하세요\"\\n\\'python\\' 수업입니다.\\n'"
      ]
     },
     "execution_count": 12,
     "metadata": {},
     "output_type": "execute_result"
    }
   ],
   "source": [
    "hello6=\"\"\"\n",
    "\"안녕하세요\"\n",
    "'python' 수업입니다.\n",
    "\"\"\"\n",
    "print(hello6)\n",
    "hello6"
   ]
  },
  {
   "cell_type": "markdown",
   "id": "d0bc8518",
   "metadata": {},
   "source": [
    "문자열에서 이스케이프문자(\\n, \\t, \\r)<br>\n",
    "\\n: 줄바꿈 new line <br>\n",
    "\\t: 탭 tap 4 ~ 8 칸 공백 <br>\n",
    "\\r: 캐리지리턴 현재 줄의 제일 왼쪽 끝으로 커서 이동"
   ]
  },
  {
   "cell_type": "code",
   "execution_count": 16,
   "id": "9b4273bf",
   "metadata": {},
   "outputs": [
    {
     "name": "stdout",
     "output_type": "stream",
     "text": [
      "파이썬에서 줄바꿈은 \\n으로 합니다. \n",
      "\n",
      "\n",
      "3줄 줄바꿈 긑\n"
     ]
    }
   ],
   "source": [
    "h1 = \"파이썬에서 줄바꿈은 \\\\n으로 합니다. \\n\\n\\n3줄 줄바꿈 긑\"\n",
    "print(h1)\n"
   ]
  },
  {
   "cell_type": "code",
   "execution_count": 17,
   "id": "9d47a879",
   "metadata": {},
   "outputs": [
    {
     "name": "stdout",
     "output_type": "stream",
     "text": [
      "탭으로 공간을 띄우는 것은 \\t \t로 합니다.\n"
     ]
    }
   ],
   "source": [
    "h2 = \"탭으로 공간을 띄우는 것은 \\\\t \\t로 합니다.\"\n",
    "print(h2)"
   ]
  },
  {
   "cell_type": "code",
   "execution_count": 19,
   "id": "73fb3d63",
   "metadata": {},
   "outputs": [
    {
     "name": "stdout",
     "output_type": "stream",
     "text": [
      "캐리지리턴은 \\r 입니다. \n",
      "커서가 같은 줄 가장 앞으로 이동하기 때문에 \r",
      "글자가 겹쳐져서 지워졌습니다.\n"
     ]
    }
   ],
   "source": [
    "h3 = \"캐리지리턴은 \\\\r 입니다. \\n커서가 같은 줄 가장 앞으로 이동하기 때문에 \\r글자가 겹쳐져서 지워졌습니다.\"\n",
    "print(h3)"
   ]
  },
  {
   "cell_type": "markdown",
   "id": "8f0c3eaf",
   "metadata": {},
   "source": [
    "## 인덱스와 문자열\n",
    "* 문자: 글자 1개\n",
    "* 문자열: 글자가 여러 개, 순서가 있는 자료, 번호, 인덱스"
   ]
  },
  {
   "cell_type": "code",
   "execution_count": 33,
   "id": "9d78cd75",
   "metadata": {},
   "outputs": [
    {
     "name": "stdout",
     "output_type": "stream",
     "text": [
      "문자열은 왼쪽부터 번호를 매길 수 있으며 시작은 0번부터 입니다.\n"
     ]
    }
   ],
   "source": [
    "h4 = \"문자열은 왼쪽부터 번호를 매길 수 있으며 시작은 0번부터 입니다.\"\n",
    "print(h4)"
   ]
  },
  {
   "cell_type": "code",
   "execution_count": 34,
   "id": "773a1c00",
   "metadata": {},
   "outputs": [
    {
     "data": {
      "text/plain": [
       "'문자열은 '"
      ]
     },
     "execution_count": 34,
     "metadata": {},
     "output_type": "execute_result"
    }
   ],
   "source": [
    "h4[0:5]"
   ]
  },
  {
   "cell_type": "code",
   "execution_count": 35,
   "id": "f9cc2851",
   "metadata": {},
   "outputs": [
    {
     "data": {
      "text/plain": [
       "'번호를 매길 수 있으'"
      ]
     },
     "execution_count": 35,
     "metadata": {},
     "output_type": "execute_result"
    }
   ],
   "source": [
    "h4[10:21]"
   ]
  },
  {
   "cell_type": "code",
   "execution_count": 36,
   "id": "14e9022c",
   "metadata": {},
   "outputs": [
    {
     "data": {
      "text/plain": [
       "'.'"
      ]
     },
     "execution_count": 36,
     "metadata": {},
     "output_type": "execute_result"
    }
   ],
   "source": [
    "h4[-1]"
   ]
  },
  {
   "cell_type": "code",
   "execution_count": 37,
   "id": "4676e0cb",
   "metadata": {},
   "outputs": [
    {
     "data": {
      "text/plain": [
       "' 입니다.'"
      ]
     },
     "execution_count": 37,
     "metadata": {},
     "output_type": "execute_result"
    }
   ],
   "source": [
    "h4[-5:]"
   ]
  },
  {
   "cell_type": "code",
   "execution_count": 38,
   "id": "6cfc4e42",
   "metadata": {},
   "outputs": [
    {
     "data": {
      "text/plain": [
       "'자은왼부 '"
      ]
     },
     "execution_count": 38,
     "metadata": {},
     "output_type": "execute_result"
    }
   ],
   "source": [
    "h4[1:11:2]"
   ]
  },
  {
   "cell_type": "code",
   "execution_count": 39,
   "id": "41089164",
   "metadata": {},
   "outputs": [
    {
     "data": {
      "text/plain": [
       "'.다니입 터부번0 은작시 며으있 수 길매 를호번 터부쪽왼 은열자문'"
      ]
     },
     "execution_count": 39,
     "metadata": {},
     "output_type": "execute_result"
    }
   ],
   "source": [
    "h4[::-1]"
   ]
  },
  {
   "cell_type": "code",
   "execution_count": 42,
   "id": "f8d0d70a",
   "metadata": {},
   "outputs": [
    {
     "data": {
      "text/plain": [
       "'쪽왼 은'"
      ]
     },
     "execution_count": 42,
     "metadata": {},
     "output_type": "execute_result"
    }
   ],
   "source": [
    "h4[6:2:-1]"
   ]
  },
  {
   "cell_type": "markdown",
   "id": "44f132a1",
   "metadata": {},
   "source": [
    "## 문자열 함수\n",
    "\n",
    "* .replace()\n",
    "* .split()\n",
    "* .join()\n",
    "* .strip()\n"
   ]
  },
  {
   "cell_type": "markdown",
   "id": "6fdb0bb2",
   "metadata": {},
   "source": [
    "1. 문자열 바꾸기 .replace(찾을값, 바꿀값)\n",
    "* replace함수는 사용 후 결과를 재할당 해야 함."
   ]
  },
  {
   "cell_type": "code",
   "execution_count": 43,
   "id": "76cb5065",
   "metadata": {},
   "outputs": [
    {
     "data": {
      "text/plain": [
       "'Hello, Python'"
      ]
     },
     "execution_count": 43,
     "metadata": {},
     "output_type": "execute_result"
    }
   ],
   "source": [
    "h5 = \"Hello, Python\"\n",
    "h5"
   ]
  },
  {
   "cell_type": "code",
   "execution_count": 46,
   "id": "59ad86ed",
   "metadata": {},
   "outputs": [],
   "source": [
    "h5 = h5.replace('Python', 'World')"
   ]
  },
  {
   "cell_type": "code",
   "execution_count": 47,
   "id": "ae859f4e",
   "metadata": {},
   "outputs": [
    {
     "data": {
      "text/plain": [
       "'Hello, World'"
      ]
     },
     "execution_count": 47,
     "metadata": {},
     "output_type": "execute_result"
    }
   ],
   "source": [
    "h5"
   ]
  },
  {
   "cell_type": "markdown",
   "id": "60a38405",
   "metadata": {},
   "source": [
    "* str maketrans('찾을문자', '바꿀문자', '추가로 없앨문자')로 변환테이블 생성\n",
    "* translate로 문자를 찾아서 바꿈"
   ]
  },
  {
   "cell_type": "code",
   "execution_count": 51,
   "id": "dd861557",
   "metadata": {},
   "outputs": [],
   "source": [
    "table = str.maketrans('abcdefg', '1234567', 'lor')"
   ]
  },
  {
   "cell_type": "code",
   "execution_count": 52,
   "id": "230a081f",
   "metadata": {},
   "outputs": [
    {
     "data": {
      "text/plain": [
       "'H5, W4'"
      ]
     },
     "execution_count": 52,
     "metadata": {},
     "output_type": "execute_result"
    }
   ],
   "source": [
    "h5.translate(table)"
   ]
  },
  {
   "cell_type": "code",
   "execution_count": 53,
   "id": "cfa1a592",
   "metadata": {},
   "outputs": [
    {
     "data": {
      "text/plain": [
       "'He, Wd'"
      ]
     },
     "execution_count": 53,
     "metadata": {},
     "output_type": "execute_result"
    }
   ],
   "source": [
    "h5.translate(str.maketrans('', '', 'lor'))"
   ]
  },
  {
   "cell_type": "code",
   "execution_count": 54,
   "id": "2e40f4f1",
   "metadata": {},
   "outputs": [
    {
     "data": {
      "text/plain": [
       "'문자열은 왼쪽부터 번호를 매길 수 있으며 시작은 0번부터 입니다.'"
      ]
     },
     "execution_count": 54,
     "metadata": {},
     "output_type": "execute_result"
    }
   ],
   "source": [
    "h4"
   ]
  },
  {
   "cell_type": "code",
   "execution_count": 55,
   "id": "d818ef4d",
   "metadata": {},
   "outputs": [
    {
     "data": {
      "text/plain": [
       "'문자열은 왼쪽부터 번호를 매길 수 있으며 시작은 번부터 입니다'"
      ]
     },
     "execution_count": 55,
     "metadata": {},
     "output_type": "execute_result"
    }
   ],
   "source": [
    "h4.translate(str.maketrans('', '', '0.'))"
   ]
  },
  {
   "cell_type": "markdown",
   "id": "88e0e583",
   "metadata": {},
   "source": [
    "2. 문자열 분리하기 .split()\n",
    "* 공백을 기준으로 문자열을 분리해 리스트로 만들어줌"
   ]
  },
  {
   "cell_type": "code",
   "execution_count": 56,
   "id": "184355fb",
   "metadata": {},
   "outputs": [
    {
     "data": {
      "text/plain": [
       "'문자열은 왼쪽부터 번호를 매길 수 있으며 시작은 0번부터 입니다.'"
      ]
     },
     "execution_count": 56,
     "metadata": {},
     "output_type": "execute_result"
    }
   ],
   "source": [
    "h4"
   ]
  },
  {
   "cell_type": "code",
   "execution_count": 57,
   "id": "0abde686",
   "metadata": {},
   "outputs": [
    {
     "data": {
      "text/plain": [
       "['문자열은', '왼쪽부터', '번호를', '매길', '수', '있으며', '시작은', '0번부터', '입니다.']"
      ]
     },
     "execution_count": 57,
     "metadata": {},
     "output_type": "execute_result"
    }
   ],
   "source": [
    "h4.split()"
   ]
  },
  {
   "cell_type": "code",
   "execution_count": 58,
   "id": "6c384882",
   "metadata": {},
   "outputs": [],
   "source": [
    "h4_1=h4.split()"
   ]
  },
  {
   "cell_type": "code",
   "execution_count": 59,
   "id": "efb0b13d",
   "metadata": {},
   "outputs": [
    {
     "name": "stdout",
     "output_type": "stream",
     "text": [
      "<class 'list'>\n"
     ]
    }
   ],
   "source": [
    "print(type(h4_1))"
   ]
  },
  {
   "cell_type": "code",
   "execution_count": 60,
   "id": "558ee5bc",
   "metadata": {},
   "outputs": [
    {
     "name": "stdout",
     "output_type": "stream",
     "text": [
      "'문자열은', '왼쪽부터', '번호를', '매길', '수', '있으며', '시작은', '0번부터', '입니다.'\n"
     ]
    },
    {
     "data": {
      "text/plain": [
       "str"
      ]
     },
     "execution_count": 60,
     "metadata": {},
     "output_type": "execute_result"
    }
   ],
   "source": [
    "h6=\"'문자열은', '왼쪽부터', '번호를', '매길', '수', '있으며', '시작은', '0번부터', '입니다.'\"\n",
    "print(h6)\n",
    "type(h6)"
   ]
  },
  {
   "cell_type": "code",
   "execution_count": 63,
   "id": "abf261f7",
   "metadata": {},
   "outputs": [
    {
     "data": {
      "text/plain": [
       "[\"'문자열은'\",\n",
       " \"'왼쪽부터'\",\n",
       " \"'번호를'\",\n",
       " \"'매길'\",\n",
       " \"'수'\",\n",
       " \"'있으며'\",\n",
       " \"'시작은'\",\n",
       " \"'0번부터'\",\n",
       " \"'입니다.'\"]"
      ]
     },
     "execution_count": 63,
     "metadata": {},
     "output_type": "execute_result"
    }
   ],
   "source": [
    "h6.split(', ')"
   ]
  },
  {
   "cell_type": "code",
   "execution_count": 64,
   "id": "da07002b",
   "metadata": {},
   "outputs": [],
   "source": [
    "h7 = \"사과, 배, 포도, 파인애플, 망고, 오렌지\"\n"
   ]
  },
  {
   "cell_type": "code",
   "execution_count": 65,
   "id": "96d4f391",
   "metadata": {},
   "outputs": [
    {
     "data": {
      "text/plain": [
       "['사과', '배', '포도', '파인애플', '망고', '오렌지']"
      ]
     },
     "execution_count": 65,
     "metadata": {},
     "output_type": "execute_result"
    }
   ],
   "source": [
    "h7_1=h7.split(', ')\n",
    "h7_1"
   ]
  },
  {
   "cell_type": "markdown",
   "id": "8733c87b",
   "metadata": {},
   "source": [
    "3. 리스트를 1개의 문자열로 합치기 <br>\n",
    "합칠 기준.join(list)"
   ]
  },
  {
   "cell_type": "code",
   "execution_count": 72,
   "id": "30add1ca",
   "metadata": {},
   "outputs": [
    {
     "data": {
      "text/plain": [
       "'사과/배/포도/파인애플/망고/오렌지'"
      ]
     },
     "execution_count": 72,
     "metadata": {},
     "output_type": "execute_result"
    }
   ],
   "source": [
    "h8 = \"/\".join(h7_1)\n",
    "h8"
   ]
  },
  {
   "cell_type": "code",
   "execution_count": 73,
   "id": "e25d9ea2",
   "metadata": {},
   "outputs": [],
   "source": [
    "h9 = ['iron man', 'spider-man', 'black widow', 'hulk']"
   ]
  },
  {
   "cell_type": "code",
   "execution_count": 76,
   "id": "f486240b",
   "metadata": {},
   "outputs": [
    {
     "data": {
      "text/plain": [
       "'iron man vs spider-man vs black widow vs hulk'"
      ]
     },
     "execution_count": 76,
     "metadata": {},
     "output_type": "execute_result"
    }
   ],
   "source": [
    "h9_1 = ' vs '.join(h9)\n",
    "h9_1"
   ]
  },
  {
   "cell_type": "markdown",
   "id": "f490667b",
   "metadata": {},
   "source": [
    "4. 소문자를 대문자로, 대문자를 소문자로 바꾸는 함수\n",
    "* .upper(), .lower()"
   ]
  },
  {
   "cell_type": "code",
   "execution_count": 80,
   "id": "7bef9d96",
   "metadata": {},
   "outputs": [
    {
     "data": {
      "text/plain": [
       "'IRON MAN VS SPIDER-MAN VS BLACK WIDOW VS HULK'"
      ]
     },
     "execution_count": 80,
     "metadata": {},
     "output_type": "execute_result"
    }
   ],
   "source": [
    "h10=h9_1.upper()\n",
    "h10"
   ]
  },
  {
   "cell_type": "code",
   "execution_count": 81,
   "id": "4a0f7f66",
   "metadata": {},
   "outputs": [
    {
     "data": {
      "text/plain": [
       "'iron man vs spider-man vs black widow vs hulk'"
      ]
     },
     "execution_count": 81,
     "metadata": {},
     "output_type": "execute_result"
    }
   ],
   "source": [
    "h10_1=h10.lower()\n",
    "h10_1"
   ]
  },
  {
   "cell_type": "markdown",
   "id": "072ba659",
   "metadata": {},
   "source": [
    "5. 왼쪽, 오른쪽, 양쪽 공백/특정문자 삭제하기\n",
    "* .lstrip(): 왼쪽\n",
    "* .rstrip(): 오른쪽\n",
    "* .strip(): 양쪽\n"
   ]
  },
  {
   "cell_type": "code",
   "execution_count": 82,
   "id": "26631248",
   "metadata": {},
   "outputs": [
    {
     "data": {
      "text/plain": [
       "'    공백이 있는 문자열    '"
      ]
     },
     "execution_count": 82,
     "metadata": {},
     "output_type": "execute_result"
    }
   ],
   "source": [
    "h11 = \"    공백이 있는 문자열    \"\n",
    "h11"
   ]
  },
  {
   "cell_type": "code",
   "execution_count": 83,
   "id": "5f8339da",
   "metadata": {},
   "outputs": [
    {
     "data": {
      "text/plain": [
       "'공백이 있는 문자열    '"
      ]
     },
     "execution_count": 83,
     "metadata": {},
     "output_type": "execute_result"
    }
   ],
   "source": [
    "h11.lstrip()"
   ]
  },
  {
   "cell_type": "code",
   "execution_count": 85,
   "id": "a9b2c087",
   "metadata": {},
   "outputs": [
    {
     "data": {
      "text/plain": [
       "'    공백이 있는 문자열'"
      ]
     },
     "execution_count": 85,
     "metadata": {},
     "output_type": "execute_result"
    }
   ],
   "source": [
    "h11.rstrip()"
   ]
  },
  {
   "cell_type": "code",
   "execution_count": 86,
   "id": "9c5c6a18",
   "metadata": {},
   "outputs": [
    {
     "data": {
      "text/plain": [
       "'공백이 있는 문자열'"
      ]
     },
     "execution_count": 86,
     "metadata": {},
     "output_type": "execute_result"
    }
   ],
   "source": [
    "h11.strip()"
   ]
  },
  {
   "cell_type": "code",
   "execution_count": 87,
   "id": "3111bc00",
   "metadata": {},
   "outputs": [],
   "source": [
    "h12 = \" ... ,  공백과 특수문자가 같이 있는 문자열 !! ^^  ....   \""
   ]
  },
  {
   "cell_type": "code",
   "execution_count": 88,
   "id": "aec183c6",
   "metadata": {},
   "outputs": [
    {
     "data": {
      "text/plain": [
       "'... ,  공백과 특수문자가 같이 있는 문자열 !! ^^  ....'"
      ]
     },
     "execution_count": 88,
     "metadata": {},
     "output_type": "execute_result"
    }
   ],
   "source": [
    "h12.strip()"
   ]
  },
  {
   "cell_type": "code",
   "execution_count": 92,
   "id": "dd42391a",
   "metadata": {},
   "outputs": [
    {
     "data": {
      "text/plain": [
       "'공백과 특수문자가 같이 있는 문자열 !! ^^'"
      ]
     },
     "execution_count": 92,
     "metadata": {},
     "output_type": "execute_result"
    }
   ],
   "source": [
    "h12.strip(',.  ')"
   ]
  },
  {
   "cell_type": "code",
   "execution_count": 94,
   "id": "9612b7a7",
   "metadata": {},
   "outputs": [
    {
     "name": "stdout",
     "output_type": "stream",
     "text": [
      " ... , 공백과 특수 문자가 \n",
      " ^^ 같이 있는 문자열 !! ^^ .... \n"
     ]
    }
   ],
   "source": [
    "h13 = \" ... , 공백과 특수 문자가 \\n ^^ 같이 있는 문자열 !! ^^ .... \"\n",
    "print(h13)"
   ]
  },
  {
   "cell_type": "code",
   "execution_count": 101,
   "id": "7cc41ca5",
   "metadata": {},
   "outputs": [
    {
     "data": {
      "text/plain": [
       "'공백과 특수 문자가 \\n ^^ 같이 있는 문자열'"
      ]
     },
     "execution_count": 101,
     "metadata": {},
     "output_type": "execute_result"
    }
   ],
   "source": [
    "h13.strip(\" ., ! ^\")"
   ]
  },
  {
   "cell_type": "markdown",
   "id": "df9b1a44",
   "metadata": {},
   "source": [
    "6. 메서드 체이닝(method(함수) chaining)으로 여러함수 동시에 사용하기"
   ]
  },
  {
   "cell_type": "code",
   "execution_count": 106,
   "id": "6762beee",
   "metadata": {},
   "outputs": [
    {
     "data": {
      "text/plain": [
       "'공백과 특수 문자가  같이 있는 문자열'"
      ]
     },
     "execution_count": 106,
     "metadata": {},
     "output_type": "execute_result"
    }
   ],
   "source": [
    "h13.strip(\" ., ! ^\").replace('^', '').replace('\\n', '').replace('  ',' ')"
   ]
  },
  {
   "cell_type": "markdown",
   "id": "e580d723",
   "metadata": {},
   "source": [
    "* string.punctuation을 이용해 특수문자 제거하기"
   ]
  },
  {
   "cell_type": "code",
   "execution_count": 107,
   "id": "c914c9cf",
   "metadata": {},
   "outputs": [],
   "source": [
    "import string"
   ]
  },
  {
   "cell_type": "code",
   "execution_count": 108,
   "id": "68249db4",
   "metadata": {},
   "outputs": [
    {
     "data": {
      "text/plain": [
       "['Formatter',\n",
       " 'Template',\n",
       " '_ChainMap',\n",
       " '__all__',\n",
       " '__builtins__',\n",
       " '__cached__',\n",
       " '__doc__',\n",
       " '__file__',\n",
       " '__loader__',\n",
       " '__name__',\n",
       " '__package__',\n",
       " '__spec__',\n",
       " '_re',\n",
       " '_sentinel_dict',\n",
       " '_string',\n",
       " 'ascii_letters',\n",
       " 'ascii_lowercase',\n",
       " 'ascii_uppercase',\n",
       " 'capwords',\n",
       " 'digits',\n",
       " 'hexdigits',\n",
       " 'octdigits',\n",
       " 'printable',\n",
       " 'punctuation',\n",
       " 'whitespace']"
      ]
     },
     "execution_count": 108,
     "metadata": {},
     "output_type": "execute_result"
    }
   ],
   "source": [
    "dir(string)"
   ]
  },
  {
   "cell_type": "code",
   "execution_count": 109,
   "id": "d8bb5b91",
   "metadata": {},
   "outputs": [
    {
     "data": {
      "text/plain": [
       "'!\"#$%&\\'()*+,-./:;<=>?@[\\\\]^_`{|}~'"
      ]
     },
     "execution_count": 109,
     "metadata": {},
     "output_type": "execute_result"
    }
   ],
   "source": [
    "string.punctuation"
   ]
  },
  {
   "cell_type": "code",
   "execution_count": 110,
   "id": "e3d1db26",
   "metadata": {},
   "outputs": [
    {
     "data": {
      "text/plain": [
       "' ... , 공백과 특수 문자가 \\n ^^ 같이 있는 문자열 !! ^^ .... '"
      ]
     },
     "execution_count": 110,
     "metadata": {},
     "output_type": "execute_result"
    }
   ],
   "source": [
    "h13"
   ]
  },
  {
   "cell_type": "code",
   "execution_count": 111,
   "id": "4198a46c",
   "metadata": {},
   "outputs": [
    {
     "data": {
      "text/plain": [
       "'   공백과 특수 문자가 \\n  같이 있는 문자열    '"
      ]
     },
     "execution_count": 111,
     "metadata": {},
     "output_type": "execute_result"
    }
   ],
   "source": [
    "h13.translate(str.maketrans('','',string.punctuation))"
   ]
  },
  {
   "cell_type": "code",
   "execution_count": 118,
   "id": "5691b70b",
   "metadata": {},
   "outputs": [],
   "source": [
    "test1 = '''344,622642,더 호텔 수 (THE HOTEL SOO),family,1박 가족 여행,2018년 5월 21일,8.0,\"위치 : 이순신 광장과는 반대편이라 차량으로 이동해야 합니다. 루프탑에서의\n",
    "바다 경치는 좋습니다.\n",
    "시설 : 깔끔하고 좋습니다. 패밀리룸을 사용 했는데 저녁6시쯤 갔더니 마지막 방이라며 2층을 배정 받았습니다. 창문을 여니 약간 쓰레기 냄새가 났고 바다가 보이지 않습니다.        \n",
    "루프탑 : 바베큐 세트가 저렴 했던거 같고 경치가 좋습니다. 수영장도 있었는데 계절이 아닌지.... \n",
    "    하지만 여름이면 좋을것 같습니다. 주차장은 장소가 넓지 않았던거 같고, 저녁에 나갔다 왔더니 야외 공터에 차를 대라고 하였습니다.    \n",
    "주말 저녁이라 그런지 가격을 제법 비싸게 준거 같은데... 2층이라 마음에 들지 않았습니다. 옆에 조선소 같은게 있어 쫌 보기에 좋지 않았습니다......................................'''"
   ]
  },
  {
   "cell_type": "code",
   "execution_count": 143,
   "id": "b5b1edac",
   "metadata": {},
   "outputs": [],
   "source": [
    "test1=test1.split(',')"
   ]
  },
  {
   "cell_type": "code",
   "execution_count": 144,
   "id": "05f61462",
   "metadata": {
    "scrolled": true
   },
   "outputs": [
    {
     "data": {
      "text/plain": [
       "['344',\n",
       " '622642',\n",
       " '더 호텔 수 (THE HOTEL SOO)',\n",
       " 'family',\n",
       " '1박 가족 여행',\n",
       " '2018년 5월 21일',\n",
       " '8.0',\n",
       " '\"위치 : 이순신 광장과는 반대편이라 차량으로 이동해야 합니다. 루프탑에서의\\n바다 경치는 좋습니다.\\n시설 : 깔끔하고 좋습니다. 패밀리룸을 사용 했는데 저녁6시쯤 갔더니 마지막 방이라며 2층을 배정 받았습니다. 창문을 여니 약간 쓰레기 냄새가 났고 바다가 보이지 않습니다.        \\n루프탑 : 바베큐 세트가 저렴 했던거 같고 경치가 좋습니다. 수영장도 있었는데 계절이 아닌지.... \\n    하지만 여름이면 좋을것 같습니다. 주차장은 장소가 넓지 않았던거 같고',\n",
       " ' 저녁에 나갔다 왔더니 야외 공터에 차를 대라고 하였습니다.    \\n주말 저녁이라 그런지 가격을 제법 비싸게 준거 같은데... 2층이라 마음에 들지 않았습니다. 옆에 조선소 같은게 있어 쫌 보기에 좋지 않았습니다......................................']"
      ]
     },
     "execution_count": 144,
     "metadata": {},
     "output_type": "execute_result"
    }
   ],
   "source": [
    "test1"
   ]
  },
  {
   "cell_type": "code",
   "execution_count": 171,
   "id": "d26f34ce",
   "metadata": {},
   "outputs": [],
   "source": [
    "hid=\",\".join(test1[:2])\n",
    "hotel_name_kor = test1[2].split(\"(\")[0].strip()\n",
    "hotel_name_eng = test1[2].split(\"(\")[1].strip(\") \")\n",
    "trip_type = test1[3]\n",
    "trip_type2= test1[4]\n",
    "trip_date= test1[5]\n",
    "rating= test1[6]\n",
    "review=','.join(test1[7:]).replace('.','').replace(':','').replace('\\n','').replace('   ',' ').replace('  ',' ').replace(',','').replace('  ',' ').replace('\"','')"
   ]
  },
  {
   "cell_type": "code",
   "execution_count": 169,
   "id": "3fd4a3f2",
   "metadata": {},
   "outputs": [
    {
     "data": {
      "text/plain": [
       "'위치 이순신 광장과는 반대편이라 차량으로 이동해야 합니다 루프탑에서의바다 경치는 좋습니다시설 깔끔하고 좋습니다 패밀리룸을 사용 했는데 저녁6시쯤 갔더니 마지막 방이라며 2층을 배정 받았습니다 창문을 여니 약간 쓰레기 냄새가 났고 바다가 보이지 않습니다 루프탑 바베큐 세트가 저렴 했던거 같고 경치가 좋습니다 수영장도 있었는데 계절이 아닌지 하지만 여름이면 좋을것 같습니다 주차장은 장소가 넓지 않았던거 같고 저녁에 나갔다 왔더니 야외 공터에 차를 대라고 하였습니다 주말 저녁이라 그런지 가격을 제법 비싸게 준거 같은데 2층이라 마음에 들지 않았습니다 옆에 조선소 같은게 있어 쫌 보기에 좋지 않았습니다'"
      ]
     },
     "execution_count": 169,
     "metadata": {},
     "output_type": "execute_result"
    }
   ],
   "source": [
    "review"
   ]
  },
  {
   "cell_type": "code",
   "execution_count": null,
   "id": "14d137d8",
   "metadata": {},
   "outputs": [],
   "source": []
  },
  {
   "cell_type": "code",
   "execution_count": null,
   "id": "dc51f700",
   "metadata": {},
   "outputs": [],
   "source": []
  },
  {
   "cell_type": "code",
   "execution_count": 127,
   "id": "f32b15a1",
   "metadata": {},
   "outputs": [
    {
     "data": {
      "text/plain": [
       "['\"위치 : 이순신 광장과는 반대편이라 차량으로 이동해야 합니다. 루프탑에서의\\n바다 경치는 좋습니다.\\n시설 : 깔끔하고 좋습니다. 패밀리룸을 사용 했는데 저녁6시쯤 갔더니 마지막 방이라며 2층을 배정 받았습니다. 창문을 여니 약간 쓰레기 냄새가 났고 바다가 보이지 않습니다.        \\n루프탑 : 바베큐 세트가 저렴 했던거 같고 경치가 좋습니다. 수영장도 있었는데 계절이 아닌지.... \\n    하지만 여름이면 좋을것 같습니다. 주차장은 장소가 넓지 않았던거 같고',\n",
       " ' 저녁에 나갔다 왔더니 야외 공터에 차를 대라고 하였습니다.    \\n주말 저녁이라 그런지 가격을 제법 비싸게 준거 같은데... 2층이라 마음에 들지 않았습니다. 옆에 조선소 같은게 있어 쫌 보기에 좋지 않았습니다......................................']"
      ]
     },
     "execution_count": 127,
     "metadata": {},
     "output_type": "execute_result"
    }
   ],
   "source": [
    "review1=test1_1[7:]\n",
    "review1"
   ]
  },
  {
   "cell_type": "code",
   "execution_count": 128,
   "id": "9c438240",
   "metadata": {},
   "outputs": [
    {
     "data": {
      "text/plain": [
       "'\"위치 : 이순신 광장과는 반대편이라 차량으로 이동해야 합니다. 루프탑에서의\\n바다 경치는 좋습니다.\\n시설 : 깔끔하고 좋습니다. 패밀리룸을 사용 했는데 저녁6시쯤 갔더니 마지막 방이라며 2층을 배정 받았습니다. 창문을 여니 약간 쓰레기 냄새가 났고 바다가 보이지 않습니다.        \\n루프탑 : 바베큐 세트가 저렴 했던거 같고 경치가 좋습니다. 수영장도 있었는데 계절이 아닌지.... \\n    하지만 여름이면 좋을것 같습니다. 주차장은 장소가 넓지 않았던거 같고  저녁에 나갔다 왔더니 야외 공터에 차를 대라고 하였습니다.    \\n주말 저녁이라 그런지 가격을 제법 비싸게 준거 같은데... 2층이라 마음에 들지 않았습니다. 옆에 조선소 같은게 있어 쫌 보기에 좋지 않았습니다......................................'"
      ]
     },
     "execution_count": 128,
     "metadata": {},
     "output_type": "execute_result"
    }
   ],
   "source": [
    "review1=' '.join((review1))\n",
    "review1"
   ]
  },
  {
   "cell_type": "code",
   "execution_count": 141,
   "id": "9d8a380b",
   "metadata": {},
   "outputs": [
    {
     "data": {
      "text/plain": [
       "'위치  이순신 광장과는 반대편이라 차량으로 이동해야 합니다 루프탑에서의 바다 경치는 좋습니다 시설  깔끔하고 좋습니다 패밀리룸을 사용 했는데 저녁6시쯤 갔더니 마지막 방이라며 2층을 배정 받았습니다 창문을 여니 약간 쓰레기 냄새가 났고 바다가 보이지 않습니다     루프탑  바베큐 세트가 저렴 했던거 같고 경치가 좋습니다 수영장도 있었는데 계절이 아닌지   하지만 여름이면 좋을것 같습니다 주차장은 장소가 넓지 않았던거 같고 저녁에 나갔다 왔더니 야외 공터에 차를 대라고 하였습니다   주말 저녁이라 그런지 가격을 제법 비싸게 준거 같은데 2층이라 마음에 들지 않았습니다 옆에 조선소 같은게 있어 쫌 보기에 좋지 않았습니다'"
      ]
     },
     "execution_count": 141,
     "metadata": {},
     "output_type": "execute_result"
    }
   ],
   "source": [
    "review1.replace('\\n', ' ').strip(string.punctuation).replace('  ',' ').translate(str.maketrans('','',string.punctuation))"
   ]
  },
  {
   "cell_type": "code",
   "execution_count": null,
   "id": "e9867bf8",
   "metadata": {},
   "outputs": [],
   "source": []
  },
  {
   "cell_type": "code",
   "execution_count": null,
   "id": "47c9a919",
   "metadata": {},
   "outputs": [],
   "source": [
    "\n"
   ]
  },
  {
   "cell_type": "code",
   "execution_count": 123,
   "id": "beab20c3",
   "metadata": {},
   "outputs": [],
   "source": [
    "test2= \"18062,427535,파크 하얏트 부산 (Park Hyatt Busan),family,2박 가족 여행,2019년 12월 29일,10.0,결혼 1주년 기념으로 아이랑 신랑이랑 다녀왔어요~ 룸컨디션 너무 좋았고 뷰가 최고였습니다! 2박 머물렀는데 청소도 깔끔하게 해주시고 애기가 이불에 살짝 토했는데도 바로 갈아주시고 좋았습니다~ 대신 창가쪽 커튼 한쪽이 떨어져있어서 조금 거슬렸구요... 창가에 침실이 있다보니 암막커튼을 치지 않으면 조금 쌀쌀한 느낌은 있었어요! 아 그리고 아기때문에 침대에 가드를 부탁드렸는데 가드가 너무 별로였습니다... 가드 구실을 못하고 넘 허술하게 매트리스 아래 그냥 끼워진거라 아기가 밤새 두번이나 가드사이에 빠졌습니다... 이점 좀 아쉬워요 ! 그 외에는 다이닝룸 리빙룸, 바까지 모두 이용했는데 서비스 좋았습니다~~!\"\n",
    "\n"
   ]
  },
  {
   "cell_type": "code",
   "execution_count": 125,
   "id": "150e95c6",
   "metadata": {},
   "outputs": [
    {
     "data": {
      "text/plain": [
       "['18062',\n",
       " '427535',\n",
       " '파크 하얏트 부산 (Park Hyatt Busan)',\n",
       " 'family',\n",
       " '2박 가족 여행',\n",
       " '2019년 12월 29일',\n",
       " '10.0',\n",
       " '결혼 1주년 기념으로 아이랑 신랑이랑 다녀왔어요~ 룸컨디션 너무 좋았고 뷰가 최고였습니다! 2박 머물렀는데 청소도 깔끔하게 해주시고 애기가 이불에 살짝 토했는데도 바로 갈아주시고 좋았습니다~ 대신 창가쪽 커튼 한쪽이 떨어져있어서 조금 거슬렸구요... 창가에 침실이 있다보니 암막커튼을 치지 않으면 조금 쌀쌀한 느낌은 있었어요! 아 그리고 아기때문에 침대에 가드를 부탁드렸는데 가드가 너무 별로였습니다... 가드 구실을 못하고 넘 허술하게 매트리스 아래 그냥 끼워진거라 아기가 밤새 두번이나 가드사이에 빠졌습니다... 이점 좀 아쉬워요 ! 그 외에는 다이닝룸 리빙룸',\n",
       " ' 바까지 모두 이용했는데 서비스 좋았습니다~~!']"
      ]
     },
     "execution_count": 125,
     "metadata": {},
     "output_type": "execute_result"
    }
   ],
   "source": [
    "test2_1=test2.split(',')\n",
    "test2_1"
   ]
  },
  {
   "cell_type": "code",
   "execution_count": null,
   "id": "e2586fc0",
   "metadata": {},
   "outputs": [],
   "source": []
  },
  {
   "cell_type": "code",
   "execution_count": null,
   "id": "f6dfc0b0",
   "metadata": {},
   "outputs": [],
   "source": []
  },
  {
   "cell_type": "code",
   "execution_count": null,
   "id": "78a4eeca",
   "metadata": {},
   "outputs": [],
   "source": []
  },
  {
   "cell_type": "code",
   "execution_count": 116,
   "id": "47278de5",
   "metadata": {},
   "outputs": [],
   "source": [
    "test3 = \"\"\"112731,239840,서귀포 칼 호텔 (Seogwipo KAL Hotel),family,3박 가족 여행,2020년 11월 19일,8.0,넓디넓은 정원과 산책로 덕분에 코로나 시대 언택트 여행에 좋았구요. 조용하고 한적하게 잘 쉬었어요.\n",
    "아무래도 서귀포가 제주시쪽보단 사람도 적어서 오히려 편하면서, 주변에 식당이나 까페, 편의점 갈때도 걸어서도 다녀올 입지라 좋습니다.\n",
    "실내 수영장은 생각만큼? 작은 규모라 오히려 사람 없이 잘 놀았어요ㅎㅎ \n",
    "라운지바가 넓고 층고도 높아서 커피나 맥주 먹으며 쉬기에 좋고요.\n",
    "매일 주시는 1.5리터 생수ㅎㅎ별거 아닐수 있지만 매우 감사했구요.\n",
    "다만 층수가 낮은 방이어서 그런가 모기가 있었어요^^;; 그외에는 다 깨끗했구요. \n",
    "매트리스가 오래됐는지 묘하게 불편해서 허리가 아프긴 하더라고요;; 다행히? 세미온돌이라 바닥에서 자는게 오히려 나았고요\n",
    "조식은...최근 후기가 다 별로라길래 하루만 가봤는데 역시;;ㅎ 뭐 저렴하기도 하지만.. 저는 나가서 먹었습니다.\"\"\""
   ]
  },
  {
   "cell_type": "code",
   "execution_count": 142,
   "id": "7604977d",
   "metadata": {},
   "outputs": [
    {
     "data": {
      "text/plain": [
       "['344,622642,더 호텔 수 (THE HOTEL SOO),family,1박 가족 여행,2018년 5월 21일,8.0,\"위치 : 이순신 광장과는 반대편이라 차량으로 이동해야 합니다. 루프탑에서의\\n바다 경치는 좋습니다.\\n시설 : 깔끔하고 좋습니다. 패밀리룸을 사용 했는데 저녁6시쯤 갔더니 마지막 방이라며 2층을 배정 받았습니다. 창문을 여니 약간 쓰레기 냄새가 났고 바다가 보이지 않습니다.        \\n루프탑 : 바베큐 세트가 저렴 했던거 같고 경치가 좋습니다. 수영장도 있었는데 계절이 아닌지.... \\n    하지만 여름이면 좋을것 같습니다. 주차장은 장소가 넓지 않았던거 같고, 저녁에 나갔다 왔더니 야외 공터에 차를 대라고 하였습니다.    \\n주말 저녁이라 그런지 가격을 제법 비싸게 준거 같은데... 2층이라 마음에 들지 않았습니다. 옆에 조선소 같은게 있어 쫌 보기에 좋지 않았습니다......................................',\n",
       " '18062,427535,파크 하얏트 부산 (Park Hyatt Busan),family,2박 가족 여행,2019년 12월 29일,10.0,결혼 1주년 기념으로 아이랑 신랑이랑 다녀왔어요~ 룸컨디션 너무 좋았고 뷰가 최고였습니다! 2박 머물렀는데 청소도 깔끔하게 해주시고 애기가 이불에 살짝 토했는데도 바로 갈아주시고 좋았습니다~ 대신 창가쪽 커튼 한쪽이 떨어져있어서 조금 거슬렸구요... 창가에 침실이 있다보니 암막커튼을 치지 않으면 조금 쌀쌀한 느낌은 있었어요! 아 그리고 아기때문에 침대에 가드를 부탁드렸는데 가드가 너무 별로였습니다... 가드 구실을 못하고 넘 허술하게 매트리스 아래 그냥 끼워진거라 아기가 밤새 두번이나 가드사이에 빠졌습니다... 이점 좀 아쉬워요 ! 그 외에는 다이닝룸 리빙룸, 바까지 모두 이용했는데 서비스 좋았습니다~~!',\n",
       " '112731,239840,서귀포 칼 호텔 (Seogwipo KAL Hotel),family,3박 가족 여행,2020년 11월 19일,8.0,넓디넓은 정원과 산책로 덕분에 코로나 시대 언택트 여행에 좋았구요. 조용하고 한적하게 잘 쉬었어요.\\n아무래도 서귀포가 제주시쪽보단 사람도 적어서 오히려 편하면서, 주변에 식당이나 까페, 편의점 갈때도 걸어서도 다녀올 입지라 좋습니다.\\n실내 수영장은 생각만큼? 작은 규모라 오히려 사람 없이 잘 놀았어요ㅎㅎ \\n라운지바가 넓고 층고도 높아서 커피나 맥주 먹으며 쉬기에 좋고요.\\n매일 주시는 1.5리터 생수ㅎㅎ별거 아닐수 있지만 매우 감사했구요.\\n다만 층수가 낮은 방이어서 그런가 모기가 있었어요^^;; 그외에는 다 깨끗했구요. \\n매트리스가 오래됐는지 묘하게 불편해서 허리가 아프긴 하더라고요;; 다행히? 세미온돌이라 바닥에서 자는게 오히려 나았고요\\n조식은...최근 후기가 다 별로라길래 하루만 가봤는데 역시;;ㅎ 뭐 저렴하기도 하지만.. 저는 나가서 먹었습니다.']"
      ]
     },
     "execution_count": 142,
     "metadata": {},
     "output_type": "execute_result"
    }
   ],
   "source": [
    "review=[]\n",
    "review.append(test1)\n",
    "review.append(test2)\n",
    "review.append(test3)\n",
    "dic1={}\n",
    "dic2={}\n",
    "dic3={}\n",
    "data=[dic1,dic2,dic3]\n",
    "for i in range(len(review)):\n",
    "    newreview=[]\n",
    "    newreview=review[i].split(',')\n",
    "    li\n",
    "    \n",
    "    "
   ]
  },
  {
   "cell_type": "code",
   "execution_count": null,
   "id": "9308ce6e",
   "metadata": {},
   "outputs": [],
   "source": []
  }
 ],
 "metadata": {
  "kernelspec": {
   "display_name": "Python 3 (ipykernel)",
   "language": "python",
   "name": "python3"
  },
  "language_info": {
   "codemirror_mode": {
    "name": "ipython",
    "version": 3
   },
   "file_extension": ".py",
   "mimetype": "text/x-python",
   "name": "python",
   "nbconvert_exporter": "python",
   "pygments_lexer": "ipython3",
   "version": "3.10.14"
  }
 },
 "nbformat": 4,
 "nbformat_minor": 5
}
