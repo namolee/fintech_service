{
 "cells": [
  {
   "cell_type": "markdown",
   "id": "76fcc22c",
   "metadata": {},
   "source": [
    "# 반복문 for,while\n",
    "* 반복문은 동일한 작업을 여러 번 반복해야 할 경우 사용하는 명령\n",
    "* for, while 두 종류의 반복문이 있음.\n",
    "* for는 반복 횟수가 정해져 있는 경우에 사용.\n",
    "* while은 반복 횟수가 정해지지 않은 경우에 사용"
   ]
  },
  {
   "cell_type": "markdown",
   "id": "97ba6828",
   "metadata": {},
   "source": [
    "## for 반복문: 반복할 횟수가 정해져 있는 경우\n",
    "for 변수 in 반복할 객체,자료:<br>\n",
    "____반복할 코드\n"
   ]
  },
  {
   "cell_type": "code",
   "execution_count": 2,
   "id": "80ead8e4",
   "metadata": {},
   "outputs": [
    {
     "name": "stdout",
     "output_type": "stream",
     "text": [
      "1 2 3 4 5 6 7 8 9 10 "
     ]
    }
   ],
   "source": [
    "# for문을 이용해서 1-10 숫자 출력\n",
    "for num in range(1,11):\n",
    "    print(num,end=\" \")"
   ]
  },
  {
   "cell_type": "markdown",
   "id": "3643f0b9",
   "metadata": {},
   "source": [
    "*순서가 있는 자료형은 모두 for문에 사용 가능 <br>\n",
    "    *문자열, list, tuple"
   ]
  },
  {
   "cell_type": "code",
   "execution_count": 5,
   "id": "a41cd9e0",
   "metadata": {},
   "outputs": [
    {
     "name": "stdout",
     "output_type": "stream",
     "text": [
      "파이썬은 문자열을 반복문에 넣어 출력 가능"
     ]
    }
   ],
   "source": [
    "for char in \"파이썬은 문자열을 반복문에 넣어 출력 가능\":\n",
    "    print(char,end='')"
   ]
  },
  {
   "cell_type": "code",
   "execution_count": 7,
   "id": "7f04697d",
   "metadata": {},
   "outputs": [
    {
     "name": "stdout",
     "output_type": "stream",
     "text": [
      "1 2 3 4 5 "
     ]
    }
   ],
   "source": [
    "for item in [1,2,3,4,5]:\n",
    "    print(item, end=' ')"
   ]
  },
  {
   "cell_type": "code",
   "execution_count": 8,
   "id": "d9f8a826",
   "metadata": {},
   "outputs": [
    {
     "data": {
      "text/plain": [
       "[1, 2.3, 3, '문자열', [1, 2, 3], (4, 5, 6), {'반복문': 'for'}]"
      ]
     },
     "execution_count": 8,
     "metadata": {},
     "output_type": "execute_result"
    }
   ],
   "source": [
    "L = [1,2.3,3, \"문자열\",[1,2,3],(4,5,6),{'반복문':'for'}]\n",
    "L"
   ]
  },
  {
   "cell_type": "code",
   "execution_count": 9,
   "id": "a928481f",
   "metadata": {},
   "outputs": [
    {
     "name": "stdout",
     "output_type": "stream",
     "text": [
      "1 2.3 3 문자열 [1, 2, 3] (4, 5, 6) {'반복문': 'for'} "
     ]
    }
   ],
   "source": [
    "for item in L:\n",
    "    print(item, end=' ')"
   ]
  },
  {
   "cell_type": "code",
   "execution_count": 10,
   "id": "02498f7a",
   "metadata": {},
   "outputs": [
    {
     "data": {
      "text/plain": [
       "(1, 2.3, 3, '문자열', [1, 2, 3], (4, 5, 6), {'반복문': 'for'})"
      ]
     },
     "execution_count": 10,
     "metadata": {},
     "output_type": "execute_result"
    }
   ],
   "source": [
    "t=tuple(L)\n",
    "t"
   ]
  },
  {
   "cell_type": "code",
   "execution_count": 11,
   "id": "5e997512",
   "metadata": {},
   "outputs": [
    {
     "name": "stdout",
     "output_type": "stream",
     "text": [
      "1 2.3 3 문자열 [1, 2, 3] (4, 5, 6) {'반복문': 'for'} "
     ]
    }
   ],
   "source": [
    "for item in t:\n",
    "    print(item,end=' ')"
   ]
  },
  {
   "cell_type": "code",
   "execution_count": 12,
   "id": "8440dfd9",
   "metadata": {},
   "outputs": [
    {
     "data": {
      "text/plain": [
       "{'번호': 1, '주소': '서울', '전화번호': '010-1111-2222', '이름': '홍길동'}"
      ]
     },
     "execution_count": 12,
     "metadata": {},
     "output_type": "execute_result"
    }
   ],
   "source": [
    "d=dict(번호=1, 주소='서울', 전화번호='010-1111-2222', 이름='홍길동')\n",
    "d"
   ]
  },
  {
   "cell_type": "markdown",
   "id": "412be23c",
   "metadata": {},
   "source": [
    "### 딕셔너리는 반복문에 넣었을 때 key만 출력"
   ]
  },
  {
   "cell_type": "code",
   "execution_count": 13,
   "id": "6684f066",
   "metadata": {},
   "outputs": [
    {
     "name": "stdout",
     "output_type": "stream",
     "text": [
      "번호 주소 전화번호 이름 "
     ]
    }
   ],
   "source": [
    "for item in d:\n",
    "    print(item, end=' ')"
   ]
  },
  {
   "cell_type": "code",
   "execution_count": 18,
   "id": "f9bb9c5c",
   "metadata": {},
   "outputs": [
    {
     "name": "stdout",
     "output_type": "stream",
     "text": [
      "1 서울 010-1111-2222 홍길동 "
     ]
    }
   ],
   "source": [
    "for key in d:\n",
    "    print(d[key],end=' ')"
   ]
  },
  {
   "cell_type": "code",
   "execution_count": 19,
   "id": "b9e61080",
   "metadata": {},
   "outputs": [
    {
     "name": "stdout",
     "output_type": "stream",
     "text": [
      "1 서울 010-1111-2222 홍길동 "
     ]
    }
   ],
   "source": [
    "for key in d.values():\n",
    "    print(key, end=' ')"
   ]
  },
  {
   "cell_type": "code",
   "execution_count": 20,
   "id": "d5db1bba",
   "metadata": {},
   "outputs": [
    {
     "name": "stdout",
     "output_type": "stream",
     "text": [
      "1 서울 010-1111-2222 홍길동 "
     ]
    }
   ],
   "source": [
    "for key in d:\n",
    "    print(d.get(key,0),end=' ')"
   ]
  },
  {
   "cell_type": "markdown",
   "id": "fe84dbd2",
   "metadata": {},
   "source": [
    "for 반복문을 이용해서 1부터 10까지 정수를 더한 합을 출력하세요"
   ]
  },
  {
   "cell_type": "code",
   "execution_count": 22,
   "id": "8be1bac8",
   "metadata": {},
   "outputs": [
    {
     "name": "stdout",
     "output_type": "stream",
     "text": [
      "55\n"
     ]
    }
   ],
   "source": [
    "total=0\n",
    "for i in range(1,11):\n",
    "    total+=i\n",
    "print(total) "
   ]
  },
  {
   "cell_type": "code",
   "execution_count": 24,
   "id": "62f763cd",
   "metadata": {},
   "outputs": [
    {
     "name": "stdout",
     "output_type": "stream",
     "text": [
      "93326215443944152681699238856266700490715968264381621468592963895217599993229915608941463976156518286253697920827223758251185210916864000000000000000000000000\n"
     ]
    }
   ],
   "source": [
    "total=1\n",
    "for i in range(1,101):\n",
    "    total*=i\n",
    "print(total)"
   ]
  },
  {
   "cell_type": "code",
   "execution_count": 25,
   "id": "6f49184b",
   "metadata": {},
   "outputs": [
    {
     "name": "stdout",
     "output_type": "stream",
     "text": [
      "650\n"
     ]
    }
   ],
   "source": [
    "total=0\n",
    "for i in range(1,51):\n",
    "    if i%2==0:\n",
    "        total+=i\n",
    "print(total)"
   ]
  },
  {
   "cell_type": "code",
   "execution_count": 26,
   "id": "f3a8843c",
   "metadata": {},
   "outputs": [
    {
     "name": "stdout",
     "output_type": "stream",
     "text": [
      "59126328543388935628800\n"
     ]
    }
   ],
   "source": [
    "total=1\n",
    "for i in range(1,101):\n",
    "    if i%7==0:\n",
    "        total*=i\n",
    "print(total)"
   ]
  },
  {
   "cell_type": "code",
   "execution_count": 28,
   "id": "4b579470",
   "metadata": {},
   "outputs": [
    {
     "name": "stdout",
     "output_type": "stream",
     "text": [
      "2050\n"
     ]
    }
   ],
   "source": [
    "total=0\n",
    "for i in range(1,101):\n",
    "    if 29<i<71:\n",
    "        total+=i\n",
    "print(total)"
   ]
  },
  {
   "cell_type": "code",
   "execution_count": 30,
   "id": "1b0dd043",
   "metadata": {},
   "outputs": [
    {
     "name": "stdout",
     "output_type": "stream",
     "text": [
      "2050\n"
     ]
    }
   ],
   "source": [
    "total=0\n",
    "for i in range(1,101)[29:70]:\n",
    "    total+=i\n",
    "print(total)"
   ]
  },
  {
   "cell_type": "code",
   "execution_count": 32,
   "id": "dd78a070",
   "metadata": {},
   "outputs": [
    {
     "name": "stdout",
     "output_type": "stream",
     "text": [
      "1 6 0 7\n",
      "2 7 0 9\n",
      "3 8 0 11\n"
     ]
    }
   ],
   "source": [
    "list1=[1,2,3,4,5]\n",
    "list2=[6,7,8,9,10]\n",
    "list3=[0,0,0]\n",
    "for num1,num2,num3 in zip(list1,list2,list3):\n",
    "    total=0\n",
    "    total=num1+num2+num3\n",
    "    print(num1,num2,num3,total)\n",
    "\n",
    "\n",
    "    \n",
    "# zip함수는   \n",
    "# list3가 제일 짧아서 그 길이만큼 for문 반복"
   ]
  },
  {
   "cell_type": "markdown",
   "id": "6b1073a6",
   "metadata": {},
   "source": [
    "enumerate(): index를 만들어주는 함수"
   ]
  },
  {
   "cell_type": "code",
   "execution_count": 2,
   "id": "025801f2",
   "metadata": {},
   "outputs": [
    {
     "name": "stdout",
     "output_type": "stream",
     "text": [
      "0 1 6 0\n",
      "1 2 7 0\n",
      "2 3 8 0\n"
     ]
    }
   ],
   "source": [
    "list1=[1,2,3,4,5]\n",
    "list2=[6,7,8,9,10]\n",
    "list3=[0,0,0]\n",
    "for idx,num in enumerate(zip(list1,list2,list3)):\n",
    "    print(idx, num[0], num[1], num[2])"
   ]
  },
  {
   "cell_type": "code",
   "execution_count": null,
   "id": "35ca0193",
   "metadata": {},
   "outputs": [],
   "source": []
  },
  {
   "cell_type": "markdown",
   "id": "11f8dfe7",
   "metadata": {},
   "source": [
    "# while 반복할 횟수가 정해지지 않은 경우\n",
    "* 무한 반복 가능\n",
    "* 무한 반복이 되지 않도록 조건식을 잘 짜주는 것이 중요<br>\n",
    "  변수 선언 및 초기화<br>\n",
    "  while 조건식:<br>\n",
    "  ____반복할 코드<br>\n",
    "  ____변수 증가/감소 로직<br>"
   ]
  },
  {
   "cell_type": "code",
   "execution_count": 5,
   "id": "604787a7",
   "metadata": {},
   "outputs": [
    {
     "name": "stdout",
     "output_type": "stream",
     "text": [
      "1 2 3 4 5 6 7 8 9 10 "
     ]
    }
   ],
   "source": [
    "i=1\n",
    "while i<=10:\n",
    "    print(i,end=' ')\n",
    "    i+=1"
   ]
  },
  {
   "cell_type": "markdown",
   "id": "5882538a",
   "metadata": {},
   "source": [
    "while문을 이용해서 1부터10까지 더해서 결과를 출력하시오"
   ]
  },
  {
   "cell_type": "code",
   "execution_count": 7,
   "id": "fa3161f3",
   "metadata": {},
   "outputs": [
    {
     "name": "stdout",
     "output_type": "stream",
     "text": [
      "55\n"
     ]
    }
   ],
   "source": [
    "i=1\n",
    "hap=0\n",
    "while i<11:\n",
    "    hap+=i\n",
    "    i+=1\n",
    "print(hap)"
   ]
  },
  {
   "cell_type": "code",
   "execution_count": 8,
   "id": "a4a62d96",
   "metadata": {},
   "outputs": [
    {
     "name": "stdout",
     "output_type": "stream",
     "text": [
      "210\n"
     ]
    }
   ],
   "source": [
    "hap=0\n",
    "i=20\n",
    "while i>0:\n",
    "    hap+=i\n",
    "    i-=1\n",
    "print(hap)"
   ]
  },
  {
   "cell_type": "markdown",
   "id": "548c8891",
   "metadata": {},
   "source": [
    "1-50 까지 수 중에서 3의 배수이거나, 짝수인 수를 찾아서 더한 값을 출력하시오"
   ]
  },
  {
   "cell_type": "code",
   "execution_count": null,
   "id": "8ea8bc34",
   "metadata": {},
   "outputs": [],
   "source": [
    "i=1\n",
    "hap=0\n",
    "while i<51:\n",
    "    if i%3==0 or i%2==0:\n",
    "        hap+=i\n",
    "    i+=1\n",
    "print(hap)"
   ]
  },
  {
   "cell_type": "markdown",
   "id": "2fe65995",
   "metadata": {},
   "source": [
    "반복 횟수가 정해지지 않은 경우: 무한 반복"
   ]
  },
  {
   "cell_type": "code",
   "execution_count": 3,
   "id": "86438388",
   "metadata": {},
   "outputs": [
    {
     "name": "stdout",
     "output_type": "stream",
     "text": [
      "5050\n"
     ]
    }
   ],
   "source": [
    "i=1\n",
    "hap=0\n",
    "while True:\n",
    "    if i<=100:\n",
    "        hap+=i\n",
    "    else:\n",
    "        break\n",
    "    i+=1\n",
    "print(hap)   "
   ]
  },
  {
   "cell_type": "markdown",
   "id": "6642b3c7",
   "metadata": {},
   "source": [
    "True가 되는 경우: 1, 정수, 실수, 문자열, True <br>\n",
    "False가 되는 경우: 0, 0.0, '', \"\", [], (), {}, False"
   ]
  },
  {
   "cell_type": "code",
   "execution_count": 4,
   "id": "a57562a3",
   "metadata": {},
   "outputs": [],
   "source": [
    "while \"\":\n",
    "    print(\"무한반복\")"
   ]
  },
  {
   "cell_type": "code",
   "execution_count": null,
   "id": "ceb407d7",
   "metadata": {},
   "outputs": [],
   "source": []
  }
 ],
 "metadata": {
  "kernelspec": {
   "display_name": "Python 3 (ipykernel)",
   "language": "python",
   "name": "python3"
  },
  "language_info": {
   "codemirror_mode": {
    "name": "ipython",
    "version": 3
   },
   "file_extension": ".py",
   "mimetype": "text/x-python",
   "name": "python",
   "nbconvert_exporter": "python",
   "pygments_lexer": "ipython3",
   "version": "3.10.14"
  }
 },
 "nbformat": 4,
 "nbformat_minor": 5
}
