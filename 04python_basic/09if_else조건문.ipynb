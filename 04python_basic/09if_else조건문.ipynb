{
 "cells": [
  {
   "cell_type": "markdown",
   "id": "a0f978dd",
   "metadata": {},
   "source": [
    "# if else 조건문\n"
   ]
  },
  {
   "cell_type": "markdown",
   "id": "1367cc21",
   "metadata": {},
   "source": [
    "## 1. 조건문이란 특정 조건일 때 실행하는 문법\n",
    "if 조건식:<br>\n",
    "____조건식이 참일 때 실행할 코드<br>\n",
    "else:<br>\n",
    "____조건식이 거짓일 때 실행할 코드"
   ]
  },
  {
   "cell_type": "code",
   "execution_count": 3,
   "id": "fb01340d",
   "metadata": {},
   "outputs": [],
   "source": [
    "x = 10"
   ]
  },
  {
   "cell_type": "code",
   "execution_count": 4,
   "id": "fc41bdd9",
   "metadata": {},
   "outputs": [
    {
     "name": "stdout",
     "output_type": "stream",
     "text": [
      "x는  10 입니다.\n"
     ]
    }
   ],
   "source": [
    "if x == 10:\n",
    "    print(\"x는 \",x,\"입니다.\")\n",
    "else:\n",
    "    print(\"x는 10이 아닌 \",x, \"입니다.\")"
   ]
  },
  {
   "cell_type": "code",
   "execution_count": 5,
   "id": "e49137a6",
   "metadata": {},
   "outputs": [],
   "source": [
    "L1 = ['파이썬','조건문',10,15.3,True,[1,2,3],(4,5,6),{'key':'value'}]"
   ]
  },
  {
   "cell_type": "code",
   "execution_count": 8,
   "id": "b9019b24",
   "metadata": {},
   "outputs": [
    {
     "name": "stdout",
     "output_type": "stream",
     "text": [
      "L1안에 파이썬이 있습니다.\n"
     ]
    }
   ],
   "source": [
    "if '파이썬' in L1:\n",
    "    print('L1안에 파이썬이 있습니다.')"
   ]
  },
  {
   "cell_type": "code",
   "execution_count": 9,
   "id": "532d53fe",
   "metadata": {},
   "outputs": [
    {
     "name": "stdout",
     "output_type": "stream",
     "text": [
      "L1안에 hello가 없습니다\n"
     ]
    }
   ],
   "source": [
    "if 'hello' in L1:\n",
    "    print('L1안에 hello가 있습니다.')\n",
    "else:\n",
    "    print('L1안에 hello가 없습니다')"
   ]
  },
  {
   "cell_type": "code",
   "execution_count": 2,
   "id": "6007247e",
   "metadata": {},
   "outputs": [
    {
     "name": "stdout",
     "output_type": "stream",
     "text": [
      "숫자를 입력하세요: 999875\n",
      "입력한 숫자  999875 는 홀수입니다.\n"
     ]
    }
   ],
   "source": [
    "x=int(input(\"숫자를 입력하세요: \"))\n",
    "if x%2==0:\n",
    "    print(\"입력한 숫자 \",x,\"는 짝수입니다.\")\n",
    "else:\n",
    "    print(\"입력한 숫자 \",x,\"는 홀수입니다.\")\n"
   ]
  },
  {
   "cell_type": "markdown",
   "id": "eecf1e96",
   "metadata": {},
   "source": [
    "## 2. 다중 조건문 사용하기 elif\n",
    "if 조건식:<br>\n",
    "____조건식이 참일 때 실행할 코드<br>\n",
    "elif 조건식2:<br>\n",
    "____조건식2가 참일 때 실행할 코드<br>\n",
    "elif 조건식3:<br>\n",
    "____조건식3이 참일 때 실행할 코드<br>\n",
    "else:<br>\n",
    "____조건식 1,2,3이 모두 아닐 경우"
   ]
  },
  {
   "cell_type": "code",
   "execution_count": 4,
   "id": "4e30c333",
   "metadata": {},
   "outputs": [
    {
     "name": "stdout",
     "output_type": "stream",
     "text": [
      "점수를 입력하세요: 21\n",
      "D\n"
     ]
    }
   ],
   "source": [
    "score=int(input(\"점수를 입력하세요: \"))\n",
    "\n",
    "if score>80:\n",
    "    print(\"A\")\n",
    "elif score>60:\n",
    "    print(\"B\")\n",
    "elif score>40:\n",
    "    print(\"C\")\n",
    "elif score>20:\n",
    "    print(\"D\")\n",
    "else:\n",
    "    print(\"F\")\n",
    "    "
   ]
  },
  {
   "cell_type": "markdown",
   "id": "21260395",
   "metadata": {},
   "source": [
    "국어, 영어, 수학, 과학 점수를 입력해서 평균 80점 이상이면 합격, 미만이면 불합격<br>\n",
    "단, 과목당 60점 미만이 있으면 과락으로 불합격\n",
    "입력 범위는 0-100이며 범위를 벗어나면 '입력범위 초과'를 출력"
   ]
  },
  {
   "cell_type": "code",
   "execution_count": 11,
   "id": "e944c740",
   "metadata": {},
   "outputs": [
    {
     "name": "stdout",
     "output_type": "stream",
     "text": [
      "국어 점수 입력: -10\n",
      "영어 점수 입력: 50\n",
      "수학 점수 입력: 60\n",
      "과학 점수 입력: 10\n",
      "입력범위 초과\n"
     ]
    }
   ],
   "source": [
    "kor=int(input(\"국어 점수 입력: \"))\n",
    "eng=int(input(\"영어 점수 입력: \"))\n",
    "math=int(input(\"수학 점수 입력: \"))\n",
    "sci=int(input(\"과학 점수 입력: \"))\n",
    "\n",
    "if kor>100 or kor<0 or eng>100 or eng<0 or math>100 or math<0 or sci>100 or sci<0:\n",
    "    print(\"입력범위 초과\")\n",
    "    \n",
    "elif 0<=kor<60 or 0<=eng<60 or 0<=math<60 or 0<=sci<60:\n",
    "    print(\"과락 불합격\")\n",
    "    \n",
    "elif (kor+eng+math+sci)/4>80:\n",
    "    print(\"합격\")\n",
    "else:\n",
    "    print(\"불합격\")\n",
    "    \n",
    "\n"
   ]
  },
  {
   "cell_type": "code",
   "execution_count": 14,
   "id": "f3a6ac53",
   "metadata": {},
   "outputs": [
    {
     "name": "stdout",
     "output_type": "stream",
     "text": [
      "정수 세 개 입력: 10 20 30\n"
     ]
    }
   ],
   "source": [
    "x, y, z=map(int, input(\"정수 세 개 입력: \").split())\n"
   ]
  },
  {
   "cell_type": "code",
   "execution_count": 15,
   "id": "f7271a2e",
   "metadata": {},
   "outputs": [
    {
     "data": {
      "text/plain": [
       "int"
      ]
     },
     "execution_count": 15,
     "metadata": {},
     "output_type": "execute_result"
    }
   ],
   "source": [
    "type(x)"
   ]
  },
  {
   "cell_type": "markdown",
   "id": "24916ceb",
   "metadata": {},
   "source": [
    "1-50 사이의 숫자를 입력받아서 3의 배수면 '3의 배수입니다' 출력, 아니면 '3의 배수가 아닙니다' 출력"
   ]
  },
  {
   "cell_type": "code",
   "execution_count": null,
   "id": "d5193d45",
   "metadata": {},
   "outputs": [],
   "source": [
    "x=int(input(\"1-50 사이의 숫자를 입력: \"))\n",
    "if x<1 or x>50:\n",
    "    print(\"범위확인\")\n",
    "else:\n",
    "    if x%3==0:\n",
    "        print(\"3의 배수입니다.\")\n",
    "    else:\n",
    "        print(\"3의 배수가 아닙니다.\")"
   ]
  },
  {
   "cell_type": "code",
   "execution_count": null,
   "id": "040289fe",
   "metadata": {},
   "outputs": [],
   "source": []
  }
 ],
 "metadata": {
  "kernelspec": {
   "display_name": "Python 3 (ipykernel)",
   "language": "python",
   "name": "python3"
  },
  "language_info": {
   "codemirror_mode": {
    "name": "ipython",
    "version": 3
   },
   "file_extension": ".py",
   "mimetype": "text/x-python",
   "name": "python",
   "nbconvert_exporter": "python",
   "pygments_lexer": "ipython3",
   "version": "3.10.14"
  }
 },
 "nbformat": 4,
 "nbformat_minor": 5
}
