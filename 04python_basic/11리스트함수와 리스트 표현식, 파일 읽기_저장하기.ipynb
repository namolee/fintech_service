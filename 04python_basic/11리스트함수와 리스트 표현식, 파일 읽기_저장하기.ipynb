{
 "cells": [
  {
   "cell_type": "markdown",
   "id": "94be809c",
   "metadata": {},
   "source": [
    "# 리스트함수와 리스트 표현식, 파일 읽기_저장하기"
   ]
  },
  {
   "cell_type": "markdown",
   "id": "56bcc8ca",
   "metadata": {},
   "source": [
    "##  리스트 함수\n",
    "* min(): 리스트 내에서 최소값 찾아주는 함수\n",
    "* max(): 리스트 내에서 최대값을 찾아주는 함수\n",
    "* sum(): 리스트 내의 요소를 더해 합계를 구해주는 함수\n"
   ]
  },
  {
   "cell_type": "code",
   "execution_count": 1,
   "id": "e22fe760",
   "metadata": {},
   "outputs": [],
   "source": [
    "a=[38, 21, 53, 62, 19, 5, 78, 55, 42, 33]\n",
    "b=[77, 65, 48, 79, 5, 4, 35, 3, 99, 105]"
   ]
  },
  {
   "cell_type": "markdown",
   "id": "a49eb383",
   "metadata": {},
   "source": [
    "* 정렬해서 가장 앞에 있는 숫자 추출\n",
    "* 모든 요소를 꺼내서 비교"
   ]
  },
  {
   "cell_type": "code",
   "execution_count": 2,
   "id": "174d696d",
   "metadata": {},
   "outputs": [
    {
     "data": {
      "text/plain": [
       "[5, 19, 21, 33, 38, 42, 53, 55, 62, 78]"
      ]
     },
     "execution_count": 2,
     "metadata": {},
     "output_type": "execute_result"
    }
   ],
   "source": [
    "sorted(a)"
   ]
  },
  {
   "cell_type": "code",
   "execution_count": 4,
   "id": "068a5d97",
   "metadata": {},
   "outputs": [
    {
     "data": {
      "text/plain": [
       "[78, 62, 55, 53, 42, 38, 33, 21, 19, 5]"
      ]
     },
     "execution_count": 4,
     "metadata": {},
     "output_type": "execute_result"
    }
   ],
   "source": [
    "sorted(a, reverse=True)"
   ]
  },
  {
   "cell_type": "code",
   "execution_count": 10,
   "id": "f4f55fa4",
   "metadata": {},
   "outputs": [
    {
     "name": "stdout",
     "output_type": "stream",
     "text": [
      "최댓값: 78\n"
     ]
    }
   ],
   "source": [
    "temp=a[0]\n",
    "for i in a:\n",
    "    if temp<=i:\n",
    "        temp=i\n",
    "print(\"최댓값:\",temp)"
   ]
  },
  {
   "cell_type": "markdown",
   "id": "a8b96606",
   "metadata": {},
   "source": [
    "## 리스트 표현식(list comprehension) 사용하기\n",
    "* 리스트 안에 for반복문과 if else 조건문을 한 번에 적는 방법\n",
    "* 여러 줄의 코드를 1줄로 줄일 수 있고\n",
    "* for, if else 문을 쓸 때 보다 처리속도가 빠르다\n",
    "* [실행할 명령 for 변수 in list, tuple]"
   ]
  },
  {
   "cell_type": "code",
   "execution_count": 12,
   "id": "6a67aae3",
   "metadata": {},
   "outputs": [
    {
     "data": {
      "text/plain": [
       "[1, 2, 3, 4, 5, 6, 7, 8, 9, 10]"
      ]
     },
     "execution_count": 12,
     "metadata": {},
     "output_type": "execute_result"
    }
   ],
   "source": [
    "list(range(1,11))"
   ]
  },
  {
   "cell_type": "code",
   "execution_count": 15,
   "id": "b37cde6f",
   "metadata": {},
   "outputs": [
    {
     "name": "stdout",
     "output_type": "stream",
     "text": [
      "[1, 2, 3, 4, 5, 6, 7, 8, 9, 10]\n"
     ]
    }
   ],
   "source": [
    "a=[]\n",
    "for i in range(1,11):\n",
    "    a.append(i)\n",
    "\n",
    "print(a)"
   ]
  },
  {
   "cell_type": "code",
   "execution_count": 3,
   "id": "40f19a57",
   "metadata": {},
   "outputs": [],
   "source": [
    "import time"
   ]
  },
  {
   "cell_type": "code",
   "execution_count": 17,
   "id": "8cfaa46c",
   "metadata": {},
   "outputs": [
    {
     "name": "stdout",
     "output_type": "stream",
     "text": [
      "[6, 7, 8, 9, 10, 11, 12, 13, 14, 15]\n",
      "3.030683994293213\n"
     ]
    }
   ],
   "source": [
    "start=time.time()\n",
    "\n",
    "a=[]\n",
    "for i in range(1,20000000):\n",
    "    a.append(i+5)\n",
    "print(a[:10])\n",
    "print(time.time()-start)"
   ]
  },
  {
   "cell_type": "code",
   "execution_count": 18,
   "id": "3800499b",
   "metadata": {},
   "outputs": [
    {
     "name": "stdout",
     "output_type": "stream",
     "text": [
      "[6, 7, 8, 9, 10, 11, 12, 13, 14, 15]\n",
      "1.3693091869354248\n"
     ]
    }
   ],
   "source": [
    "start=time.time()\n",
    "\n",
    "b=[i+5 for i in range(1,20000000)]\n",
    "print(b[:10])\n",
    "print(time.time()-start)"
   ]
  },
  {
   "cell_type": "code",
   "execution_count": 1,
   "id": "358b31e6",
   "metadata": {},
   "outputs": [],
   "source": [
    "import numpy as np"
   ]
  },
  {
   "cell_type": "code",
   "execution_count": 4,
   "id": "11baa7ed",
   "metadata": {},
   "outputs": [
    {
     "name": "stdout",
     "output_type": "stream",
     "text": [
      "[ 6  7  8  9 10 11 12 13 14 15]\n",
      "0.6581485271453857\n"
     ]
    }
   ],
   "source": [
    "start=time.time()\n",
    "c=np.arange(1,200000000)\n",
    "c=c+5\n",
    "print(c[:10])\n",
    "print(time.time()-start)"
   ]
  }
 ],
 "metadata": {
  "kernelspec": {
   "display_name": "Python 3 (ipykernel)",
   "language": "python",
   "name": "python3"
  },
  "language_info": {
   "codemirror_mode": {
    "name": "ipython",
    "version": 3
   },
   "file_extension": ".py",
   "mimetype": "text/x-python",
   "name": "python",
   "nbconvert_exporter": "python",
   "pygments_lexer": "ipython3",
   "version": "3.10.14"
  }
 },
 "nbformat": 4,
 "nbformat_minor": 5
}
