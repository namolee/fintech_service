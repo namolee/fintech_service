{
 "cells": [
  {
   "cell_type": "markdown",
   "id": "b67c339a",
   "metadata": {},
   "source": [
    "## 함수 만들기"
   ]
  },
  {
   "cell_type": "markdown",
   "id": "fbc38ca4",
   "metadata": {},
   "source": [
    "* print(),split(),input() => 함수\n",
    "* 함수의 괄호 안에 값을 넣으면 출력을 해주거나 입력을 받거나 변환을 해 줌\n",
    "* 도구\n",
    "* function => 기능\n",
    "* 자주 사용하는 기능을 미리 만들어서 반복 재사용 할 수 있게 만드는 것"
   ]
  },
  {
   "cell_type": "markdown",
   "id": "a7ce79e1",
   "metadata": {},
   "source": [
    "## 1) 함수 만드는 법\n",
    "def 함수이름():<br>\n",
    "____실행코드<br>\n",
    "____return 리턴값<br>\n"
   ]
  },
  {
   "cell_type": "code",
   "execution_count": 3,
   "id": "71954955",
   "metadata": {},
   "outputs": [],
   "source": [
    "def hello():\n",
    "    print(\"hello 파이썬 함수 만들기\")\n"
   ]
  },
  {
   "cell_type": "code",
   "execution_count": 5,
   "id": "74267973",
   "metadata": {},
   "outputs": [
    {
     "name": "stdout",
     "output_type": "stream",
     "text": [
      "hello 파이썬 함수 만들기\n"
     ]
    }
   ],
   "source": [
    "hello()"
   ]
  },
  {
   "cell_type": "markdown",
   "id": "a9ef851f",
   "metadata": {},
   "source": [
    "## 2) 함수 호출 순서\n",
    "* 함수는 호출하기 전에 반드시 먼저 정의되어야 하고(만들어 놓아야 함)\n",
    "* 함수 정의가 함수 실행보다 위에 있어야 한다."
   ]
  },
  {
   "cell_type": "markdown",
   "id": "09435b93",
   "metadata": {},
   "source": [
    "## 3) 함수의 매개변수\n",
    "* 함수의 ()안에 받는 값\n",
    "* ()안에 값을 받아서 함수 내에서 처리할 때 사용\n",
    "* print(\"hello\") => hello\n",
    "\n"
   ]
  },
  {
   "cell_type": "markdown",
   "id": "9265c9e6",
   "metadata": {},
   "source": [
    "매개변수 1개짜리 함수"
   ]
  },
  {
   "cell_type": "code",
   "execution_count": 6,
   "id": "2a6226f4",
   "metadata": {},
   "outputs": [],
   "source": [
    "#원의 넓이를 구하는 함수\n",
    "def circle(r):\n",
    "    return r*r*3.14"
   ]
  },
  {
   "cell_type": "code",
   "execution_count": 8,
   "id": "7eeb003e",
   "metadata": {},
   "outputs": [
    {
     "ename": "TypeError",
     "evalue": "circle() missing 1 required positional argument: 'r'",
     "output_type": "error",
     "traceback": [
      "\u001b[1;31m---------------------------------------------------------------------------\u001b[0m",
      "\u001b[1;31mTypeError\u001b[0m                                 Traceback (most recent call last)",
      "Cell \u001b[1;32mIn[8], line 1\u001b[0m\n\u001b[1;32m----> 1\u001b[0m \u001b[43mcircle\u001b[49m\u001b[43m(\u001b[49m\u001b[43m)\u001b[49m\n",
      "\u001b[1;31mTypeError\u001b[0m: circle() missing 1 required positional argument: 'r'"
     ]
    }
   ],
   "source": [
    "circle()"
   ]
  },
  {
   "cell_type": "code",
   "execution_count": 9,
   "id": "ab99fbe6",
   "metadata": {},
   "outputs": [
    {
     "data": {
      "text/plain": [
       "28.26"
      ]
     },
     "execution_count": 9,
     "metadata": {},
     "output_type": "execute_result"
    }
   ],
   "source": [
    "circle(3)"
   ]
  },
  {
   "cell_type": "markdown",
   "id": "fb56cc4a",
   "metadata": {},
   "source": [
    "매개변수 2개짜리 함수"
   ]
  },
  {
   "cell_type": "code",
   "execution_count": 10,
   "id": "f0ec8012",
   "metadata": {},
   "outputs": [],
   "source": [
    "def add(a,b):\n",
    "    return a+b"
   ]
  },
  {
   "cell_type": "code",
   "execution_count": 12,
   "id": "aa99ccac",
   "metadata": {},
   "outputs": [
    {
     "data": {
      "text/plain": [
       "13"
      ]
     },
     "execution_count": 12,
     "metadata": {},
     "output_type": "execute_result"
    }
   ],
   "source": [
    "add(10,3)"
   ]
  },
  {
   "cell_type": "markdown",
   "id": "97c6362c",
   "metadata": {},
   "source": [
    "매개 변수 3개짜리 함수 - a:시작, b:끝, c:증감<br>\n",
    "interval이라는 이름의 함수를 만드세요.<br>\n",
    "숫자를 입력받아 시작, 끝, 증감이 반영되게 출력하세요. <br>\n",
    "num_maker(1,10,2)<br>\n",
    "1, 3, 5, 7, 9"
   ]
  },
  {
   "cell_type": "code",
   "execution_count": 20,
   "id": "e9358927",
   "metadata": {},
   "outputs": [],
   "source": [
    "def num_maker(a,b,c):\n",
    "    print([i for i in range(a,b,c)])"
   ]
  },
  {
   "cell_type": "code",
   "execution_count": 21,
   "id": "9ac8f576",
   "metadata": {},
   "outputs": [
    {
     "name": "stdout",
     "output_type": "stream",
     "text": [
      "[1, 3, 5, 7, 9]\n"
     ]
    }
   ],
   "source": [
    "num_maker(1,10,2)"
   ]
  },
  {
   "cell_type": "markdown",
   "id": "07ad9db7",
   "metadata": {},
   "source": [
    "리턴값이 여러 개인 함수"
   ]
  },
  {
   "cell_type": "code",
   "execution_count": 23,
   "id": "53674665",
   "metadata": {},
   "outputs": [],
   "source": [
    "def add_sub(a,b):\n",
    "    add=a+b\n",
    "    sub=a-b\n",
    "    return add, sub"
   ]
  },
  {
   "cell_type": "code",
   "execution_count": 25,
   "id": "e412ed8f",
   "metadata": {},
   "outputs": [
    {
     "name": "stdout",
     "output_type": "stream",
     "text": [
      "<class 'tuple'>\n"
     ]
    }
   ],
   "source": [
    "print(type(add_sub(7,3)))"
   ]
  },
  {
   "cell_type": "code",
   "execution_count": 26,
   "id": "02002835",
   "metadata": {},
   "outputs": [],
   "source": [
    "def num_maker2(a,b,c):\n",
    "    asc=[i for i in range(a,b,c)]\n",
    "    desc=[i for i in range(a,b,c)][::-1]\n",
    "    return asc, desc"
   ]
  },
  {
   "cell_type": "code",
   "execution_count": 27,
   "id": "d3d9bae7",
   "metadata": {},
   "outputs": [
    {
     "data": {
      "text/plain": [
       "([1, 3, 5, 7, 9], [9, 7, 5, 3, 1])"
      ]
     },
     "execution_count": 27,
     "metadata": {},
     "output_type": "execute_result"
    }
   ],
   "source": [
    "num_maker2(1,10,2)"
   ]
  },
  {
   "cell_type": "markdown",
   "id": "d2b1fce2",
   "metadata": {},
   "source": [
    "## 4)중간에 함수를 종료시키기 위한 용도의 return\n",
    "* 반복문에서 break로 반복을 중지시키는 것처럼 함수에서 return이 실행되면 함수는 종료\n",
    "\n"
   ]
  },
  {
   "cell_type": "markdown",
   "id": "23038dbf",
   "metadata": {},
   "source": [
    "1-10까지 숫자중에 짝수만 출력하다가 7이상이 되면 종료하기"
   ]
  },
  {
   "cell_type": "code",
   "execution_count": 28,
   "id": "4ccb4afe",
   "metadata": {},
   "outputs": [],
   "source": [
    "age=range(1,11)\n"
   ]
  },
  {
   "cell_type": "code",
   "execution_count": 33,
   "id": "fa1f8c97",
   "metadata": {},
   "outputs": [],
   "source": [
    "def even(age):\n",
    "    for i in age:\n",
    "        if i%2==0:\n",
    "            print(i,end=\" \")\n",
    "        elif i>=7:\n",
    "            break"
   ]
  },
  {
   "cell_type": "code",
   "execution_count": 34,
   "id": "34a52793",
   "metadata": {},
   "outputs": [
    {
     "name": "stdout",
     "output_type": "stream",
     "text": [
      "2 4 6 "
     ]
    }
   ],
   "source": [
    "even(age)"
   ]
  },
  {
   "cell_type": "code",
   "execution_count": 38,
   "id": "82ddb6cd",
   "metadata": {},
   "outputs": [],
   "source": [
    "def even2(age):\n",
    "    for i in age:\n",
    "        if i%2==0:\n",
    "            print(i,end=\" \")\n",
    "        elif i>=7:\n",
    "            return"
   ]
  },
  {
   "cell_type": "code",
   "execution_count": 39,
   "id": "66e57fea",
   "metadata": {},
   "outputs": [
    {
     "name": "stdout",
     "output_type": "stream",
     "text": [
      "2 4 6 "
     ]
    }
   ],
   "source": [
    "even2(age)"
   ]
  },
  {
   "cell_type": "markdown",
   "id": "f05fec59",
   "metadata": {},
   "source": [
    "1-100까지 숫자중에 홀수만 출력하다가 51번째에 종료하는 odd함수 "
   ]
  },
  {
   "cell_type": "code",
   "execution_count": 54,
   "id": "916ebc29",
   "metadata": {},
   "outputs": [],
   "source": [
    "def odd():\n",
    "    for i in range(1,101):\n",
    "        if i%2==1:\n",
    "            print(i,end=\" \")\n",
    "        if i==51:\n",
    "            return"
   ]
  },
  {
   "cell_type": "code",
   "execution_count": 55,
   "id": "d79e374e",
   "metadata": {},
   "outputs": [
    {
     "name": "stdout",
     "output_type": "stream",
     "text": [
      "1 3 5 7 9 11 13 15 17 19 21 23 25 27 29 31 33 35 37 39 41 43 45 47 49 51 "
     ]
    }
   ],
   "source": [
    "odd()"
   ]
  },
  {
   "cell_type": "markdown",
   "id": "9eead299",
   "metadata": {},
   "source": [
    "## 5) 함수에서 위치 인수와 키워드 인수 사용하기\n",
    "* 위치인수(positional argument)\n",
    "* 함수에 인수를 순서대로 넣는 방식\n",
    "* 인수의 위치가 정해져 있음"
   ]
  },
  {
   "cell_type": "code",
   "execution_count": 56,
   "id": "2178c872",
   "metadata": {},
   "outputs": [],
   "source": [
    "def print_nums(a,b,c):\n",
    "    print(a, b, c)"
   ]
  },
  {
   "cell_type": "code",
   "execution_count": 57,
   "id": "7705faae",
   "metadata": {},
   "outputs": [
    {
     "name": "stdout",
     "output_type": "stream",
     "text": [
      "10 20 30\n"
     ]
    }
   ],
   "source": [
    "print_nums(10,20,30)"
   ]
  },
  {
   "cell_type": "markdown",
   "id": "672bfdf0",
   "metadata": {},
   "source": [
    "리스트, 튜플과 같은 자료형을 1개의 위치인수(매개변수)로 받을 때 위치 인수와 개수가 같으면 *로 언패킹 가능"
   ]
  },
  {
   "cell_type": "code",
   "execution_count": 59,
   "id": "3013cbac",
   "metadata": {},
   "outputs": [],
   "source": [
    "p=[10,20,30]"
   ]
  },
  {
   "cell_type": "code",
   "execution_count": 61,
   "id": "7da1efa4",
   "metadata": {},
   "outputs": [
    {
     "name": "stdout",
     "output_type": "stream",
     "text": [
      "10 20 30\n"
     ]
    }
   ],
   "source": [
    "print_nums(*p)"
   ]
  },
  {
   "cell_type": "code",
   "execution_count": null,
   "id": "20f023d9",
   "metadata": {},
   "outputs": [],
   "source": [
    "---------------------------------------------------------------------------------------"
   ]
  },
  {
   "cell_type": "code",
   "execution_count": null,
   "id": "661fb5bf",
   "metadata": {},
   "outputs": [],
   "source": [
    "def sum2(*args):\n",
    "    hap=0\n",
    "    for i in args:\n",
    "        hap += i\n",
    "    return hap"
   ]
  },
  {
   "cell_type": "code",
   "execution_count": null,
   "id": "260c9802",
   "metadata": {},
   "outputs": [],
   "source": [
    "-----------------------------------------------------------"
   ]
  },
  {
   "cell_type": "markdown",
   "id": "055149ce",
   "metadata": {},
   "source": [
    "* 고정인수와 가변인수를 함께 사용할 때는 반드시<br>\n",
    "* 고정인수, 가변인수 순으로 넣고 가변인수는 항상 <strong>마지막에<strong> 넣는다. <strong>\n",
    "* def sum(a, *args): O\n",
    "* def sum(*args, a): X"
   ]
  },
  {
   "cell_type": "markdown",
   "id": "83c82d08",
   "metadata": {},
   "source": [
    "정수와 리스트를 입력받아 리스트의 요소에 <br>\n",
    "입력받은 정수를 곱한 값의 리스트를 반환하는 함수 <br>\n",
    "3,[1,2,3,4,5] => [3,6,9,12,13]"
   ]
  },
  {
   "cell_type": "code",
   "execution_count": 62,
   "id": "41458f5d",
   "metadata": {},
   "outputs": [],
   "source": [
    "def muls(a, *args):\n",
    "    result = []\n",
    "    for num in args:\n",
    "        print(a*num, end=\" \")\n",
    "        result.append(a*num)\n",
    "    return result"
   ]
  },
  {
   "cell_type": "code",
   "execution_count": 64,
   "id": "a7425c7f",
   "metadata": {},
   "outputs": [
    {
     "name": "stdout",
     "output_type": "stream",
     "text": [
      "3 6 9 12 15 "
     ]
    },
    {
     "data": {
      "text/plain": [
       "[3, 6, 9, 12, 15]"
      ]
     },
     "execution_count": 64,
     "metadata": {},
     "output_type": "execute_result"
    }
   ],
   "source": [
    "muls(3,*[1,2,3,4,5])"
   ]
  },
  {
   "cell_type": "code",
   "execution_count": null,
   "id": "057f7010",
   "metadata": {},
   "outputs": [],
   "source": []
  }
 ],
 "metadata": {
  "kernelspec": {
   "display_name": "Python 3 (ipykernel)",
   "language": "python",
   "name": "python3"
  },
  "language_info": {
   "codemirror_mode": {
    "name": "ipython",
    "version": 3
   },
   "file_extension": ".py",
   "mimetype": "text/x-python",
   "name": "python",
   "nbconvert_exporter": "python",
   "pygments_lexer": "ipython3",
   "version": "3.10.14"
  }
 },
 "nbformat": 4,
 "nbformat_minor": 5
}
