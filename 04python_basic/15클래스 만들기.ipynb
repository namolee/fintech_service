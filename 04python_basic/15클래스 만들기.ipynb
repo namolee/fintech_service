{
 "cells": [
  {
   "cell_type": "markdown",
   "id": "397ca05f",
   "metadata": {},
   "source": [
    "# 클래스 만들기\n",
    "* 클래스는 객체지향 프로그래밍의 핵심\n",
    "* 클래스 하나에 여러개의 함수(메서드)를 포함\n",
    "* 클래스 = 커피머신 공장\n",
    "* 메서드 = 커피머신 기능(에스프레소, 아메리카노, 카페라떼, 카푸치노)\n"
   ]
  },
  {
   "cell_type": "markdown",
   "id": "c59beabd",
   "metadata": {},
   "source": [
    "더하기 함수"
   ]
  },
  {
   "cell_type": "code",
   "execution_count": 1,
   "id": "3deb01d1",
   "metadata": {},
   "outputs": [],
   "source": [
    "def add(num1,num2):\n",
    "    return num1+num2"
   ]
  },
  {
   "cell_type": "code",
   "execution_count": 2,
   "id": "83645b19",
   "metadata": {},
   "outputs": [
    {
     "data": {
      "text/plain": [
       "8"
      ]
     },
     "execution_count": 2,
     "metadata": {},
     "output_type": "execute_result"
    }
   ],
   "source": [
    "add(3,5)"
   ]
  },
  {
   "cell_type": "code",
   "execution_count": 3,
   "id": "1a6f066c",
   "metadata": {},
   "outputs": [],
   "source": [
    "result=0\n",
    "def add(num):\n",
    "    result+=num\n",
    "    return result"
   ]
  },
  {
   "cell_type": "code",
   "execution_count": 4,
   "id": "1d86ad98",
   "metadata": {},
   "outputs": [
    {
     "ename": "UnboundLocalError",
     "evalue": "local variable 'result' referenced before assignment",
     "output_type": "error",
     "traceback": [
      "\u001b[1;31m---------------------------------------------------------------------------\u001b[0m",
      "\u001b[1;31mUnboundLocalError\u001b[0m                         Traceback (most recent call last)",
      "Cell \u001b[1;32mIn[4], line 1\u001b[0m\n\u001b[1;32m----> 1\u001b[0m \u001b[43madd\u001b[49m\u001b[43m(\u001b[49m\u001b[38;5;241;43m5\u001b[39;49m\u001b[43m)\u001b[49m\n",
      "Cell \u001b[1;32mIn[3], line 3\u001b[0m, in \u001b[0;36madd\u001b[1;34m(num)\u001b[0m\n\u001b[0;32m      2\u001b[0m \u001b[38;5;28;01mdef\u001b[39;00m \u001b[38;5;21madd\u001b[39m(num):\n\u001b[1;32m----> 3\u001b[0m     result\u001b[38;5;241m+\u001b[39m\u001b[38;5;241m=\u001b[39mnum\n\u001b[0;32m      4\u001b[0m     \u001b[38;5;28;01mreturn\u001b[39;00m result\n",
      "\u001b[1;31mUnboundLocalError\u001b[0m: local variable 'result' referenced before assignment"
     ]
    }
   ],
   "source": [
    "add(5)"
   ]
  },
  {
   "cell_type": "code",
   "execution_count": 5,
   "id": "861b7a02",
   "metadata": {},
   "outputs": [],
   "source": [
    "result_cal=0\n",
    "def add(num):\n",
    "    global result_cal\n",
    "    result_cal+=num\n",
    "    return result_cal"
   ]
  },
  {
   "cell_type": "code",
   "execution_count": 6,
   "id": "7c0515ac",
   "metadata": {},
   "outputs": [
    {
     "data": {
      "text/plain": [
       "5"
      ]
     },
     "execution_count": 6,
     "metadata": {},
     "output_type": "execute_result"
    }
   ],
   "source": [
    "add(5)"
   ]
  },
  {
   "cell_type": "code",
   "execution_count": 7,
   "id": "12ed2adf",
   "metadata": {},
   "outputs": [
    {
     "data": {
      "text/plain": [
       "8"
      ]
     },
     "execution_count": 7,
     "metadata": {},
     "output_type": "execute_result"
    }
   ],
   "source": [
    "add(3)"
   ]
  },
  {
   "cell_type": "code",
   "execution_count": null,
   "id": "7fcf28fe",
   "metadata": {},
   "outputs": [],
   "source": []
  },
  {
   "cell_type": "markdown",
   "id": "857a9446",
   "metadata": {},
   "source": [
    "위의 방식으로 함수를 만들면 이전 데이터를 기억하게 할 수 있지만 초기화를 하거나 여러사람이 사용하면서 각기 다른 계산을 할 수 없다.<br>\n",
    "사용자가 늘어나면 변수와 함수를 따로 만들어야 한다.<br>\n",
    "여러 사람이 각자 다른 계산을 할 수 있고 이전 값을 기억할 수 있도록 만들려면 클래스를 이용해서 만들어야 한다."
   ]
  },
  {
   "cell_type": "markdown",
   "id": "4ae3d340",
   "metadata": {},
   "source": [
    "클래스로 계산기 만들기<br>\n",
    "class 클래스명:  # 클래스명을 만들때는 대문자로 시작하고 카멜 표기법을 사용 <br>\n",
    "____def 메소드명: <br>\n",
    "_______실행할 코드 <br>\n",
    "________return <br>"
   ]
  },
  {
   "cell_type": "code",
   "execution_count": 8,
   "id": "8937c9e2",
   "metadata": {},
   "outputs": [],
   "source": [
    "class Calculator():\n",
    "    def __init__(self): #self는 Calculator()\n",
    "        self.result=0\n",
    "    def add(self, num): #self는 Calculator.add(num)\n",
    "        self.result+=num\n",
    "        return self.result"
   ]
  },
  {
   "cell_type": "markdown",
   "id": "e5037c66",
   "metadata": {},
   "source": [
    "클래스 사용방법\n",
    "* 변수에 클래스를 담아서 인스턴스 생성\n",
    "* 인스턴스 변수명 = 클래스명()으로 생성할 수 있다.\n",
    "* 인스턴스를 생성하고 나면 인스턴스.메소드 형식으로 클래스에 정의한 메소드를 사용할 수 있다."
   ]
  },
  {
   "cell_type": "code",
   "execution_count": 9,
   "id": "0bbaa6e0",
   "metadata": {},
   "outputs": [],
   "source": [
    "# cal1 변수에 Calculator() 클래스를 담아 인스턴스 생성\n",
    "cal1=Calculator()"
   ]
  },
  {
   "cell_type": "code",
   "execution_count": 10,
   "id": "9b1ad03d",
   "metadata": {},
   "outputs": [
    {
     "data": {
      "text/plain": [
       "<__main__.Calculator at 0x1c484275180>"
      ]
     },
     "execution_count": 10,
     "metadata": {},
     "output_type": "execute_result"
    }
   ],
   "source": [
    "cal1"
   ]
  },
  {
   "cell_type": "code",
   "execution_count": 11,
   "id": "7d87925c",
   "metadata": {},
   "outputs": [
    {
     "name": "stdout",
     "output_type": "stream",
     "text": [
      "<class '__main__.Calculator'>\n"
     ]
    }
   ],
   "source": [
    "print(type(cal1))"
   ]
  },
  {
   "cell_type": "code",
   "execution_count": 12,
   "id": "d00504ea",
   "metadata": {},
   "outputs": [],
   "source": [
    "cal2=Calculator()"
   ]
  },
  {
   "cell_type": "code",
   "execution_count": 13,
   "id": "96a33cca",
   "metadata": {},
   "outputs": [
    {
     "data": {
      "text/plain": [
       "3"
      ]
     },
     "execution_count": 13,
     "metadata": {},
     "output_type": "execute_result"
    }
   ],
   "source": [
    "cal2.add(3)"
   ]
  },
  {
   "cell_type": "markdown",
   "id": "78d6f4ea",
   "metadata": {},
   "source": [
    "* Calculator 클래스로 만들 별개의 계산기 cal1, cal2를 파이썬에서는 인스턴스(instance) 혹은 객체(object)라고 부른다.\n",
    "* 각각의 인스턴스는 독립적으로 역할을 수행\n",
    "* 계산기 cal1과 cal2의 결과값은 서로 독립적으로 유지한다.\n",
    "* 클래스 = 커피머신 공장에서 만든 커피머신\n",
    "* 인스턴스 = 커피머신을 산 고객\n",
    "* 같은 기계를 가지고 있기 때문에 동일한 기능을 가짐\n",
    "* 사용자에 따라서 각기 다르게 사용 된다."
   ]
  },
  {
   "cell_type": "code",
   "execution_count": 18,
   "id": "f61b98b6",
   "metadata": {},
   "outputs": [],
   "source": [
    "class Calculator():\n",
    "    def __init__(self): #self는 Calculator()\n",
    "        self.result=0\n",
    "        \n",
    "    def add(self, num): #self는 Calculator.add(num)\n",
    "        self.result+=num\n",
    "        return self.result\n",
    "    \n",
    "    def sub(self, num):\n",
    "        self.result-=num\n",
    "        return self.result"
   ]
  },
  {
   "cell_type": "code",
   "execution_count": 19,
   "id": "5589b78c",
   "metadata": {},
   "outputs": [],
   "source": [
    "james=Calculator()"
   ]
  },
  {
   "cell_type": "code",
   "execution_count": 20,
   "id": "532b6c70",
   "metadata": {},
   "outputs": [
    {
     "data": {
      "text/plain": [
       "5"
      ]
     },
     "execution_count": 20,
     "metadata": {},
     "output_type": "execute_result"
    }
   ],
   "source": [
    "james.add(5)"
   ]
  },
  {
   "cell_type": "code",
   "execution_count": 21,
   "id": "b29a012b",
   "metadata": {},
   "outputs": [
    {
     "data": {
      "text/plain": [
       "-2"
      ]
     },
     "execution_count": 21,
     "metadata": {},
     "output_type": "execute_result"
    }
   ],
   "source": [
    "james.sub(7)"
   ]
  },
  {
   "cell_type": "code",
   "execution_count": 22,
   "id": "b099cf69",
   "metadata": {},
   "outputs": [],
   "source": [
    "susan=Calculator()"
   ]
  },
  {
   "cell_type": "code",
   "execution_count": 23,
   "id": "a6c46849",
   "metadata": {},
   "outputs": [
    {
     "data": {
      "text/plain": [
       "9"
      ]
     },
     "execution_count": 23,
     "metadata": {},
     "output_type": "execute_result"
    }
   ],
   "source": [
    "susan.add(9)"
   ]
  },
  {
   "cell_type": "code",
   "execution_count": 24,
   "id": "92f119bc",
   "metadata": {},
   "outputs": [
    {
     "data": {
      "text/plain": [
       "4"
      ]
     },
     "execution_count": 24,
     "metadata": {},
     "output_type": "execute_result"
    }
   ],
   "source": [
    "susan.sub(5)"
   ]
  },
  {
   "cell_type": "markdown",
   "id": "37ab8f9b",
   "metadata": {},
   "source": [
    "## 메소드(method)\n",
    "* class안에 정의하는 함수\n",
    "* 클래스에 기능을 만들어 준다.<br>\n",
    "def 메소드명(self, 매개변수, num2):<br>\n",
    "____self.매개변수=매개변수<br>\n",
    "____self.num2=num2"
   ]
  },
  {
   "cell_type": "markdown",
   "id": "93d76e59",
   "metadata": {},
   "source": [
    "사칙연산이 가능한 FourCal 계산기 만들기"
   ]
  },
  {
   "cell_type": "code",
   "execution_count": 25,
   "id": "22801375",
   "metadata": {},
   "outputs": [],
   "source": [
    "# FourCal 이라는 클래스를 만들고 숫자를 입력받는 setdata 매소드 만들기\n",
    "# add 기능 추가하기\n",
    "class FourCal():\n",
    "    def setdata(self, num1, num2):\n",
    "        self.num1=num1\n",
    "        self.num2=num2\n",
    "        print(\"self.num1 : \",self.num1)\n",
    "        print(\"self.num2 : \",self.num2)\n",
    "        \n",
    "    def add(self):\n",
    "        result=self.num1+self.num2\n",
    "        return result\n",
    "    \n",
    "    def sub(self):\n",
    "        result=self.num1-self.num2\n",
    "        return result\n",
    "    \n",
    "    def mul(self):\n",
    "        result=self.num1*self.num2\n",
    "        return result\n",
    "    \n",
    "    def div(self):\n",
    "        result=self.num1/self.num2\n",
    "        return result"
   ]
  },
  {
   "cell_type": "code",
   "execution_count": 26,
   "id": "9e0772ad",
   "metadata": {},
   "outputs": [],
   "source": [
    "sam=FourCal()"
   ]
  },
  {
   "cell_type": "code",
   "execution_count": 27,
   "id": "7ea21d95",
   "metadata": {},
   "outputs": [
    {
     "name": "stdout",
     "output_type": "stream",
     "text": [
      "self.num1 :  100\n",
      "self.num2 :  25\n"
     ]
    }
   ],
   "source": [
    "sam.setdata(100,25)"
   ]
  },
  {
   "cell_type": "code",
   "execution_count": 28,
   "id": "792491f9",
   "metadata": {},
   "outputs": [
    {
     "data": {
      "text/plain": [
       "125"
      ]
     },
     "execution_count": 28,
     "metadata": {},
     "output_type": "execute_result"
    }
   ],
   "source": [
    "sam.add()"
   ]
  },
  {
   "cell_type": "code",
   "execution_count": 29,
   "id": "057017fc",
   "metadata": {},
   "outputs": [
    {
     "data": {
      "text/plain": [
       "75"
      ]
     },
     "execution_count": 29,
     "metadata": {},
     "output_type": "execute_result"
    }
   ],
   "source": [
    "sam.sub()"
   ]
  },
  {
   "cell_type": "code",
   "execution_count": 30,
   "id": "850cad87",
   "metadata": {},
   "outputs": [
    {
     "data": {
      "text/plain": [
       "2500"
      ]
     },
     "execution_count": 30,
     "metadata": {},
     "output_type": "execute_result"
    }
   ],
   "source": [
    "sam.mul()"
   ]
  },
  {
   "cell_type": "code",
   "execution_count": 31,
   "id": "9efca2fe",
   "metadata": {},
   "outputs": [
    {
     "data": {
      "text/plain": [
       "4.0"
      ]
     },
     "execution_count": 31,
     "metadata": {},
     "output_type": "execute_result"
    }
   ],
   "source": [
    "sam.div()"
   ]
  },
  {
   "cell_type": "code",
   "execution_count": 32,
   "id": "3bdfb13c",
   "metadata": {},
   "outputs": [],
   "source": [
    "class FourCal2():\n",
    "    def __init__(self, num1, num2): # 생성자\n",
    "        self.num1=num1 #self.num1 인스턴스 변수\n",
    "        self.num2=num2 #self.num2 인스턴스 변수\n",
    "    \n",
    "    def add(self):\n",
    "        result=self.num1+self.num2\n",
    "        return result\n",
    "    \n",
    "    def sub(self):\n",
    "        result=self.num1-self.num2\n",
    "        return result\n",
    "    def mul(self):\n",
    "        result=self.num1*self.num2\n",
    "        return result\n",
    "    def div(self):\n",
    "        result=self.num1/self.num2\n",
    "        return result\n",
    "        "
   ]
  },
  {
   "cell_type": "code",
   "execution_count": 33,
   "id": "1e8ffcb1",
   "metadata": {},
   "outputs": [],
   "source": [
    "james=FourCal2(100,27)"
   ]
  },
  {
   "cell_type": "code",
   "execution_count": 34,
   "id": "bb646b21",
   "metadata": {},
   "outputs": [
    {
     "data": {
      "text/plain": [
       "127"
      ]
     },
     "execution_count": 34,
     "metadata": {},
     "output_type": "execute_result"
    }
   ],
   "source": [
    "james.add()"
   ]
  },
  {
   "cell_type": "code",
   "execution_count": 35,
   "id": "43c21faf",
   "metadata": {},
   "outputs": [
    {
     "data": {
      "text/plain": [
       "3.7037037037037037"
      ]
     },
     "execution_count": 35,
     "metadata": {},
     "output_type": "execute_result"
    }
   ],
   "source": [
    "james.div()"
   ]
  },
  {
   "cell_type": "markdown",
   "id": "d49c357e",
   "metadata": {},
   "source": [
    "## 클래스의 상속\n",
    "* 어떤 클래스를 만들 때 다른 클래스의 기능을 물려받는 것\n",
    "* 기존 클래스 + 기능을 추가할 때 \n",
    "* A클래스를 상속받아 B클래스를 생성한다고 할 때, B클래스는 A클래스의 모든 기능을 사용할 수 있다."
   ]
  },
  {
   "cell_type": "markdown",
   "id": "d52d01c1",
   "metadata": {},
   "source": [
    "FourCal을 상속받아 제곱 기능을 추가한 MoreFourCal 만들기"
   ]
  },
  {
   "cell_type": "code",
   "execution_count": 36,
   "id": "58bdbf1a",
   "metadata": {},
   "outputs": [],
   "source": [
    "class MoreFourCal():\n",
    "    def pow(self):\n",
    "        result=self.num1**self.num2\n",
    "        return result"
   ]
  },
  {
   "cell_type": "code",
   "execution_count": 37,
   "id": "389f6790",
   "metadata": {},
   "outputs": [],
   "source": [
    "sally=MoreFourCal()"
   ]
  },
  {
   "cell_type": "code",
   "execution_count": 38,
   "id": "1c158252",
   "metadata": {},
   "outputs": [
    {
     "ename": "AttributeError",
     "evalue": "'MoreFourCal' object has no attribute 'num1'",
     "output_type": "error",
     "traceback": [
      "\u001b[1;31m---------------------------------------------------------------------------\u001b[0m",
      "\u001b[1;31mAttributeError\u001b[0m                            Traceback (most recent call last)",
      "Cell \u001b[1;32mIn[38], line 1\u001b[0m\n\u001b[1;32m----> 1\u001b[0m \u001b[43msally\u001b[49m\u001b[38;5;241;43m.\u001b[39;49m\u001b[43mpow\u001b[49m\u001b[43m(\u001b[49m\u001b[43m)\u001b[49m\n",
      "Cell \u001b[1;32mIn[36], line 3\u001b[0m, in \u001b[0;36mMoreFourCal.pow\u001b[1;34m(self)\u001b[0m\n\u001b[0;32m      2\u001b[0m \u001b[38;5;28;01mdef\u001b[39;00m \u001b[38;5;21mpow\u001b[39m(\u001b[38;5;28mself\u001b[39m):\n\u001b[1;32m----> 3\u001b[0m     result\u001b[38;5;241m=\u001b[39m\u001b[38;5;28;43mself\u001b[39;49m\u001b[38;5;241;43m.\u001b[39;49m\u001b[43mnum1\u001b[49m\u001b[38;5;241m*\u001b[39m\u001b[38;5;241m*\u001b[39m\u001b[38;5;28mself\u001b[39m\u001b[38;5;241m.\u001b[39mnum2\n\u001b[0;32m      4\u001b[0m     \u001b[38;5;28;01mreturn\u001b[39;00m result\n",
      "\u001b[1;31mAttributeError\u001b[0m: 'MoreFourCal' object has no attribute 'num1'"
     ]
    }
   ],
   "source": [
    "sally.pow()"
   ]
  },
  {
   "cell_type": "code",
   "execution_count": 39,
   "id": "de68f6ae",
   "metadata": {},
   "outputs": [],
   "source": [
    "class MoreFourCal(FourCal2):\n",
    "    def pow(self):\n",
    "        result=self.num1**self.num2\n",
    "        return result"
   ]
  },
  {
   "cell_type": "code",
   "execution_count": 40,
   "id": "b5756371",
   "metadata": {},
   "outputs": [],
   "source": [
    "sally=MoreFourCal(10,2)"
   ]
  },
  {
   "cell_type": "code",
   "execution_count": 41,
   "id": "438803e0",
   "metadata": {},
   "outputs": [
    {
     "data": {
      "text/plain": [
       "100"
      ]
     },
     "execution_count": 41,
     "metadata": {},
     "output_type": "execute_result"
    }
   ],
   "source": [
    "sally.pow()"
   ]
  },
  {
   "cell_type": "markdown",
   "id": "e7e4537e",
   "metadata": {},
   "source": [
    "## 메서드 오버라이딩\n",
    "* 부모 클래스에서 상속받은 메서드를 자식 클래스에서 동일한 이름으로 다시 재정의\n",
    "* method overriding"
   ]
  },
  {
   "cell_type": "code",
   "execution_count": 42,
   "id": "0cea97ac",
   "metadata": {},
   "outputs": [],
   "source": [
    "john=FourCal2(4,0)"
   ]
  },
  {
   "cell_type": "code",
   "execution_count": 43,
   "id": "45c38acb",
   "metadata": {},
   "outputs": [
    {
     "data": {
      "text/plain": [
       "4"
      ]
     },
     "execution_count": 43,
     "metadata": {},
     "output_type": "execute_result"
    }
   ],
   "source": [
    "john.add()"
   ]
  },
  {
   "cell_type": "code",
   "execution_count": 44,
   "id": "94e535f3",
   "metadata": {},
   "outputs": [
    {
     "data": {
      "text/plain": [
       "0"
      ]
     },
     "execution_count": 44,
     "metadata": {},
     "output_type": "execute_result"
    }
   ],
   "source": [
    "john.mul()"
   ]
  },
  {
   "cell_type": "code",
   "execution_count": 45,
   "id": "7231ad19",
   "metadata": {},
   "outputs": [
    {
     "ename": "ZeroDivisionError",
     "evalue": "division by zero",
     "output_type": "error",
     "traceback": [
      "\u001b[1;31m---------------------------------------------------------------------------\u001b[0m",
      "\u001b[1;31mZeroDivisionError\u001b[0m                         Traceback (most recent call last)",
      "Cell \u001b[1;32mIn[45], line 1\u001b[0m\n\u001b[1;32m----> 1\u001b[0m \u001b[43mjohn\u001b[49m\u001b[38;5;241;43m.\u001b[39;49m\u001b[43mdiv\u001b[49m\u001b[43m(\u001b[49m\u001b[43m)\u001b[49m\n",
      "Cell \u001b[1;32mIn[32], line 17\u001b[0m, in \u001b[0;36mFourCal2.div\u001b[1;34m(self)\u001b[0m\n\u001b[0;32m     16\u001b[0m \u001b[38;5;28;01mdef\u001b[39;00m \u001b[38;5;21mdiv\u001b[39m(\u001b[38;5;28mself\u001b[39m):\n\u001b[1;32m---> 17\u001b[0m     result\u001b[38;5;241m=\u001b[39m\u001b[38;5;28;43mself\u001b[39;49m\u001b[38;5;241;43m.\u001b[39;49m\u001b[43mnum1\u001b[49m\u001b[38;5;241;43m/\u001b[39;49m\u001b[38;5;28;43mself\u001b[39;49m\u001b[38;5;241;43m.\u001b[39;49m\u001b[43mnum2\u001b[49m\n\u001b[0;32m     18\u001b[0m     \u001b[38;5;28;01mreturn\u001b[39;00m result\n",
      "\u001b[1;31mZeroDivisionError\u001b[0m: division by zero"
     ]
    }
   ],
   "source": [
    "john.div()"
   ]
  },
  {
   "cell_type": "markdown",
   "id": "27163438",
   "metadata": {},
   "source": [
    "FourCal2는 num2에 0이 입력될 경우 나눗셈 시 0으로 나누게 되기 때문에 에러 발생 <br>\n",
    "SafeFourCal을 만들고 FourCal2를 상속받은 후 div함수를 재정의하여 에러를 없앤다."
   ]
  },
  {
   "cell_type": "code",
   "execution_count": 51,
   "id": "f8d72fed",
   "metadata": {},
   "outputs": [],
   "source": [
    "class SafeFourCal(FourCal2):\n",
    "    def div(self):\n",
    "        if self.num2==0:\n",
    "            return 0\n",
    "        else:\n",
    "            return self.num1/self.num2"
   ]
  },
  {
   "cell_type": "code",
   "execution_count": 52,
   "id": "cec7da54",
   "metadata": {},
   "outputs": [],
   "source": [
    "john=SafeFourCal(4,0)"
   ]
  },
  {
   "cell_type": "code",
   "execution_count": 53,
   "id": "05aa12c2",
   "metadata": {},
   "outputs": [
    {
     "data": {
      "text/plain": [
       "0"
      ]
     },
     "execution_count": 53,
     "metadata": {},
     "output_type": "execute_result"
    }
   ],
   "source": [
    "john.div()"
   ]
  },
  {
   "cell_type": "code",
   "execution_count": 54,
   "id": "44280861",
   "metadata": {},
   "outputs": [
    {
     "data": {
      "text/plain": [
       "4"
      ]
     },
     "execution_count": 54,
     "metadata": {},
     "output_type": "execute_result"
    }
   ],
   "source": [
    "john.add()"
   ]
  },
  {
   "cell_type": "markdown",
   "id": "58eeba3b",
   "metadata": {},
   "source": [
    "## 메서드 오버로딩\n",
    "* 한 클래스 안에서 동일 메소드의 기능을 다르게 재정의 \n",
    "* 동일한 이름의 메소드가 기능이 약간 변경된 채로 여러개 존재\n",
    "* def add(num1,num2)\n",
    "* def add(num1, num2, num3)\n",
    "* def add(num1, num2, num3 ,num4)"
   ]
  },
  {
   "cell_type": "code",
   "execution_count": 1,
   "id": "d3f18a49",
   "metadata": {},
   "outputs": [],
   "source": [
    "class OverloadingEx():\n",
    "    def add(self, x ,y):\n",
    "        return x+y\n",
    "    \n",
    "    def add(self, x, y, z):\n",
    "        return x+y+z\n",
    "    \n",
    "    def add(self, x, y, z,a):\n",
    "        return x+y+z+a"
   ]
  },
  {
   "cell_type": "code",
   "execution_count": 2,
   "id": "617a895b",
   "metadata": {},
   "outputs": [],
   "source": [
    "sam=OverloadingEx()"
   ]
  },
  {
   "cell_type": "code",
   "execution_count": 3,
   "id": "e01da2df",
   "metadata": {},
   "outputs": [
    {
     "ename": "TypeError",
     "evalue": "OverloadingEx.add() missing 1 required positional argument: 'z'",
     "output_type": "error",
     "traceback": [
      "\u001b[1;31m---------------------------------------------------------------------------\u001b[0m",
      "\u001b[1;31mTypeError\u001b[0m                                 Traceback (most recent call last)",
      "Cell \u001b[1;32mIn[3], line 1\u001b[0m\n\u001b[1;32m----> 1\u001b[0m \u001b[43msam\u001b[49m\u001b[38;5;241;43m.\u001b[39;49m\u001b[43madd\u001b[49m\u001b[43m(\u001b[49m\u001b[38;5;241;43m10\u001b[39;49m\u001b[43m,\u001b[49m\u001b[38;5;241;43m20\u001b[39;49m\u001b[43m)\u001b[49m \u001b[38;5;66;03m# 파이썬에서는 기본적으로 메소드 오버로딩을 지원 X\u001b[39;00m\n\u001b[0;32m      2\u001b[0m                \u001b[38;5;66;03m# 한 클래서에 같은 이름이 메소드가 여러개 있으면 가장 아래에 정의된 메소드만 실행 됨\u001b[39;00m\n",
      "\u001b[1;31mTypeError\u001b[0m: OverloadingEx.add() missing 1 required positional argument: 'z'"
     ]
    }
   ],
   "source": [
    "sam.add(10,20) # 파이썬에서는 기본적으로 메소드 오버로딩을 지원 X\n",
    "               # 한 클래서에 같은 이름이 메소드가 여러개 있으면 가장 아래에 정의된 메소드만 실행 됨"
   ]
  },
  {
   "cell_type": "markdown",
   "id": "4282caca",
   "metadata": {},
   "source": [
    "## multipledispatch 패키지를 통한 매소드 오버로딩"
   ]
  },
  {
   "cell_type": "code",
   "execution_count": 4,
   "id": "9dd3787b",
   "metadata": {},
   "outputs": [],
   "source": [
    "from multipledispatch import dispatch"
   ]
  },
  {
   "cell_type": "code",
   "execution_count": 17,
   "id": "f47154be",
   "metadata": {},
   "outputs": [],
   "source": [
    "class OverloadingEx2():\n",
    "    @dispatch(int, int)\n",
    "    def add(self, x ,y):\n",
    "        return x+y\n",
    "    @dispatch(int, int, int)\n",
    "    def add(self, x, y, z):\n",
    "        return x+y+z\n",
    "    @dispatch(float, float, float, float)\n",
    "    def add(self, x, y, z, a):\n",
    "        return x+y+z+a\n",
    "    @dispatch(int, int, int, int)\n",
    "    def add(self, x, y, z, a):\n",
    "        return (x+y)-(z+a)"
   ]
  },
  {
   "cell_type": "code",
   "execution_count": 18,
   "id": "6ef927c7",
   "metadata": {},
   "outputs": [],
   "source": [
    "sally=OverloadingEx2()"
   ]
  },
  {
   "cell_type": "code",
   "execution_count": 19,
   "id": "3a5482d3",
   "metadata": {},
   "outputs": [
    {
     "data": {
      "text/plain": [
       "6"
      ]
     },
     "execution_count": 19,
     "metadata": {},
     "output_type": "execute_result"
    }
   ],
   "source": [
    "sally.add(1,2,3)"
   ]
  },
  {
   "cell_type": "code",
   "execution_count": 20,
   "id": "72a2d81f",
   "metadata": {},
   "outputs": [
    {
     "data": {
      "text/plain": [
       "10.0"
      ]
     },
     "execution_count": 20,
     "metadata": {},
     "output_type": "execute_result"
    }
   ],
   "source": [
    "sally.add(1.0,2.0,3.0,4.0)"
   ]
  },
  {
   "cell_type": "code",
   "execution_count": 21,
   "id": "fdc69784",
   "metadata": {},
   "outputs": [
    {
     "data": {
      "text/plain": [
       "-4"
      ]
     },
     "execution_count": 21,
     "metadata": {},
     "output_type": "execute_result"
    }
   ],
   "source": [
    "sally.add(1,2,3,4)"
   ]
  },
  {
   "cell_type": "markdown",
   "id": "9efce3a2",
   "metadata": {},
   "source": [
    "## 클래스 속성과 인스턴스 속성\n",
    "* 클래스 속성: 클래스 전체에서 공유하는 속성, 모든 인스턴스에서 공유\n",
    "* 인스턴스 속성: 인스턴스에서만 사용하는 속성, 인스턴스간 공유 안됨"
   ]
  },
  {
   "cell_type": "code",
   "execution_count": 22,
   "id": "cc9c4189",
   "metadata": {},
   "outputs": [],
   "source": [
    "class Family():\n",
    "    lastname=\"김\""
   ]
  },
  {
   "cell_type": "code",
   "execution_count": 23,
   "id": "e19d8575",
   "metadata": {},
   "outputs": [
    {
     "data": {
      "text/plain": [
       "'김'"
      ]
     },
     "execution_count": 23,
     "metadata": {},
     "output_type": "execute_result"
    }
   ],
   "source": [
    "Family.lastname"
   ]
  },
  {
   "cell_type": "code",
   "execution_count": 24,
   "id": "799fccb2",
   "metadata": {},
   "outputs": [
    {
     "data": {
      "text/plain": [
       "'김'"
      ]
     },
     "execution_count": 24,
     "metadata": {},
     "output_type": "execute_result"
    }
   ],
   "source": [
    "john=Family()\n",
    "john.lastname"
   ]
  },
  {
   "cell_type": "code",
   "execution_count": 26,
   "id": "17c5e723",
   "metadata": {},
   "outputs": [
    {
     "data": {
      "text/plain": [
       "'김'"
      ]
     },
     "execution_count": 26,
     "metadata": {},
     "output_type": "execute_result"
    }
   ],
   "source": [
    "sally=Family()\n",
    "sally.lastname"
   ]
  },
  {
   "cell_type": "code",
   "execution_count": 27,
   "id": "21123f62",
   "metadata": {},
   "outputs": [],
   "source": [
    "# 인스턴스를 생성한 후 클래스 속성에 새로운 값을 할당 하면\n",
    "# 클래스 속성은 인스턴스 속성으로 변한다.\n",
    "john.lastname=\"박\""
   ]
  },
  {
   "cell_type": "code",
   "execution_count": 28,
   "id": "495e4c12",
   "metadata": {},
   "outputs": [
    {
     "data": {
      "text/plain": [
       "'박'"
      ]
     },
     "execution_count": 28,
     "metadata": {},
     "output_type": "execute_result"
    }
   ],
   "source": [
    "john.lastname"
   ]
  },
  {
   "cell_type": "code",
   "execution_count": 29,
   "id": "e4181096",
   "metadata": {},
   "outputs": [
    {
     "data": {
      "text/plain": [
       "'김'"
      ]
     },
     "execution_count": 29,
     "metadata": {},
     "output_type": "execute_result"
    }
   ],
   "source": [
    "sally.lastname"
   ]
  },
  {
   "cell_type": "code",
   "execution_count": 30,
   "id": "7f82a025",
   "metadata": {},
   "outputs": [],
   "source": [
    "# 클래스 속성 Family.lastname 을 '최'로 변경\n",
    "Family.lastname='최'"
   ]
  },
  {
   "cell_type": "code",
   "execution_count": 31,
   "id": "4d886e21",
   "metadata": {},
   "outputs": [
    {
     "data": {
      "text/plain": [
       "'박'"
      ]
     },
     "execution_count": 31,
     "metadata": {},
     "output_type": "execute_result"
    }
   ],
   "source": [
    "john.lastname"
   ]
  },
  {
   "cell_type": "code",
   "execution_count": 32,
   "id": "8011a4c2",
   "metadata": {},
   "outputs": [
    {
     "data": {
      "text/plain": [
       "'최'"
      ]
     },
     "execution_count": 32,
     "metadata": {},
     "output_type": "execute_result"
    }
   ],
   "source": [
    "sally.lastname"
   ]
  },
  {
   "cell_type": "markdown",
   "id": "afca2add",
   "metadata": {},
   "source": [
    "## 비공개 클래스 속성__(언더바 2개) 시작하면 비공개 속성\n",
    "* __변수명\n",
    "* 보안이 필요해서 남들에게 정보를 노출하고 싶지 않을 때 사용"
   ]
  },
  {
   "cell_type": "code",
   "execution_count": 35,
   "id": "7de9384f",
   "metadata": {},
   "outputs": [],
   "source": [
    "class Pinfo():\n",
    "    lastname = '홍'\n",
    "    __first_name='길동'\n",
    "    __wallet = 10000\n",
    "    \n",
    "    def print_name(self):\n",
    "        print(Pinfo.__first_name)\n",
    "    \n",
    "    def wallet(self):\n",
    "        print(Pinfo.__wallet)"
   ]
  },
  {
   "cell_type": "code",
   "execution_count": 37,
   "id": "70afe90d",
   "metadata": {},
   "outputs": [],
   "source": [
    "sam=Pinfo()"
   ]
  },
  {
   "cell_type": "code",
   "execution_count": 41,
   "id": "ab6bacdf",
   "metadata": {},
   "outputs": [
    {
     "data": {
      "text/plain": [
       "'홍'"
      ]
     },
     "execution_count": 41,
     "metadata": {},
     "output_type": "execute_result"
    }
   ],
   "source": [
    "sam.lastname"
   ]
  },
  {
   "cell_type": "code",
   "execution_count": 43,
   "id": "8e22ea58",
   "metadata": {},
   "outputs": [
    {
     "ename": "AttributeError",
     "evalue": "'Pinfo' object has no attribute '__first_name'",
     "output_type": "error",
     "traceback": [
      "\u001b[1;31m---------------------------------------------------------------------------\u001b[0m",
      "\u001b[1;31mAttributeError\u001b[0m                            Traceback (most recent call last)",
      "Cell \u001b[1;32mIn[43], line 1\u001b[0m\n\u001b[1;32m----> 1\u001b[0m \u001b[43msam\u001b[49m\u001b[38;5;241;43m.\u001b[39;49m\u001b[43m__first_name\u001b[49m\n",
      "\u001b[1;31mAttributeError\u001b[0m: 'Pinfo' object has no attribute '__first_name'"
     ]
    }
   ],
   "source": [
    "sam.__first_name"
   ]
  },
  {
   "cell_type": "code",
   "execution_count": 44,
   "id": "08776731",
   "metadata": {
    "scrolled": true
   },
   "outputs": [
    {
     "ename": "AttributeError",
     "evalue": "'Pinfo' object has no attribute '__wallet'",
     "output_type": "error",
     "traceback": [
      "\u001b[1;31m---------------------------------------------------------------------------\u001b[0m",
      "\u001b[1;31mAttributeError\u001b[0m                            Traceback (most recent call last)",
      "Cell \u001b[1;32mIn[44], line 1\u001b[0m\n\u001b[1;32m----> 1\u001b[0m \u001b[43msam\u001b[49m\u001b[38;5;241;43m.\u001b[39;49m\u001b[43m__wallet\u001b[49m\n",
      "\u001b[1;31mAttributeError\u001b[0m: 'Pinfo' object has no attribute '__wallet'"
     ]
    }
   ],
   "source": [
    "sam.__wallet"
   ]
  },
  {
   "cell_type": "markdown",
   "id": "7868e2dd",
   "metadata": {},
   "source": [
    "* 비공개 클래스 속성을 직접 출력하려고 하면 출력 X\n",
    "* 클래스 내에서 함수를 만들어 출력하면 출력"
   ]
  },
  {
   "cell_type": "code",
   "execution_count": 49,
   "id": "617de91d",
   "metadata": {},
   "outputs": [
    {
     "name": "stdout",
     "output_type": "stream",
     "text": [
      "10000\n"
     ]
    }
   ],
   "source": [
    "sam.wallet()"
   ]
  },
  {
   "cell_type": "code",
   "execution_count": 50,
   "id": "95c9a9e1",
   "metadata": {},
   "outputs": [
    {
     "name": "stdout",
     "output_type": "stream",
     "text": [
      "길동\n"
     ]
    }
   ],
   "source": [
    "sam.print_name()"
   ]
  },
  {
   "cell_type": "markdown",
   "id": "449c19a7",
   "metadata": {},
   "source": [
    "## 정적 매서드 static method\n",
    "* 인스턴스를 만들지 않고도 클래스 메서드를 바로 사용할 수 있는 메서드\n",
    "* @staticmethod라는 데코레이터를 붙여서 만든다.\n",
    "* staticmethod는 self를 받지 않으므로 인스턴스 속성, 인스턴스 메서드가 필요하지 않을 때 사용"
   ]
  },
  {
   "cell_type": "code",
   "execution_count": 51,
   "id": "7b2fd331",
   "metadata": {},
   "outputs": [],
   "source": [
    "class Cal():\n",
    "    @staticmethod\n",
    "    def add(a,b):\n",
    "        print(a+b)\n",
    "        \n",
    "    @staticmethod\n",
    "    def sub(a,b):\n",
    "        print(a-b)"
   ]
  },
  {
   "cell_type": "code",
   "execution_count": 52,
   "id": "435948d5",
   "metadata": {},
   "outputs": [
    {
     "name": "stdout",
     "output_type": "stream",
     "text": [
      "7\n"
     ]
    }
   ],
   "source": [
    "Cal.add(3,4)"
   ]
  },
  {
   "cell_type": "code",
   "execution_count": 54,
   "id": "9f91c644",
   "metadata": {},
   "outputs": [
    {
     "name": "stdout",
     "output_type": "stream",
     "text": [
      "2\n"
     ]
    }
   ],
   "source": [
    "Cal.sub(3,1)"
   ]
  },
  {
   "cell_type": "markdown",
   "id": "f0ff5a29",
   "metadata": {},
   "source": [
    "## 클래스 메서드 class method\n",
    "* 메서드 위에 @classmethod를 붙여서 만든다.\n",
    "* 클래스 메서드도 정적 메서드처럼 인스턴스 생성 없이 호출이 가능하다.\n",
    "* 클래스 메서드는 메서드 안에서 클래스 속성, 클래스 메서드에 접근해야 할 때 사용한다."
   ]
  },
  {
   "cell_type": "code",
   "execution_count": 60,
   "id": "216ce48a",
   "metadata": {},
   "outputs": [],
   "source": [
    "class Factory():\n",
    "    n_coffee_machine = 0 # 클래스 속성\n",
    "    \n",
    "    def __init__(self):\n",
    "        Factory.n_coffee_machine +=1 # 인스턴스가 만들어질 때 클래스 속성에 1을 더함\n",
    "        \n",
    "    @classmethod\n",
    "    def print_n_coffee_machine(cls):\n",
    "        print(f'{cls.n_coffee_machine}개 제조되었습니다.') #cls로 클래스 속성에 접근"
   ]
  },
  {
   "cell_type": "code",
   "execution_count": 61,
   "id": "82358292",
   "metadata": {},
   "outputs": [],
   "source": [
    "a1=Factory()"
   ]
  },
  {
   "cell_type": "code",
   "execution_count": 64,
   "id": "ded39d2a",
   "metadata": {},
   "outputs": [
    {
     "name": "stdout",
     "output_type": "stream",
     "text": [
      "1개 제조되었습니다.\n"
     ]
    }
   ],
   "source": [
    "a1.print_n_coffee_machine()"
   ]
  },
  {
   "cell_type": "markdown",
   "id": "98d4ef7c",
   "metadata": {},
   "source": [
    "## 추상 클래스 abc(abstract base class) 모듈 필요\n",
    "* 추상 클래스는 추상 클래스를 상속받아 클래스를 만들 때 반드시 만들어야 하는 메소드를 지정해 주는 클래스\n",
    "* 규칙을 부여해서 그 규칙에 따라 클래스를 만들도록 함\n",
    "* 추상 클래스를 상속받은 클래스는 반드시 추상 클래스에서 정의한 메소드를 overriding으로 구현해야 함"
   ]
  },
  {
   "cell_type": "code",
   "execution_count": 65,
   "id": "e9377abb",
   "metadata": {},
   "outputs": [],
   "source": [
    "from abc import *\n"
   ]
  },
  {
   "cell_type": "code",
   "execution_count": 66,
   "id": "bdcd8808",
   "metadata": {},
   "outputs": [],
   "source": [
    "class CoffeeBase(metaclass=ABCMeta):\n",
    "    @abstractmethod\n",
    "    def bean_input(self):\n",
    "        pass\n",
    "    \n",
    "    @abstractmethod\n",
    "    def grind(self):\n",
    "        pass\n",
    "class CoffeeMachine(CoffeeBase):\n",
    "    def bean_input(self):\n",
    "        print('커피 원두 넣기')"
   ]
  },
  {
   "cell_type": "code",
   "execution_count": 67,
   "id": "c9fbca2d",
   "metadata": {},
   "outputs": [
    {
     "ename": "TypeError",
     "evalue": "Can't instantiate abstract class CoffeeBase with abstract methods bean_input, grind",
     "output_type": "error",
     "traceback": [
      "\u001b[1;31m---------------------------------------------------------------------------\u001b[0m",
      "\u001b[1;31mTypeError\u001b[0m                                 Traceback (most recent call last)",
      "Cell \u001b[1;32mIn[67], line 1\u001b[0m\n\u001b[1;32m----> 1\u001b[0m sam\u001b[38;5;241m=\u001b[39m\u001b[43mCoffeeBase\u001b[49m\u001b[43m(\u001b[49m\u001b[43m)\u001b[49m\n",
      "\u001b[1;31mTypeError\u001b[0m: Can't instantiate abstract class CoffeeBase with abstract methods bean_input, grind"
     ]
    }
   ],
   "source": [
    "sam=CoffeeBase()"
   ]
  },
  {
   "cell_type": "code",
   "execution_count": 68,
   "id": "a8b6b1d6",
   "metadata": {},
   "outputs": [],
   "source": [
    "class CoffeeBase2(metaclass=ABCMeta):\n",
    "    @abstractmethod\n",
    "    def bean_input(self):\n",
    "        pass\n",
    "    \n",
    "    @abstractmethod\n",
    "    def grind(self):\n",
    "        pass\n",
    "    \n",
    "class CoffeeMachine2(CoffeeBase2):\n",
    "    def bean_input(self):\n",
    "        print('커피 원두 넣기')\n",
    "    \n",
    "    def grind(self):\n",
    "        print('커피 원두 분쇄하기')"
   ]
  },
  {
   "cell_type": "code",
   "execution_count": 70,
   "id": "cff75ea0",
   "metadata": {},
   "outputs": [],
   "source": [
    "john=CoffeeMachine2()"
   ]
  },
  {
   "cell_type": "code",
   "execution_count": 71,
   "id": "90f05fb2",
   "metadata": {},
   "outputs": [
    {
     "name": "stdout",
     "output_type": "stream",
     "text": [
      "커피 원두 넣기\n"
     ]
    }
   ],
   "source": [
    "john.bean_input()"
   ]
  },
  {
   "cell_type": "code",
   "execution_count": null,
   "id": "defc3e16",
   "metadata": {},
   "outputs": [],
   "source": []
  }
 ],
 "metadata": {
  "kernelspec": {
   "display_name": "Python 3 (ipykernel)",
   "language": "python",
   "name": "python3"
  },
  "language_info": {
   "codemirror_mode": {
    "name": "ipython",
    "version": 3
   },
   "file_extension": ".py",
   "mimetype": "text/x-python",
   "name": "python",
   "nbconvert_exporter": "python",
   "pygments_lexer": "ipython3",
   "version": "3.10.14"
  }
 },
 "nbformat": 4,
 "nbformat_minor": 5
}
