{
 "cells": [
  {
   "cell_type": "code",
   "execution_count": null,
   "id": "646ffac7",
   "metadata": {},
   "outputs": [],
   "source": [
    "# a를 누르면 위에 셀추가\n",
    "# b를 누르면 아래에 셀 추가\n",
    "# dd를 누르면 해당 셀 삭제\n",
    "# c를 누르면 셀 복사\n",
    "# v를 누르면 셀 붙여넣기\n",
    "# x를 누르면 셀 잘라내기\n",
    "# m은 markdown 모드\n",
    "# y는 code 모드"
   ]
  },
  {
   "cell_type": "markdown",
   "id": "245ed6d3",
   "metadata": {},
   "source": [
    "마크다운 문법으로 글 작성 가능"
   ]
  },
  {
   "cell_type": "markdown",
   "id": "a86410c6",
   "metadata": {},
   "source": [
    "# 주피터 노트북 사용법\n",
    "## 셀모드: 셀 왼쪽 빈 공간 클릭 => 파란색으로 활성화 \n",
    "* **위에 셀 추가**:a\n",
    "* **아래에 셀 추가**:b\n",
    "* **셀 복사**:c\n",
    "* **셀 잘라내기**:x\n",
    "* **셀 붙여넣기**:v\n",
    "* **MARKDOWN 모드**:m\n",
    "* **CODE 모드**:y\n",
    "* **셀 삭제**:dd\n",
    "\n",
    "\n",
    "## 코딩모드: 셀 안쪽 클릭=> 녹색으로 활성화 셀 왼쪽에       ln []: 가 있음\n",
    "\n",
    "## 마크다운 모드\n",
    "* **수식 넣기**:$ 수식 $\n",
    "$$ (A \\cap B) $$\n"
   ]
  },
  {
   "cell_type": "markdown",
   "id": "50ebff13",
   "metadata": {},
   "source": [
    "* 링크걸기\n",
    "[네이버링크](https://naver.com)\n",
    "\n",
    "* 이미지 넣기\n",
    "![이미지넣기](data:image/png;base64,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)"
   ]
  },
  {
   "cell_type": "markdown",
   "id": "f7247a21",
   "metadata": {},
   "source": [
    "# 파이썬 기초 문법\n",
    "* 파이썬은 세미콜론(;)을 쓰지 않는다.\n",
    "* 한 줄에 여러 명령을 쓸 때 사용.\n",
    "* 파이썬의 주석은 문장앞에 #을 붙인다. ctrl+/\n",
    "* 파이썬은 들여쓰기를 사용해서 코드를 구분해 작성한다.\n",
    "* 들여쓰기는 4칸이 기본(스페이스바 사용)\n",
    "* 변수를 만들때 스네이크 표기법을 사용한다. ex) user_name\n",
    "* 클래스를 만들때는 카멜 표기법을 사용한다. ex) UserName, RandomForestClassifier()"
   ]
  },
  {
   "cell_type": "markdown",
   "id": "670d36a5",
   "metadata": {},
   "source": [
    "# print문"
   ]
  },
  {
   "cell_type": "code",
   "execution_count": 10,
   "id": "fe69ae97",
   "metadata": {},
   "outputs": [
    {
     "name": "stdout",
     "output_type": "stream",
     "text": [
      "hello python \n",
      "hi\n"
     ]
    }
   ],
   "source": [
    "print(\"hello python\",\"\\nhi\")"
   ]
  },
  {
   "cell_type": "code",
   "execution_count": 14,
   "id": "e8dd478c",
   "metadata": {},
   "outputs": [
    {
     "name": "stdout",
     "output_type": "stream",
     "text": [
      "hello python 구분자 hi "
     ]
    }
   ],
   "source": [
    "print(\"hello python\",\"hi\", sep=\" 구분자 \")"
   ]
  },
  {
   "cell_type": "code",
   "execution_count": 20,
   "id": "0ad08b51",
   "metadata": {},
   "outputs": [
    {
     "name": "stdout",
     "output_type": "stream",
     "text": [
      "hello python hello world\n"
     ]
    }
   ],
   "source": [
    "print(\"hello python\", end=' ')\n",
    "print(\"hello world\")"
   ]
  },
  {
   "cell_type": "code",
   "execution_count": 22,
   "id": "3ed2d9d4",
   "metadata": {},
   "outputs": [
    {
     "name": "stdout",
     "output_type": "stream",
     "text": [
      "4\r"
     ]
    },
    {
     "ename": "KeyboardInterrupt",
     "evalue": "",
     "output_type": "error",
     "traceback": [
      "\u001b[1;31m---------------------------------------------------------------------------\u001b[0m",
      "\u001b[1;31mKeyboardInterrupt\u001b[0m                         Traceback (most recent call last)",
      "Cell \u001b[1;32mIn[22], line 3\u001b[0m\n\u001b[0;32m      1\u001b[0m \u001b[38;5;28;01mimport\u001b[39;00m \u001b[38;5;21;01mtime\u001b[39;00m\n\u001b[0;32m      2\u001b[0m \u001b[38;5;28;01mfor\u001b[39;00m i \u001b[38;5;129;01min\u001b[39;00m \u001b[38;5;28mrange\u001b[39m(\u001b[38;5;241m1\u001b[39m,\u001b[38;5;241m100\u001b[39m):\n\u001b[1;32m----> 3\u001b[0m     \u001b[43mtime\u001b[49m\u001b[38;5;241;43m.\u001b[39;49m\u001b[43msleep\u001b[49m\u001b[43m(\u001b[49m\u001b[38;5;241;43m1\u001b[39;49m\u001b[43m)\u001b[49m\n\u001b[0;32m      4\u001b[0m     \u001b[38;5;28mprint\u001b[39m(i, end\u001b[38;5;241m=\u001b[39m\u001b[38;5;124m\"\u001b[39m\u001b[38;5;130;01m\\r\u001b[39;00m\u001b[38;5;124m\"\u001b[39m)\n",
      "\u001b[1;31mKeyboardInterrupt\u001b[0m: "
     ]
    }
   ],
   "source": [
    "import time\n",
    "for i in range(1,100):\n",
    "    time.sleep(1)\n",
    "    print(i, end=\"\\r\")"
   ]
  },
  {
   "cell_type": "markdown",
   "id": "7c1e5905",
   "metadata": {},
   "source": [
    "# 변수\n",
    "* 영문, 숫자를 조합해서 만들 수 있다.\n",
    "* 문자부터 시작해야 하며 숫자부터 시작하면 안된다.\n",
    "* 대소문자를 구분한다\n",
    "* _로 시작할 수 있다. -는 안된다.\n",
    "* 특수문자 사용안됨\n",
    "* 파이썬의 키워드(예약어) if, for, while 등등 사용불가\n",
    "* 변수는 스네이크 표기법으로 명명한다.\n"
   ]
  },
  {
   "cell_type": "code",
   "execution_count": 26,
   "id": "d6e73481",
   "metadata": {},
   "outputs": [],
   "source": [
    "a= 10\n",
    "b= 3.14\n",
    "c= \"문자열\"\n"
   ]
  },
  {
   "cell_type": "code",
   "execution_count": 27,
   "id": "e9480047",
   "metadata": {},
   "outputs": [
    {
     "data": {
      "text/plain": [
       "10"
      ]
     },
     "execution_count": 27,
     "metadata": {},
     "output_type": "execute_result"
    }
   ],
   "source": [
    "a"
   ]
  },
  {
   "cell_type": "code",
   "execution_count": 28,
   "id": "2e71f4fe",
   "metadata": {},
   "outputs": [
    {
     "data": {
      "text/plain": [
       "3.14"
      ]
     },
     "execution_count": 28,
     "metadata": {},
     "output_type": "execute_result"
    }
   ],
   "source": [
    "b"
   ]
  },
  {
   "cell_type": "code",
   "execution_count": 30,
   "id": "e8a6e3a9",
   "metadata": {},
   "outputs": [
    {
     "data": {
      "text/plain": [
       "'문자열'"
      ]
     },
     "execution_count": 30,
     "metadata": {},
     "output_type": "execute_result"
    }
   ],
   "source": [
    "c"
   ]
  },
  {
   "cell_type": "code",
   "execution_count": 31,
   "id": "bcd31b99",
   "metadata": {},
   "outputs": [
    {
     "data": {
      "text/plain": [
       "str"
      ]
     },
     "execution_count": 31,
     "metadata": {},
     "output_type": "execute_result"
    }
   ],
   "source": [
    "type(c)"
   ]
  },
  {
   "cell_type": "code",
   "execution_count": 32,
   "id": "ab585c52",
   "metadata": {},
   "outputs": [
    {
     "data": {
      "text/plain": [
       "float"
      ]
     },
     "execution_count": 32,
     "metadata": {},
     "output_type": "execute_result"
    }
   ],
   "source": [
    "type(b)"
   ]
  },
  {
   "cell_type": "markdown",
   "id": "4a6d39bc",
   "metadata": {},
   "source": [
    "# 키보드 입력받기 input()\n",
    "* input() 함수로 입력받는 모든 값은 문자열로 저장된다.\n",
    "* 반드시 형변환이 필요하다."
   ]
  },
  {
   "cell_type": "code",
   "execution_count": 33,
   "id": "45a16d53",
   "metadata": {},
   "outputs": [
    {
     "name": "stdout",
     "output_type": "stream",
     "text": [
      "1\n",
      "3\n",
      "13\n"
     ]
    }
   ],
   "source": [
    "num=input()\n",
    "num2=input()\n",
    "print(num+num2)"
   ]
  },
  {
   "cell_type": "code",
   "execution_count": 34,
   "id": "db92dcc4",
   "metadata": {},
   "outputs": [
    {
     "name": "stdout",
     "output_type": "stream",
     "text": [
      "1\n",
      "3\n",
      "4\n"
     ]
    }
   ],
   "source": [
    "num=input()\n",
    "num2=input()\n",
    "print(int(num)+int(num2))"
   ]
  },
  {
   "cell_type": "code",
   "execution_count": 35,
   "id": "5729486c",
   "metadata": {},
   "outputs": [
    {
     "name": "stdout",
     "output_type": "stream",
     "text": [
      "5\n",
      "6\n",
      "11\n"
     ]
    }
   ],
   "source": [
    "num=int(input())\n",
    "num2=int(input())\n",
    "print(num+num2)"
   ]
  },
  {
   "cell_type": "code",
   "execution_count": 42,
   "id": "fe5692d0",
   "metadata": {},
   "outputs": [
    {
     "name": "stdout",
     "output_type": "stream",
     "text": [
      "10 20\n",
      "30\n"
     ]
    }
   ],
   "source": [
    "num, num2=input().split()\n",
    "print(int(num)+int(num2))"
   ]
  },
  {
   "cell_type": "markdown",
   "id": "6866a835",
   "metadata": {},
   "source": [
    "# 변수 여러개를 한 번에 만들기\n",
    "* 변수 개수와 데이터 개수는 일치 시켜야 함"
   ]
  },
  {
   "cell_type": "code",
   "execution_count": 44,
   "id": "1a56ec26",
   "metadata": {},
   "outputs": [],
   "source": [
    "x, y, z=10, 20, 30 "
   ]
  },
  {
   "cell_type": "code",
   "execution_count": 45,
   "id": "cb338e61",
   "metadata": {},
   "outputs": [
    {
     "name": "stdout",
     "output_type": "stream",
     "text": [
      "10 20 30\n"
     ]
    }
   ],
   "source": [
    "print(x,y,z)"
   ]
  },
  {
   "cell_type": "markdown",
   "id": "44efe3ae",
   "metadata": {},
   "source": [
    "# 변수 삭제하기 del 변수명"
   ]
  },
  {
   "cell_type": "code",
   "execution_count": 46,
   "id": "10b0e433",
   "metadata": {},
   "outputs": [],
   "source": [
    "del x"
   ]
  },
  {
   "cell_type": "code",
   "execution_count": 48,
   "id": "6514b353",
   "metadata": {
    "scrolled": true
   },
   "outputs": [
    {
     "ename": "NameError",
     "evalue": "name 'x' is not defined",
     "output_type": "error",
     "traceback": [
      "\u001b[1;31m---------------------------------------------------------------------------\u001b[0m",
      "\u001b[1;31mNameError\u001b[0m                                 Traceback (most recent call last)",
      "Cell \u001b[1;32mIn[48], line 1\u001b[0m\n\u001b[1;32m----> 1\u001b[0m \u001b[43mx\u001b[49m\n",
      "\u001b[1;31mNameError\u001b[0m: name 'x' is not defined"
     ]
    }
   ],
   "source": [
    "x"
   ]
  }
 ],
 "metadata": {
  "kernelspec": {
   "display_name": "Python 3 (ipykernel)",
   "language": "python",
   "name": "python3"
  },
  "language_info": {
   "codemirror_mode": {
    "name": "ipython",
    "version": 3
   },
   "file_extension": ".py",
   "mimetype": "text/x-python",
   "name": "python",
   "nbconvert_exporter": "python",
   "pygments_lexer": "ipython3",
   "version": "3.10.14"
  }
 },
 "nbformat": 4,
 "nbformat_minor": 5
}
