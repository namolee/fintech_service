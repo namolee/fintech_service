{
 "cells": [
  {
   "cell_type": "markdown",
   "id": "2a8a8185",
   "metadata": {},
   "source": [
    "# 서식지정자, format 메서드\n",
    "* 서식 지정자나 format method를 사용하는 이유는 문자열로만 입력해야 하는 상황에서 같은 위치의 문자를 여러번 바꿔야 할 때가 있기 때문에\n",
    "* 문자의 자릿수 맞춤, 위치 정렬 등에도 사용"
   ]
  },
  {
   "cell_type": "markdown",
   "id": "648cf57e",
   "metadata": {},
   "source": [
    "## 1.서식지정자 %d, %s, %f, %길이s"
   ]
  },
  {
   "cell_type": "markdown",
   "id": "8710e294",
   "metadata": {},
   "source": [
    " 1) 문자를 입력할 때 %s"
   ]
  },
  {
   "cell_type": "code",
   "execution_count": 3,
   "id": "7fc45dbb",
   "metadata": {},
   "outputs": [
    {
     "name": "stdout",
     "output_type": "stream",
     "text": [
      "이 수업의 이름은 핀테크 서비스 기획자 입니다\n"
     ]
    }
   ],
   "source": [
    "print('이 수업의 이름은 %s 입니다' %'핀테크 서비스 기획자')"
   ]
  },
  {
   "cell_type": "code",
   "execution_count": 4,
   "id": "2f4d0668",
   "metadata": {},
   "outputs": [],
   "source": [
    "subject=['국어', '영어', '수학', '과학', '파이썬', 'database']"
   ]
  },
  {
   "cell_type": "code",
   "execution_count": 5,
   "id": "3df42d18",
   "metadata": {},
   "outputs": [
    {
     "name": "stdout",
     "output_type": "stream",
     "text": [
      "이 수업의 이름은 국어입니다\n",
      "이 수업의 이름은 영어입니다\n",
      "이 수업의 이름은 수학입니다\n",
      "이 수업의 이름은 과학입니다\n",
      "이 수업의 이름은 파이썬입니다\n",
      "이 수업의 이름은 database입니다\n"
     ]
    }
   ],
   "source": [
    "for sub_name in subject:\n",
    "    print('이 수업의 이름은 %s입니다'%sub_name)"
   ]
  },
  {
   "cell_type": "markdown",
   "id": "76d965cc",
   "metadata": {},
   "source": [
    "2) 정수를 입력할 때 %d\n"
   ]
  },
  {
   "cell_type": "code",
   "execution_count": 6,
   "id": "92975450",
   "metadata": {
    "scrolled": true
   },
   "outputs": [
    {
     "name": "stdout",
     "output_type": "stream",
     "text": [
      "올해는 2024년 입니다\n"
     ]
    }
   ],
   "source": [
    "print('올해는 %d년 입니다' %2024)"
   ]
  },
  {
   "cell_type": "code",
   "execution_count": 7,
   "id": "b35eb096",
   "metadata": {},
   "outputs": [
    {
     "name": "stdout",
     "output_type": "stream",
     "text": [
      "올해는 2019년 입니다\n",
      "올해는 2020년 입니다\n",
      "올해는 2021년 입니다\n",
      "올해는 2022년 입니다\n",
      "올해는 2023년 입니다\n",
      "올해는 2024년 입니다\n"
     ]
    }
   ],
   "source": [
    "year=[2019,2020,2021,2022,2023,2024]\n",
    "for yyyy in year:\n",
    "    print('올해는 %d년 입니다'%yyyy)"
   ]
  },
  {
   "cell_type": "markdown",
   "id": "07f5248f",
   "metadata": {},
   "source": [
    "3) 실수를 입력할 때 %f 기본 소수점 6자리로 표시"
   ]
  },
  {
   "cell_type": "code",
   "execution_count": 8,
   "id": "fa2c60cc",
   "metadata": {},
   "outputs": [
    {
     "name": "stdout",
     "output_type": "stream",
     "text": [
      "사람의 정상 체온은 약 36.500000 도 입니다.\n"
     ]
    }
   ],
   "source": [
    "print('사람의 정상 체온은 약 %f 도 입니다.' %36.5)"
   ]
  },
  {
   "cell_type": "code",
   "execution_count": 9,
   "id": "04301574",
   "metadata": {},
   "outputs": [
    {
     "name": "stdout",
     "output_type": "stream",
     "text": [
      "사람의 정상 체온은 약  36.54 도 입니다.\n"
     ]
    }
   ],
   "source": [
    "print('사람의 정상 체온은 약  %.2f 도 입니다.' %36.54444)"
   ]
  },
  {
   "cell_type": "markdown",
   "id": "09f3baa6",
   "metadata": {},
   "source": [
    "4) 서식지정자로 문자열 길이 정렬 %길이s"
   ]
  },
  {
   "cell_type": "code",
   "execution_count": 10,
   "id": "e1d8f2d8",
   "metadata": {},
   "outputs": [
    {
     "name": "stdout",
     "output_type": "stream",
     "text": [
      "      10자리\n"
     ]
    }
   ],
   "source": [
    "print('%10s' %'10자리')"
   ]
  },
  {
   "cell_type": "code",
   "execution_count": 12,
   "id": "33f2174e",
   "metadata": {},
   "outputs": [
    {
     "name": "stdout",
     "output_type": "stream",
     "text": [
      "가격은    1500000 입니다\n",
      "가격은      15000 입니다\n"
     ]
    }
   ],
   "source": [
    "print('가격은 %10d 입니다'%1500000)\n",
    "print('가격은 %10d 입니다'%15000)"
   ]
  },
  {
   "cell_type": "markdown",
   "id": "646bfea1",
   "metadata": {},
   "source": [
    "5) 여러 항목 동시에 넣기"
   ]
  },
  {
   "cell_type": "code",
   "execution_count": 16,
   "id": "0902eb41",
   "metadata": {},
   "outputs": [
    {
     "name": "stdout",
     "output_type": "stream",
     "text": [
      "오늘은 2024년  7월 16일 입니다\n"
     ]
    }
   ],
   "source": [
    "print('오늘은 %4d년 %2d월 %2d일 입니다'%(2024,7,16))"
   ]
  },
  {
   "cell_type": "code",
   "execution_count": 17,
   "id": "9fbbb30d",
   "metadata": {},
   "outputs": [],
   "source": [
    "company=['삼성전자', 'LG전자', '현대차', '대한한공', '하나투어']\n",
    "stock=[71800, 12100, 195000, 31900, 86600]"
   ]
  },
  {
   "cell_type": "code",
   "execution_count": 19,
   "id": "6681b56e",
   "metadata": {},
   "outputs": [
    {
     "name": "stdout",
     "output_type": "stream",
     "text": [
      "삼성전자의 주가는 71800원 입니다\n",
      "LG전자의 주가는 12100원 입니다\n",
      "현대차의 주가는 195000원 입니다\n",
      "대한한공의 주가는 31900원 입니다\n",
      "하나투어의 주가는 86600원 입니다\n"
     ]
    }
   ],
   "source": [
    "for c,s in zip(company,stock):\n",
    "    print('%s의 주가는 %d원 입니다'%(c,s))"
   ]
  },
  {
   "cell_type": "markdown",
   "id": "e6780377",
   "metadata": {},
   "source": [
    "## 2. format 메서드 사용하기, f-string 문자열 포맷팅"
   ]
  },
  {
   "cell_type": "markdown",
   "id": "cd2fcd87",
   "metadata": {},
   "source": [
    "1) format 메서드 사용하기<br>\n",
    "'{인덱스}'.format(값)"
   ]
  },
  {
   "cell_type": "code",
   "execution_count": 20,
   "id": "c615af1e",
   "metadata": {},
   "outputs": [
    {
     "name": "stdout",
     "output_type": "stream",
     "text": [
      "삼성전자의 주가는 71800원 입니다.\n"
     ]
    }
   ],
   "source": [
    "print('{0}의 주가는 {1}원 입니다.'.format('삼성전자',71800))"
   ]
  },
  {
   "cell_type": "code",
   "execution_count": 23,
   "id": "e3bd2229",
   "metadata": {},
   "outputs": [
    {
     "name": "stdout",
     "output_type": "stream",
     "text": [
      "셈송전자의 주가는 71500원 입니다. 셈송전자의 상한가는 93000원 입니다. 셈송전자의 하한가는 503500원 입니다.\n"
     ]
    }
   ],
   "source": [
    "print('{0}의 주가는 {1}원 입니다. {0}의 상한가는 {3}원 입니다. {0}의 하한가는 {2}원 입니다.'.format('셈송전자',71500,503500,93000))"
   ]
  },
  {
   "cell_type": "markdown",
   "id": "1ad3e651",
   "metadata": {},
   "source": [
    "format 메서드에 변수로 값 넣기"
   ]
  },
  {
   "cell_type": "code",
   "execution_count": 25,
   "id": "76035c54",
   "metadata": {},
   "outputs": [],
   "source": [
    "drama = '오징어게임'\n",
    "ranking = 1 "
   ]
  },
  {
   "cell_type": "code",
   "execution_count": 26,
   "id": "a1a84c29",
   "metadata": {},
   "outputs": [
    {
     "name": "stdout",
     "output_type": "stream",
     "text": [
      "넷플릭스 1위 드라마는 오징어게임입니다.\n"
     ]
    }
   ],
   "source": [
    "print('넷플릭스 {0}위 드라마는 {1}입니다.'.format(ranking,drama))"
   ]
  },
  {
   "cell_type": "code",
   "execution_count": 27,
   "id": "474cb7e8",
   "metadata": {},
   "outputs": [
    {
     "name": "stdout",
     "output_type": "stream",
     "text": [
      "삼성전자의 주가는 71800원 입니다\n",
      "LG전자의 주가는 12100원 입니다\n",
      "현대차의 주가는 195000원 입니다\n",
      "대한한공의 주가는 31900원 입니다\n",
      "하나투어의 주가는 86600원 입니다\n"
     ]
    }
   ],
   "source": [
    "for c,s in zip(company,stock):\n",
    "    print('{0}의 주가는 {1}원 입니다'.format(c,s))"
   ]
  },
  {
   "cell_type": "markdown",
   "id": "1d024789",
   "metadata": {},
   "source": [
    "f-string으로 값 넣기 python 3.6부터 사용 가능"
   ]
  },
  {
   "cell_type": "code",
   "execution_count": 28,
   "id": "fe6afbb4",
   "metadata": {},
   "outputs": [
    {
     "name": "stdout",
     "output_type": "stream",
     "text": [
      "삼성전자의 주가는 71800원 입니다.\n",
      "LG전자의 주가는 12100원 입니다.\n",
      "현대차의 주가는 195000원 입니다.\n",
      "대한한공의 주가는 31900원 입니다.\n",
      "하나투어의 주가는 86600원 입니다.\n"
     ]
    }
   ],
   "source": [
    "for c,s in zip(company,stock):\n",
    "    print(f'{c}의 주가는 {s}원 입니다.')"
   ]
  },
  {
   "cell_type": "markdown",
   "id": "cea909eb",
   "metadata": {},
   "source": [
    "## 3. format 메서드와 f-string으로 문자열 정렬하기, 자리수 지정해 출력하기\n",
    "'{인덱스:<길이}'.format(값) <br>\n",
    "f'{값:<길이}'"
   ]
  },
  {
   "cell_type": "markdown",
   "id": "3a8fbbf6",
   "metadata": {},
   "source": [
    "< 10 공간을 10칸 확보하고 왼쪽 정렬"
   ]
  },
  {
   "cell_type": "code",
   "execution_count": 30,
   "id": "20f8dd39",
   "metadata": {},
   "outputs": [
    {
     "name": "stdout",
     "output_type": "stream",
     "text": [
      "삼성전자      \n"
     ]
    }
   ],
   "source": [
    "print('{0:<10}'.format('삼성전자'))"
   ]
  },
  {
   "cell_type": "code",
   "execution_count": 32,
   "id": "219ede3a",
   "metadata": {},
   "outputs": [
    {
     "data": {
      "text/plain": [
       "'삼성전자      '"
      ]
     },
     "execution_count": 32,
     "metadata": {},
     "output_type": "execute_result"
    }
   ],
   "source": [
    "'{0:<10}'.format('삼성전자')"
   ]
  },
  {
   "cell_type": "markdown",
   "id": "a3d05ef1",
   "metadata": {},
   "source": [
    "> 10 공간을 10칸 확보하고 오른쪽 정렬"
   ]
  },
  {
   "cell_type": "code",
   "execution_count": 33,
   "id": "33a908f9",
   "metadata": {},
   "outputs": [
    {
     "name": "stdout",
     "output_type": "stream",
     "text": [
      "      삼성전자\n"
     ]
    }
   ],
   "source": [
    "print('{0:>10}'.format('삼성전자'))"
   ]
  },
  {
   "cell_type": "code",
   "execution_count": 34,
   "id": "0150c364",
   "metadata": {},
   "outputs": [
    {
     "data": {
      "text/plain": [
       "'      삼성전자'"
      ]
     },
     "execution_count": 34,
     "metadata": {},
     "output_type": "execute_result"
    }
   ],
   "source": [
    "'{0:>10}'.format('삼성전자')"
   ]
  },
  {
   "cell_type": "code",
   "execution_count": 37,
   "id": "3e26c163",
   "metadata": {},
   "outputs": [
    {
     "name": "stdout",
     "output_type": "stream",
     "text": [
      "삼성전자      \n"
     ]
    }
   ],
   "source": [
    "print(f\"{'삼성전자':<10}\")"
   ]
  },
  {
   "cell_type": "code",
   "execution_count": 38,
   "id": "6e63188f",
   "metadata": {},
   "outputs": [
    {
     "data": {
      "text/plain": [
       "'삼성전자      '"
      ]
     },
     "execution_count": 38,
     "metadata": {},
     "output_type": "execute_result"
    }
   ],
   "source": [
    "f\"{'삼성전자':<10}\""
   ]
  },
  {
   "cell_type": "code",
   "execution_count": 39,
   "id": "5680cd22",
   "metadata": {},
   "outputs": [
    {
     "data": {
      "text/plain": [
       "'      삼성전자'"
      ]
     },
     "execution_count": 39,
     "metadata": {},
     "output_type": "execute_result"
    }
   ],
   "source": [
    "f\"{'삼성전자':>10}\""
   ]
  },
  {
   "cell_type": "markdown",
   "id": "ae40ec6e",
   "metadata": {},
   "source": [
    "숫자 자리수 맞추고 기본 값 지정하기<br>\n",
    "'{인덱스:채울 숫자 길이 서식지정자}'.format(값). 단, 서식 지정자에서 %는 빼고 적는다<br>\n",
    "f'{값:채울 숫자길이 서식지정자}'"
   ]
  },
  {
   "cell_type": "markdown",
   "id": "07b9a8d4",
   "metadata": {},
   "source": [
    "1자리 숫자 앞에 0추가하기"
   ]
  },
  {
   "cell_type": "code",
   "execution_count": 40,
   "id": "b1b28ec2",
   "metadata": {},
   "outputs": [
    {
     "name": "stdout",
     "output_type": "stream",
     "text": [
      "1월\n"
     ]
    }
   ],
   "source": [
    "print('{0}월'.format(1))"
   ]
  },
  {
   "cell_type": "code",
   "execution_count": 43,
   "id": "9c62efc4",
   "metadata": {},
   "outputs": [
    {
     "name": "stdout",
     "output_type": "stream",
     "text": [
      "01월\n"
     ]
    }
   ],
   "source": [
    "print('{0:02d}월'.format(1))"
   ]
  },
  {
   "cell_type": "code",
   "execution_count": 45,
   "id": "ba820f8b",
   "metadata": {},
   "outputs": [
    {
     "name": "stdout",
     "output_type": "stream",
     "text": [
      "1월\n"
     ]
    }
   ],
   "source": [
    "print(f'{1}월')"
   ]
  },
  {
   "cell_type": "code",
   "execution_count": 47,
   "id": "ba08c97a",
   "metadata": {},
   "outputs": [
    {
     "name": "stdout",
     "output_type": "stream",
     "text": [
      "01월\n"
     ]
    }
   ],
   "source": [
    "print(f'{1:02d}월')"
   ]
  },
  {
   "cell_type": "code",
   "execution_count": 49,
   "id": "162a2ead",
   "metadata": {},
   "outputs": [
    {
     "name": "stdout",
     "output_type": "stream",
     "text": [
      "012월\n"
     ]
    }
   ],
   "source": [
    "print(f'{12:03d}월')"
   ]
  },
  {
   "cell_type": "markdown",
   "id": "0bfa0f6b",
   "metadata": {},
   "source": [
    "실수의 정수 자리수와 소수점 자리수 지정하기"
   ]
  },
  {
   "cell_type": "code",
   "execution_count": 53,
   "id": "b9673f2e",
   "metadata": {},
   "outputs": [
    {
     "name": "stdout",
     "output_type": "stream",
     "text": [
      "20.246\n"
     ]
    }
   ],
   "source": [
    "print('{0:2.3f}'.format(20.2456780))"
   ]
  },
  {
   "cell_type": "code",
   "execution_count": 54,
   "id": "8086674e",
   "metadata": {},
   "outputs": [
    {
     "name": "stdout",
     "output_type": "stream",
     "text": [
      "20.246\n"
     ]
    }
   ],
   "source": [
    "print(f'{20.2456780:2.3f}')"
   ]
  },
  {
   "cell_type": "markdown",
   "id": "9cfd0cda",
   "metadata": {},
   "source": [
    "1월1일 부터 12월 31일까지 출력하는데 1자리 월,일에는 01,02 식으로 0을 붙여서 출력"
   ]
  },
  {
   "cell_type": "code",
   "execution_count": 60,
   "id": "84f95f21",
   "metadata": {},
   "outputs": [
    {
     "name": "stdout",
     "output_type": "stream",
     "text": [
      "01월 01일\n",
      "01월 02일\n",
      "01월 03일\n",
      "01월 04일\n",
      "01월 05일\n",
      "01월 06일\n",
      "01월 07일\n",
      "01월 08일\n",
      "01월 09일\n",
      "01월 10일\n",
      "01월 11일\n",
      "01월 12일\n",
      "01월 13일\n",
      "01월 14일\n",
      "01월 15일\n",
      "01월 16일\n",
      "01월 17일\n",
      "01월 18일\n",
      "01월 19일\n",
      "01월 20일\n",
      "01월 21일\n",
      "01월 22일\n",
      "01월 23일\n",
      "01월 24일\n",
      "01월 25일\n",
      "01월 26일\n",
      "01월 27일\n",
      "01월 28일\n",
      "01월 29일\n",
      "01월 30일\n",
      "01월 31일\n",
      "02월 01일\n",
      "02월 02일\n",
      "02월 03일\n",
      "02월 04일\n",
      "02월 05일\n",
      "02월 06일\n",
      "02월 07일\n",
      "02월 08일\n",
      "02월 09일\n",
      "02월 10일\n",
      "02월 11일\n",
      "02월 12일\n",
      "02월 13일\n",
      "02월 14일\n",
      "02월 15일\n",
      "02월 16일\n",
      "02월 17일\n",
      "02월 18일\n",
      "02월 19일\n",
      "02월 20일\n",
      "02월 21일\n",
      "02월 22일\n",
      "02월 23일\n",
      "02월 24일\n",
      "02월 25일\n",
      "02월 26일\n",
      "02월 27일\n",
      "02월 28일\n",
      "02월 29일\n",
      "02월 30일\n",
      "02월 31일\n",
      "03월 01일\n",
      "03월 02일\n",
      "03월 03일\n",
      "03월 04일\n",
      "03월 05일\n",
      "03월 06일\n",
      "03월 07일\n",
      "03월 08일\n",
      "03월 09일\n",
      "03월 10일\n",
      "03월 11일\n",
      "03월 12일\n",
      "03월 13일\n",
      "03월 14일\n",
      "03월 15일\n",
      "03월 16일\n",
      "03월 17일\n",
      "03월 18일\n",
      "03월 19일\n",
      "03월 20일\n",
      "03월 21일\n",
      "03월 22일\n",
      "03월 23일\n",
      "03월 24일\n",
      "03월 25일\n",
      "03월 26일\n",
      "03월 27일\n",
      "03월 28일\n",
      "03월 29일\n",
      "03월 30일\n",
      "03월 31일\n",
      "04월 01일\n",
      "04월 02일\n",
      "04월 03일\n",
      "04월 04일\n",
      "04월 05일\n",
      "04월 06일\n",
      "04월 07일\n",
      "04월 08일\n",
      "04월 09일\n",
      "04월 10일\n",
      "04월 11일\n",
      "04월 12일\n",
      "04월 13일\n",
      "04월 14일\n",
      "04월 15일\n",
      "04월 16일\n",
      "04월 17일\n",
      "04월 18일\n",
      "04월 19일\n",
      "04월 20일\n",
      "04월 21일\n",
      "04월 22일\n",
      "04월 23일\n",
      "04월 24일\n",
      "04월 25일\n",
      "04월 26일\n",
      "04월 27일\n",
      "04월 28일\n",
      "04월 29일\n",
      "04월 30일\n",
      "04월 31일\n",
      "05월 01일\n",
      "05월 02일\n",
      "05월 03일\n",
      "05월 04일\n",
      "05월 05일\n",
      "05월 06일\n",
      "05월 07일\n",
      "05월 08일\n",
      "05월 09일\n",
      "05월 10일\n",
      "05월 11일\n",
      "05월 12일\n",
      "05월 13일\n",
      "05월 14일\n",
      "05월 15일\n",
      "05월 16일\n",
      "05월 17일\n",
      "05월 18일\n",
      "05월 19일\n",
      "05월 20일\n",
      "05월 21일\n",
      "05월 22일\n",
      "05월 23일\n",
      "05월 24일\n",
      "05월 25일\n",
      "05월 26일\n",
      "05월 27일\n",
      "05월 28일\n",
      "05월 29일\n",
      "05월 30일\n",
      "05월 31일\n",
      "06월 01일\n",
      "06월 02일\n",
      "06월 03일\n",
      "06월 04일\n",
      "06월 05일\n",
      "06월 06일\n",
      "06월 07일\n",
      "06월 08일\n",
      "06월 09일\n",
      "06월 10일\n",
      "06월 11일\n",
      "06월 12일\n",
      "06월 13일\n",
      "06월 14일\n",
      "06월 15일\n",
      "06월 16일\n",
      "06월 17일\n",
      "06월 18일\n",
      "06월 19일\n",
      "06월 20일\n",
      "06월 21일\n",
      "06월 22일\n",
      "06월 23일\n",
      "06월 24일\n",
      "06월 25일\n",
      "06월 26일\n",
      "06월 27일\n",
      "06월 28일\n",
      "06월 29일\n",
      "06월 30일\n",
      "06월 31일\n",
      "07월 01일\n",
      "07월 02일\n",
      "07월 03일\n",
      "07월 04일\n",
      "07월 05일\n",
      "07월 06일\n",
      "07월 07일\n",
      "07월 08일\n",
      "07월 09일\n",
      "07월 10일\n",
      "07월 11일\n",
      "07월 12일\n",
      "07월 13일\n",
      "07월 14일\n",
      "07월 15일\n",
      "07월 16일\n",
      "07월 17일\n",
      "07월 18일\n",
      "07월 19일\n",
      "07월 20일\n",
      "07월 21일\n",
      "07월 22일\n",
      "07월 23일\n",
      "07월 24일\n",
      "07월 25일\n",
      "07월 26일\n",
      "07월 27일\n",
      "07월 28일\n",
      "07월 29일\n",
      "07월 30일\n",
      "07월 31일\n",
      "08월 01일\n",
      "08월 02일\n",
      "08월 03일\n",
      "08월 04일\n",
      "08월 05일\n",
      "08월 06일\n",
      "08월 07일\n",
      "08월 08일\n",
      "08월 09일\n",
      "08월 10일\n",
      "08월 11일\n",
      "08월 12일\n",
      "08월 13일\n",
      "08월 14일\n",
      "08월 15일\n",
      "08월 16일\n",
      "08월 17일\n",
      "08월 18일\n",
      "08월 19일\n",
      "08월 20일\n",
      "08월 21일\n",
      "08월 22일\n",
      "08월 23일\n",
      "08월 24일\n",
      "08월 25일\n",
      "08월 26일\n",
      "08월 27일\n",
      "08월 28일\n",
      "08월 29일\n",
      "08월 30일\n",
      "08월 31일\n",
      "09월 01일\n",
      "09월 02일\n",
      "09월 03일\n",
      "09월 04일\n",
      "09월 05일\n",
      "09월 06일\n",
      "09월 07일\n",
      "09월 08일\n",
      "09월 09일\n",
      "09월 10일\n",
      "09월 11일\n",
      "09월 12일\n",
      "09월 13일\n",
      "09월 14일\n",
      "09월 15일\n",
      "09월 16일\n",
      "09월 17일\n",
      "09월 18일\n",
      "09월 19일\n",
      "09월 20일\n",
      "09월 21일\n",
      "09월 22일\n",
      "09월 23일\n",
      "09월 24일\n",
      "09월 25일\n",
      "09월 26일\n",
      "09월 27일\n",
      "09월 28일\n",
      "09월 29일\n",
      "09월 30일\n",
      "09월 31일\n",
      "10월 01일\n",
      "10월 02일\n",
      "10월 03일\n",
      "10월 04일\n",
      "10월 05일\n",
      "10월 06일\n",
      "10월 07일\n",
      "10월 08일\n",
      "10월 09일\n",
      "10월 10일\n",
      "10월 11일\n",
      "10월 12일\n",
      "10월 13일\n",
      "10월 14일\n",
      "10월 15일\n",
      "10월 16일\n",
      "10월 17일\n",
      "10월 18일\n",
      "10월 19일\n",
      "10월 20일\n",
      "10월 21일\n",
      "10월 22일\n",
      "10월 23일\n",
      "10월 24일\n",
      "10월 25일\n",
      "10월 26일\n",
      "10월 27일\n",
      "10월 28일\n",
      "10월 29일\n",
      "10월 30일\n",
      "10월 31일\n",
      "11월 01일\n",
      "11월 02일\n",
      "11월 03일\n",
      "11월 04일\n",
      "11월 05일\n",
      "11월 06일\n",
      "11월 07일\n",
      "11월 08일\n",
      "11월 09일\n",
      "11월 10일\n",
      "11월 11일\n",
      "11월 12일\n",
      "11월 13일\n",
      "11월 14일\n",
      "11월 15일\n",
      "11월 16일\n",
      "11월 17일\n",
      "11월 18일\n",
      "11월 19일\n",
      "11월 20일\n",
      "11월 21일\n",
      "11월 22일\n",
      "11월 23일\n",
      "11월 24일\n",
      "11월 25일\n",
      "11월 26일\n",
      "11월 27일\n",
      "11월 28일\n",
      "11월 29일\n",
      "11월 30일\n",
      "11월 31일\n",
      "12월 01일\n",
      "12월 02일\n",
      "12월 03일\n",
      "12월 04일\n",
      "12월 05일\n",
      "12월 06일\n",
      "12월 07일\n",
      "12월 08일\n",
      "12월 09일\n",
      "12월 10일\n",
      "12월 11일\n",
      "12월 12일\n",
      "12월 13일\n",
      "12월 14일\n",
      "12월 15일\n",
      "12월 16일\n",
      "12월 17일\n",
      "12월 18일\n",
      "12월 19일\n",
      "12월 20일\n",
      "12월 21일\n",
      "12월 22일\n",
      "12월 23일\n",
      "12월 24일\n",
      "12월 25일\n",
      "12월 26일\n",
      "12월 27일\n",
      "12월 28일\n",
      "12월 29일\n",
      "12월 30일\n",
      "12월 31일\n"
     ]
    }
   ],
   "source": [
    "for i in range(1,13):\n",
    "    for j in range(1,32):\n",
    "        print('{0:02d}월 {1:02d}일'.format(i,j))"
   ]
  },
  {
   "cell_type": "code",
   "execution_count": 57,
   "id": "fbfa393f",
   "metadata": {},
   "outputs": [
    {
     "name": "stdout",
     "output_type": "stream",
     "text": [
      "01월 01일\n",
      "01월 02일\n",
      "01월 03일\n",
      "01월 04일\n",
      "01월 05일\n",
      "01월 06일\n",
      "01월 07일\n",
      "01월 08일\n",
      "01월 09일\n",
      "01월 10일\n",
      "01월 11일\n",
      "01월 12일\n",
      "01월 13일\n",
      "01월 14일\n",
      "01월 15일\n",
      "01월 16일\n",
      "01월 17일\n",
      "01월 18일\n",
      "01월 19일\n",
      "01월 20일\n",
      "01월 21일\n",
      "01월 22일\n",
      "01월 23일\n",
      "01월 24일\n",
      "01월 25일\n",
      "01월 26일\n",
      "01월 27일\n",
      "01월 28일\n",
      "01월 29일\n",
      "01월 30일\n",
      "01월 31일\n",
      "02월 01일\n",
      "02월 02일\n",
      "02월 03일\n",
      "02월 04일\n",
      "02월 05일\n",
      "02월 06일\n",
      "02월 07일\n",
      "02월 08일\n",
      "02월 09일\n",
      "02월 10일\n",
      "02월 11일\n",
      "02월 12일\n",
      "02월 13일\n",
      "02월 14일\n",
      "02월 15일\n",
      "02월 16일\n",
      "02월 17일\n",
      "02월 18일\n",
      "02월 19일\n",
      "02월 20일\n",
      "02월 21일\n",
      "02월 22일\n",
      "02월 23일\n",
      "02월 24일\n",
      "02월 25일\n",
      "02월 26일\n",
      "02월 27일\n",
      "02월 28일\n",
      "02월 29일\n",
      "02월 30일\n",
      "02월 31일\n",
      "03월 01일\n",
      "03월 02일\n",
      "03월 03일\n",
      "03월 04일\n",
      "03월 05일\n",
      "03월 06일\n",
      "03월 07일\n",
      "03월 08일\n",
      "03월 09일\n",
      "03월 10일\n",
      "03월 11일\n",
      "03월 12일\n",
      "03월 13일\n",
      "03월 14일\n",
      "03월 15일\n",
      "03월 16일\n",
      "03월 17일\n",
      "03월 18일\n",
      "03월 19일\n",
      "03월 20일\n",
      "03월 21일\n",
      "03월 22일\n",
      "03월 23일\n",
      "03월 24일\n",
      "03월 25일\n",
      "03월 26일\n",
      "03월 27일\n",
      "03월 28일\n",
      "03월 29일\n",
      "03월 30일\n",
      "03월 31일\n",
      "04월 01일\n",
      "04월 02일\n",
      "04월 03일\n",
      "04월 04일\n",
      "04월 05일\n",
      "04월 06일\n",
      "04월 07일\n",
      "04월 08일\n",
      "04월 09일\n",
      "04월 10일\n",
      "04월 11일\n",
      "04월 12일\n",
      "04월 13일\n",
      "04월 14일\n",
      "04월 15일\n",
      "04월 16일\n",
      "04월 17일\n",
      "04월 18일\n",
      "04월 19일\n",
      "04월 20일\n",
      "04월 21일\n",
      "04월 22일\n",
      "04월 23일\n",
      "04월 24일\n",
      "04월 25일\n",
      "04월 26일\n",
      "04월 27일\n",
      "04월 28일\n",
      "04월 29일\n",
      "04월 30일\n",
      "04월 31일\n",
      "05월 01일\n",
      "05월 02일\n",
      "05월 03일\n",
      "05월 04일\n",
      "05월 05일\n",
      "05월 06일\n",
      "05월 07일\n",
      "05월 08일\n",
      "05월 09일\n",
      "05월 10일\n",
      "05월 11일\n",
      "05월 12일\n",
      "05월 13일\n",
      "05월 14일\n",
      "05월 15일\n",
      "05월 16일\n",
      "05월 17일\n",
      "05월 18일\n",
      "05월 19일\n",
      "05월 20일\n",
      "05월 21일\n",
      "05월 22일\n",
      "05월 23일\n",
      "05월 24일\n",
      "05월 25일\n",
      "05월 26일\n",
      "05월 27일\n",
      "05월 28일\n",
      "05월 29일\n",
      "05월 30일\n",
      "05월 31일\n",
      "06월 01일\n",
      "06월 02일\n",
      "06월 03일\n",
      "06월 04일\n",
      "06월 05일\n",
      "06월 06일\n",
      "06월 07일\n",
      "06월 08일\n",
      "06월 09일\n",
      "06월 10일\n",
      "06월 11일\n",
      "06월 12일\n",
      "06월 13일\n",
      "06월 14일\n",
      "06월 15일\n",
      "06월 16일\n",
      "06월 17일\n",
      "06월 18일\n",
      "06월 19일\n",
      "06월 20일\n",
      "06월 21일\n",
      "06월 22일\n",
      "06월 23일\n",
      "06월 24일\n",
      "06월 25일\n",
      "06월 26일\n",
      "06월 27일\n",
      "06월 28일\n",
      "06월 29일\n",
      "06월 30일\n",
      "06월 31일\n",
      "07월 01일\n",
      "07월 02일\n",
      "07월 03일\n",
      "07월 04일\n",
      "07월 05일\n",
      "07월 06일\n",
      "07월 07일\n",
      "07월 08일\n",
      "07월 09일\n",
      "07월 10일\n",
      "07월 11일\n",
      "07월 12일\n",
      "07월 13일\n",
      "07월 14일\n",
      "07월 15일\n",
      "07월 16일\n",
      "07월 17일\n",
      "07월 18일\n",
      "07월 19일\n",
      "07월 20일\n",
      "07월 21일\n",
      "07월 22일\n",
      "07월 23일\n",
      "07월 24일\n",
      "07월 25일\n",
      "07월 26일\n",
      "07월 27일\n",
      "07월 28일\n",
      "07월 29일\n",
      "07월 30일\n",
      "07월 31일\n",
      "08월 01일\n",
      "08월 02일\n",
      "08월 03일\n",
      "08월 04일\n",
      "08월 05일\n",
      "08월 06일\n",
      "08월 07일\n",
      "08월 08일\n",
      "08월 09일\n",
      "08월 10일\n",
      "08월 11일\n",
      "08월 12일\n",
      "08월 13일\n",
      "08월 14일\n",
      "08월 15일\n",
      "08월 16일\n",
      "08월 17일\n",
      "08월 18일\n",
      "08월 19일\n",
      "08월 20일\n",
      "08월 21일\n",
      "08월 22일\n",
      "08월 23일\n",
      "08월 24일\n",
      "08월 25일\n",
      "08월 26일\n",
      "08월 27일\n",
      "08월 28일\n",
      "08월 29일\n",
      "08월 30일\n",
      "08월 31일\n",
      "09월 01일\n",
      "09월 02일\n",
      "09월 03일\n",
      "09월 04일\n",
      "09월 05일\n",
      "09월 06일\n",
      "09월 07일\n",
      "09월 08일\n",
      "09월 09일\n",
      "09월 10일\n",
      "09월 11일\n",
      "09월 12일\n",
      "09월 13일\n",
      "09월 14일\n",
      "09월 15일\n",
      "09월 16일\n",
      "09월 17일\n",
      "09월 18일\n",
      "09월 19일\n",
      "09월 20일\n",
      "09월 21일\n",
      "09월 22일\n",
      "09월 23일\n",
      "09월 24일\n",
      "09월 25일\n",
      "09월 26일\n",
      "09월 27일\n",
      "09월 28일\n",
      "09월 29일\n",
      "09월 30일\n",
      "09월 31일\n",
      "10월 01일\n",
      "10월 02일\n",
      "10월 03일\n",
      "10월 04일\n",
      "10월 05일\n",
      "10월 06일\n",
      "10월 07일\n",
      "10월 08일\n",
      "10월 09일\n",
      "10월 10일\n",
      "10월 11일\n",
      "10월 12일\n",
      "10월 13일\n",
      "10월 14일\n",
      "10월 15일\n",
      "10월 16일\n",
      "10월 17일\n",
      "10월 18일\n",
      "10월 19일\n",
      "10월 20일\n",
      "10월 21일\n",
      "10월 22일\n",
      "10월 23일\n",
      "10월 24일\n",
      "10월 25일\n",
      "10월 26일\n",
      "10월 27일\n",
      "10월 28일\n",
      "10월 29일\n",
      "10월 30일\n",
      "10월 31일\n",
      "11월 01일\n",
      "11월 02일\n",
      "11월 03일\n",
      "11월 04일\n",
      "11월 05일\n",
      "11월 06일\n",
      "11월 07일\n",
      "11월 08일\n",
      "11월 09일\n",
      "11월 10일\n",
      "11월 11일\n",
      "11월 12일\n",
      "11월 13일\n",
      "11월 14일\n",
      "11월 15일\n",
      "11월 16일\n",
      "11월 17일\n",
      "11월 18일\n",
      "11월 19일\n",
      "11월 20일\n",
      "11월 21일\n",
      "11월 22일\n",
      "11월 23일\n",
      "11월 24일\n",
      "11월 25일\n",
      "11월 26일\n",
      "11월 27일\n",
      "11월 28일\n",
      "11월 29일\n",
      "11월 30일\n",
      "11월 31일\n",
      "12월 01일\n",
      "12월 02일\n",
      "12월 03일\n",
      "12월 04일\n",
      "12월 05일\n",
      "12월 06일\n",
      "12월 07일\n",
      "12월 08일\n",
      "12월 09일\n",
      "12월 10일\n",
      "12월 11일\n",
      "12월 12일\n",
      "12월 13일\n",
      "12월 14일\n",
      "12월 15일\n",
      "12월 16일\n",
      "12월 17일\n",
      "12월 18일\n",
      "12월 19일\n",
      "12월 20일\n",
      "12월 21일\n",
      "12월 22일\n",
      "12월 23일\n",
      "12월 24일\n",
      "12월 25일\n",
      "12월 26일\n",
      "12월 27일\n",
      "12월 28일\n",
      "12월 29일\n",
      "12월 30일\n",
      "12월 31일\n"
     ]
    }
   ],
   "source": [
    "for i in range(1,13):\n",
    "    for j in range(1,32):\n",
    "        print(f'{i:02d}월 {j:02d}일')"
   ]
  },
  {
   "cell_type": "markdown",
   "id": "72cfd618",
   "metadata": {},
   "source": [
    "공백을 원하는 문자로 채우고 자리수 맞추기<br>\n",
    "'{인덱스:원하는 숫자><자리수}'.format(값)\n"
   ]
  },
  {
   "cell_type": "code",
   "execution_count": 58,
   "id": "b576851a",
   "metadata": {},
   "outputs": [
    {
     "data": {
      "text/plain": [
       "'0001'"
      ]
     },
     "execution_count": 58,
     "metadata": {},
     "output_type": "execute_result"
    }
   ],
   "source": [
    "'{0:0>4}'.format(1)"
   ]
  },
  {
   "cell_type": "code",
   "execution_count": 61,
   "id": "aae6ff3d",
   "metadata": {},
   "outputs": [
    {
     "data": {
      "text/plain": [
       "'3331'"
      ]
     },
     "execution_count": 61,
     "metadata": {},
     "output_type": "execute_result"
    }
   ],
   "source": [
    "'{0:3>4}'.format(1)"
   ]
  },
  {
   "cell_type": "code",
   "execution_count": 62,
   "id": "b30bbeab",
   "metadata": {},
   "outputs": [
    {
     "data": {
      "text/plain": [
       "'1333'"
      ]
     },
     "execution_count": 62,
     "metadata": {},
     "output_type": "execute_result"
    }
   ],
   "source": [
    "'{0:3<4}'.format(1)"
   ]
  },
  {
   "cell_type": "code",
   "execution_count": 65,
   "id": "983180e7",
   "metadata": {},
   "outputs": [
    {
     "data": {
      "text/plain": [
       "'ㄴㄴㄴ1'"
      ]
     },
     "execution_count": 65,
     "metadata": {},
     "output_type": "execute_result"
    }
   ],
   "source": [
    "'{0:ㄴ>4}'.format(1)"
   ]
  },
  {
   "cell_type": "code",
   "execution_count": 66,
   "id": "6e3f951f",
   "metadata": {},
   "outputs": [
    {
     "data": {
      "text/plain": [
       "'ㄴㄴㄴ1'"
      ]
     },
     "execution_count": 66,
     "metadata": {},
     "output_type": "execute_result"
    }
   ],
   "source": [
    "f'{1:ㄴ>4}'"
   ]
  },
  {
   "cell_type": "code",
   "execution_count": 67,
   "id": "1412d2c4",
   "metadata": {},
   "outputs": [
    {
     "data": {
      "text/plain": [
       "'1ㄴㄴㄴ'"
      ]
     },
     "execution_count": 67,
     "metadata": {},
     "output_type": "execute_result"
    }
   ],
   "source": [
    "f'{1:ㄴ<4}'"
   ]
  },
  {
   "cell_type": "code",
   "execution_count": 69,
   "id": "be480795",
   "metadata": {},
   "outputs": [],
   "source": [
    "url=\"https://finance.naver.com/sise/sise_trans_style.naver?sosok=01\""
   ]
  },
  {
   "cell_type": "code",
   "execution_count": 72,
   "id": "90fd1916",
   "metadata": {},
   "outputs": [
    {
     "name": "stdout",
     "output_type": "stream",
     "text": [
      "01\n"
     ]
    }
   ],
   "source": [
    "print(url[-2:])"
   ]
  },
  {
   "cell_type": "code",
   "execution_count": null,
   "id": "486a654d",
   "metadata": {},
   "outputs": [],
   "source": []
  },
  {
   "cell_type": "code",
   "execution_count": 75,
   "id": "075fb681",
   "metadata": {},
   "outputs": [
    {
     "name": "stdout",
     "output_type": "stream",
     "text": [
      "https://finance.naver.com/sise/sise_trans_style.naver?sosok=01\n",
      "https://finance.naver.com/sise/sise_trans_style.naver?sosok=02\n",
      "https://finance.naver.com/sise/sise_trans_style.naver?sosok=03\n",
      "https://finance.naver.com/sise/sise_trans_style.naver?sosok=04\n",
      "https://finance.naver.com/sise/sise_trans_style.naver?sosok=05\n",
      "https://finance.naver.com/sise/sise_trans_style.naver?sosok=06\n",
      "https://finance.naver.com/sise/sise_trans_style.naver?sosok=07\n",
      "https://finance.naver.com/sise/sise_trans_style.naver?sosok=08\n",
      "https://finance.naver.com/sise/sise_trans_style.naver?sosok=09\n",
      "https://finance.naver.com/sise/sise_trans_style.naver?sosok=10\n"
     ]
    }
   ],
   "source": [
    "for i in range(1,11):\n",
    "    newurl=url.replace(url[-2:],'{0:0>2}'.format(i))\n",
    "    print(newurl)"
   ]
  },
  {
   "cell_type": "code",
   "execution_count": 76,
   "id": "1fe4fe79",
   "metadata": {},
   "outputs": [
    {
     "name": "stdout",
     "output_type": "stream",
     "text": [
      "https://finance.naver.com/sise/sise_trans_style.naver?sosok=01\n",
      "https://finance.naver.com/sise/sise_trans_style.naver?sosok=02\n",
      "https://finance.naver.com/sise/sise_trans_style.naver?sosok=03\n",
      "https://finance.naver.com/sise/sise_trans_style.naver?sosok=04\n",
      "https://finance.naver.com/sise/sise_trans_style.naver?sosok=05\n",
      "https://finance.naver.com/sise/sise_trans_style.naver?sosok=06\n",
      "https://finance.naver.com/sise/sise_trans_style.naver?sosok=07\n",
      "https://finance.naver.com/sise/sise_trans_style.naver?sosok=08\n",
      "https://finance.naver.com/sise/sise_trans_style.naver?sosok=09\n",
      "https://finance.naver.com/sise/sise_trans_style.naver?sosok=10\n"
     ]
    }
   ],
   "source": [
    "for i in range(1,11):\n",
    "    print(\"https://finance.naver.com/sise/sise_trans_style.naver?sosok={0:02d}\".format(i))"
   ]
  },
  {
   "cell_type": "code",
   "execution_count": 77,
   "id": "5a214c52",
   "metadata": {},
   "outputs": [
    {
     "name": "stdout",
     "output_type": "stream",
     "text": [
      "https://finance.naver.com/sise/sise_trans_style.naver?sosok=01\n",
      "https://finance.naver.com/sise/sise_trans_style.naver?sosok=02\n",
      "https://finance.naver.com/sise/sise_trans_style.naver?sosok=03\n",
      "https://finance.naver.com/sise/sise_trans_style.naver?sosok=04\n",
      "https://finance.naver.com/sise/sise_trans_style.naver?sosok=05\n",
      "https://finance.naver.com/sise/sise_trans_style.naver?sosok=06\n",
      "https://finance.naver.com/sise/sise_trans_style.naver?sosok=07\n",
      "https://finance.naver.com/sise/sise_trans_style.naver?sosok=08\n",
      "https://finance.naver.com/sise/sise_trans_style.naver?sosok=09\n",
      "https://finance.naver.com/sise/sise_trans_style.naver?sosok=10\n"
     ]
    }
   ],
   "source": [
    "for i in range(1,11):\n",
    "    print(f\"https://finance.naver.com/sise/sise_trans_style.naver?sosok={i:02d}\")"
   ]
  },
  {
   "cell_type": "markdown",
   "id": "bb55ae72",
   "metadata": {},
   "source": [
    "파일 이름을 한 번에 바꾸기\n",
    "숫자로 되어있는 1자리 혹은 2자리수 파일 이름을 앞을 0을 채우는 3자리수 숫자로 이름을 변경"
   ]
  },
  {
   "cell_type": "code",
   "execution_count": 82,
   "id": "25eb36d9",
   "metadata": {},
   "outputs": [],
   "source": [
    "img_list=['1.jpg', '10.jpg', '11.jpg', '2.jpg', '3.png']"
   ]
  },
  {
   "cell_type": "code",
   "execution_count": 98,
   "id": "3e0a36de",
   "metadata": {},
   "outputs": [
    {
     "name": "stdout",
     "output_type": "stream",
     "text": [
      "['001.jpg', '010.jpg', '011.jpg', '002.jpg', '003.png']\n"
     ]
    }
   ],
   "source": [
    "img_list2=[]\n",
    "for img in img_list:\n",
    "    img_list2.append(f'{img:0>7}')\n",
    "print(img_list2)"
   ]
  },
  {
   "cell_type": "code",
   "execution_count": 94,
   "id": "8379f169",
   "metadata": {},
   "outputs": [
    {
     "name": "stdout",
     "output_type": "stream",
     "text": [
      "['001.jpg', '010.jpg', '011.jpg', '002.jpg', '003.png']\n"
     ]
    }
   ],
   "source": [
    "img_list2=[f'{img:0>7}' for img in img_list]\n",
    "\n",
    "print(img_list2)"
   ]
  },
  {
   "cell_type": "code",
   "execution_count": 100,
   "id": "c4c8e38c",
   "metadata": {},
   "outputs": [
    {
     "name": "stdout",
     "output_type": "stream",
     "text": [
      "['001.jpg', '010.jpg', '011.jpg', '002.jpg', '003.png']\n"
     ]
    }
   ],
   "source": [
    "img_list2=[]\n",
    "for img in img_list:\n",
    "    img_list2.append(f'{img.split(\".\")[0]:0>3}'+\".\"+img.split(\".\")[1])\n",
    "print(img_list2)"
   ]
  },
  {
   "cell_type": "code",
   "execution_count": null,
   "id": "6586ac62",
   "metadata": {},
   "outputs": [],
   "source": []
  },
  {
   "cell_type": "code",
   "execution_count": null,
   "id": "fb04e4da",
   "metadata": {},
   "outputs": [],
   "source": []
  }
 ],
 "metadata": {
  "kernelspec": {
   "display_name": "Python 3 (ipykernel)",
   "language": "python",
   "name": "python3"
  },
  "language_info": {
   "codemirror_mode": {
    "name": "ipython",
    "version": 3
   },
   "file_extension": ".py",
   "mimetype": "text/x-python",
   "name": "python",
   "nbconvert_exporter": "python",
   "pygments_lexer": "ipython3",
   "version": "3.10.14"
  }
 },
 "nbformat": 4,
 "nbformat_minor": 5
}
