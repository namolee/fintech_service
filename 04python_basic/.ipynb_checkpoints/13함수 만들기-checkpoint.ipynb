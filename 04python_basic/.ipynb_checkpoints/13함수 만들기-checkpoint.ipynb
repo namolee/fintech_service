{
 "cells": [
  {
   "cell_type": "markdown",
   "id": "b67c339a",
   "metadata": {},
   "source": [
    "## 함수 만들기"
   ]
  },
  {
   "cell_type": "markdown",
   "id": "fbc38ca4",
   "metadata": {},
   "source": [
    "* print(),split(),input() => 함수\n",
    "* 함수의 괄호 안에 값을 넣으면 출력을 해주거나 입력을 받거나 변환을 해 줌\n",
    "* 도구\n",
    "* function => 기능\n",
    "* 자주 사용하는 기능을 미리 만들어서 반복 재사용 할 수 있게 만드는 것"
   ]
  },
  {
   "cell_type": "markdown",
   "id": "a7ce79e1",
   "metadata": {},
   "source": [
    "## 1) 함수 만드는 법\n",
    "def 함수이름():<br>\n",
    "____실행코드<br>\n",
    "____return 리턴값<br>\n"
   ]
  },
  {
   "cell_type": "code",
   "execution_count": 3,
   "id": "71954955",
   "metadata": {},
   "outputs": [],
   "source": [
    "def hello():\n",
    "    print(\"hello 파이썬 함수 만들기\")\n"
   ]
  },
  {
   "cell_type": "code",
   "execution_count": 5,
   "id": "74267973",
   "metadata": {},
   "outputs": [
    {
     "name": "stdout",
     "output_type": "stream",
     "text": [
      "hello 파이썬 함수 만들기\n"
     ]
    }
   ],
   "source": [
    "hello()"
   ]
  },
  {
   "cell_type": "markdown",
   "id": "a9ef851f",
   "metadata": {},
   "source": [
    "## 2) 함수 호출 순서\n",
    "* 함수는 호출하기 전에 반드시 먼저 정의되어야 하고(만들어 놓아야 함)\n",
    "* 함수 정의가 함수 실행보다 위에 있어야 한다."
   ]
  },
  {
   "cell_type": "markdown",
   "id": "09435b93",
   "metadata": {},
   "source": [
    "## 3) 함수의 매개변수\n",
    "* 함수의 ()안에 받는 값\n",
    "* ()안에 값을 받아서 함수 내에서 처리할 때 사용\n",
    "* print(\"hello\") => hello\n",
    "\n"
   ]
  },
  {
   "cell_type": "markdown",
   "id": "9265c9e6",
   "metadata": {},
   "source": [
    "매개변수 1개짜리 함수"
   ]
  },
  {
   "cell_type": "code",
   "execution_count": 6,
   "id": "2a6226f4",
   "metadata": {},
   "outputs": [],
   "source": [
    "#원의 넓이를 구하는 함수\n",
    "def circle(r):\n",
    "    return r*r*3.14"
   ]
  },
  {
   "cell_type": "code",
   "execution_count": 8,
   "id": "7eeb003e",
   "metadata": {},
   "outputs": [
    {
     "ename": "TypeError",
     "evalue": "circle() missing 1 required positional argument: 'r'",
     "output_type": "error",
     "traceback": [
      "\u001b[1;31m---------------------------------------------------------------------------\u001b[0m",
      "\u001b[1;31mTypeError\u001b[0m                                 Traceback (most recent call last)",
      "Cell \u001b[1;32mIn[8], line 1\u001b[0m\n\u001b[1;32m----> 1\u001b[0m \u001b[43mcircle\u001b[49m\u001b[43m(\u001b[49m\u001b[43m)\u001b[49m\n",
      "\u001b[1;31mTypeError\u001b[0m: circle() missing 1 required positional argument: 'r'"
     ]
    }
   ],
   "source": [
    "circle()"
   ]
  },
  {
   "cell_type": "code",
   "execution_count": 9,
   "id": "ab99fbe6",
   "metadata": {},
   "outputs": [
    {
     "data": {
      "text/plain": [
       "28.26"
      ]
     },
     "execution_count": 9,
     "metadata": {},
     "output_type": "execute_result"
    }
   ],
   "source": [
    "circle(3)"
   ]
  },
  {
   "cell_type": "markdown",
   "id": "fb56cc4a",
   "metadata": {},
   "source": [
    "매개변수 2개짜리 함수"
   ]
  },
  {
   "cell_type": "code",
   "execution_count": 10,
   "id": "f0ec8012",
   "metadata": {},
   "outputs": [],
   "source": [
    "def add(a,b):\n",
    "    return a+b"
   ]
  },
  {
   "cell_type": "code",
   "execution_count": 12,
   "id": "aa99ccac",
   "metadata": {},
   "outputs": [
    {
     "data": {
      "text/plain": [
       "13"
      ]
     },
     "execution_count": 12,
     "metadata": {},
     "output_type": "execute_result"
    }
   ],
   "source": [
    "add(10,3)"
   ]
  },
  {
   "cell_type": "markdown",
   "id": "97c6362c",
   "metadata": {},
   "source": [
    "매개 변수 3개짜리 함수 - a:시작, b:끝, c:증감<br>\n",
    "interval이라는 이름의 함수를 만드세요.<br>\n",
    "숫자를 입력받아 시작, 끝, 증감이 반영되게 출력하세요. <br>\n",
    "num_maker(1,10,2)<br>\n",
    "1, 3, 5, 7, 9"
   ]
  },
  {
   "cell_type": "code",
   "execution_count": 20,
   "id": "e9358927",
   "metadata": {},
   "outputs": [],
   "source": [
    "def num_maker(a,b,c):\n",
    "    print([i for i in range(a,b,c)])"
   ]
  },
  {
   "cell_type": "code",
   "execution_count": 21,
   "id": "9ac8f576",
   "metadata": {},
   "outputs": [
    {
     "name": "stdout",
     "output_type": "stream",
     "text": [
      "[1, 3, 5, 7, 9]\n"
     ]
    }
   ],
   "source": [
    "num_maker(1,10,2)"
   ]
  },
  {
   "cell_type": "markdown",
   "id": "07ad9db7",
   "metadata": {},
   "source": [
    "리턴값이 여러 개인 함수"
   ]
  },
  {
   "cell_type": "code",
   "execution_count": 23,
   "id": "53674665",
   "metadata": {},
   "outputs": [],
   "source": [
    "def add_sub(a,b):\n",
    "    add=a+b\n",
    "    sub=a-b\n",
    "    return add, sub"
   ]
  },
  {
   "cell_type": "code",
   "execution_count": 25,
   "id": "e412ed8f",
   "metadata": {},
   "outputs": [
    {
     "name": "stdout",
     "output_type": "stream",
     "text": [
      "<class 'tuple'>\n"
     ]
    }
   ],
   "source": [
    "print(type(add_sub(7,3)))"
   ]
  },
  {
   "cell_type": "code",
   "execution_count": 26,
   "id": "02002835",
   "metadata": {},
   "outputs": [],
   "source": [
    "def num_maker2(a,b,c):\n",
    "    asc=[i for i in range(a,b,c)]\n",
    "    desc=[i for i in range(a,b,c)][::-1]\n",
    "    return asc, desc"
   ]
  },
  {
   "cell_type": "code",
   "execution_count": 27,
   "id": "d3d9bae7",
   "metadata": {},
   "outputs": [
    {
     "data": {
      "text/plain": [
       "([1, 3, 5, 7, 9], [9, 7, 5, 3, 1])"
      ]
     },
     "execution_count": 27,
     "metadata": {},
     "output_type": "execute_result"
    }
   ],
   "source": [
    "num_maker2(1,10,2)"
   ]
  },
  {
   "cell_type": "markdown",
   "id": "d2b1fce2",
   "metadata": {},
   "source": [
    "## 4)중간에 함수를 종료시키기 위한 용도의 return\n",
    "* 반복문에서 break로 반복을 중지시키는 것처럼 함수에서 return이 실행되면 함수는 종료\n",
    "\n"
   ]
  },
  {
   "cell_type": "markdown",
   "id": "23038dbf",
   "metadata": {},
   "source": [
    "1-10까지 숫자중에 짝수만 출력하다가 7이상이 되면 종료하기"
   ]
  },
  {
   "cell_type": "code",
   "execution_count": 28,
   "id": "4ccb4afe",
   "metadata": {},
   "outputs": [],
   "source": [
    "age=range(1,11)\n"
   ]
  },
  {
   "cell_type": "code",
   "execution_count": 33,
   "id": "fa1f8c97",
   "metadata": {},
   "outputs": [],
   "source": [
    "def even(age):\n",
    "    for i in age:\n",
    "        if i%2==0:\n",
    "            print(i,end=\" \")\n",
    "        elif i>=7:\n",
    "            break"
   ]
  },
  {
   "cell_type": "code",
   "execution_count": 34,
   "id": "34a52793",
   "metadata": {},
   "outputs": [
    {
     "name": "stdout",
     "output_type": "stream",
     "text": [
      "2 4 6 "
     ]
    }
   ],
   "source": [
    "even(age)"
   ]
  },
  {
   "cell_type": "code",
   "execution_count": 38,
   "id": "82ddb6cd",
   "metadata": {},
   "outputs": [],
   "source": [
    "def even2(age):\n",
    "    for i in age:\n",
    "        if i%2==0:\n",
    "            print(i,end=\" \")\n",
    "        elif i>=7:\n",
    "            return"
   ]
  },
  {
   "cell_type": "code",
   "execution_count": 39,
   "id": "66e57fea",
   "metadata": {},
   "outputs": [
    {
     "name": "stdout",
     "output_type": "stream",
     "text": [
      "2 4 6 "
     ]
    }
   ],
   "source": [
    "even2(age)"
   ]
  },
  {
   "cell_type": "markdown",
   "id": "f05fec59",
   "metadata": {},
   "source": [
    "1-100까지 숫자중에 홀수만 출력하다가 51번째에 종료하는 odd함수 "
   ]
  },
  {
   "cell_type": "code",
   "execution_count": 54,
   "id": "916ebc29",
   "metadata": {},
   "outputs": [],
   "source": [
    "def odd():\n",
    "    for i in range(1,101):\n",
    "        if i%2==1:\n",
    "            print(i,end=\" \")\n",
    "        if i==51:\n",
    "            return"
   ]
  },
  {
   "cell_type": "code",
   "execution_count": 55,
   "id": "d79e374e",
   "metadata": {},
   "outputs": [
    {
     "name": "stdout",
     "output_type": "stream",
     "text": [
      "1 3 5 7 9 11 13 15 17 19 21 23 25 27 29 31 33 35 37 39 41 43 45 47 49 51 "
     ]
    }
   ],
   "source": [
    "odd()"
   ]
  },
  {
   "cell_type": "markdown",
   "id": "9eead299",
   "metadata": {},
   "source": [
    "## 5) 함수에서 위치 인수와 키워드 인수 사용하기\n",
    "* 위치인수(positional argument)\n",
    "* 함수에 인수를 순서대로 넣는 방식\n",
    "* 인수의 위치가 정해져 있음"
   ]
  },
  {
   "cell_type": "code",
   "execution_count": 56,
   "id": "2178c872",
   "metadata": {},
   "outputs": [],
   "source": [
    "def print_nums(a,b,c):\n",
    "    print(a, b, c)"
   ]
  },
  {
   "cell_type": "code",
   "execution_count": 57,
   "id": "7705faae",
   "metadata": {},
   "outputs": [
    {
     "name": "stdout",
     "output_type": "stream",
     "text": [
      "10 20 30\n"
     ]
    }
   ],
   "source": [
    "print_nums(10,20,30)"
   ]
  },
  {
   "cell_type": "markdown",
   "id": "672bfdf0",
   "metadata": {},
   "source": [
    "리스트, 튜플과 같은 자료형을 1개의 위치인수(매개변수)로 받을 때 위치 인수와 개수가 같으면<br> *로 언패킹 가능"
   ]
  },
  {
   "cell_type": "code",
   "execution_count": 59,
   "id": "3013cbac",
   "metadata": {},
   "outputs": [],
   "source": [
    "p=[10,20,30]"
   ]
  },
  {
   "cell_type": "code",
   "execution_count": 61,
   "id": "7da1efa4",
   "metadata": {},
   "outputs": [
    {
     "name": "stdout",
     "output_type": "stream",
     "text": [
      "10 20 30\n"
     ]
    }
   ],
   "source": [
    "print_nums(*p)"
   ]
  },
  {
   "cell_type": "raw",
   "id": "8d1557e4",
   "metadata": {},
   "source": [
    "가변인수\n",
    "* 여러개의 자료를 한 번에 입력 받음\n",
    "* *args => *변수명"
   ]
  },
  {
   "cell_type": "code",
   "execution_count": 1,
   "id": "931da49b",
   "metadata": {},
   "outputs": [],
   "source": [
    "def list_tuple_func(*args):\n",
    "    print(args)\n",
    "    print(type(args))"
   ]
  },
  {
   "cell_type": "code",
   "execution_count": 2,
   "id": "6bde6715",
   "metadata": {},
   "outputs": [
    {
     "name": "stdout",
     "output_type": "stream",
     "text": [
      "(1, 2, 3, 4, 5)\n",
      "<class 'tuple'>\n"
     ]
    }
   ],
   "source": [
    "list_tuple_func(1,2,3,4,5)"
   ]
  },
  {
   "cell_type": "code",
   "execution_count": 3,
   "id": "605c8afa",
   "metadata": {},
   "outputs": [
    {
     "name": "stdout",
     "output_type": "stream",
     "text": [
      "(1.1, 2.2, 3.3, 4.4, 5.5)\n",
      "<class 'tuple'>\n"
     ]
    }
   ],
   "source": [
    "list_tuple_func(1.1,2.2,3.3,4.4,5.5)"
   ]
  },
  {
   "cell_type": "code",
   "execution_count": 4,
   "id": "fc7dacb8",
   "metadata": {},
   "outputs": [
    {
     "name": "stdout",
     "output_type": "stream",
     "text": [
      "([1, 2, 3], [4, 5, 6], [7, 8, 9])\n",
      "<class 'tuple'>\n"
     ]
    }
   ],
   "source": [
    "list_tuple_func([1,2,3], [4,5,6], [7,8,9])"
   ]
  },
  {
   "cell_type": "code",
   "execution_count": 5,
   "id": "8fb3b562",
   "metadata": {},
   "outputs": [
    {
     "name": "stdout",
     "output_type": "stream",
     "text": [
      "({'a': 1, 'b': 2, 'c': 3},)\n",
      "<class 'tuple'>\n"
     ]
    }
   ],
   "source": [
    "list_tuple_func(dict(a=1, b=2, c=3))"
   ]
  },
  {
   "cell_type": "code",
   "execution_count": null,
   "id": "661fb5bf",
   "metadata": {},
   "outputs": [],
   "source": [
    "def sum2(*args):\n",
    "    hap=0\n",
    "    for i in args:\n",
    "        hap += i\n",
    "    return hap"
   ]
  },
  {
   "cell_type": "markdown",
   "id": "055149ce",
   "metadata": {},
   "source": [
    "* 고정인수와 가변인수를 함께 사용할 때는 반드시<br>\n",
    "* 고정인수, 가변인수 순으로 넣고 가변인수는 항상 <strong>마지막에<strong> 넣는다. <strong>\n",
    "* def sum(a, *args): O\n",
    "* def sum(*args, a): X"
   ]
  },
  {
   "cell_type": "markdown",
   "id": "83c82d08",
   "metadata": {},
   "source": [
    "정수와 리스트를 입력받아 리스트의 요소에 <br>\n",
    "입력받은 정수를 곱한 값의 리스트를 반환하는 함수 <br>\n",
    "3,[1,2,3,4,5] => [3,6,9,12,13]"
   ]
  },
  {
   "cell_type": "code",
   "execution_count": 62,
   "id": "41458f5d",
   "metadata": {},
   "outputs": [],
   "source": [
    "def muls(a, *args):\n",
    "    result = []\n",
    "    for num in args:\n",
    "        print(a*num, end=\" \")\n",
    "        result.append(a*num)\n",
    "    return result"
   ]
  },
  {
   "cell_type": "code",
   "execution_count": 64,
   "id": "a7425c7f",
   "metadata": {},
   "outputs": [
    {
     "name": "stdout",
     "output_type": "stream",
     "text": [
      "3 6 9 12 15 "
     ]
    },
    {
     "data": {
      "text/plain": [
       "[3, 6, 9, 12, 15]"
      ]
     },
     "execution_count": 64,
     "metadata": {},
     "output_type": "execute_result"
    }
   ],
   "source": [
    "muls(3,*[1,2,3,4,5])"
   ]
  },
  {
   "cell_type": "markdown",
   "id": "080a4752",
   "metadata": {},
   "source": [
    "## 키워드 인수"
   ]
  },
  {
   "cell_type": "markdown",
   "id": "885bbed3",
   "metadata": {},
   "source": [
    "개인 정보를 출력하는 함수"
   ]
  },
  {
   "cell_type": "code",
   "execution_count": 1,
   "id": "166dd1d7",
   "metadata": {},
   "outputs": [],
   "source": [
    "def personal_info(name, age, address):\n",
    "    print('이름: ',name)\n",
    "    print('나이: ',age)\n",
    "    print('주소: ',address)"
   ]
  },
  {
   "cell_type": "code",
   "execution_count": 2,
   "id": "a7f0a6d6",
   "metadata": {},
   "outputs": [
    {
     "name": "stdout",
     "output_type": "stream",
     "text": [
      "이름:  홍길동\n",
      "나이:  30\n",
      "주소:  서울시 강남구\n"
     ]
    }
   ],
   "source": [
    "personal_info('홍길동', 30, '서울시 강남구')"
   ]
  },
  {
   "cell_type": "markdown",
   "id": "0b395047",
   "metadata": {},
   "source": [
    "* 위의 함수는 인수의 순서를 모두 기억해야 하기 때문에 사용하기 어려움\n",
    "* 인수의 순서와 용도를 매번 기억하지 않도록 하기 위해서 키워드 인수(keyword argument) 사용\n",
    "* 예) print(\"python\", sep=\" \", end=\"\\n\") sep, end => 키워드 인수"
   ]
  },
  {
   "cell_type": "code",
   "execution_count": 3,
   "id": "7af1c7b0",
   "metadata": {},
   "outputs": [
    {
     "data": {
      "text/plain": [
       "{'key': 'value'}"
      ]
     },
     "execution_count": 3,
     "metadata": {},
     "output_type": "execute_result"
    }
   ],
   "source": [
    "dict(key='value')"
   ]
  },
  {
   "cell_type": "markdown",
   "id": "bc05a4e0",
   "metadata": {},
   "source": [
    "personal_info 함수를 키워드 인수 방식으로 호출"
   ]
  },
  {
   "cell_type": "code",
   "execution_count": 4,
   "id": "f4a06633",
   "metadata": {},
   "outputs": [
    {
     "name": "stdout",
     "output_type": "stream",
     "text": [
      "이름:  홍길동\n",
      "나이:  30\n",
      "주소:  서울시 강남구\n"
     ]
    }
   ],
   "source": [
    "personal_info(name='홍길동',age='30',address='서울시 강남구')"
   ]
  },
  {
   "cell_type": "code",
   "execution_count": 5,
   "id": "12397b72",
   "metadata": {},
   "outputs": [
    {
     "name": "stdout",
     "output_type": "stream",
     "text": [
      "이름:  홍길동\n",
      "나이:  30\n",
      "주소:  서울시 강남구\n"
     ]
    }
   ],
   "source": [
    "personal_info(age='30',name='홍길동',address='서울시 강남구')"
   ]
  },
  {
   "cell_type": "markdown",
   "id": "1c5de66f",
   "metadata": {},
   "source": [
    "↑ 키워드 인수 방식으로 함수를 호출하면 인수 순서나 위치가 바뀌어도 동작을 한다. ↑"
   ]
  },
  {
   "cell_type": "code",
   "execution_count": 8,
   "id": "d9bc95c8",
   "metadata": {},
   "outputs": [
    {
     "data": {
      "text/plain": [
       "{'age': '30', 'name': '홍길동', 'address': '서울시 강남구'}"
      ]
     },
     "execution_count": 8,
     "metadata": {},
     "output_type": "execute_result"
    }
   ],
   "source": [
    "p_info=dict(age='30',name='홍길동',address='서울시 강남구')\n",
    "p_info"
   ]
  },
  {
   "cell_type": "markdown",
   "id": "c64358f9",
   "metadata": {},
   "source": [
    "딕셔너리를 언패킹 할때<br> * 한개를 붙이면 키가 반환되고, ** 두개를 붙여야 value값이 반환된다."
   ]
  },
  {
   "cell_type": "code",
   "execution_count": 16,
   "id": "28cc03a1",
   "metadata": {},
   "outputs": [
    {
     "name": "stdout",
     "output_type": "stream",
     "text": [
      "이름:  홍길동\n",
      "나이:  30\n",
      "주소:  서울시 강남구\n"
     ]
    }
   ],
   "source": [
    "personal_info(**(p_info)) "
   ]
  },
  {
   "cell_type": "markdown",
   "id": "a3b55c4f",
   "metadata": {},
   "source": [
    "키워드 인수를 사용하는 가변인수 함수 만들기<br>\n",
    "def 함수이름(**kwargs):<br>\n",
    "____코드<br>\n",
    "____return"
   ]
  },
  {
   "cell_type": "code",
   "execution_count": 17,
   "id": "bf248be0",
   "metadata": {},
   "outputs": [],
   "source": [
    "def personal_info2(**kwargs):\n",
    "    print(\"kwargs:\", kwargs)\n",
    "    print(\"kwargs type: \", type(kwargs))"
   ]
  },
  {
   "cell_type": "code",
   "execution_count": 19,
   "id": "5e925291",
   "metadata": {},
   "outputs": [
    {
     "name": "stdout",
     "output_type": "stream",
     "text": [
      "kwargs: {'name': '홍길동'}\n",
      "kwargs type:  <class 'dict'>\n"
     ]
    }
   ],
   "source": [
    "personal_info2(name='홍길동')"
   ]
  },
  {
   "cell_type": "code",
   "execution_count": 21,
   "id": "646e7f1a",
   "metadata": {},
   "outputs": [
    {
     "name": "stdout",
     "output_type": "stream",
     "text": [
      "kwargs: {'name': '홍길동', 'age': 30, 'address': '서울시 강남구', 'school': '강남 고등학교'}\n",
      "kwargs type:  <class 'dict'>\n"
     ]
    }
   ],
   "source": [
    "personal_info2(name='홍길동', age=30, address='서울시 강남구', school='강남 고등학교')"
   ]
  },
  {
   "cell_type": "code",
   "execution_count": 22,
   "id": "8cd9b684",
   "metadata": {},
   "outputs": [
    {
     "data": {
      "text/plain": [
       "{'name': '홍길동', 'age': 30, 'address': '서울시 강남구', 'school': '강남 고등학교'}"
      ]
     },
     "execution_count": 22,
     "metadata": {},
     "output_type": "execute_result"
    }
   ],
   "source": [
    "d=dict(name='홍길동', age=30, address='서울시 강남구', school='강남 고등학교')\n",
    "d"
   ]
  },
  {
   "cell_type": "code",
   "execution_count": 26,
   "id": "b4537d2b",
   "metadata": {},
   "outputs": [
    {
     "name": "stdout",
     "output_type": "stream",
     "text": [
      "kwargs: {'name': '홍길동', 'age': 30, 'address': '서울시 강남구', 'school': '강남 고등학교'}\n",
      "kwargs type:  <class 'dict'>\n"
     ]
    }
   ],
   "source": [
    "personal_info2(**d)"
   ]
  },
  {
   "cell_type": "code",
   "execution_count": 31,
   "id": "6e9772c5",
   "metadata": {},
   "outputs": [],
   "source": [
    "def personal_info3(**kwargs):\n",
    "    print(\"kwargs:\", kwargs)\n",
    "    print(\"kwargs type: \", type(kwargs))\n",
    "    for key, value in kwargs.items():\n",
    "        print(key,\":\",value)"
   ]
  },
  {
   "cell_type": "code",
   "execution_count": 32,
   "id": "57324598",
   "metadata": {},
   "outputs": [
    {
     "name": "stdout",
     "output_type": "stream",
     "text": [
      "kwargs: {'name': '홍길동', 'age': 30, 'address': '서울시 강남구', 'school': '강남 고등학교'}\n",
      "kwargs type:  <class 'dict'>\n",
      "name : 홍길동\n",
      "age : 30\n",
      "address : 서울시 강남구\n",
      "school : 강남 고등학교\n"
     ]
    }
   ],
   "source": [
    "personal_info3(**d)"
   ]
  },
  {
   "cell_type": "markdown",
   "id": "775491a8",
   "metadata": {},
   "source": [
    "고정인수와 키워드 가변인수 함께 사용하기\n",
    "* 고정인수, **키워드인수 순으로 와야함"
   ]
  },
  {
   "cell_type": "code",
   "execution_count": 33,
   "id": "2c2341ac",
   "metadata": {},
   "outputs": [],
   "source": [
    "def personal_info4(name, **kwargs):\n",
    "    print(\"name: \",name)\n",
    "    print(\"kwargs: \",kwargs)"
   ]
  },
  {
   "cell_type": "code",
   "execution_count": 34,
   "id": "254093a5",
   "metadata": {},
   "outputs": [
    {
     "name": "stdout",
     "output_type": "stream",
     "text": [
      "name:  홍길동\n",
      "kwargs:  {}\n"
     ]
    }
   ],
   "source": [
    "personal_info4('홍길동')"
   ]
  },
  {
   "cell_type": "code",
   "execution_count": 35,
   "id": "2ba09bb0",
   "metadata": {},
   "outputs": [
    {
     "name": "stdout",
     "output_type": "stream",
     "text": [
      "name:  홍길동\n",
      "kwargs:  {'age': 30, 'address': '서울시 강남구'}\n"
     ]
    }
   ],
   "source": [
    "personal_info4('홍길동', age=30, address='서울시 강남구')"
   ]
  },
  {
   "cell_type": "code",
   "execution_count": 37,
   "id": "6ccbb17d",
   "metadata": {},
   "outputs": [
    {
     "ename": "TypeError",
     "evalue": "personal_info4() missing 1 required positional argument: 'name'",
     "output_type": "error",
     "traceback": [
      "\u001b[1;31m---------------------------------------------------------------------------\u001b[0m",
      "\u001b[1;31mTypeError\u001b[0m                                 Traceback (most recent call last)",
      "Cell \u001b[1;32mIn[37], line 1\u001b[0m\n\u001b[1;32m----> 1\u001b[0m \u001b[43mpersonal_info4\u001b[49m\u001b[43m(\u001b[49m\u001b[43mage\u001b[49m\u001b[38;5;241;43m=\u001b[39;49m\u001b[38;5;241;43m30\u001b[39;49m\u001b[43m,\u001b[49m\u001b[43m \u001b[49m\u001b[43maddress\u001b[49m\u001b[38;5;241;43m=\u001b[39;49m\u001b[38;5;124;43m'\u001b[39;49m\u001b[38;5;124;43m서울시 강남구\u001b[39;49m\u001b[38;5;124;43m'\u001b[39;49m\u001b[43m)\u001b[49m \u001b[38;5;66;03m#고정인수는 꼭 넣어줘야 함\u001b[39;00m\n",
      "\u001b[1;31mTypeError\u001b[0m: personal_info4() missing 1 required positional argument: 'name'"
     ]
    }
   ],
   "source": [
    "personal_info4(age=30, address='서울시 강남구') #고정인수는 꼭 넣어줘야 함"
   ]
  },
  {
   "cell_type": "markdown",
   "id": "4f967bae",
   "metadata": {},
   "source": [
    "가변인수와 가변키워드인수 함께쓰기\n",
    "* def 함수명(*args, **kwargs):\n",
    "* def 함수명(,고정인자, *args, **kwargs):"
   ]
  },
  {
   "cell_type": "code",
   "execution_count": 39,
   "id": "be168655",
   "metadata": {},
   "outputs": [
    {
     "name": "stdout",
     "output_type": "stream",
     "text": [
      "(1, 2, 3)\n",
      "{'sep': ' !! ', 'end': ''}\n",
      "1 !! 2 !! 3"
     ]
    }
   ],
   "source": [
    "def custom_print(*args, **kwargs):\n",
    "    print(args)\n",
    "    print(kwargs)\n",
    "    print(*args, **kwargs)\n",
    "custom_print(1,2,3,sep=\" !! \",end=\"\")"
   ]
  },
  {
   "cell_type": "markdown",
   "id": "de512ca5",
   "metadata": {},
   "source": [
    "매개변수 = 함수 내에서 사용되는 변수\n",
    "* 위치인수: 위치가 고정된 매개변수\n",
    "* 가변 인수: 여러개의 자료를 동시에 받을 수 있는 매개변수 => tuple로 들어옴\n",
    "* 키워드 가변 인수: 여러 개의 자료를 동시에 받을 수 있는데 key=value 형태로 받는 매개변수=>dict로 들어옴"
   ]
  },
  {
   "cell_type": "markdown",
   "id": "00571525",
   "metadata": {},
   "source": [
    "매개변수에 초기값 지정하기"
   ]
  },
  {
   "cell_type": "code",
   "execution_count": 41,
   "id": "8d6ef687",
   "metadata": {},
   "outputs": [],
   "source": [
    "def personal_info5(name, age, address='비공개'):\n",
    "    print('이름: ', name)\n",
    "    print('나이: ', age)\n",
    "    print('주소: ', address)"
   ]
  },
  {
   "cell_type": "code",
   "execution_count": 42,
   "id": "8a4a9ac0",
   "metadata": {},
   "outputs": [
    {
     "name": "stdout",
     "output_type": "stream",
     "text": [
      "이름:  홍길동\n",
      "나이:  30\n",
      "주소:  서울시 강남구\n"
     ]
    }
   ],
   "source": [
    "personal_info5('홍길동', 30,'서울시 강남구')"
   ]
  },
  {
   "cell_type": "code",
   "execution_count": 43,
   "id": "40aae8a8",
   "metadata": {},
   "outputs": [
    {
     "name": "stdout",
     "output_type": "stream",
     "text": [
      "이름:  홍길동\n",
      "나이:  30\n",
      "주소:  비공개\n"
     ]
    }
   ],
   "source": [
    "personal_info5('홍길동', 30)"
   ]
  },
  {
   "cell_type": "code",
   "execution_count": 45,
   "id": "df9deb44",
   "metadata": {},
   "outputs": [],
   "source": [
    "def personal_info6(address='비공개', *args, **kwargs):\n",
    "    print('args: ', args)\n",
    "    print('kwargs: ', kwargs)\n",
    "    print('주소: ', address)"
   ]
  },
  {
   "cell_type": "code",
   "execution_count": 47,
   "id": "f2fd7845",
   "metadata": {},
   "outputs": [
    {
     "name": "stdout",
     "output_type": "stream",
     "text": [
      "args:  (2, 3, 4)\n",
      "kwargs:  {'name': '홍길동', 'age': 30}\n",
      "주소:  1\n"
     ]
    }
   ],
   "source": [
    "personal_info6(1,2,3,4, name=\"홍길동\",age=30)"
   ]
  },
  {
   "cell_type": "markdown",
   "id": "c010eecc",
   "metadata": {},
   "source": [
    "함수 Doc 스트링 사용하기\n",
    "* 함수의 기능을 설명하거나 사용법을 함수 내에 적어 놓은것<br>\n",
    "def 함수이름((매개변수):<br>\n",
    "____\"\"\" 독스트링으로 설명 적기 \"\"\"<br>\n",
    "____실행 코드<br>\n",
    "____return<br>\n",
    "* 독스트링은 함수 실행시에는 출력되지 않음\n",
    "* print(함수이름.doc)\n",
    "* help(함수이름)\n"
   ]
  },
  {
   "cell_type": "code",
   "execution_count": 48,
   "id": "4621457f",
   "metadata": {},
   "outputs": [],
   "source": [
    "def add(a,b):\n",
    "    \"\"\"\n",
    "    이 함수는 a와 b를 더한 뒤 결과를 반환하는 함수입니다.\n",
    "    \"\"\"\n",
    "    return a+b\n"
   ]
  },
  {
   "cell_type": "code",
   "execution_count": 49,
   "id": "3e6d0577",
   "metadata": {},
   "outputs": [
    {
     "data": {
      "text/plain": [
       "15"
      ]
     },
     "execution_count": 49,
     "metadata": {},
     "output_type": "execute_result"
    }
   ],
   "source": [
    "add(10,5)"
   ]
  },
  {
   "cell_type": "code",
   "execution_count": null,
   "id": "b9e72b7d",
   "metadata": {},
   "outputs": [],
   "source": [
    "add() # 함수를 입력하고 shift+tab 누르면 확인가능"
   ]
  },
  {
   "cell_type": "code",
   "execution_count": 51,
   "id": "b1b4aed3",
   "metadata": {},
   "outputs": [
    {
     "name": "stdout",
     "output_type": "stream",
     "text": [
      "Help on function add in module __main__:\n",
      "\n",
      "add(a, b)\n",
      "    이 함수는 a와 b를 더한 뒤 결과를 반환하는 함수입니다.\n",
      "\n"
     ]
    }
   ],
   "source": [
    "help(add)"
   ]
  },
  {
   "cell_type": "code",
   "execution_count": 52,
   "id": "a183dfc1",
   "metadata": {},
   "outputs": [
    {
     "name": "stdout",
     "output_type": "stream",
     "text": [
      "\n",
      "    이 함수는 a와 b를 더한 뒤 결과를 반환하는 함수입니다.\n",
      "    \n"
     ]
    }
   ],
   "source": [
    "print(add.__doc__)"
   ]
  },
  {
   "cell_type": "code",
   "execution_count": 56,
   "id": "af1a6032",
   "metadata": {},
   "outputs": [
    {
     "data": {
      "text/plain": [
       "['__add__',\n",
       " '__class__',\n",
       " '__class_getitem__',\n",
       " '__contains__',\n",
       " '__delattr__',\n",
       " '__delitem__',\n",
       " '__dir__',\n",
       " '__doc__',\n",
       " '__eq__',\n",
       " '__format__',\n",
       " '__ge__',\n",
       " '__getattribute__',\n",
       " '__getitem__',\n",
       " '__gt__',\n",
       " '__hash__',\n",
       " '__iadd__',\n",
       " '__imul__',\n",
       " '__init__',\n",
       " '__init_subclass__',\n",
       " '__iter__',\n",
       " '__le__',\n",
       " '__len__',\n",
       " '__lt__',\n",
       " '__mul__',\n",
       " '__ne__',\n",
       " '__new__',\n",
       " '__reduce__',\n",
       " '__reduce_ex__',\n",
       " '__repr__',\n",
       " '__reversed__',\n",
       " '__rmul__',\n",
       " '__setattr__',\n",
       " '__setitem__',\n",
       " '__sizeof__',\n",
       " '__str__',\n",
       " '__subclasshook__',\n",
       " 'append',\n",
       " 'clear',\n",
       " 'copy',\n",
       " 'count',\n",
       " 'extend',\n",
       " 'index',\n",
       " 'insert',\n",
       " 'pop',\n",
       " 'remove',\n",
       " 'reverse',\n",
       " 'sort']"
      ]
     },
     "execution_count": 56,
     "metadata": {},
     "output_type": "execute_result"
    }
   ],
   "source": [
    "dir(list)"
   ]
  },
  {
   "cell_type": "markdown",
   "id": "f0c3479b",
   "metadata": {},
   "source": [
    "## 람다 표현식 (lambda expression)\n",
    "* 간단한 함수를 작성하거나 다른 함수의 인수로 함수를 넣을 때 사용\n",
    "* 익명함수 (함수명이 없음)\n",
    "* 사용 후 메모리에서 삭제됨"
   ]
  },
  {
   "cell_type": "code",
   "execution_count": 1,
   "id": "bc6d80a5",
   "metadata": {},
   "outputs": [],
   "source": [
    "# 자료 1개를 입력받아 10을 더해 리턴하는 함수\n",
    "def plus_ten(x):\n",
    "    return x + 10"
   ]
  },
  {
   "cell_type": "code",
   "execution_count": 2,
   "id": "a968c811",
   "metadata": {},
   "outputs": [
    {
     "data": {
      "text/plain": [
       "15"
      ]
     },
     "execution_count": 2,
     "metadata": {},
     "output_type": "execute_result"
    }
   ],
   "source": [
    "plus_ten(5)\n"
   ]
  },
  {
   "cell_type": "code",
   "execution_count": 3,
   "id": "b6e918d0",
   "metadata": {},
   "outputs": [
    {
     "data": {
      "text/plain": [
       "15"
      ]
     },
     "execution_count": 3,
     "metadata": {},
     "output_type": "execute_result"
    }
   ],
   "source": [
    "# def lambda():\n",
    "(lambda x : x+10)(5)"
   ]
  },
  {
   "cell_type": "markdown",
   "id": "72f83c9c",
   "metadata": {},
   "source": [
    "람다  함수를 변수에 넣고 변수에 인수를 넣어서 호출"
   ]
  },
  {
   "cell_type": "code",
   "execution_count": 4,
   "id": "b37b29f8",
   "metadata": {},
   "outputs": [],
   "source": [
    "plus_five = lambda x: x+5"
   ]
  },
  {
   "cell_type": "code",
   "execution_count": 5,
   "id": "c0e4f18b",
   "metadata": {},
   "outputs": [
    {
     "data": {
      "text/plain": [
       "10"
      ]
     },
     "execution_count": 5,
     "metadata": {},
     "output_type": "execute_result"
    }
   ],
   "source": [
    "plus_five(5)"
   ]
  },
  {
   "cell_type": "markdown",
   "id": "b304ba16",
   "metadata": {},
   "source": [
    "map(함수, 리스트자료)"
   ]
  },
  {
   "cell_type": "code",
   "execution_count": 10,
   "id": "cbc21dd3",
   "metadata": {},
   "outputs": [],
   "source": [
    "a,b,c,d=(map(int, [\"1\",\"2\",\"4\",\"5\"]))"
   ]
  },
  {
   "cell_type": "code",
   "execution_count": 12,
   "id": "4ca3a5e6",
   "metadata": {},
   "outputs": [
    {
     "name": "stdout",
     "output_type": "stream",
     "text": [
      "1 2 4 5\n"
     ]
    }
   ],
   "source": [
    "print(a,b,c,d)"
   ]
  },
  {
   "cell_type": "code",
   "execution_count": 13,
   "id": "dfc7e0a4",
   "metadata": {},
   "outputs": [
    {
     "name": "stdout",
     "output_type": "stream",
     "text": [
      "[6, 7, 8, 9, 10]\n"
     ]
    }
   ],
   "source": [
    "result = map(plus_five, [1,2,3,4,5])\n",
    "print(list(result))"
   ]
  },
  {
   "cell_type": "code",
   "execution_count": 14,
   "id": "859ea1bb",
   "metadata": {},
   "outputs": [
    {
     "data": {
      "text/plain": [
       "[11, 12, 13, 14, 15]"
      ]
     },
     "execution_count": 14,
     "metadata": {},
     "output_type": "execute_result"
    }
   ],
   "source": [
    "list(map(lambda x: x+10,[1,2,3,4,5]))"
   ]
  },
  {
   "cell_type": "markdown",
   "id": "49467445",
   "metadata": {},
   "source": [
    "람다표현식에 조건부 표현식 사용하기"
   ]
  },
  {
   "cell_type": "code",
   "execution_count": 15,
   "id": "b1c20b15",
   "metadata": {},
   "outputs": [
    {
     "data": {
      "text/plain": [
       "[1, 2, 3, 4, 5, 6, 7, 8, 9, 10]"
      ]
     },
     "execution_count": 15,
     "metadata": {},
     "output_type": "execute_result"
    }
   ],
   "source": [
    "# 3의 배수만 문자열로 바꾸기\n",
    "a = list(range(1,11))\n",
    "a"
   ]
  },
  {
   "cell_type": "code",
   "execution_count": 22,
   "id": "12060274",
   "metadata": {},
   "outputs": [],
   "source": [
    "\n",
    "def tostr(a):\n",
    "    result=[]\n",
    "    for i in a:\n",
    "        if i%3==0:\n",
    "            result.append(str(i))\n",
    "        else:\n",
    "            result.append(i)\n",
    "        \n",
    "    print(result)"
   ]
  },
  {
   "cell_type": "code",
   "execution_count": 23,
   "id": "f97870e5",
   "metadata": {},
   "outputs": [
    {
     "name": "stdout",
     "output_type": "stream",
     "text": [
      "[1, 2, '3', 4, 5, '6', 7, 8, '9', 10]\n"
     ]
    }
   ],
   "source": [
    "tostr(a)"
   ]
  },
  {
   "cell_type": "code",
   "execution_count": 25,
   "id": "78a7fbcf",
   "metadata": {},
   "outputs": [],
   "source": [
    "\n",
    "def tostr2(a):\n",
    "    result=[]\n",
    "    for i in a:\n",
    "        result.append(str(i)) if i%3==0 else result.append(i)\n",
    "      \n",
    "        \n",
    "    print(result)"
   ]
  },
  {
   "cell_type": "code",
   "execution_count": 26,
   "id": "21eee7a5",
   "metadata": {},
   "outputs": [
    {
     "name": "stdout",
     "output_type": "stream",
     "text": [
      "[1, 2, '3', 4, 5, '6', 7, 8, '9', 10]\n"
     ]
    }
   ],
   "source": [
    "tostr2(a)"
   ]
  },
  {
   "cell_type": "code",
   "execution_count": 29,
   "id": "3b07bc5d",
   "metadata": {},
   "outputs": [],
   "source": [
    "\n",
    "def tostr3(a):\n",
    "    return [  (str(i)) if i%3==0 else (i) for i in a]"
   ]
  },
  {
   "cell_type": "code",
   "execution_count": 30,
   "id": "5f220140",
   "metadata": {},
   "outputs": [
    {
     "data": {
      "text/plain": [
       "[1, 2, '3', 4, 5, '6', 7, 8, '9', 10]"
      ]
     },
     "execution_count": 30,
     "metadata": {},
     "output_type": "execute_result"
    }
   ],
   "source": [
    "tostr3(a)"
   ]
  },
  {
   "cell_type": "code",
   "execution_count": 31,
   "id": "bba27d4c",
   "metadata": {},
   "outputs": [
    {
     "data": {
      "text/plain": [
       "[1, 2, '3', 4, 5, '6', 7, 8, '9', 10]"
      ]
     },
     "execution_count": 31,
     "metadata": {},
     "output_type": "execute_result"
    }
   ],
   "source": [
    "list(map(lambda x: str(x) if x%3==0 else x,a))"
   ]
  },
  {
   "cell_type": "code",
   "execution_count": 32,
   "id": "ff44d602",
   "metadata": {},
   "outputs": [],
   "source": [
    "a=[1,2,3,4,5]\n",
    "b=[2,4,6,8,10]\n",
    "c=[3,6,9,12,15]"
   ]
  },
  {
   "cell_type": "code",
   "execution_count": 33,
   "id": "36fd3ad4",
   "metadata": {},
   "outputs": [
    {
     "data": {
      "text/plain": [
       "[6, 48, 162, 384, 750]"
      ]
     },
     "execution_count": 33,
     "metadata": {},
     "output_type": "execute_result"
    }
   ],
   "source": [
    "list(map(lambda x,y,z: x*y*z,a,b,c))"
   ]
  },
  {
   "cell_type": "code",
   "execution_count": null,
   "id": "b62ab179",
   "metadata": {},
   "outputs": [],
   "source": []
  }
 ],
 "metadata": {
  "kernelspec": {
   "display_name": "Python 3 (ipykernel)",
   "language": "python",
   "name": "python3"
  },
  "language_info": {
   "codemirror_mode": {
    "name": "ipython",
    "version": 3
   },
   "file_extension": ".py",
   "mimetype": "text/x-python",
   "name": "python",
   "nbconvert_exporter": "python",
   "pygments_lexer": "ipython3",
   "version": "3.10.14"
  }
 },
 "nbformat": 4,
 "nbformat_minor": 5
}
