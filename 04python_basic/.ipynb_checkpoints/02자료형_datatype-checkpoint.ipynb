{
 "cells": [
  {
   "cell_type": "markdown",
   "id": "8bfa36db",
   "metadata": {},
   "source": [
    "# 파이썬은 변수에 담는 자료에 따라서 동적으로 자료형 정해짐\n",
    "\n",
    "## 정수형 변수(int, integer)"
   ]
  },
  {
   "cell_type": "code",
   "execution_count": 2,
   "id": "a55c1e80",
   "metadata": {},
   "outputs": [],
   "source": [
    "x=10"
   ]
  },
  {
   "cell_type": "markdown",
   "id": "35353e33",
   "metadata": {},
   "source": [
    "## 실수형 변수(float)"
   ]
  },
  {
   "cell_type": "code",
   "execution_count": 6,
   "id": "1a88db50",
   "metadata": {},
   "outputs": [],
   "source": [
    "y=3.14"
   ]
  },
  {
   "cell_type": "markdown",
   "id": "8ee9fb16",
   "metadata": {},
   "source": [
    "## 문자형 변수(str)"
   ]
  },
  {
   "cell_type": "code",
   "execution_count": 4,
   "id": "593ef5ef",
   "metadata": {},
   "outputs": [],
   "source": [
    "s='문'"
   ]
  },
  {
   "cell_type": "code",
   "execution_count": 5,
   "id": "ee2156f2",
   "metadata": {},
   "outputs": [],
   "source": [
    "s2=\"문자열\""
   ]
  },
  {
   "cell_type": "code",
   "execution_count": 7,
   "id": "54113213",
   "metadata": {},
   "outputs": [
    {
     "data": {
      "text/plain": [
       "\"문자열 '문자'\""
      ]
     },
     "execution_count": 7,
     "metadata": {},
     "output_type": "execute_result"
    }
   ],
   "source": [
    "s3=\"문자열 '문자'\"\n",
    "s3"
   ]
  },
  {
   "cell_type": "code",
   "execution_count": 8,
   "id": "93d6d64d",
   "metadata": {},
   "outputs": [
    {
     "name": "stdout",
     "output_type": "stream",
     "text": [
      "문자열 \"문자\"\n"
     ]
    }
   ],
   "source": [
    "s4='문자열 \"문자\"'\n",
    "print(s4)"
   ]
  },
  {
   "cell_type": "markdown",
   "id": "3149db2a",
   "metadata": {},
   "source": [
    "## 문단을 통채로 넣는 법 ''' ''', \"\"\" \"\"\""
   ]
  },
  {
   "cell_type": "code",
   "execution_count": 13,
   "id": "17bd4059",
   "metadata": {},
   "outputs": [
    {
     "name": "stdout",
     "output_type": "stream",
     "text": [
      "문자형 변수에는 단어 뿐만 아니라\n",
      "문장도 넣을 수 있다.\n",
      "줄 바꿈도 가능\n"
     ]
    }
   ],
   "source": [
    "s5='''문자형 변수에는 단어 뿐만 아니라\n",
    "문장도 넣을 수 있다.\n",
    "줄 바꿈도 가능'''\n",
    "print(s5)"
   ]
  },
  {
   "cell_type": "code",
   "execution_count": 14,
   "id": "22526f38",
   "metadata": {},
   "outputs": [
    {
     "name": "stdout",
     "output_type": "stream",
     "text": [
      "\n"
     ]
    }
   ],
   "source": [
    "print()"
   ]
  },
  {
   "cell_type": "markdown",
   "id": "c38c558d",
   "metadata": {},
   "source": [
    "## 변수의 데이터  타입을 출력하는 함수 type()"
   ]
  },
  {
   "cell_type": "code",
   "execution_count": 15,
   "id": "f469b9ef",
   "metadata": {},
   "outputs": [
    {
     "data": {
      "text/plain": [
       "int"
      ]
     },
     "execution_count": 15,
     "metadata": {},
     "output_type": "execute_result"
    }
   ],
   "source": [
    "type(x)"
   ]
  },
  {
   "cell_type": "code",
   "execution_count": 16,
   "id": "61bc3b7e",
   "metadata": {},
   "outputs": [
    {
     "name": "stdout",
     "output_type": "stream",
     "text": [
      "<class 'float'>\n"
     ]
    }
   ],
   "source": [
    "print(type(y))"
   ]
  },
  {
   "cell_type": "code",
   "execution_count": 17,
   "id": "7186f590",
   "metadata": {},
   "outputs": [
    {
     "name": "stdout",
     "output_type": "stream",
     "text": [
      "<class 'str'>\n"
     ]
    }
   ],
   "source": [
    "print(type(s))"
   ]
  },
  {
   "cell_type": "code",
   "execution_count": 20,
   "id": "c22e219c",
   "metadata": {},
   "outputs": [
    {
     "name": "stdout",
     "output_type": "stream",
     "text": [
      "문자형 변수에는 단어 뿐만 아니라\n",
      "문장도 넣을 수 있다.\n",
      "줄 바꿈도 가능\n",
      "<class 'str'>\n"
     ]
    }
   ],
   "source": [
    "print(s5)\n",
    "print(type(s5))"
   ]
  },
  {
   "cell_type": "markdown",
   "id": "26049ee7",
   "metadata": {},
   "source": [
    "## 리스트(list), 튜플(tuple)\n",
    "* 순서가 있는 자료형\n",
    "* 여러개의 자료를 넣을 수 있다.\n",
    "* 여러개의 데이터 타입의 자료를 넣을 수 있다.\n",
    "* 인덱스로 호출이 가능\n",
    "* 슬라이싱으로 부분 출력이 가능\n",
    "* 리스트는 [] 안에 자료를 넣어 만든다.\n",
    "* 튜플은 () 안에 자료를 넣어 만든다."
   ]
  },
  {
   "cell_type": "code",
   "execution_count": 24,
   "id": "51ad8fbf",
   "metadata": {},
   "outputs": [
    {
     "data": {
      "text/plain": [
       "[1, 3.14, '파이썬', [1, 2, 3, 4], (5, 6, 7, 8)]"
      ]
     },
     "execution_count": 24,
     "metadata": {},
     "output_type": "execute_result"
    }
   ],
   "source": [
    "L= [1, 3.14, \"파이썬\", [1,2,3,4], (5,6,7,8)]\n",
    "L"
   ]
  },
  {
   "cell_type": "markdown",
   "id": "bce9ad19",
   "metadata": {},
   "source": [
    "## 인덱싱: 리스트, 튜플에서 인덱스 번호를 이용해서 자료를 출력\n",
    "* 인덱스는 자료의 순번"
   ]
  },
  {
   "cell_type": "code",
   "execution_count": 28,
   "id": "8f21720f",
   "metadata": {},
   "outputs": [
    {
     "data": {
      "text/plain": [
       "4"
      ]
     },
     "execution_count": 28,
     "metadata": {},
     "output_type": "execute_result"
    }
   ],
   "source": [
    "L[3][3]"
   ]
  },
  {
   "cell_type": "code",
   "execution_count": 29,
   "id": "d299ee40",
   "metadata": {},
   "outputs": [
    {
     "data": {
      "text/plain": [
       "(5, 6, 7, 8)"
      ]
     },
     "execution_count": 29,
     "metadata": {},
     "output_type": "execute_result"
    }
   ],
   "source": [
    "L[4]"
   ]
  },
  {
   "cell_type": "code",
   "execution_count": 32,
   "id": "d7633cb0",
   "metadata": {},
   "outputs": [
    {
     "data": {
      "text/plain": [
       "7"
      ]
     },
     "execution_count": 32,
     "metadata": {},
     "output_type": "execute_result"
    }
   ],
   "source": [
    "L[4][2]"
   ]
  },
  {
   "cell_type": "code",
   "execution_count": 33,
   "id": "29fbca34",
   "metadata": {},
   "outputs": [
    {
     "data": {
      "text/plain": [
       "2"
      ]
     },
     "execution_count": 33,
     "metadata": {},
     "output_type": "execute_result"
    }
   ],
   "source": [
    "L.index(\"파이썬\")"
   ]
  },
  {
   "cell_type": "markdown",
   "id": "1ad3e035",
   "metadata": {},
   "source": [
    "## 슬라이싱: 인덱스의 범위 지정해서 여러개의 자료를 가져오는 것\n",
    "* 변수명[시작인덱스:끝 인덱스+1:step]"
   ]
  },
  {
   "cell_type": "code",
   "execution_count": 36,
   "id": "c1b17d38",
   "metadata": {},
   "outputs": [
    {
     "data": {
      "text/plain": [
       "[1, 3.14]"
      ]
     },
     "execution_count": 36,
     "metadata": {},
     "output_type": "execute_result"
    }
   ],
   "source": [
    "L[0:2]"
   ]
  },
  {
   "cell_type": "code",
   "execution_count": 38,
   "id": "b2073a3e",
   "metadata": {},
   "outputs": [
    {
     "data": {
      "text/plain": [
       "[(5, 6, 7, 8), [1, 2, 3, 4], '파이썬', 3.14, 1]"
      ]
     },
     "execution_count": 38,
     "metadata": {},
     "output_type": "execute_result"
    }
   ],
   "source": [
    "L[::-1]"
   ]
  },
  {
   "cell_type": "markdown",
   "id": "474fbacf",
   "metadata": {},
   "source": [
    "## 튜플 \n",
    "* 리스트처럼 순서가 있는 자료형\n",
    "* 인덱스가 있어서 인덱스로 자료 출력 가능\n",
    "* 인덱스로 슬라이싱도 가능\n",
    "* 자료의 추가, 삭제가 안됨\n"
   ]
  },
  {
   "cell_type": "code",
   "execution_count": 39,
   "id": "d568ad2a",
   "metadata": {},
   "outputs": [
    {
     "data": {
      "text/plain": [
       "(1, 2, '튜플', [3, 4, 5], (5, 6, 7))"
      ]
     },
     "execution_count": 39,
     "metadata": {},
     "output_type": "execute_result"
    }
   ],
   "source": [
    "T=(1, 2, '튜플', [3,4,5],(5,6,7))\n",
    "T"
   ]
  },
  {
   "cell_type": "code",
   "execution_count": 40,
   "id": "a624321c",
   "metadata": {},
   "outputs": [
    {
     "data": {
      "text/plain": [
       "(2, '튜플')"
      ]
     },
     "execution_count": 40,
     "metadata": {},
     "output_type": "execute_result"
    }
   ],
   "source": [
    "T[1:3]"
   ]
  },
  {
   "cell_type": "code",
   "execution_count": 41,
   "id": "5c381601",
   "metadata": {},
   "outputs": [
    {
     "ename": "AttributeError",
     "evalue": "'tuple' object has no attribute 'append'",
     "output_type": "error",
     "traceback": [
      "\u001b[1;31m---------------------------------------------------------------------------\u001b[0m",
      "\u001b[1;31mAttributeError\u001b[0m                            Traceback (most recent call last)",
      "Cell \u001b[1;32mIn[41], line 1\u001b[0m\n\u001b[1;32m----> 1\u001b[0m \u001b[43mT\u001b[49m\u001b[38;5;241;43m.\u001b[39;49m\u001b[43mappend\u001b[49m(\u001b[38;5;124m'\u001b[39m\u001b[38;5;124mhi\u001b[39m\u001b[38;5;124m'\u001b[39m)\n",
      "\u001b[1;31mAttributeError\u001b[0m: 'tuple' object has no attribute 'append'"
     ]
    }
   ],
   "source": [
    "T.append('hi') # 오류발생: 튜플은 자료를 추가 할 수 없다."
   ]
  },
  {
   "cell_type": "markdown",
   "id": "e50b8038",
   "metadata": {},
   "source": [
    "## 딕셔너리형(dict) JSON\n",
    "* {key:value} 형태의 자료형\n",
    "* 순서가 없는 자료형\n",
    "* 반복 불가\n",
    "* key를 호출하면 value가 출력\n",
    "* key에 리스트를 쓰는것은 불가, 튜플은 가능"
   ]
  },
  {
   "cell_type": "code",
   "execution_count": 45,
   "id": "bc195d17",
   "metadata": {},
   "outputs": [],
   "source": [
    "D= {'년월':'202407', '국가':'미국', '방문자수':1000}"
   ]
  },
  {
   "cell_type": "code",
   "execution_count": 47,
   "id": "3e2c75d9",
   "metadata": {},
   "outputs": [],
   "source": [
    "D2= {2:[3,4,5], 3.14:\"원주율\"}"
   ]
  },
  {
   "cell_type": "code",
   "execution_count": 48,
   "id": "4546f3f8",
   "metadata": {},
   "outputs": [
    {
     "data": {
      "text/plain": [
       "'202407'"
      ]
     },
     "execution_count": 48,
     "metadata": {},
     "output_type": "execute_result"
    }
   ],
   "source": [
    "D['년월']"
   ]
  },
  {
   "cell_type": "code",
   "execution_count": 49,
   "id": "acb9cbbf",
   "metadata": {},
   "outputs": [
    {
     "data": {
      "text/plain": [
       "[3, 4, 5]"
      ]
     },
     "execution_count": 49,
     "metadata": {},
     "output_type": "execute_result"
    }
   ],
   "source": [
    "D2[2]"
   ]
  },
  {
   "cell_type": "code",
   "execution_count": null,
   "id": "5d64a013",
   "metadata": {},
   "outputs": [],
   "source": []
  }
 ],
 "metadata": {
  "kernelspec": {
   "display_name": "Python 3 (ipykernel)",
   "language": "python",
   "name": "python3"
  },
  "language_info": {
   "codemirror_mode": {
    "name": "ipython",
    "version": 3
   },
   "file_extension": ".py",
   "mimetype": "text/x-python",
   "name": "python",
   "nbconvert_exporter": "python",
   "pygments_lexer": "ipython3",
   "version": "3.10.14"
  }
 },
 "nbformat": 4,
 "nbformat_minor": 5
}
