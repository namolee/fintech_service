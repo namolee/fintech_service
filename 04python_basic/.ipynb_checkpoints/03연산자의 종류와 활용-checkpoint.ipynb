{
 "cells": [
  {
   "cell_type": "markdown",
   "id": "33a2eb21",
   "metadata": {},
   "source": [
    "# 3. 연산자의 종류와 활용"
   ]
  },
  {
   "cell_type": "markdown",
   "id": "bf6fc0b6",
   "metadata": {},
   "source": [
    "## 1) 연산자의 종류\n",
    "* 산술연산자: +, -, *, /, %, //, **\n",
    "* 할당연산자: =, += ,-= ,*= ,/= ,%=\n",
    "* 비교연산자: ==, != ,> ,< ,>= ,<=\n",
    "* 논리연산자: and, or, not\n",
    "* 식별연산자: is, is not\n",
    "* 멤버연산자: in, not in"
   ]
  },
  {
   "cell_type": "code",
   "execution_count": 1,
   "id": "23e8394c",
   "metadata": {},
   "outputs": [
    {
     "data": {
      "text/plain": [
       "2.0"
      ]
     },
     "execution_count": 1,
     "metadata": {},
     "output_type": "execute_result"
    }
   ],
   "source": [
    "4/2"
   ]
  },
  {
   "cell_type": "code",
   "execution_count": 2,
   "id": "5c478970",
   "metadata": {},
   "outputs": [
    {
     "name": "stdout",
     "output_type": "stream",
     "text": [
      "<class 'int'>\n",
      "<class 'int'>\n",
      "<class 'float'>\n"
     ]
    }
   ],
   "source": [
    "a = 4\n",
    "b = 2\n",
    "c= a / b\n",
    "print(type(a))\n",
    "print(type(b))\n",
    "print(type(c))"
   ]
  },
  {
   "cell_type": "code",
   "execution_count": 3,
   "id": "0f169473",
   "metadata": {},
   "outputs": [
    {
     "data": {
      "text/plain": [
       "0"
      ]
     },
     "execution_count": 3,
     "metadata": {},
     "output_type": "execute_result"
    }
   ],
   "source": [
    "4 % 2"
   ]
  },
  {
   "cell_type": "code",
   "execution_count": 4,
   "id": "723c671c",
   "metadata": {},
   "outputs": [
    {
     "data": {
      "text/plain": [
       "1"
      ]
     },
     "execution_count": 4,
     "metadata": {},
     "output_type": "execute_result"
    }
   ],
   "source": [
    "5 % 2"
   ]
  },
  {
   "cell_type": "code",
   "execution_count": 5,
   "id": "138f5f59",
   "metadata": {},
   "outputs": [
    {
     "data": {
      "text/plain": [
       "3"
      ]
     },
     "execution_count": 5,
     "metadata": {},
     "output_type": "execute_result"
    }
   ],
   "source": [
    "6 // 2"
   ]
  },
  {
   "cell_type": "code",
   "execution_count": 6,
   "id": "c6e001c7",
   "metadata": {},
   "outputs": [
    {
     "data": {
      "text/plain": [
       "2"
      ]
     },
     "execution_count": 6,
     "metadata": {},
     "output_type": "execute_result"
    }
   ],
   "source": [
    "5 // 2 "
   ]
  },
  {
   "cell_type": "code",
   "execution_count": 7,
   "id": "c0bcc78a",
   "metadata": {},
   "outputs": [
    {
     "data": {
      "text/plain": [
       "9"
      ]
     },
     "execution_count": 7,
     "metadata": {},
     "output_type": "execute_result"
    }
   ],
   "source": [
    "3 ** 2"
   ]
  },
  {
   "cell_type": "markdown",
   "id": "20f66585",
   "metadata": {},
   "source": [
    "* 괄호를 사용해서 연산 우선순위 지정하기"
   ]
  },
  {
   "cell_type": "code",
   "execution_count": 8,
   "id": "aee30d7e",
   "metadata": {},
   "outputs": [
    {
     "data": {
      "text/plain": [
       "23"
      ]
     },
     "execution_count": 8,
     "metadata": {},
     "output_type": "execute_result"
    }
   ],
   "source": [
    "3+4*5"
   ]
  },
  {
   "cell_type": "code",
   "execution_count": 10,
   "id": "8dce9586",
   "metadata": {},
   "outputs": [
    {
     "data": {
      "text/plain": [
       "35"
      ]
     },
     "execution_count": 10,
     "metadata": {},
     "output_type": "execute_result"
    }
   ],
   "source": [
    "(3 + 4 ) * 5"
   ]
  },
  {
   "cell_type": "markdown",
   "id": "14c2dac4",
   "metadata": {},
   "source": [
    "* 3의 4제곱에서 100을 뺀 값의 3제곱을 5로 나눈 몫에 1을 더한 값을 구하시오"
   ]
  },
  {
   "cell_type": "code",
   "execution_count": 11,
   "id": "abe0eebc",
   "metadata": {},
   "outputs": [
    {
     "data": {
      "text/plain": [
       "-1371"
      ]
     },
     "execution_count": 11,
     "metadata": {},
     "output_type": "execute_result"
    }
   ],
   "source": [
    "((3**4 - 100)**3)//5 +1"
   ]
  },
  {
   "cell_type": "markdown",
   "id": "7cec8925",
   "metadata": {},
   "source": [
    "* 초를 입력하면 '몇 분 몇 로'로 환산해주는 코드를 다음과 같이 출력하도록 작성하시오"
   ]
  },
  {
   "cell_type": "code",
   "execution_count": 17,
   "id": "18b173f8",
   "metadata": {},
   "outputs": [
    {
     "name": "stdout",
     "output_type": "stream",
     "text": [
      "초를 입력하세요: 1234\n",
      "1234 초(sec)는  20 분(min)  34 초(sec)\n"
     ]
    }
   ],
   "source": [
    "sec = int(input(\"초를 입력하세요: \"))\n",
    "minu=sec//60\n",
    "sec2=sec%60\n",
    "print(sec,\"초(sec)는 \",minu,\"분(min) \",sec2,\"초(sec)\")"
   ]
  },
  {
   "cell_type": "markdown",
   "id": "c8911f88",
   "metadata": {},
   "source": [
    "* 할당연산자"
   ]
  },
  {
   "cell_type": "markdown",
   "id": "bcc0f409",
   "metadata": {},
   "source": [
    "### '=' 오른쪽의 자료를 왼쪽 변수에 할당"
   ]
  },
  {
   "cell_type": "code",
   "execution_count": 23,
   "id": "b7c16bd2",
   "metadata": {},
   "outputs": [
    {
     "data": {
      "text/plain": [
       "2"
      ]
     },
     "execution_count": 23,
     "metadata": {},
     "output_type": "execute_result"
    }
   ],
   "source": [
    "a=2\n",
    "a"
   ]
  },
  {
   "cell_type": "code",
   "execution_count": 24,
   "id": "00cea047",
   "metadata": {},
   "outputs": [
    {
     "data": {
      "text/plain": [
       "4"
      ]
     },
     "execution_count": 24,
     "metadata": {},
     "output_type": "execute_result"
    }
   ],
   "source": [
    "a+=2\n",
    "a"
   ]
  },
  {
   "cell_type": "code",
   "execution_count": 25,
   "id": "dabe7724",
   "metadata": {},
   "outputs": [
    {
     "data": {
      "text/plain": [
       "12"
      ]
     },
     "execution_count": 25,
     "metadata": {},
     "output_type": "execute_result"
    }
   ],
   "source": [
    "a*=3\n",
    "a"
   ]
  },
  {
   "cell_type": "markdown",
   "id": "ba643566",
   "metadata": {},
   "source": [
    "* 비교 연산자"
   ]
  },
  {
   "cell_type": "code",
   "execution_count": 27,
   "id": "1dd5699e",
   "metadata": {},
   "outputs": [],
   "source": [
    "a=3\n",
    "b=3.0\n",
    "c=5\n",
    "d=\"Python\"\n",
    "e=\"python\"\n",
    "f=True\n",
    "g=False"
   ]
  },
  {
   "cell_type": "markdown",
   "id": "526b5ea9",
   "metadata": {},
   "source": [
    "* ==같으면 True, 다르면 False"
   ]
  },
  {
   "cell_type": "code",
   "execution_count": 28,
   "id": "e55c2c2d",
   "metadata": {},
   "outputs": [
    {
     "data": {
      "text/plain": [
       "True"
      ]
     },
     "execution_count": 28,
     "metadata": {},
     "output_type": "execute_result"
    }
   ],
   "source": [
    "a==b"
   ]
  },
  {
   "cell_type": "code",
   "execution_count": 29,
   "id": "7710a188",
   "metadata": {},
   "outputs": [
    {
     "data": {
      "text/plain": [
       "False"
      ]
     },
     "execution_count": 29,
     "metadata": {},
     "output_type": "execute_result"
    }
   ],
   "source": [
    "a==c"
   ]
  },
  {
   "cell_type": "code",
   "execution_count": 30,
   "id": "9d27cfca",
   "metadata": {},
   "outputs": [
    {
     "data": {
      "text/plain": [
       "False"
      ]
     },
     "execution_count": 30,
     "metadata": {},
     "output_type": "execute_result"
    }
   ],
   "source": [
    "d==e"
   ]
  },
  {
   "cell_type": "code",
   "execution_count": 31,
   "id": "750a70a8",
   "metadata": {},
   "outputs": [
    {
     "data": {
      "text/plain": [
       "False"
      ]
     },
     "execution_count": 31,
     "metadata": {},
     "output_type": "execute_result"
    }
   ],
   "source": [
    "f==e"
   ]
  },
  {
   "cell_type": "code",
   "execution_count": 32,
   "id": "68b37861",
   "metadata": {},
   "outputs": [
    {
     "data": {
      "text/plain": [
       "True"
      ]
     },
     "execution_count": 32,
     "metadata": {},
     "output_type": "execute_result"
    }
   ],
   "source": [
    "a!=c"
   ]
  },
  {
   "cell_type": "markdown",
   "id": "eefb773f",
   "metadata": {},
   "source": [
    "* 논리연산자"
   ]
  },
  {
   "cell_type": "markdown",
   "id": "3b25725d",
   "metadata": {},
   "source": [
    "and는 두 값 모두가 참이어야 참"
   ]
  },
  {
   "cell_type": "code",
   "execution_count": 33,
   "id": "6118b6ce",
   "metadata": {},
   "outputs": [
    {
     "data": {
      "text/plain": [
       "True"
      ]
     },
     "execution_count": 33,
     "metadata": {},
     "output_type": "execute_result"
    }
   ],
   "source": [
    "True and True"
   ]
  },
  {
   "cell_type": "code",
   "execution_count": 34,
   "id": "967baa66",
   "metadata": {},
   "outputs": [
    {
     "data": {
      "text/plain": [
       "False"
      ]
     },
     "execution_count": 34,
     "metadata": {},
     "output_type": "execute_result"
    }
   ],
   "source": [
    "True and False"
   ]
  },
  {
   "cell_type": "code",
   "execution_count": 35,
   "id": "356f7480",
   "metadata": {},
   "outputs": [
    {
     "data": {
      "text/plain": [
       "False"
      ]
     },
     "execution_count": 35,
     "metadata": {},
     "output_type": "execute_result"
    }
   ],
   "source": [
    "False and False"
   ]
  },
  {
   "cell_type": "markdown",
   "id": "4e4a2047",
   "metadata": {},
   "source": [
    "or 두 값 중 하나라도 참이면 참"
   ]
  },
  {
   "cell_type": "code",
   "execution_count": 36,
   "id": "3a5bc943",
   "metadata": {},
   "outputs": [
    {
     "data": {
      "text/plain": [
       "True"
      ]
     },
     "execution_count": 36,
     "metadata": {},
     "output_type": "execute_result"
    }
   ],
   "source": [
    "True or True"
   ]
  },
  {
   "cell_type": "code",
   "execution_count": 37,
   "id": "5505821e",
   "metadata": {},
   "outputs": [
    {
     "data": {
      "text/plain": [
       "True"
      ]
     },
     "execution_count": 37,
     "metadata": {},
     "output_type": "execute_result"
    }
   ],
   "source": [
    "True or False"
   ]
  },
  {
   "cell_type": "code",
   "execution_count": 38,
   "id": "9fa5d62d",
   "metadata": {},
   "outputs": [
    {
     "data": {
      "text/plain": [
       "False"
      ]
     },
     "execution_count": 38,
     "metadata": {},
     "output_type": "execute_result"
    }
   ],
   "source": [
    "False or False"
   ]
  },
  {
   "cell_type": "markdown",
   "id": "fb1a4667",
   "metadata": {},
   "source": [
    "not 값을 반대로 뒤집음. True를 False로, False를 True로"
   ]
  },
  {
   "cell_type": "code",
   "execution_count": 39,
   "id": "0260d418",
   "metadata": {},
   "outputs": [
    {
     "data": {
      "text/plain": [
       "False"
      ]
     },
     "execution_count": 39,
     "metadata": {},
     "output_type": "execute_result"
    }
   ],
   "source": [
    "not True"
   ]
  },
  {
   "cell_type": "code",
   "execution_count": 40,
   "id": "4dcde0c7",
   "metadata": {},
   "outputs": [
    {
     "data": {
      "text/plain": [
       "True"
      ]
     },
     "execution_count": 40,
     "metadata": {},
     "output_type": "execute_result"
    }
   ],
   "source": [
    "not False"
   ]
  },
  {
   "cell_type": "markdown",
   "id": "6e7d1145",
   "metadata": {},
   "source": [
    "and, or, not 논리연산자가 식 하난에 들어있으면 <br>\n",
    "not, and, or 순으로 판단"
   ]
  },
  {
   "cell_type": "code",
   "execution_count": 41,
   "id": "86fb6569",
   "metadata": {},
   "outputs": [
    {
     "data": {
      "text/plain": [
       "True"
      ]
     },
     "execution_count": 41,
     "metadata": {},
     "output_type": "execute_result"
    }
   ],
   "source": [
    "not True and False or not False"
   ]
  },
  {
   "cell_type": "markdown",
   "id": "afbc60a5",
   "metadata": {},
   "source": [
    "식별연산자: is, is not 객체가 같은지 비교 <br>\n",
    "a is b: a객체와 b객체가 같은지 비교    같으면 True, 다르면 False"
   ]
  },
  {
   "cell_type": "code",
   "execution_count": 42,
   "id": "7b7996dd",
   "metadata": {
    "scrolled": true
   },
   "outputs": [
    {
     "name": "stdout",
     "output_type": "stream",
     "text": [
      "3\n",
      "3.0\n",
      "5\n"
     ]
    }
   ],
   "source": [
    "print(a)\n",
    "print(b)\n",
    "print(c)"
   ]
  },
  {
   "cell_type": "code",
   "execution_count": 45,
   "id": "abfddfb0",
   "metadata": {},
   "outputs": [
    {
     "data": {
      "text/plain": [
       "True"
      ]
     },
     "execution_count": 45,
     "metadata": {},
     "output_type": "execute_result"
    }
   ],
   "source": [
    "a==b"
   ]
  },
  {
   "cell_type": "code",
   "execution_count": 43,
   "id": "2ac0bebc",
   "metadata": {},
   "outputs": [
    {
     "data": {
      "text/plain": [
       "False"
      ]
     },
     "execution_count": 43,
     "metadata": {},
     "output_type": "execute_result"
    }
   ],
   "source": [
    "a is b"
   ]
  },
  {
   "cell_type": "code",
   "execution_count": 44,
   "id": "b25a3abb",
   "metadata": {},
   "outputs": [
    {
     "data": {
      "text/plain": [
       "True"
      ]
     },
     "execution_count": 44,
     "metadata": {},
     "output_type": "execute_result"
    }
   ],
   "source": [
    "a is not b"
   ]
  },
  {
   "cell_type": "code",
   "execution_count": 48,
   "id": "bce47f87",
   "metadata": {},
   "outputs": [
    {
     "name": "stdout",
     "output_type": "stream",
     "text": [
      "True\n",
      "False\n"
     ]
    }
   ],
   "source": [
    "print(a == b) # a는 정수 3, b는 실수 3.0이라 값이 같음\n",
    "print(a is b) # a는 정수3, b는 실수 3.0이라 값은 같지만 데이터 타입이 달라서 False"
   ]
  },
  {
   "cell_type": "markdown",
   "id": "17914a74",
   "metadata": {},
   "source": [
    "멤버 연산자: in, not in\n",
    "리스트, 튜플 같은 객체 내에 해당 값이 있으면 True, 없으면 False"
   ]
  },
  {
   "cell_type": "code",
   "execution_count": 50,
   "id": "83c3ef72",
   "metadata": {},
   "outputs": [],
   "source": [
    "member=[1,2,3,4,5]"
   ]
  },
  {
   "cell_type": "code",
   "execution_count": 51,
   "id": "cbd019d6",
   "metadata": {},
   "outputs": [
    {
     "data": {
      "text/plain": [
       "True"
      ]
     },
     "execution_count": 51,
     "metadata": {},
     "output_type": "execute_result"
    }
   ],
   "source": [
    "3 in member"
   ]
  },
  {
   "cell_type": "code",
   "execution_count": 52,
   "id": "42aeb489",
   "metadata": {},
   "outputs": [
    {
     "data": {
      "text/plain": [
       "False"
      ]
     },
     "execution_count": 52,
     "metadata": {},
     "output_type": "execute_result"
    }
   ],
   "source": [
    "3 not in member"
   ]
  },
  {
   "cell_type": "code",
   "execution_count": 53,
   "id": "00edfb06",
   "metadata": {},
   "outputs": [
    {
     "data": {
      "text/plain": [
       "True"
      ]
     },
     "execution_count": 53,
     "metadata": {},
     "output_type": "execute_result"
    }
   ],
   "source": [
    "6 not in member"
   ]
  },
  {
   "cell_type": "code",
   "execution_count": null,
   "id": "6e9d0a73",
   "metadata": {},
   "outputs": [],
   "source": []
  }
 ],
 "metadata": {
  "kernelspec": {
   "display_name": "Python 3 (ipykernel)",
   "language": "python",
   "name": "python3"
  },
  "language_info": {
   "codemirror_mode": {
    "name": "ipython",
    "version": 3
   },
   "file_extension": ".py",
   "mimetype": "text/x-python",
   "name": "python",
   "nbconvert_exporter": "python",
   "pygments_lexer": "ipython3",
   "version": "3.10.14"
  }
 },
 "nbformat": 4,
 "nbformat_minor": 5
}
