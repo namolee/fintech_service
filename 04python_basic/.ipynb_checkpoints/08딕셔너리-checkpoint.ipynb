{
 "cells": [
  {
   "cell_type": "markdown",
   "id": "e6bee352",
   "metadata": {},
   "source": [
    "# 딕셔너리 dict 사용하기\n",
    "* 딕셔너리형(dictionary) 변수. JSON이라고도 함.\n",
    "* 웹상에서 가장 많이 사용되는 자료형\n",
    "* 딕셔너리를 잘 이해하면 pandas 도 쉽게 이해 가능\n",
    "* key : value 로 이루어진 자료형\n",
    "* key를 호출하면 value가 나온다."
   ]
  },
  {
   "cell_type": "markdown",
   "id": "14551239",
   "metadata": {},
   "source": [
    "## 딕셔너리 만들기: {key : value, key2 : value2}"
   ]
  },
  {
   "cell_type": "code",
   "execution_count": 1,
   "id": "cbbc2f6a",
   "metadata": {},
   "outputs": [
    {
     "data": {
      "text/plain": [
       "{'년월': '20240710', '국가': '미국', '방문자수': 1000}"
      ]
     },
     "execution_count": 1,
     "metadata": {},
     "output_type": "execute_result"
    }
   ],
   "source": [
    "d={'년월':'20240710', '국가' : '미국', '방문자수' : 1000}\n",
    "d"
   ]
  },
  {
   "cell_type": "code",
   "execution_count": 2,
   "id": "91ec74e6",
   "metadata": {},
   "outputs": [
    {
     "data": {
      "text/plain": [
       "'20240710'"
      ]
     },
     "execution_count": 2,
     "metadata": {},
     "output_type": "execute_result"
    }
   ],
   "source": [
    "d['년월']"
   ]
  },
  {
   "cell_type": "code",
   "execution_count": 3,
   "id": "2f4d381d",
   "metadata": {},
   "outputs": [
    {
     "data": {
      "text/plain": [
       "1000"
      ]
     },
     "execution_count": 3,
     "metadata": {},
     "output_type": "execute_result"
    }
   ],
   "source": [
    "d['방문자수']"
   ]
  },
  {
   "cell_type": "markdown",
   "id": "28ac3269",
   "metadata": {},
   "source": [
    "## 딕셔너리 key의 자료형\n",
    "* 문자열, 정수, 실수, 불린(True,False), tuple\n",
    "* list, dict 는 key가 될 수 없다."
   ]
  },
  {
   "cell_type": "code",
   "execution_count": 6,
   "id": "05b772ae",
   "metadata": {},
   "outputs": [
    {
     "data": {
      "text/plain": [
       "{'백': 100, 100: '백', 3.5: [3.6, 3.7], False: 0, (0, '서울'): '종로구'}"
      ]
     },
     "execution_count": 6,
     "metadata": {},
     "output_type": "execute_result"
    }
   ],
   "source": [
    "e={'백':100, 100: '백', 3.5:[3.6,3.7], False:0, (0,'서울'):\"종로구\"}\n",
    "e\n"
   ]
  },
  {
   "cell_type": "code",
   "execution_count": 7,
   "id": "dc457199",
   "metadata": {},
   "outputs": [
    {
     "data": {
      "text/plain": [
       "100"
      ]
     },
     "execution_count": 7,
     "metadata": {},
     "output_type": "execute_result"
    }
   ],
   "source": [
    "e['백']"
   ]
  },
  {
   "cell_type": "code",
   "execution_count": 8,
   "id": "81b18a9b",
   "metadata": {},
   "outputs": [
    {
     "data": {
      "text/plain": [
       "'백'"
      ]
     },
     "execution_count": 8,
     "metadata": {},
     "output_type": "execute_result"
    }
   ],
   "source": [
    "e[100]"
   ]
  },
  {
   "cell_type": "code",
   "execution_count": 9,
   "id": "94222fdd",
   "metadata": {},
   "outputs": [
    {
     "data": {
      "text/plain": [
       "'종로구'"
      ]
     },
     "execution_count": 9,
     "metadata": {},
     "output_type": "execute_result"
    }
   ],
   "source": [
    "e[(0,'서울')]"
   ]
  },
  {
   "cell_type": "markdown",
   "id": "c7f34cee",
   "metadata": {},
   "source": [
    "## 딕셔너리 value의 자료형\n",
    "* value는 모든 자료형이 올 수 있다."
   ]
  },
  {
   "cell_type": "code",
   "execution_count": 10,
   "id": "4b7d439a",
   "metadata": {},
   "outputs": [
    {
     "data": {
      "text/plain": [
       "{'정수': 100,\n",
       " '실수': 13.5,\n",
       " '문자열': '딕셔너리의 값',\n",
       " '리스트': [1, 2, 3, 4],\n",
       " '튜플': (1, 2, 3, 4),\n",
       " '딕셔너리': {'key': 'value'},\n",
       " '불린': True}"
      ]
     },
     "execution_count": 10,
     "metadata": {},
     "output_type": "execute_result"
    }
   ],
   "source": [
    "f={'정수':100, '실수':13.5, '문자열':'딕셔너리의 값', '리스트':[1,2,3,4], '튜플':(1,2,3,4), '딕셔너리':{'key':'value'},'불린':True}\n",
    "f"
   ]
  },
  {
   "cell_type": "code",
   "execution_count": 12,
   "id": "aa0eb875",
   "metadata": {},
   "outputs": [
    {
     "data": {
      "text/plain": [
       "3"
      ]
     },
     "execution_count": 12,
     "metadata": {},
     "output_type": "execute_result"
    }
   ],
   "source": [
    "f['리스트'][2]"
   ]
  },
  {
   "cell_type": "markdown",
   "id": "2faf30f1",
   "metadata": {},
   "source": [
    "## 빈 딕셔너리 만들기\n",
    "* {}\n",
    "* dict()\n",
    " "
   ]
  },
  {
   "cell_type": "code",
   "execution_count": 13,
   "id": "97f7e384",
   "metadata": {},
   "outputs": [
    {
     "data": {
      "text/plain": [
       "{}"
      ]
     },
     "execution_count": 13,
     "metadata": {},
     "output_type": "execute_result"
    }
   ],
   "source": [
    "g={}\n",
    "g"
   ]
  },
  {
   "cell_type": "code",
   "execution_count": 14,
   "id": "6b413f4b",
   "metadata": {},
   "outputs": [
    {
     "data": {
      "text/plain": [
       "{}"
      ]
     },
     "execution_count": 14,
     "metadata": {},
     "output_type": "execute_result"
    }
   ],
   "source": [
    "h=dict()\n",
    "h"
   ]
  },
  {
   "cell_type": "markdown",
   "id": "528446f8",
   "metadata": {},
   "source": [
    "## 딕셔너리에 자료 추가하기\n",
    "* 변수['key']=value"
   ]
  },
  {
   "cell_type": "code",
   "execution_count": 15,
   "id": "62d6a931",
   "metadata": {},
   "outputs": [
    {
     "data": {
      "text/plain": [
       "{'번호': 0}"
      ]
     },
     "execution_count": 15,
     "metadata": {},
     "output_type": "execute_result"
    }
   ],
   "source": [
    "g['번호']=0\n",
    "g"
   ]
  },
  {
   "cell_type": "code",
   "execution_count": 16,
   "id": "f21a2a0c",
   "metadata": {},
   "outputs": [
    {
     "data": {
      "text/plain": [
       "{'번호': 0, '이름': '홍길동'}"
      ]
     },
     "execution_count": 16,
     "metadata": {},
     "output_type": "execute_result"
    }
   ],
   "source": [
    "g['이름']='홍길동'\n",
    "g"
   ]
  },
  {
   "cell_type": "markdown",
   "id": "bfbf8e82",
   "metadata": {},
   "source": [
    "##  딕셔너리의 value 수정하기\n",
    "* g['key']=new value"
   ]
  },
  {
   "cell_type": "code",
   "execution_count": 17,
   "id": "317a89a0",
   "metadata": {},
   "outputs": [
    {
     "data": {
      "text/plain": [
       "{'번호': 2, '이름': '홍길동'}"
      ]
     },
     "execution_count": 17,
     "metadata": {},
     "output_type": "execute_result"
    }
   ],
   "source": [
    "g['번호']=2\n",
    "g"
   ]
  },
  {
   "cell_type": "code",
   "execution_count": 18,
   "id": "135d23ba",
   "metadata": {},
   "outputs": [
    {
     "data": {
      "text/plain": [
       "{'번호': 2, '이름': '김삼순'}"
      ]
     },
     "execution_count": 18,
     "metadata": {},
     "output_type": "execute_result"
    }
   ],
   "source": [
    "g['이름']='김삼순'\n",
    "g"
   ]
  },
  {
   "cell_type": "markdown",
   "id": "ffbfa7a1",
   "metadata": {},
   "source": [
    "## dict()로 딕셔너리 만들기"
   ]
  },
  {
   "cell_type": "markdown",
   "id": "04f45a2c",
   "metadata": {},
   "source": [
    "### 1) dict(key1 = value1, key2='value2')\n",
    "* key에 '',\"\"를 사요하지 않는다.\n",
    "* key는 모두 문자로 변환한다.\n",
    "* value가 문자형 자료라면 반드시 \"\",''가 필요하다."
   ]
  },
  {
   "cell_type": "code",
   "execution_count": 19,
   "id": "6d0a551a",
   "metadata": {},
   "outputs": [
    {
     "data": {
      "text/plain": [
       "{'정수': 100,\n",
       " '실수': 13.5,\n",
       " '문자': '문자열',\n",
       " '리스트': [1, 2, 3],\n",
       " '튜플': (1, 2, 3),\n",
       " '딕셔너리': {'key': 'value'}}"
      ]
     },
     "execution_count": 19,
     "metadata": {},
     "output_type": "execute_result"
    }
   ],
   "source": [
    "d=dict(정수=100, 실수=13.5, 문자='문자열', 리스트 =[1,2,3], 튜플=(1,2,3), 딕셔너리 = {'key':'value'})\n",
    "d"
   ]
  },
  {
   "cell_type": "markdown",
   "id": "80172a7f",
   "metadata": {},
   "source": [
    "### 2) dict([(key1,value1),(key2,value2)]) 형식으로 만들기\n",
    "* 리스트 안에 튜플을 나열해 만든다."
   ]
  },
  {
   "cell_type": "code",
   "execution_count": 21,
   "id": "e8d5f842",
   "metadata": {},
   "outputs": [
    {
     "data": {
      "text/plain": [
       "{'key1': 100, '실수': 3.14, '리스트': [1, 2, 3]}"
      ]
     },
     "execution_count": 21,
     "metadata": {},
     "output_type": "execute_result"
    }
   ],
   "source": [
    "d2=dict([('key1',100),('실수',3.14),('리스트',[1,2,3])])\n",
    "d2"
   ]
  },
  {
   "cell_type": "markdown",
   "id": "6a76a443",
   "metadata": {},
   "source": [
    "### 3) dict(zip([key1,key2],[value1,value2])) 형식으로 만들기\n",
    "* key 묶음 리스트와 value 묶음 리스트를 zip함수로 합친 후 dict로 만든다\n",
    "* key 묶음과 value 묶음은 요소의 개수가 같아야 한다."
   ]
  },
  {
   "cell_type": "code",
   "execution_count": 22,
   "id": "d021211c",
   "metadata": {},
   "outputs": [
    {
     "data": {
      "text/plain": [
       "{'문자열': '딕셔너리의 값',\n",
       " '리스트': [1, 2, 3, 4],\n",
       " '튜플': (5, 6, 7, 8),\n",
       " '딕셔너리': {'key': 'value'},\n",
       " '블린': True}"
      ]
     },
     "execution_count": 22,
     "metadata": {},
     "output_type": "execute_result"
    }
   ],
   "source": [
    "d3 = dict(zip(['문자열','리스트','튜플','딕셔너리','블린'],['딕셔너리의 값',[1,2,3,4],(5,6,7,8),{'key':'value'},True]))\n",
    "d3"
   ]
  },
  {
   "cell_type": "markdown",
   "id": "1316945f",
   "metadata": {},
   "source": [
    "### 딕셔너리에서 값 삭제하기\n"
   ]
  },
  {
   "cell_type": "code",
   "execution_count": 23,
   "id": "7f21b6eb",
   "metadata": {},
   "outputs": [
    {
     "data": {
      "text/plain": [
       "{'문자열': '딕셔너리의 값',\n",
       " '리스트': [1, 2, 3, 4],\n",
       " '튜플': (5, 6, 7, 8),\n",
       " '딕셔너리': {'key': 'value'},\n",
       " '블린': True}"
      ]
     },
     "execution_count": 23,
     "metadata": {},
     "output_type": "execute_result"
    }
   ],
   "source": [
    "d3"
   ]
  },
  {
   "cell_type": "code",
   "execution_count": 25,
   "id": "0b02fa63",
   "metadata": {},
   "outputs": [],
   "source": [
    "d3['믄자열']='오타가 난 키값'"
   ]
  },
  {
   "cell_type": "code",
   "execution_count": 26,
   "id": "8a11e1f2",
   "metadata": {},
   "outputs": [
    {
     "data": {
      "text/plain": [
       "{'문자열': '오타가 난 키값',\n",
       " '리스트': [1, 2, 3, 4],\n",
       " '튜플': (5, 6, 7, 8),\n",
       " '딕셔너리': {'key': 'value'},\n",
       " '블린': True,\n",
       " '믄자열': '오타가 난 키값'}"
      ]
     },
     "execution_count": 26,
     "metadata": {},
     "output_type": "execute_result"
    }
   ],
   "source": [
    "d3"
   ]
  },
  {
   "cell_type": "markdown",
   "id": "d06af29c",
   "metadata": {},
   "source": [
    "### del 변수명['key'] key와 value가 동시 삭제"
   ]
  },
  {
   "cell_type": "code",
   "execution_count": 27,
   "id": "046eee5b",
   "metadata": {},
   "outputs": [],
   "source": [
    "del d3['믄자열']"
   ]
  },
  {
   "cell_type": "code",
   "execution_count": 30,
   "id": "82857450",
   "metadata": {},
   "outputs": [
    {
     "data": {
      "text/plain": [
       "{'문자열': '딕셔너리의 값',\n",
       " '리스트': [1, 2, 3, 4],\n",
       " '튜플': (5, 6, 7, 8),\n",
       " '딕셔너리': {'key': 'value'},\n",
       " '블린': True}"
      ]
     },
     "execution_count": 30,
     "metadata": {},
     "output_type": "execute_result"
    }
   ],
   "source": [
    "d3"
   ]
  },
  {
   "cell_type": "markdown",
   "id": "3eb00981",
   "metadata": {},
   "source": [
    "### 딕셔너리 안에 특정 key가 있는지 확인하기\n",
    "* in, not in 연산자 사용"
   ]
  },
  {
   "cell_type": "code",
   "execution_count": 31,
   "id": "8d16d7b8",
   "metadata": {},
   "outputs": [
    {
     "data": {
      "text/plain": [
       "True"
      ]
     },
     "execution_count": 31,
     "metadata": {},
     "output_type": "execute_result"
    }
   ],
   "source": [
    "'리스트' in d3\n"
   ]
  },
  {
   "cell_type": "markdown",
   "id": "ad83858f",
   "metadata": {},
   "source": [
    "### len()로 딕셔너리 key 개수 구하기"
   ]
  },
  {
   "cell_type": "code",
   "execution_count": 32,
   "id": "65f6f664",
   "metadata": {},
   "outputs": [
    {
     "data": {
      "text/plain": [
       "5"
      ]
     },
     "execution_count": 32,
     "metadata": {},
     "output_type": "execute_result"
    }
   ],
   "source": [
    "len(d3)"
   ]
  },
  {
   "cell_type": "markdown",
   "id": "1010ac36",
   "metadata": {},
   "source": [
    "## 딕셔너리 함수 사용하기"
   ]
  },
  {
   "cell_type": "markdown",
   "id": "09576723",
   "metadata": {},
   "source": [
    "### 1) setdefault(key,value)\n",
    "* 딕셔너리에 key와 value를 추가\n",
    "* key만 지정하면 value는 'None'으로 입력 됨"
   ]
  },
  {
   "cell_type": "code",
   "execution_count": 33,
   "id": "88e7ea27",
   "metadata": {},
   "outputs": [
    {
     "data": {
      "text/plain": [
       "{'문자열': '딕셔너리의 값',\n",
       " '리스트': [1, 2, 3, 4],\n",
       " '튜플': (5, 6, 7, 8),\n",
       " '딕셔너리': {'key': 'value'},\n",
       " '블린': True}"
      ]
     },
     "execution_count": 33,
     "metadata": {},
     "output_type": "execute_result"
    }
   ],
   "source": [
    "d3"
   ]
  },
  {
   "cell_type": "code",
   "execution_count": 34,
   "id": "24a9bdf1",
   "metadata": {},
   "outputs": [
    {
     "data": {
      "text/plain": [
       "{'문자열': '딕셔너리의 값',\n",
       " '리스트': [1, 2, 3, 4],\n",
       " '튜플': (5, 6, 7, 8),\n",
       " '딕셔너리': {'key': 'value'},\n",
       " '블린': True,\n",
       " 'd': None}"
      ]
     },
     "execution_count": 34,
     "metadata": {},
     "output_type": "execute_result"
    }
   ],
   "source": [
    "d3.setdefault('d')\n",
    "d3"
   ]
  },
  {
   "cell_type": "code",
   "execution_count": 35,
   "id": "3b743914",
   "metadata": {},
   "outputs": [
    {
     "data": {
      "text/plain": [
       "123"
      ]
     },
     "execution_count": 35,
     "metadata": {},
     "output_type": "execute_result"
    }
   ],
   "source": [
    "d3.setdefault('e',123)"
   ]
  },
  {
   "cell_type": "code",
   "execution_count": 36,
   "id": "5df9397a",
   "metadata": {},
   "outputs": [
    {
     "data": {
      "text/plain": [
       "{'문자열': '딕셔너리의 값',\n",
       " '리스트': [1, 2, 3, 4],\n",
       " '튜플': (5, 6, 7, 8),\n",
       " '딕셔너리': {'key': 'value'},\n",
       " '블린': True,\n",
       " 'd': None,\n",
       " 'e': 123}"
      ]
     },
     "execution_count": 36,
     "metadata": {},
     "output_type": "execute_result"
    }
   ],
   "source": [
    "d3"
   ]
  },
  {
   "cell_type": "markdown",
   "id": "d2c173d5",
   "metadata": {},
   "source": [
    "* 딕셔너리는 key를 중복할 수 없다.\n",
    "* 만약 key가 중복되면 나중에 할당한 값으로 변한다."
   ]
  },
  {
   "cell_type": "code",
   "execution_count": 37,
   "id": "9c9c10f9",
   "metadata": {},
   "outputs": [],
   "source": [
    "d4={'문자열': '딕셔너리의 값',\n",
    " '리스트': [1, 2, 3, 4],\n",
    " '튜플': (5, 6, 7, 8),\n",
    " '딕셔너리': {'key': 'value'},\n",
    " '블린': True,\n",
    " 'd': None,\n",
    " 'e': 123,'리스트':'리스트지'}"
   ]
  },
  {
   "cell_type": "code",
   "execution_count": 38,
   "id": "eec888aa",
   "metadata": {},
   "outputs": [
    {
     "data": {
      "text/plain": [
       "{'문자열': '딕셔너리의 값',\n",
       " '리스트': '리스트지',\n",
       " '튜플': (5, 6, 7, 8),\n",
       " '딕셔너리': {'key': 'value'},\n",
       " '블린': True,\n",
       " 'd': None,\n",
       " 'e': 123}"
      ]
     },
     "execution_count": 38,
     "metadata": {},
     "output_type": "execute_result"
    }
   ],
   "source": [
    "d4"
   ]
  },
  {
   "cell_type": "code",
   "execution_count": 39,
   "id": "e21feeb4",
   "metadata": {},
   "outputs": [],
   "source": [
    "d4['리스트']='새로운 값'"
   ]
  },
  {
   "cell_type": "code",
   "execution_count": 40,
   "id": "d63a8008",
   "metadata": {},
   "outputs": [
    {
     "data": {
      "text/plain": [
       "{'문자열': '딕셔너리의 값',\n",
       " '리스트': '새로운 값',\n",
       " '튜플': (5, 6, 7, 8),\n",
       " '딕셔너리': {'key': 'value'},\n",
       " '블린': True,\n",
       " 'd': None,\n",
       " 'e': 123}"
      ]
     },
     "execution_count": 40,
     "metadata": {},
     "output_type": "execute_result"
    }
   ],
   "source": [
    "d4"
   ]
  },
  {
   "cell_type": "markdown",
   "id": "1b34e9cf",
   "metadata": {},
   "source": [
    "* setdefault는 기존에 key가 있는 경우 value를 업데이트 하지 않음\n"
   ]
  },
  {
   "cell_type": "code",
   "execution_count": 41,
   "id": "3fe92ea8",
   "metadata": {},
   "outputs": [
    {
     "data": {
      "text/plain": [
       "{'문자열': '딕셔너리의 값',\n",
       " '리스트': '새로운 값',\n",
       " '튜플': (5, 6, 7, 8),\n",
       " '딕셔너리': {'key': 'value'},\n",
       " '블린': True,\n",
       " 'd': None,\n",
       " 'e': 123}"
      ]
     },
     "execution_count": 41,
     "metadata": {},
     "output_type": "execute_result"
    }
   ],
   "source": [
    "d4.setdefault('e','213213213')\n",
    "d4"
   ]
  },
  {
   "cell_type": "markdown",
   "id": "df0304fc",
   "metadata": {},
   "source": [
    "## 2) update(key=value)\n",
    "* key는 문자형 key라도 '',\"\"를 사용하지 않음\n",
    "* key를 문자형이 아니라 정수, 실수, 튜플로 넣을 경우에는 {key:value}형식으로 넣는다."
   ]
  },
  {
   "cell_type": "code",
   "execution_count": 44,
   "id": "f423f5ab",
   "metadata": {},
   "outputs": [
    {
     "data": {
      "text/plain": [
       "{'문자열': '딕셔너리의 값',\n",
       " '리스트': '새로운 값',\n",
       " '튜플': (5, 6, 7, 8),\n",
       " '딕셔너리': {'key': 'value'},\n",
       " '블린': True,\n",
       " 'd': None,\n",
       " 'e': 'eee',\n",
       " 13: '삼성'}"
      ]
     },
     "execution_count": 44,
     "metadata": {},
     "output_type": "execute_result"
    }
   ],
   "source": [
    "d4.update(e='eee')\n",
    "d4"
   ]
  },
  {
   "cell_type": "code",
   "execution_count": 45,
   "id": "8da7db80",
   "metadata": {},
   "outputs": [
    {
     "data": {
      "text/plain": [
       "{'문자열': '딕셔너리의 값',\n",
       " '리스트': '새로운 값',\n",
       " '튜플': (5, 6, 7, 8),\n",
       " '딕셔너리': {'key': 'value'},\n",
       " '블린': True,\n",
       " 'd': None,\n",
       " 'e': 'eee',\n",
       " 13: '삼성',\n",
       " 'a': '십',\n",
       " 'b': '이십',\n",
       " 'c': '삼심'}"
      ]
     },
     "execution_count": 45,
     "metadata": {},
     "output_type": "execute_result"
    }
   ],
   "source": [
    "d4.update([['a','십'],['b','이십'],['c','삼심']])\n",
    "d4"
   ]
  },
  {
   "cell_type": "code",
   "execution_count": 46,
   "id": "9d49672d",
   "metadata": {},
   "outputs": [
    {
     "data": {
      "text/plain": [
       "{'문자열': '딕셔너리의 값',\n",
       " '리스트': '새로운 값',\n",
       " '튜플': (5, 6, 7, 8),\n",
       " '딕셔너리': {'key': 'value'},\n",
       " '블린': True,\n",
       " 'd': '사십',\n",
       " 'e': '오십',\n",
       " 13: '삼성',\n",
       " 'a': '십',\n",
       " 'b': '이십',\n",
       " 'c': '삼심',\n",
       " 'f': '육십'}"
      ]
     },
     "execution_count": 46,
     "metadata": {},
     "output_type": "execute_result"
    }
   ],
   "source": [
    "d4.update((('d','사십'),('e','오십'),('f','육십')))\n",
    "d4"
   ]
  },
  {
   "cell_type": "code",
   "execution_count": 47,
   "id": "a1dbd86a",
   "metadata": {},
   "outputs": [],
   "source": [
    "d4.update(c='삼십')"
   ]
  },
  {
   "cell_type": "code",
   "execution_count": 48,
   "id": "fd93981b",
   "metadata": {},
   "outputs": [
    {
     "data": {
      "text/plain": [
       "{'문자열': '딕셔너리의 값',\n",
       " '리스트': '새로운 값',\n",
       " '튜플': (5, 6, 7, 8),\n",
       " '딕셔너리': {'key': 'value'},\n",
       " '블린': True,\n",
       " 'd': '사십',\n",
       " 'e': '오십',\n",
       " 13: '삼성',\n",
       " 'a': '십',\n",
       " 'b': '이십',\n",
       " 'c': '삼십',\n",
       " 'f': '육십'}"
      ]
     },
     "execution_count": 48,
     "metadata": {},
     "output_type": "execute_result"
    }
   ],
   "source": [
    "d4"
   ]
  },
  {
   "cell_type": "code",
   "execution_count": 49,
   "id": "1edce86e",
   "metadata": {},
   "outputs": [
    {
     "data": {
      "text/plain": [
       "'삼십'"
      ]
     },
     "execution_count": 49,
     "metadata": {},
     "output_type": "execute_result"
    }
   ],
   "source": [
    "d4.pop('c')"
   ]
  },
  {
   "cell_type": "code",
   "execution_count": 50,
   "id": "67717da6",
   "metadata": {},
   "outputs": [
    {
     "data": {
      "text/plain": [
       "{'문자열': '딕셔너리의 값',\n",
       " '리스트': '새로운 값',\n",
       " '튜플': (5, 6, 7, 8),\n",
       " '딕셔너리': {'key': 'value'},\n",
       " '블린': True,\n",
       " 'd': '사십',\n",
       " 'e': '오십',\n",
       " 13: '삼성',\n",
       " 'a': '십',\n",
       " 'b': '이십',\n",
       " 'f': '육십'}"
      ]
     },
     "execution_count": 50,
     "metadata": {},
     "output_type": "execute_result"
    }
   ],
   "source": [
    "d4"
   ]
  },
  {
   "cell_type": "markdown",
   "id": "710ecbbb",
   "metadata": {},
   "source": [
    "### 딕셔너리에서 value 가져오는 함수 .get()\n",
    "* .get(key,  key가 없을 때 기본 값)"
   ]
  },
  {
   "cell_type": "code",
   "execution_count": 51,
   "id": "3b45f265",
   "metadata": {},
   "outputs": [
    {
     "data": {
      "text/plain": [
       "{'문자열': '딕셔너리의 값',\n",
       " '리스트': '새로운 값',\n",
       " '튜플': (5, 6, 7, 8),\n",
       " '딕셔너리': {'key': 'value'},\n",
       " '블린': True,\n",
       " 'd': '사십',\n",
       " 'e': '오십',\n",
       " 13: '삼성',\n",
       " 'a': '십',\n",
       " 'b': '이십',\n",
       " 'f': '육십'}"
      ]
     },
     "execution_count": 51,
     "metadata": {},
     "output_type": "execute_result"
    }
   ],
   "source": [
    "d4"
   ]
  },
  {
   "cell_type": "code",
   "execution_count": 52,
   "id": "1e3890fe",
   "metadata": {},
   "outputs": [
    {
     "data": {
      "text/plain": [
       "'이십'"
      ]
     },
     "execution_count": 52,
     "metadata": {},
     "output_type": "execute_result"
    }
   ],
   "source": [
    "d4.get('b')"
   ]
  },
  {
   "cell_type": "code",
   "execution_count": 53,
   "id": "08ad8dca",
   "metadata": {},
   "outputs": [
    {
     "data": {
      "text/plain": [
       "'없음'"
      ]
     },
     "execution_count": 53,
     "metadata": {},
     "output_type": "execute_result"
    }
   ],
   "source": [
    "d4.get('g','없음')"
   ]
  },
  {
   "cell_type": "markdown",
   "id": "1267fd46",
   "metadata": {},
   "source": [
    "### 딕셔너리에서 key와 value,key,value를 가져오는 함수\n",
    "* items():dict_items([(key, value),(key, value),(key, value)])\n",
    "* keys(): dict_keys([key1, key2, key3])\n",
    "* values(): dict_values([value1, value2, value3])"
   ]
  },
  {
   "cell_type": "code",
   "execution_count": 54,
   "id": "f3b3eece",
   "metadata": {},
   "outputs": [
    {
     "data": {
      "text/plain": [
       "dict_items([('문자열', '딕셔너리의 값'), ('리스트', '새로운 값'), ('튜플', (5, 6, 7, 8)), ('딕셔너리', {'key': 'value'}), ('블린', True), ('d', '사십'), ('e', '오십'), (13, '삼성'), ('a', '십'), ('b', '이십'), ('f', '육십')])"
      ]
     },
     "execution_count": 54,
     "metadata": {},
     "output_type": "execute_result"
    }
   ],
   "source": [
    "d4.items()"
   ]
  },
  {
   "cell_type": "code",
   "execution_count": 55,
   "id": "97430a64",
   "metadata": {},
   "outputs": [
    {
     "data": {
      "text/plain": [
       "dict_keys(['문자열', '리스트', '튜플', '딕셔너리', '블린', 'd', 'e', 13, 'a', 'b', 'f'])"
      ]
     },
     "execution_count": 55,
     "metadata": {},
     "output_type": "execute_result"
    }
   ],
   "source": [
    "d4.keys()"
   ]
  },
  {
   "cell_type": "code",
   "execution_count": 57,
   "id": "a320440f",
   "metadata": {},
   "outputs": [
    {
     "name": "stdout",
     "output_type": "stream",
     "text": [
      "문자열 딕셔너리의 값\n",
      "리스트 새로운 값\n",
      "튜플 (5, 6, 7, 8)\n",
      "딕셔너리 {'key': 'value'}\n",
      "블린 True\n",
      "d 사십\n",
      "e 오십\n",
      "13 삼성\n",
      "a 십\n",
      "b 이십\n",
      "f 육십\n"
     ]
    }
   ],
   "source": [
    "for key, value in d4.items():\n",
    "    print(key, value)"
   ]
  },
  {
   "cell_type": "code",
   "execution_count": 59,
   "id": "ac5114a4",
   "metadata": {},
   "outputs": [
    {
     "data": {
      "text/plain": [
       "['문자열', '리스트', '튜플', '딕셔너리', '블린', 'd', 'e', 13, 'a', 'b', 'f']"
      ]
     },
     "execution_count": 59,
     "metadata": {},
     "output_type": "execute_result"
    }
   ],
   "source": [
    "d4_keys=list(d4.keys())\n",
    "d4_keys"
   ]
  },
  {
   "cell_type": "code",
   "execution_count": null,
   "id": "ee86dc03",
   "metadata": {},
   "outputs": [],
   "source": []
  }
 ],
 "metadata": {
  "kernelspec": {
   "display_name": "Python 3 (ipykernel)",
   "language": "python",
   "name": "python3"
  },
  "language_info": {
   "codemirror_mode": {
    "name": "ipython",
    "version": 3
   },
   "file_extension": ".py",
   "mimetype": "text/x-python",
   "name": "python",
   "nbconvert_exporter": "python",
   "pygments_lexer": "ipython3",
   "version": "3.10.14"
  }
 },
 "nbformat": 4,
 "nbformat_minor": 5
}
