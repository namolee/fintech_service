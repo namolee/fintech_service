{
 "cells": [
  {
   "cell_type": "markdown",
   "id": "03f93620",
   "metadata": {},
   "source": [
    "# 05리스트와 튜플 사용하기1"
   ]
  },
  {
   "cell_type": "code",
   "execution_count": 1,
   "id": "650109c0",
   "metadata": {},
   "outputs": [],
   "source": [
    "a = 1\n",
    "b = 2\n",
    "c = 3\n",
    "d = 4\n",
    "e = 5"
   ]
  },
  {
   "cell_type": "code",
   "execution_count": 4,
   "id": "c0fceef4",
   "metadata": {},
   "outputs": [
    {
     "data": {
      "text/plain": [
       "1"
      ]
     },
     "execution_count": 4,
     "metadata": {},
     "output_type": "execute_result"
    }
   ],
   "source": [
    "L1 = [1,2,3,4,5]\n",
    "L1[0]"
   ]
  },
  {
   "cell_type": "code",
   "execution_count": 5,
   "id": "dc67db74",
   "metadata": {},
   "outputs": [
    {
     "data": {
      "text/plain": [
       "['파이썬', 2, 17.2, True]"
      ]
     },
     "execution_count": 5,
     "metadata": {},
     "output_type": "execute_result"
    }
   ],
   "source": [
    "L2 = ['파이썬', 2, 17.2, True]\n",
    "L2"
   ]
  },
  {
   "cell_type": "code",
   "execution_count": 7,
   "id": "4eea5edf",
   "metadata": {},
   "outputs": [
    {
     "data": {
      "text/plain": [
       "[2, 17.2, True]"
      ]
     },
     "execution_count": 7,
     "metadata": {},
     "output_type": "execute_result"
    }
   ],
   "source": [
    "L2[1:4]"
   ]
  },
  {
   "cell_type": "code",
   "execution_count": 11,
   "id": "54e4d126",
   "metadata": {},
   "outputs": [
    {
     "data": {
      "text/plain": [
       "bool"
      ]
     },
     "execution_count": 11,
     "metadata": {},
     "output_type": "execute_result"
    }
   ],
   "source": [
    "type(L2[3])"
   ]
  },
  {
   "cell_type": "code",
   "execution_count": 14,
   "id": "e1038c6b",
   "metadata": {},
   "outputs": [
    {
     "name": "stdout",
     "output_type": "stream",
     "text": [
      "<class 'list'>\n",
      "<class 'str'>\n",
      "<class 'int'>\n",
      "<class 'float'>\n",
      "<class 'bool'>\n"
     ]
    }
   ],
   "source": [
    "print(type(L2))\n",
    "print(type(L2[0]))\n",
    "print(type(L2[1]))\n",
    "print(type(L2[2]))\n",
    "print(type(L2[3]))"
   ]
  },
  {
   "cell_type": "markdown",
   "id": "c0eeab0f",
   "metadata": {},
   "source": [
    "* 빈리스트 만들기"
   ]
  },
  {
   "cell_type": "code",
   "execution_count": 15,
   "id": "94038fba",
   "metadata": {},
   "outputs": [],
   "source": [
    "L3=[]\n"
   ]
  },
  {
   "cell_type": "markdown",
   "id": "5e618d8b",
   "metadata": {},
   "source": [
    "## list() 형변환 함수\n"
   ]
  },
  {
   "cell_type": "code",
   "execution_count": 16,
   "id": "4ab0afda",
   "metadata": {},
   "outputs": [
    {
     "data": {
      "text/plain": [
       "[0, 1, 2, 3, 4, 5, 6, 7, 8, 9]"
      ]
     },
     "execution_count": 16,
     "metadata": {},
     "output_type": "execute_result"
    }
   ],
   "source": [
    "L5=list(range(10))\n",
    "L5"
   ]
  },
  {
   "cell_type": "markdown",
   "id": "4cbcadb7",
   "metadata": {},
   "source": [
    "## range() 함수\n",
    "* range(시작,끝,증가값)"
   ]
  },
  {
   "cell_type": "code",
   "execution_count": 18,
   "id": "0e115acb",
   "metadata": {},
   "outputs": [
    {
     "data": {
      "text/plain": [
       "[0, 1, 2, 3, 4, 5, 6, 7, 8, 9]"
      ]
     },
     "execution_count": 18,
     "metadata": {},
     "output_type": "execute_result"
    }
   ],
   "source": [
    "list(range(10))"
   ]
  },
  {
   "cell_type": "code",
   "execution_count": 19,
   "id": "00d93044",
   "metadata": {},
   "outputs": [
    {
     "data": {
      "text/plain": [
       "[1, 2, 3, 4, 5, 6, 7, 8, 9, 10]"
      ]
     },
     "execution_count": 19,
     "metadata": {},
     "output_type": "execute_result"
    }
   ],
   "source": [
    "list(range(1,11))"
   ]
  },
  {
   "cell_type": "code",
   "execution_count": 20,
   "id": "7f6465d4",
   "metadata": {},
   "outputs": [
    {
     "data": {
      "text/plain": [
       "[1, 3, 5, 7, 9, 11, 13, 15, 17, 19]"
      ]
     },
     "execution_count": 20,
     "metadata": {},
     "output_type": "execute_result"
    }
   ],
   "source": [
    "list(range(1,20,2))"
   ]
  },
  {
   "cell_type": "code",
   "execution_count": 25,
   "id": "cfbb4ed1",
   "metadata": {},
   "outputs": [
    {
     "name": "stdout",
     "output_type": "stream",
     "text": [
      "[3, 6, 9, 12, 15, 18, 21, 24, 27, 30, 33, 36, 39, 42, 45, 48, 51, 54, 57, 60, 63, 66, 69, 72, 75, 78, 81, 84, 87, 90, 93, 96, 99]"
     ]
    }
   ],
   "source": [
    "print(list(range(3,100,3)), end='')"
   ]
  },
  {
   "cell_type": "markdown",
   "id": "8660023e",
   "metadata": {},
   "source": [
    "## .append() 리스트의 끝에 자료 추가"
   ]
  },
  {
   "cell_type": "code",
   "execution_count": 26,
   "id": "ce72e5cd",
   "metadata": {},
   "outputs": [],
   "source": [
    "L2.append(3)"
   ]
  },
  {
   "cell_type": "code",
   "execution_count": 27,
   "id": "79a81a1e",
   "metadata": {},
   "outputs": [
    {
     "data": {
      "text/plain": [
       "['파이썬', 2, 17.2, True, 3]"
      ]
     },
     "execution_count": 27,
     "metadata": {},
     "output_type": "execute_result"
    }
   ],
   "source": [
    "L2"
   ]
  },
  {
   "cell_type": "code",
   "execution_count": 28,
   "id": "bdd6bbbd",
   "metadata": {},
   "outputs": [],
   "source": [
    "L2.append([1,2,3])"
   ]
  },
  {
   "cell_type": "code",
   "execution_count": 29,
   "id": "bb816694",
   "metadata": {},
   "outputs": [
    {
     "data": {
      "text/plain": [
       "['파이썬', 2, 17.2, True, 3, [1, 2, 3]]"
      ]
     },
     "execution_count": 29,
     "metadata": {},
     "output_type": "execute_result"
    }
   ],
   "source": [
    "L2"
   ]
  },
  {
   "cell_type": "markdown",
   "id": "fb064cf1",
   "metadata": {},
   "source": [
    "* 길이를 재는 함수 lent()"
   ]
  },
  {
   "cell_type": "code",
   "execution_count": 30,
   "id": "7f312304",
   "metadata": {},
   "outputs": [
    {
     "data": {
      "text/plain": [
       "6"
      ]
     },
     "execution_count": 30,
     "metadata": {},
     "output_type": "execute_result"
    }
   ],
   "source": [
    "len(L2)"
   ]
  },
  {
   "cell_type": "code",
   "execution_count": 32,
   "id": "319d24e5",
   "metadata": {},
   "outputs": [],
   "source": [
    "L2.append(list(range(0,100)))"
   ]
  },
  {
   "cell_type": "code",
   "execution_count": 34,
   "id": "47a3c85c",
   "metadata": {},
   "outputs": [
    {
     "data": {
      "text/plain": [
       "['파이썬',\n",
       " 2,\n",
       " 17.2,\n",
       " True,\n",
       " 3,\n",
       " [1, 2, 3],\n",
       " [0,\n",
       "  1,\n",
       "  2,\n",
       "  3,\n",
       "  4,\n",
       "  5,\n",
       "  6,\n",
       "  7,\n",
       "  8,\n",
       "  9,\n",
       "  10,\n",
       "  11,\n",
       "  12,\n",
       "  13,\n",
       "  14,\n",
       "  15,\n",
       "  16,\n",
       "  17,\n",
       "  18,\n",
       "  19,\n",
       "  20,\n",
       "  21,\n",
       "  22,\n",
       "  23,\n",
       "  24,\n",
       "  25,\n",
       "  26,\n",
       "  27,\n",
       "  28,\n",
       "  29,\n",
       "  30,\n",
       "  31,\n",
       "  32,\n",
       "  33,\n",
       "  34,\n",
       "  35,\n",
       "  36,\n",
       "  37,\n",
       "  38,\n",
       "  39,\n",
       "  40,\n",
       "  41,\n",
       "  42,\n",
       "  43,\n",
       "  44,\n",
       "  45,\n",
       "  46,\n",
       "  47,\n",
       "  48,\n",
       "  49,\n",
       "  50,\n",
       "  51,\n",
       "  52,\n",
       "  53,\n",
       "  54,\n",
       "  55,\n",
       "  56,\n",
       "  57,\n",
       "  58,\n",
       "  59,\n",
       "  60,\n",
       "  61,\n",
       "  62,\n",
       "  63,\n",
       "  64,\n",
       "  65,\n",
       "  66,\n",
       "  67,\n",
       "  68,\n",
       "  69,\n",
       "  70,\n",
       "  71,\n",
       "  72,\n",
       "  73,\n",
       "  74,\n",
       "  75,\n",
       "  76,\n",
       "  77,\n",
       "  78,\n",
       "  79,\n",
       "  80,\n",
       "  81,\n",
       "  82,\n",
       "  83,\n",
       "  84,\n",
       "  85,\n",
       "  86,\n",
       "  87,\n",
       "  88,\n",
       "  89,\n",
       "  90,\n",
       "  91,\n",
       "  92,\n",
       "  93,\n",
       "  94,\n",
       "  95,\n",
       "  96,\n",
       "  97,\n",
       "  98,\n",
       "  99]]"
      ]
     },
     "execution_count": 34,
     "metadata": {},
     "output_type": "execute_result"
    }
   ],
   "source": [
    "L2"
   ]
  },
  {
   "cell_type": "code",
   "execution_count": 33,
   "id": "873f4c63",
   "metadata": {},
   "outputs": [
    {
     "data": {
      "text/plain": [
       "7"
      ]
     },
     "execution_count": 33,
     "metadata": {},
     "output_type": "execute_result"
    }
   ],
   "source": [
    "len(L2)"
   ]
  },
  {
   "cell_type": "markdown",
   "id": "28279eb2",
   "metadata": {},
   "source": [
    "## .insert()\n",
    "* .insert(추가할 위치 인덱스, 값)"
   ]
  },
  {
   "cell_type": "code",
   "execution_count": 40,
   "id": "15b558cf",
   "metadata": {},
   "outputs": [],
   "source": [
    "del L2[2]"
   ]
  },
  {
   "cell_type": "code",
   "execution_count": 38,
   "id": "5ff14917",
   "metadata": {},
   "outputs": [],
   "source": [
    "L2.insert(2,\"리스트 함수\")\n"
   ]
  },
  {
   "cell_type": "code",
   "execution_count": 41,
   "id": "0d87cb19",
   "metadata": {},
   "outputs": [
    {
     "data": {
      "text/plain": [
       "['파이썬', 2, '리스트 함수', 17.2, True, 3, [1, 2, 3]]"
      ]
     },
     "execution_count": 41,
     "metadata": {},
     "output_type": "execute_result"
    }
   ],
   "source": [
    "L2"
   ]
  },
  {
   "cell_type": "code",
   "execution_count": null,
   "id": "c15d71bd",
   "metadata": {},
   "outputs": [],
   "source": []
  },
  {
   "cell_type": "markdown",
   "id": "18a28778",
   "metadata": {},
   "source": [
    "## 리스트의 자료 삭제\n",
    "* del 변수명[인덱스 번호]\n",
    "* .pop(): 리스트의 가장 끝 자료가 출력되고 삭제됨.\n",
    "* .remove(값): 리스트의 앞부터 일치하는 값 1개를 찾아서 삭제"
   ]
  },
  {
   "cell_type": "code",
   "execution_count": 42,
   "id": "fd561654",
   "metadata": {},
   "outputs": [],
   "source": [
    "del L2[1]"
   ]
  },
  {
   "cell_type": "code",
   "execution_count": 43,
   "id": "422d8894",
   "metadata": {},
   "outputs": [
    {
     "data": {
      "text/plain": [
       "['파이썬', '리스트 함수', 17.2, True, 3, [1, 2, 3]]"
      ]
     },
     "execution_count": 43,
     "metadata": {},
     "output_type": "execute_result"
    }
   ],
   "source": [
    "L2"
   ]
  },
  {
   "cell_type": "code",
   "execution_count": 44,
   "id": "e0a4aabb",
   "metadata": {},
   "outputs": [
    {
     "data": {
      "text/plain": [
       "[1, 2, 3]"
      ]
     },
     "execution_count": 44,
     "metadata": {},
     "output_type": "execute_result"
    }
   ],
   "source": [
    "L2.pop()"
   ]
  },
  {
   "cell_type": "code",
   "execution_count": 45,
   "id": "214c537a",
   "metadata": {},
   "outputs": [
    {
     "data": {
      "text/plain": [
       "['파이썬', '리스트 함수', 17.2, True, 3]"
      ]
     },
     "execution_count": 45,
     "metadata": {},
     "output_type": "execute_result"
    }
   ],
   "source": [
    "L2"
   ]
  },
  {
   "cell_type": "code",
   "execution_count": 46,
   "id": "e6e47efa",
   "metadata": {},
   "outputs": [],
   "source": [
    "L2.append(17.2)"
   ]
  },
  {
   "cell_type": "code",
   "execution_count": 47,
   "id": "680c6c2a",
   "metadata": {},
   "outputs": [
    {
     "data": {
      "text/plain": [
       "['파이썬', '리스트 함수', 17.2, True, 3, 17.2]"
      ]
     },
     "execution_count": 47,
     "metadata": {},
     "output_type": "execute_result"
    }
   ],
   "source": [
    "L2"
   ]
  },
  {
   "cell_type": "code",
   "execution_count": 48,
   "id": "35b79603",
   "metadata": {},
   "outputs": [],
   "source": [
    "L2.remove(17.2)"
   ]
  },
  {
   "cell_type": "code",
   "execution_count": 49,
   "id": "4061a529",
   "metadata": {},
   "outputs": [
    {
     "data": {
      "text/plain": [
       "['파이썬', '리스트 함수', True, 3, 17.2]"
      ]
     },
     "execution_count": 49,
     "metadata": {},
     "output_type": "execute_result"
    }
   ],
   "source": [
    "L2"
   ]
  },
  {
   "cell_type": "code",
   "execution_count": 50,
   "id": "6586b407",
   "metadata": {},
   "outputs": [
    {
     "data": {
      "text/plain": [
       "['파이썬', '리스트 함수', [17.2, 3, '파이썬'], True, 3, 17.2]"
      ]
     },
     "execution_count": 50,
     "metadata": {},
     "output_type": "execute_result"
    }
   ],
   "source": [
    "L2.insert(2,[17.2,3,'파이썬'])\n",
    "L2"
   ]
  },
  {
   "cell_type": "code",
   "execution_count": 51,
   "id": "b239e7f0",
   "metadata": {},
   "outputs": [],
   "source": [
    "L2.remove(17.2)"
   ]
  },
  {
   "cell_type": "code",
   "execution_count": 52,
   "id": "4b9d37b6",
   "metadata": {},
   "outputs": [
    {
     "data": {
      "text/plain": [
       "['파이썬', '리스트 함수', [17.2, 3, '파이썬'], True, 3]"
      ]
     },
     "execution_count": 52,
     "metadata": {},
     "output_type": "execute_result"
    }
   ],
   "source": [
    "L2"
   ]
  },
  {
   "cell_type": "code",
   "execution_count": 54,
   "id": "c5b29d48",
   "metadata": {},
   "outputs": [
    {
     "data": {
      "text/plain": [
       "['파이썬', '리스트 함수', [3, '파이썬'], True, 3]"
      ]
     },
     "execution_count": 54,
     "metadata": {},
     "output_type": "execute_result"
    }
   ],
   "source": [
    "L2[2].remove(17.2)\n",
    "L2"
   ]
  },
  {
   "cell_type": "code",
   "execution_count": null,
   "id": "09933c97",
   "metadata": {},
   "outputs": [],
   "source": []
  }
 ],
 "metadata": {
  "kernelspec": {
   "display_name": "Python 3 (ipykernel)",
   "language": "python",
   "name": "python3"
  },
  "language_info": {
   "codemirror_mode": {
    "name": "ipython",
    "version": 3
   },
   "file_extension": ".py",
   "mimetype": "text/x-python",
   "name": "python",
   "nbconvert_exporter": "python",
   "pygments_lexer": "ipython3",
   "version": "3.10.14"
  }
 },
 "nbformat": 4,
 "nbformat_minor": 5
}
