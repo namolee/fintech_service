{
 "cells": [
  {
   "cell_type": "markdown",
   "id": "03f93620",
   "metadata": {},
   "source": [
    "# 05리스트와 튜플 사용하기1"
   ]
  },
  {
   "cell_type": "code",
   "execution_count": 1,
   "id": "650109c0",
   "metadata": {},
   "outputs": [],
   "source": [
    "a = 1\n",
    "b = 2\n",
    "c = 3\n",
    "d = 4\n",
    "e = 5"
   ]
  },
  {
   "cell_type": "code",
   "execution_count": 4,
   "id": "c0fceef4",
   "metadata": {},
   "outputs": [
    {
     "data": {
      "text/plain": [
       "1"
      ]
     },
     "execution_count": 4,
     "metadata": {},
     "output_type": "execute_result"
    }
   ],
   "source": [
    "L1 = [1,2,3,4,5]\n",
    "L1[0]"
   ]
  },
  {
   "cell_type": "code",
   "execution_count": 5,
   "id": "dc67db74",
   "metadata": {},
   "outputs": [
    {
     "data": {
      "text/plain": [
       "['파이썬', 2, 17.2, True]"
      ]
     },
     "execution_count": 5,
     "metadata": {},
     "output_type": "execute_result"
    }
   ],
   "source": [
    "L2 = ['파이썬', 2, 17.2, True]\n",
    "L2"
   ]
  },
  {
   "cell_type": "code",
   "execution_count": 7,
   "id": "4eea5edf",
   "metadata": {},
   "outputs": [
    {
     "data": {
      "text/plain": [
       "[2, 17.2, True]"
      ]
     },
     "execution_count": 7,
     "metadata": {},
     "output_type": "execute_result"
    }
   ],
   "source": [
    "L2[1:4]"
   ]
  },
  {
   "cell_type": "code",
   "execution_count": 11,
   "id": "54e4d126",
   "metadata": {},
   "outputs": [
    {
     "data": {
      "text/plain": [
       "bool"
      ]
     },
     "execution_count": 11,
     "metadata": {},
     "output_type": "execute_result"
    }
   ],
   "source": [
    "type(L2[3])"
   ]
  },
  {
   "cell_type": "code",
   "execution_count": 14,
   "id": "e1038c6b",
   "metadata": {},
   "outputs": [
    {
     "name": "stdout",
     "output_type": "stream",
     "text": [
      "<class 'list'>\n",
      "<class 'str'>\n",
      "<class 'int'>\n",
      "<class 'float'>\n",
      "<class 'bool'>\n"
     ]
    }
   ],
   "source": [
    "print(type(L2))\n",
    "print(type(L2[0]))\n",
    "print(type(L2[1]))\n",
    "print(type(L2[2]))\n",
    "print(type(L2[3]))"
   ]
  },
  {
   "cell_type": "markdown",
   "id": "c0eeab0f",
   "metadata": {},
   "source": [
    "* 빈리스트 만들기"
   ]
  },
  {
   "cell_type": "code",
   "execution_count": 15,
   "id": "94038fba",
   "metadata": {},
   "outputs": [],
   "source": [
    "L3=[]\n"
   ]
  },
  {
   "cell_type": "markdown",
   "id": "5e618d8b",
   "metadata": {},
   "source": [
    "## list() 형변환 함수\n"
   ]
  },
  {
   "cell_type": "code",
   "execution_count": 16,
   "id": "4ab0afda",
   "metadata": {},
   "outputs": [
    {
     "data": {
      "text/plain": [
       "[0, 1, 2, 3, 4, 5, 6, 7, 8, 9]"
      ]
     },
     "execution_count": 16,
     "metadata": {},
     "output_type": "execute_result"
    }
   ],
   "source": [
    "L5=list(range(10))\n",
    "L5"
   ]
  },
  {
   "cell_type": "markdown",
   "id": "4cbcadb7",
   "metadata": {},
   "source": [
    "## range() 함수\n",
    "* range(시작,끝,증가값)"
   ]
  },
  {
   "cell_type": "code",
   "execution_count": 18,
   "id": "0e115acb",
   "metadata": {},
   "outputs": [
    {
     "data": {
      "text/plain": [
       "[0, 1, 2, 3, 4, 5, 6, 7, 8, 9]"
      ]
     },
     "execution_count": 18,
     "metadata": {},
     "output_type": "execute_result"
    }
   ],
   "source": [
    "list(range(10))"
   ]
  },
  {
   "cell_type": "code",
   "execution_count": 19,
   "id": "00d93044",
   "metadata": {},
   "outputs": [
    {
     "data": {
      "text/plain": [
       "[1, 2, 3, 4, 5, 6, 7, 8, 9, 10]"
      ]
     },
     "execution_count": 19,
     "metadata": {},
     "output_type": "execute_result"
    }
   ],
   "source": [
    "list(range(1,11))"
   ]
  },
  {
   "cell_type": "code",
   "execution_count": 20,
   "id": "7f6465d4",
   "metadata": {},
   "outputs": [
    {
     "data": {
      "text/plain": [
       "[1, 3, 5, 7, 9, 11, 13, 15, 17, 19]"
      ]
     },
     "execution_count": 20,
     "metadata": {},
     "output_type": "execute_result"
    }
   ],
   "source": [
    "list(range(1,20,2))"
   ]
  },
  {
   "cell_type": "code",
   "execution_count": 25,
   "id": "cfbb4ed1",
   "metadata": {},
   "outputs": [
    {
     "name": "stdout",
     "output_type": "stream",
     "text": [
      "[3, 6, 9, 12, 15, 18, 21, 24, 27, 30, 33, 36, 39, 42, 45, 48, 51, 54, 57, 60, 63, 66, 69, 72, 75, 78, 81, 84, 87, 90, 93, 96, 99]"
     ]
    }
   ],
   "source": [
    "print(list(range(3,100,3)), end='')"
   ]
  },
  {
   "cell_type": "markdown",
   "id": "8660023e",
   "metadata": {},
   "source": [
    "## .append() 리스트의 끝에 자료 추가"
   ]
  },
  {
   "cell_type": "code",
   "execution_count": 26,
   "id": "ce72e5cd",
   "metadata": {},
   "outputs": [],
   "source": [
    "L2.append(3)"
   ]
  },
  {
   "cell_type": "code",
   "execution_count": 27,
   "id": "79a81a1e",
   "metadata": {},
   "outputs": [
    {
     "data": {
      "text/plain": [
       "['파이썬', 2, 17.2, True, 3]"
      ]
     },
     "execution_count": 27,
     "metadata": {},
     "output_type": "execute_result"
    }
   ],
   "source": [
    "L2"
   ]
  },
  {
   "cell_type": "code",
   "execution_count": 28,
   "id": "bdd6bbbd",
   "metadata": {},
   "outputs": [],
   "source": [
    "L2.append([1,2,3])"
   ]
  },
  {
   "cell_type": "code",
   "execution_count": 29,
   "id": "bb816694",
   "metadata": {},
   "outputs": [
    {
     "data": {
      "text/plain": [
       "['파이썬', 2, 17.2, True, 3, [1, 2, 3]]"
      ]
     },
     "execution_count": 29,
     "metadata": {},
     "output_type": "execute_result"
    }
   ],
   "source": [
    "L2"
   ]
  },
  {
   "cell_type": "markdown",
   "id": "fb064cf1",
   "metadata": {},
   "source": [
    "* 길이를 재는 함수 lent()"
   ]
  },
  {
   "cell_type": "code",
   "execution_count": 30,
   "id": "7f312304",
   "metadata": {},
   "outputs": [
    {
     "data": {
      "text/plain": [
       "6"
      ]
     },
     "execution_count": 30,
     "metadata": {},
     "output_type": "execute_result"
    }
   ],
   "source": [
    "len(L2)"
   ]
  },
  {
   "cell_type": "code",
   "execution_count": 32,
   "id": "319d24e5",
   "metadata": {},
   "outputs": [],
   "source": [
    "L2.append(list(range(0,100)))"
   ]
  },
  {
   "cell_type": "code",
   "execution_count": 34,
   "id": "47a3c85c",
   "metadata": {},
   "outputs": [
    {
     "data": {
      "text/plain": [
       "['파이썬',\n",
       " 2,\n",
       " 17.2,\n",
       " True,\n",
       " 3,\n",
       " [1, 2, 3],\n",
       " [0,\n",
       "  1,\n",
       "  2,\n",
       "  3,\n",
       "  4,\n",
       "  5,\n",
       "  6,\n",
       "  7,\n",
       "  8,\n",
       "  9,\n",
       "  10,\n",
       "  11,\n",
       "  12,\n",
       "  13,\n",
       "  14,\n",
       "  15,\n",
       "  16,\n",
       "  17,\n",
       "  18,\n",
       "  19,\n",
       "  20,\n",
       "  21,\n",
       "  22,\n",
       "  23,\n",
       "  24,\n",
       "  25,\n",
       "  26,\n",
       "  27,\n",
       "  28,\n",
       "  29,\n",
       "  30,\n",
       "  31,\n",
       "  32,\n",
       "  33,\n",
       "  34,\n",
       "  35,\n",
       "  36,\n",
       "  37,\n",
       "  38,\n",
       "  39,\n",
       "  40,\n",
       "  41,\n",
       "  42,\n",
       "  43,\n",
       "  44,\n",
       "  45,\n",
       "  46,\n",
       "  47,\n",
       "  48,\n",
       "  49,\n",
       "  50,\n",
       "  51,\n",
       "  52,\n",
       "  53,\n",
       "  54,\n",
       "  55,\n",
       "  56,\n",
       "  57,\n",
       "  58,\n",
       "  59,\n",
       "  60,\n",
       "  61,\n",
       "  62,\n",
       "  63,\n",
       "  64,\n",
       "  65,\n",
       "  66,\n",
       "  67,\n",
       "  68,\n",
       "  69,\n",
       "  70,\n",
       "  71,\n",
       "  72,\n",
       "  73,\n",
       "  74,\n",
       "  75,\n",
       "  76,\n",
       "  77,\n",
       "  78,\n",
       "  79,\n",
       "  80,\n",
       "  81,\n",
       "  82,\n",
       "  83,\n",
       "  84,\n",
       "  85,\n",
       "  86,\n",
       "  87,\n",
       "  88,\n",
       "  89,\n",
       "  90,\n",
       "  91,\n",
       "  92,\n",
       "  93,\n",
       "  94,\n",
       "  95,\n",
       "  96,\n",
       "  97,\n",
       "  98,\n",
       "  99]]"
      ]
     },
     "execution_count": 34,
     "metadata": {},
     "output_type": "execute_result"
    }
   ],
   "source": [
    "L2"
   ]
  },
  {
   "cell_type": "code",
   "execution_count": 33,
   "id": "873f4c63",
   "metadata": {},
   "outputs": [
    {
     "data": {
      "text/plain": [
       "7"
      ]
     },
     "execution_count": 33,
     "metadata": {},
     "output_type": "execute_result"
    }
   ],
   "source": [
    "len(L2)"
   ]
  },
  {
   "cell_type": "markdown",
   "id": "28279eb2",
   "metadata": {},
   "source": [
    "## .insert()\n",
    "* .insert(추가할 위치 인덱스, 값)"
   ]
  },
  {
   "cell_type": "code",
   "execution_count": 40,
   "id": "15b558cf",
   "metadata": {},
   "outputs": [],
   "source": [
    "del L2[2]"
   ]
  },
  {
   "cell_type": "code",
   "execution_count": 38,
   "id": "5ff14917",
   "metadata": {},
   "outputs": [],
   "source": [
    "L2.insert(2,\"리스트 함수\")\n"
   ]
  },
  {
   "cell_type": "code",
   "execution_count": 41,
   "id": "0d87cb19",
   "metadata": {},
   "outputs": [
    {
     "data": {
      "text/plain": [
       "['파이썬', 2, '리스트 함수', 17.2, True, 3, [1, 2, 3]]"
      ]
     },
     "execution_count": 41,
     "metadata": {},
     "output_type": "execute_result"
    }
   ],
   "source": [
    "L2"
   ]
  },
  {
   "cell_type": "code",
   "execution_count": null,
   "id": "c15d71bd",
   "metadata": {},
   "outputs": [],
   "source": []
  },
  {
   "cell_type": "markdown",
   "id": "18a28778",
   "metadata": {},
   "source": [
    "## 리스트의 자료 삭제\n",
    "* del 변수명[인덱스 번호]\n",
    "* .pop(): 리스트의 가장 끝 자료가 출력되고 삭제됨.\n",
    "* .remove(값): 리스트의 앞부터 일치하는 값 1개를 찾아서 삭제"
   ]
  },
  {
   "cell_type": "code",
   "execution_count": 42,
   "id": "fd561654",
   "metadata": {},
   "outputs": [],
   "source": [
    "del L2[1]"
   ]
  },
  {
   "cell_type": "code",
   "execution_count": 43,
   "id": "422d8894",
   "metadata": {},
   "outputs": [
    {
     "data": {
      "text/plain": [
       "['파이썬', '리스트 함수', 17.2, True, 3, [1, 2, 3]]"
      ]
     },
     "execution_count": 43,
     "metadata": {},
     "output_type": "execute_result"
    }
   ],
   "source": [
    "L2"
   ]
  },
  {
   "cell_type": "code",
   "execution_count": 44,
   "id": "e0a4aabb",
   "metadata": {},
   "outputs": [
    {
     "data": {
      "text/plain": [
       "[1, 2, 3]"
      ]
     },
     "execution_count": 44,
     "metadata": {},
     "output_type": "execute_result"
    }
   ],
   "source": [
    "L2.pop()"
   ]
  },
  {
   "cell_type": "code",
   "execution_count": 45,
   "id": "214c537a",
   "metadata": {},
   "outputs": [
    {
     "data": {
      "text/plain": [
       "['파이썬', '리스트 함수', 17.2, True, 3]"
      ]
     },
     "execution_count": 45,
     "metadata": {},
     "output_type": "execute_result"
    }
   ],
   "source": [
    "L2"
   ]
  },
  {
   "cell_type": "code",
   "execution_count": 46,
   "id": "e6e47efa",
   "metadata": {},
   "outputs": [],
   "source": [
    "L2.append(17.2)"
   ]
  },
  {
   "cell_type": "code",
   "execution_count": 47,
   "id": "680c6c2a",
   "metadata": {},
   "outputs": [
    {
     "data": {
      "text/plain": [
       "['파이썬', '리스트 함수', 17.2, True, 3, 17.2]"
      ]
     },
     "execution_count": 47,
     "metadata": {},
     "output_type": "execute_result"
    }
   ],
   "source": [
    "L2"
   ]
  },
  {
   "cell_type": "code",
   "execution_count": 48,
   "id": "35b79603",
   "metadata": {},
   "outputs": [],
   "source": [
    "L2.remove(17.2)"
   ]
  },
  {
   "cell_type": "code",
   "execution_count": 49,
   "id": "4061a529",
   "metadata": {},
   "outputs": [
    {
     "data": {
      "text/plain": [
       "['파이썬', '리스트 함수', True, 3, 17.2]"
      ]
     },
     "execution_count": 49,
     "metadata": {},
     "output_type": "execute_result"
    }
   ],
   "source": [
    "L2"
   ]
  },
  {
   "cell_type": "code",
   "execution_count": 50,
   "id": "6586b407",
   "metadata": {},
   "outputs": [
    {
     "data": {
      "text/plain": [
       "['파이썬', '리스트 함수', [17.2, 3, '파이썬'], True, 3, 17.2]"
      ]
     },
     "execution_count": 50,
     "metadata": {},
     "output_type": "execute_result"
    }
   ],
   "source": [
    "L2.insert(2,[17.2,3,'파이썬'])\n",
    "L2"
   ]
  },
  {
   "cell_type": "code",
   "execution_count": 51,
   "id": "b239e7f0",
   "metadata": {},
   "outputs": [],
   "source": [
    "L2.remove(17.2)"
   ]
  },
  {
   "cell_type": "code",
   "execution_count": 52,
   "id": "4b9d37b6",
   "metadata": {},
   "outputs": [
    {
     "data": {
      "text/plain": [
       "['파이썬', '리스트 함수', [17.2, 3, '파이썬'], True, 3]"
      ]
     },
     "execution_count": 52,
     "metadata": {},
     "output_type": "execute_result"
    }
   ],
   "source": [
    "L2"
   ]
  },
  {
   "cell_type": "code",
   "execution_count": 54,
   "id": "c5b29d48",
   "metadata": {},
   "outputs": [
    {
     "data": {
      "text/plain": [
       "['파이썬', '리스트 함수', [3, '파이썬'], True, 3]"
      ]
     },
     "execution_count": 54,
     "metadata": {},
     "output_type": "execute_result"
    }
   ],
   "source": [
    "L2[2].remove(17.2)\n",
    "L2"
   ]
  },
  {
   "cell_type": "code",
   "execution_count": null,
   "id": "09933c97",
   "metadata": {},
   "outputs": [],
   "source": []
  },
  {
   "cell_type": "markdown",
   "id": "0487e6c6",
   "metadata": {},
   "source": [
    "## 리스트 확장하기 .extend()"
   ]
  },
  {
   "cell_type": "code",
   "execution_count": 1,
   "id": "a45b4788",
   "metadata": {},
   "outputs": [
    {
     "data": {
      "text/plain": [
       "[10, 20, 30]"
      ]
     },
     "execution_count": 1,
     "metadata": {},
     "output_type": "execute_result"
    }
   ],
   "source": [
    "a=[10,20,30]\n",
    "a"
   ]
  },
  {
   "cell_type": "code",
   "execution_count": 2,
   "id": "b63ce260",
   "metadata": {},
   "outputs": [
    {
     "data": {
      "text/plain": [
       "[10, 20, 30, [4, 5, 6]]"
      ]
     },
     "execution_count": 2,
     "metadata": {},
     "output_type": "execute_result"
    }
   ],
   "source": [
    "a.append([4,5,6])\n",
    "a"
   ]
  },
  {
   "cell_type": "code",
   "execution_count": 3,
   "id": "9c0c532a",
   "metadata": {},
   "outputs": [
    {
     "data": {
      "text/plain": [
       "[10, 20, 30, [4, 5, 6], 40, 50, 60]"
      ]
     },
     "execution_count": 3,
     "metadata": {},
     "output_type": "execute_result"
    }
   ],
   "source": [
    "a.extend([40,50,60])\n",
    "a"
   ]
  },
  {
   "cell_type": "markdown",
   "id": "40161746",
   "metadata": {},
   "source": [
    "## 리스트에서 특정 값의 인덱스 구하기: .index(값)"
   ]
  },
  {
   "cell_type": "code",
   "execution_count": 4,
   "id": "b6000075",
   "metadata": {},
   "outputs": [
    {
     "data": {
      "text/plain": [
       "5"
      ]
     },
     "execution_count": 4,
     "metadata": {},
     "output_type": "execute_result"
    }
   ],
   "source": [
    "a.index(50)"
   ]
  },
  {
   "cell_type": "code",
   "execution_count": 5,
   "id": "a5f1218b",
   "metadata": {},
   "outputs": [],
   "source": [
    "a.insert(2,[40,50,60])"
   ]
  },
  {
   "cell_type": "code",
   "execution_count": 6,
   "id": "47623e16",
   "metadata": {},
   "outputs": [
    {
     "data": {
      "text/plain": [
       "[10, 20, [40, 50, 60], 30, [4, 5, 6], 40, 50, 60]"
      ]
     },
     "execution_count": 6,
     "metadata": {},
     "output_type": "execute_result"
    }
   ],
   "source": [
    "a"
   ]
  },
  {
   "cell_type": "code",
   "execution_count": 8,
   "id": "419d06f2",
   "metadata": {},
   "outputs": [
    {
     "data": {
      "text/plain": [
       "6"
      ]
     },
     "execution_count": 8,
     "metadata": {},
     "output_type": "execute_result"
    }
   ],
   "source": [
    "a.index(50)"
   ]
  },
  {
   "cell_type": "code",
   "execution_count": 9,
   "id": "9837bdc3",
   "metadata": {},
   "outputs": [
    {
     "data": {
      "text/plain": [
       "1"
      ]
     },
     "execution_count": 9,
     "metadata": {},
     "output_type": "execute_result"
    }
   ],
   "source": [
    "a[2].index(50)"
   ]
  },
  {
   "cell_type": "code",
   "execution_count": 10,
   "id": "81c5ed0f",
   "metadata": {},
   "outputs": [],
   "source": [
    "a.insert(2,50)"
   ]
  },
  {
   "cell_type": "code",
   "execution_count": 11,
   "id": "210eb2fb",
   "metadata": {
    "scrolled": true
   },
   "outputs": [
    {
     "data": {
      "text/plain": [
       "[10, 20, 50, [40, 50, 60], 30, [4, 5, 6], 40, 50, 60]"
      ]
     },
     "execution_count": 11,
     "metadata": {},
     "output_type": "execute_result"
    }
   ],
   "source": [
    "a"
   ]
  },
  {
   "cell_type": "code",
   "execution_count": 13,
   "id": "2b21f50f",
   "metadata": {},
   "outputs": [
    {
     "data": {
      "text/plain": [
       "2"
      ]
     },
     "execution_count": 13,
     "metadata": {},
     "output_type": "execute_result"
    }
   ],
   "source": [
    "a.index(50) # 가장 앞에있는 값을 찾는다"
   ]
  },
  {
   "cell_type": "code",
   "execution_count": 14,
   "id": "7f6cfd54",
   "metadata": {},
   "outputs": [
    {
     "data": {
      "text/plain": [
       "7"
      ]
     },
     "execution_count": 14,
     "metadata": {},
     "output_type": "execute_result"
    }
   ],
   "source": [
    "a.index(50,3) # 인덱스 3부터 50 을 찾는다"
   ]
  },
  {
   "cell_type": "markdown",
   "id": "0e41eb26",
   "metadata": {},
   "source": [
    "## 리스트 안에서 특정 값의 개수 구하기 .count(값)"
   ]
  },
  {
   "cell_type": "code",
   "execution_count": 16,
   "id": "aa36f197",
   "metadata": {},
   "outputs": [
    {
     "name": "stdout",
     "output_type": "stream",
     "text": [
      "[10, 20, 50, [40, 50, 60], 30, [4, 5, 6], 40, 50, 60]\n"
     ]
    },
    {
     "data": {
      "text/plain": [
       "2"
      ]
     },
     "execution_count": 16,
     "metadata": {},
     "output_type": "execute_result"
    }
   ],
   "source": [
    "print(a)\n",
    "a.count(50)"
   ]
  },
  {
   "cell_type": "markdown",
   "id": "60e97b48",
   "metadata": {},
   "source": [
    "## 리스트 순서 뒤집기 .reverse()"
   ]
  },
  {
   "cell_type": "code",
   "execution_count": 17,
   "id": "ef7e086c",
   "metadata": {},
   "outputs": [
    {
     "data": {
      "text/plain": [
       "[60, 50, 40, [4, 5, 6], 30, [40, 50, 60], 50, 20, 10]"
      ]
     },
     "execution_count": 17,
     "metadata": {},
     "output_type": "execute_result"
    }
   ],
   "source": [
    "a.reverse()\n",
    "a"
   ]
  },
  {
   "cell_type": "code",
   "execution_count": 18,
   "id": "dd23d7f8",
   "metadata": {},
   "outputs": [
    {
     "data": {
      "text/plain": [
       "[60, 50, 40, [4, 5, 6], 30, [40, 50, 60], 50, 20, 10]"
      ]
     },
     "execution_count": 18,
     "metadata": {},
     "output_type": "execute_result"
    }
   ],
   "source": [
    "a"
   ]
  },
  {
   "cell_type": "markdown",
   "id": "24b78c00",
   "metadata": {},
   "source": [
    "## 리스트 정렬 .sort() 오름차순, .sort(reverse=True) 내림차순 \n",
    "* 실행즉시 원본데이터를 바꿈"
   ]
  },
  {
   "cell_type": "code",
   "execution_count": 19,
   "id": "7f398172",
   "metadata": {},
   "outputs": [],
   "source": [
    "b=[1,6,7,4,5,7,9,4,5,753,6]"
   ]
  },
  {
   "cell_type": "code",
   "execution_count": 20,
   "id": "93497c02",
   "metadata": {},
   "outputs": [],
   "source": [
    "b.sort()"
   ]
  },
  {
   "cell_type": "code",
   "execution_count": 21,
   "id": "c046307f",
   "metadata": {},
   "outputs": [
    {
     "data": {
      "text/plain": [
       "[1, 4, 4, 5, 5, 6, 6, 7, 7, 9, 753]"
      ]
     },
     "execution_count": 21,
     "metadata": {},
     "output_type": "execute_result"
    }
   ],
   "source": [
    "b"
   ]
  },
  {
   "cell_type": "code",
   "execution_count": 22,
   "id": "917113e7",
   "metadata": {},
   "outputs": [
    {
     "data": {
      "text/plain": [
       "[753, 9, 7, 7, 6, 6, 5, 5, 4, 4, 1]"
      ]
     },
     "execution_count": 22,
     "metadata": {},
     "output_type": "execute_result"
    }
   ],
   "source": [
    "b.sort(reverse=True)\n",
    "b"
   ]
  },
  {
   "cell_type": "markdown",
   "id": "307a3c4f",
   "metadata": {},
   "source": [
    "## sorted(), sorted(reverse=True) 내림차순 정렬\n",
    "* 실행 후 결과만 출력, 원본은 그대로 유지"
   ]
  },
  {
   "cell_type": "code",
   "execution_count": 23,
   "id": "c06c3827",
   "metadata": {},
   "outputs": [
    {
     "data": {
      "text/plain": [
       "[1, 4, 4, 5, 5, 6, 6, 7, 7, 9, 753]"
      ]
     },
     "execution_count": 23,
     "metadata": {},
     "output_type": "execute_result"
    }
   ],
   "source": [
    "sorted(b)"
   ]
  },
  {
   "cell_type": "code",
   "execution_count": 24,
   "id": "4b3a3a5d",
   "metadata": {},
   "outputs": [
    {
     "data": {
      "text/plain": [
       "[753, 9, 7, 7, 6, 6, 5, 5, 4, 4, 1]"
      ]
     },
     "execution_count": 24,
     "metadata": {},
     "output_type": "execute_result"
    }
   ],
   "source": [
    "b"
   ]
  },
  {
   "cell_type": "markdown",
   "id": "dfb5912e",
   "metadata": {},
   "source": [
    "## 순서 뒤집기 인덱싱 [::-1]"
   ]
  },
  {
   "cell_type": "code",
   "execution_count": 25,
   "id": "d8adbdfc",
   "metadata": {},
   "outputs": [
    {
     "data": {
      "text/plain": [
       "[60, 50, 40, [4, 5, 6], 30, [40, 50, 60], 50, 20, 10]"
      ]
     },
     "execution_count": 25,
     "metadata": {},
     "output_type": "execute_result"
    }
   ],
   "source": [
    "a"
   ]
  },
  {
   "cell_type": "code",
   "execution_count": 26,
   "id": "acb680d1",
   "metadata": {},
   "outputs": [
    {
     "data": {
      "text/plain": [
       "[10, 20, 50, [40, 50, 60], 30, [4, 5, 6], 40, 50, 60]"
      ]
     },
     "execution_count": 26,
     "metadata": {},
     "output_type": "execute_result"
    }
   ],
   "source": [
    "a[::-1]"
   ]
  },
  {
   "cell_type": "markdown",
   "id": "06bd10bc",
   "metadata": {},
   "source": [
    "## tuple 사용하기\n",
    "* 튜플은 리스트처럼 모든 자료형을 넣어서 만들 수 있다.\n",
    "* 순서가 있는 자료형, 인덱스가 있다.\n",
    "* 인덱싱, 슬라이싱 가능\n",
    "* 리스트와 다르게 자료의 추가, 삭제가 안된다.\n",
    "* 튜플은 ()안에 자료를 넣어서 만든다.\n",
    "* 튜플 형변환 함수는 tuple()이다."
   ]
  },
  {
   "cell_type": "markdown",
   "id": "3347115b",
   "metadata": {},
   "source": [
    "## 튜플 만들기"
   ]
  },
  {
   "cell_type": "code",
   "execution_count": 27,
   "id": "99ef9379",
   "metadata": {},
   "outputs": [
    {
     "data": {
      "text/plain": [
       "(1, 2, 3, 4, '튜플', [5, 6, 7], 8.5, (8, 9, 10))"
      ]
     },
     "execution_count": 27,
     "metadata": {},
     "output_type": "execute_result"
    }
   ],
   "source": [
    "t=(1,2,3,4,\"튜플\",[5,6,7],8.5,(8,9,10))\n",
    "t"
   ]
  },
  {
   "cell_type": "code",
   "execution_count": 28,
   "id": "2d50b888",
   "metadata": {},
   "outputs": [
    {
     "name": "stdout",
     "output_type": "stream",
     "text": [
      "<class 'tuple'>\n"
     ]
    }
   ],
   "source": [
    "print(type(t))"
   ]
  },
  {
   "cell_type": "code",
   "execution_count": 29,
   "id": "26a737ad",
   "metadata": {},
   "outputs": [
    {
     "ename": "AttributeError",
     "evalue": "'tuple' object has no attribute 'append'",
     "output_type": "error",
     "traceback": [
      "\u001b[1;31m---------------------------------------------------------------------------\u001b[0m",
      "\u001b[1;31mAttributeError\u001b[0m                            Traceback (most recent call last)",
      "Cell \u001b[1;32mIn[29], line 1\u001b[0m\n\u001b[1;32m----> 1\u001b[0m \u001b[43mt\u001b[49m\u001b[38;5;241;43m.\u001b[39;49m\u001b[43mappend\u001b[49m(\u001b[38;5;241m1\u001b[39m)\n",
      "\u001b[1;31mAttributeError\u001b[0m: 'tuple' object has no attribute 'append'"
     ]
    }
   ],
   "source": [
    "t.append(1) #튜플은 추가 안됨"
   ]
  },
  {
   "cell_type": "markdown",
   "id": "4f6b3ca2",
   "metadata": {},
   "source": [
    "## 튜플을 리스트로 만든 후 자료 추가하고 다시 튜플로 변환"
   ]
  },
  {
   "cell_type": "code",
   "execution_count": 30,
   "id": "e47d2ecf",
   "metadata": {},
   "outputs": [],
   "source": [
    "t=list(t)"
   ]
  },
  {
   "cell_type": "code",
   "execution_count": 31,
   "id": "126ad905",
   "metadata": {},
   "outputs": [
    {
     "data": {
      "text/plain": [
       "[1, 2, 3, 4, '튜플', [5, 6, 7], 8.5, (8, 9, 10)]"
      ]
     },
     "execution_count": 31,
     "metadata": {},
     "output_type": "execute_result"
    }
   ],
   "source": [
    "t"
   ]
  },
  {
   "cell_type": "code",
   "execution_count": 32,
   "id": "3aba99af",
   "metadata": {},
   "outputs": [
    {
     "name": "stdout",
     "output_type": "stream",
     "text": [
      "<class 'list'>\n"
     ]
    }
   ],
   "source": [
    "print(type(t))"
   ]
  },
  {
   "cell_type": "code",
   "execution_count": 34,
   "id": "05cf2fc3",
   "metadata": {},
   "outputs": [
    {
     "data": {
      "text/plain": [
       "['리스트로 바꿈', '리스트로 바꿈', 1, 2, 3, 4, '튜플', [5, 6, 7], 8.5, (8, 9, 10)]"
      ]
     },
     "execution_count": 34,
     "metadata": {},
     "output_type": "execute_result"
    }
   ],
   "source": [
    "t.insert(0,\"리스트로 바꿈\")\n",
    "t"
   ]
  },
  {
   "cell_type": "code",
   "execution_count": 35,
   "id": "171872e5",
   "metadata": {},
   "outputs": [],
   "source": [
    "t.remove(\"리스트로 바꿈\")"
   ]
  },
  {
   "cell_type": "code",
   "execution_count": 36,
   "id": "7e420653",
   "metadata": {},
   "outputs": [
    {
     "data": {
      "text/plain": [
       "['리스트로 바꿈', 1, 2, 3, 4, '튜플', [5, 6, 7], 8.5, (8, 9, 10)]"
      ]
     },
     "execution_count": 36,
     "metadata": {},
     "output_type": "execute_result"
    }
   ],
   "source": [
    "t"
   ]
  },
  {
   "cell_type": "code",
   "execution_count": 37,
   "id": "5d5071c7",
   "metadata": {},
   "outputs": [
    {
     "data": {
      "text/plain": [
       "('리스트로 바꿈', 1, 2, 3, 4, '튜플', [5, 6, 7], 8.5, (8, 9, 10))"
      ]
     },
     "execution_count": 37,
     "metadata": {},
     "output_type": "execute_result"
    }
   ],
   "source": [
    "t=tuple(t)\n",
    "t"
   ]
  },
  {
   "cell_type": "markdown",
   "id": "0d15fb74",
   "metadata": {},
   "source": [
    "## 튜플에 자료를 1개만 넣고 만들 때"
   ]
  },
  {
   "cell_type": "code",
   "execution_count": 38,
   "id": "110a6ec0",
   "metadata": {},
   "outputs": [
    {
     "data": {
      "text/plain": [
       "2"
      ]
     },
     "execution_count": 38,
     "metadata": {},
     "output_type": "execute_result"
    }
   ],
   "source": [
    "t2=(2)\n",
    "t2"
   ]
  },
  {
   "cell_type": "code",
   "execution_count": 39,
   "id": "ad0f6ca6",
   "metadata": {},
   "outputs": [
    {
     "name": "stdout",
     "output_type": "stream",
     "text": [
      "<class 'int'>\n"
     ]
    }
   ],
   "source": [
    "print(type(t2))"
   ]
  },
  {
   "cell_type": "code",
   "execution_count": 40,
   "id": "b5f22a1e",
   "metadata": {},
   "outputs": [],
   "source": [
    "l = [2]"
   ]
  },
  {
   "cell_type": "code",
   "execution_count": 41,
   "id": "8626f389",
   "metadata": {},
   "outputs": [
    {
     "name": "stdout",
     "output_type": "stream",
     "text": [
      "<class 'list'>\n"
     ]
    }
   ],
   "source": [
    "print(type(l))"
   ]
  },
  {
   "cell_type": "code",
   "execution_count": 42,
   "id": "1fa1f891",
   "metadata": {},
   "outputs": [
    {
     "name": "stdout",
     "output_type": "stream",
     "text": [
      "<class 'tuple'>\n"
     ]
    },
    {
     "data": {
      "text/plain": [
       "(3,)"
      ]
     },
     "execution_count": 42,
     "metadata": {},
     "output_type": "execute_result"
    }
   ],
   "source": [
    "t3=(3,)\n",
    "print(type(t3))\n",
    "t3"
   ]
  },
  {
   "cell_type": "code",
   "execution_count": 43,
   "id": "13885cef",
   "metadata": {},
   "outputs": [
    {
     "name": "stdout",
     "output_type": "stream",
     "text": [
      "<class 'tuple'>\n"
     ]
    }
   ],
   "source": [
    "t4=()\n",
    "print(type(t4))"
   ]
  },
  {
   "cell_type": "code",
   "execution_count": null,
   "id": "5c229c07",
   "metadata": {},
   "outputs": [],
   "source": []
  }
 ],
 "metadata": {
  "kernelspec": {
   "display_name": "Python 3 (ipykernel)",
   "language": "python",
   "name": "python3"
  },
  "language_info": {
   "codemirror_mode": {
    "name": "ipython",
    "version": 3
   },
   "file_extension": ".py",
   "mimetype": "text/x-python",
   "name": "python",
   "nbconvert_exporter": "python",
   "pygments_lexer": "ipython3",
   "version": "3.10.14"
  }
 },
 "nbformat": 4,
 "nbformat_minor": 5
}
