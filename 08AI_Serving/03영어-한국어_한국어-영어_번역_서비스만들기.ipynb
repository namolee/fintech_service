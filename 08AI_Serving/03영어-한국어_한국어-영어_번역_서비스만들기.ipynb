{
 "cells": [
  {
   "cell_type": "markdown",
   "id": "100f4141",
   "metadata": {},
   "source": [
    "# 한영 번역 서비스 만들기 M2M100"
   ]
  },
  {
   "cell_type": "code",
   "execution_count": 1,
   "id": "b2991f0f",
   "metadata": {},
   "outputs": [
    {
     "name": "stdout",
     "output_type": "stream",
     "text": [
      "Requirement already satisfied: sentencepiece in /home/user/miniforge3/envs/torch/lib/python3.11/site-packages (0.2.0)\n",
      "Note: you may need to restart the kernel to use updated packages.\n"
     ]
    }
   ],
   "source": [
    "pip install sentencepiece"
   ]
  },
  {
   "cell_type": "code",
   "execution_count": 2,
   "id": "e3019da5",
   "metadata": {},
   "outputs": [
    {
     "name": "stderr",
     "output_type": "stream",
     "text": [
      "/home/user/miniforge3/envs/torch/lib/python3.11/site-packages/tqdm/auto.py:21: TqdmWarning: IProgress not found. Please update jupyter and ipywidgets. See https://ipywidgets.readthedocs.io/en/stable/user_install.html\n",
      "  from .autonotebook import tqdm as notebook_tqdm\n",
      "/home/user/miniforge3/envs/torch/lib/python3.11/site-packages/transformers/tokenization_utils_base.py:1601: FutureWarning: `clean_up_tokenization_spaces` was not set. It will be set to `True` by default. This behavior will be depracted in transformers v4.45, and will be then set to `False` by default. For more details check this issue: https://github.com/huggingface/transformers/issues/31884\n",
      "  warnings.warn(\n"
     ]
    },
    {
     "name": "stdout",
     "output_type": "stream",
     "text": [
      "This is a Hang Translator. made with m2m100 model.\n",
      "이것은 한국어-영어 번역기입니다.나는 그것을 m2m100 모델로 만들었습니다.\n"
     ]
    }
   ],
   "source": [
    "from transformers import M2M100ForConditionalGeneration, M2M100Tokenizer\n",
    "\n",
    "ko_text = \"이것은 한영 변역기 입니다. m2m100모델로 만들었어요. \"\n",
    "en_text = \"This is a Korean-English translator. I made it into an m2m100 model.\"\n",
    "\n",
    "model = M2M100ForConditionalGeneration.from_pretrained(\"facebook/m2m100_418M\")\n",
    "tokenizer = M2M100Tokenizer.from_pretrained(\"facebook/m2m100_418M\")\n",
    "\n",
    "# translate Hindi to French\n",
    "tokenizer.src_lang = \"ko\"\n",
    "encoded_ko = tokenizer(ko_text, return_tensors=\"pt\")\n",
    "generated_tokens = model.generate(**encoded_ko, forced_bos_token_id=tokenizer.get_lang_id(\"en\"))\n",
    "trans_text = tokenizer.batch_decode(generated_tokens, skip_special_tokens=True)[0]\n",
    "# => \"La vie est comme une boîte de chocolat.\"\n",
    "print(trans_text)\n",
    "# translate Chinese to English\n",
    "tokenizer.src_lang = \"en\"\n",
    "encoded_en = tokenizer(en_text, return_tensors=\"pt\")\n",
    "generated_tokens = model.generate(**encoded_en, forced_bos_token_id=tokenizer.get_lang_id(\"ko\"))\n",
    "trans_text2 = tokenizer.batch_decode(generated_tokens, skip_special_tokens=True)[0]\n",
    "# => \"Life is like a box of chocolate.\"\n",
    "print(trans_text2)\n"
   ]
  }
 ],
 "metadata": {
  "kernelspec": {
   "display_name": "Python 3 (ipykernel)",
   "language": "python",
   "name": "python3"
  },
  "language_info": {
   "codemirror_mode": {
    "name": "ipython",
    "version": 3
   },
   "file_extension": ".py",
   "mimetype": "text/x-python",
   "name": "python",
   "nbconvert_exporter": "python",
   "pygments_lexer": "ipython3",
   "version": "3.11.10"
  }
 },
 "nbformat": 4,
 "nbformat_minor": 5
}
