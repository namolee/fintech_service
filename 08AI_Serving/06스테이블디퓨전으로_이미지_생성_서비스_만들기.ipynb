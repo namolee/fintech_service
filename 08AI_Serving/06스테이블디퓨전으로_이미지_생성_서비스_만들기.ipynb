{
 "cells": [
  {
   "cell_type": "markdown",
   "id": "0324d294",
   "metadata": {},
   "source": [
    "# 스테이블디퓨전으로_이미지_생성_서비스_만들기\n",
    "* 간단한 스케치를 기반으로 이미지 생성\n",
    "* 스케치가 되어있는 이미지를 업로드해서 생성"
   ]
  },
  {
   "cell_type": "code",
   "execution_count": 2,
   "id": "0f84d25b",
   "metadata": {
    "scrolled": true
   },
   "outputs": [],
   "source": [
    "# !pip install diffusers"
   ]
  },
  {
   "cell_type": "code",
   "execution_count": 1,
   "id": "f09e8096",
   "metadata": {},
   "outputs": [
    {
     "name": "stderr",
     "output_type": "stream",
     "text": [
      "/home/user/miniforge3/envs/torch/lib/python3.11/site-packages/tqdm/auto.py:21: TqdmWarning: IProgress not found. Please update jupyter and ipywidgets. See https://ipywidgets.readthedocs.io/en/stable/user_install.html\n",
      "  from .autonotebook import tqdm as notebook_tqdm\n",
      "/home/user/miniforge3/envs/torch/lib/python3.11/site-packages/gradio_client/documentation.py:106: UserWarning: Could not get documentation group for <class 'gradio.mix.Parallel'>: No known documentation group for module 'gradio.mix'\n",
      "  warnings.warn(f\"Could not get documentation group for {cls}: {exc}\")\n",
      "/home/user/miniforge3/envs/torch/lib/python3.11/site-packages/gradio_client/documentation.py:106: UserWarning: Could not get documentation group for <class 'gradio.mix.Series'>: No known documentation group for module 'gradio.mix'\n",
      "  warnings.warn(f\"Could not get documentation group for {cls}: {exc}\")\n"
     ]
    }
   ],
   "source": [
    "import os\n",
    "from typing import IO\n",
    "import gradio as gr\n",
    "import requests\n",
    "from tqdm import tqdm\n",
    "from PIL import Image\n",
    "from diffusers import StableDiffusionImg2ImgPipeline"
   ]
  },
  {
   "cell_type": "markdown",
   "id": "0c2eac8a",
   "metadata": {},
   "source": [
    "# 스케치 투 이미지 생성 UI 구현하기"
   ]
  },
  {
   "cell_type": "code",
   "execution_count": 2,
   "id": "265e25e9",
   "metadata": {},
   "outputs": [
    {
     "name": "stdout",
     "output_type": "stream",
     "text": [
      "IMPORTANT: You are using gradio version 3.40.0, however version 4.29.0 is available, please upgrade.\n",
      "--------\n"
     ]
    }
   ],
   "source": [
    "WIDTH = 512\n",
    "HEIGHT = 512\n",
    "\n",
    "with gr.Blocks() as app:\n",
    "    gr.Markdown(\"## 프롬프트 입력\")\n",
    "    with gr.Row():\n",
    "        prompt = gr.Textbox(label=\"Prompt\")\n",
    "    with gr.Row():\n",
    "        n_prompt = gr.Textbox(label=\"Nagative Prompt\")\n",
    "        \n",
    "    gr.Markdown(\"## 스케치 to 이미지 생성\")\n",
    "    with gr.Row():\n",
    "        with gr.Column():\n",
    "            with gr.Tab(\"Canvas\"):\n",
    "                with gr.Row():\n",
    "                    canvas = gr.Image(\n",
    "                        label=\"Draw\",\n",
    "                        source= 'canvas',\n",
    "                        image_mode='RGB',\n",
    "                        tool='color-sketch',\n",
    "                        interactive=True,\n",
    "                        width=WIDTH,\n",
    "                        height=HEIGHT,\n",
    "                        shape=(WIDTH, HEIGHT),\n",
    "                        brush_radius=20,\n",
    "                        type='pil'\n",
    "                    )\n",
    "\n",
    "                with gr.Row():\n",
    "                    canvas_run_btn = gr.Button(value=\"Generate\")\n",
    "            \n",
    "            with gr.Tab(\"File\"):\n",
    "                with gr.Row():\n",
    "                    file = gr.Image(\n",
    "                        label=\"Upload\",\n",
    "                        source= 'upload',\n",
    "                        image_mode='RGB',\n",
    "                        tool='color-sketch',\n",
    "                        interactive=True,\n",
    "                        width=WIDTH,\n",
    "                        height=HEIGHT,\n",
    "                        shape=(WIDTH, HEIGHT),\n",
    "                        type='pil'\n",
    "                    )\n",
    "                with gr.Row():\n",
    "                    file_run_btn = gr.Button(value=\"Generate\")"
   ]
  },
  {
   "cell_type": "code",
   "execution_count": 3,
   "id": "41a858bf",
   "metadata": {},
   "outputs": [
    {
     "name": "stdout",
     "output_type": "stream",
     "text": [
      "Running on local URL:  http://127.0.0.1:7860\n",
      "Running on public URL: https://7228bd5bc5d16b10ca.gradio.live\n",
      "\n",
      "This share link expires in 72 hours. For free permanent hosting and GPU upgrades, run `gradio deploy` from Terminal to deploy to Spaces (https://huggingface.co/spaces)\n"
     ]
    },
    {
     "data": {
      "text/plain": []
     },
     "execution_count": 3,
     "metadata": {},
     "output_type": "execute_result"
    }
   ],
   "source": [
    "app.launch(inline=False, share=True)"
   ]
  },
  {
   "cell_type": "code",
   "execution_count": 4,
   "id": "cd32b717",
   "metadata": {},
   "outputs": [
    {
     "name": "stdout",
     "output_type": "stream",
     "text": [
      "Closing server running on port: 7860\n"
     ]
    }
   ],
   "source": [
    "app.close()"
   ]
  },
  {
   "cell_type": "markdown",
   "id": "2f9ae94b",
   "metadata": {},
   "source": [
    "# 모델 다운로드 UI 구현하기"
   ]
  },
  {
   "cell_type": "code",
   "execution_count": 16,
   "id": "3030dd78",
   "metadata": {},
   "outputs": [
    {
     "name": "stdout",
     "output_type": "stream",
     "text": [
      "IMPORTANT: You are using gradio version 3.40.0, however version 4.29.0 is available, please upgrade.\n",
      "--------\n"
     ]
    }
   ],
   "source": [
    "with gr.Blocks() as app:\n",
    "    gr.Markdown(\"## 모델 다운로드\")\n",
    "    with gr.Row():\n",
    "        model_url = gr.Textbox(label=\"모델 URL\", placeholder=\"https://civitai.com/\")\n",
    "        download_model_btn = gr.Button(value=\"모델 다운로드\")\n",
    "    with gr.Row():\n",
    "        model_file = gr.File(label=\"모델 파일\")\n",
    "        \n",
    "    download_model_btn.click(\n",
    "        download_model,\n",
    "        [model_url],\n",
    "        [model_file]\n",
    "    )"
   ]
  },
  {
   "cell_type": "code",
   "execution_count": 15,
   "id": "f83a528e",
   "metadata": {},
   "outputs": [
    {
     "name": "stdout",
     "output_type": "stream",
     "text": [
      "Running on local URL:  http://127.0.0.1:7861\n",
      "Running on public URL: https://c8fc0ca11075faa5d3.gradio.live\n",
      "\n",
      "This share link expires in 72 hours. For free permanent hosting and GPU upgrades, run `gradio deploy` from Terminal to deploy to Spaces (https://huggingface.co/spaces)\n"
     ]
    },
    {
     "data": {
      "text/plain": []
     },
     "execution_count": 15,
     "metadata": {},
     "output_type": "execute_result"
    },
    {
     "name": "stderr",
     "output_type": "stream",
     "text": [
      "Traceback (most recent call last):\n",
      "  File \"/home/user/miniforge3/envs/torch/lib/python3.11/site-packages/gradio/routes.py\", line 488, in run_predict\n",
      "    output = await app.get_blocks().process_api(\n",
      "             ^^^^^^^^^^^^^^^^^^^^^^^^^^^^^^^^^^^\n",
      "  File \"/home/user/miniforge3/envs/torch/lib/python3.11/site-packages/gradio/blocks.py\", line 1427, in process_api\n",
      "    result = await self.call_function(\n",
      "             ^^^^^^^^^^^^^^^^^^^^^^^^^\n",
      "  File \"/home/user/miniforge3/envs/torch/lib/python3.11/site-packages/gradio/blocks.py\", line 1109, in call_function\n",
      "    prediction = await anyio.to_thread.run_sync(\n",
      "                 ^^^^^^^^^^^^^^^^^^^^^^^^^^^^^^^\n",
      "  File \"/home/user/miniforge3/envs/torch/lib/python3.11/site-packages/anyio/to_thread.py\", line 56, in run_sync\n",
      "    return await get_async_backend().run_sync_in_worker_thread(\n",
      "           ^^^^^^^^^^^^^^^^^^^^^^^^^^^^^^^^^^^^^^^^^^^^^^^^^^^^\n",
      "  File \"/home/user/miniforge3/envs/torch/lib/python3.11/site-packages/anyio/_backends/_asyncio.py\", line 2405, in run_sync_in_worker_thread\n",
      "    return await future\n",
      "           ^^^^^^^^^^^^\n",
      "  File \"/home/user/miniforge3/envs/torch/lib/python3.11/site-packages/anyio/_backends/_asyncio.py\", line 914, in run\n",
      "    result = context.run(func, *args)\n",
      "             ^^^^^^^^^^^^^^^^^^^^^^^^\n",
      "  File \"/home/user/miniforge3/envs/torch/lib/python3.11/site-packages/gradio/utils.py\", line 706, in wrapper\n",
      "    response = f(*args, **kwargs)\n",
      "               ^^^^^^^^^^^^^^^^^^\n",
      "  File \"/tmp/ipykernel_82656/591389027.py\", line 36, in download_model\n",
      "    download_url = response.json()['modelVersions'][0]['downloadUrl']\n",
      "                   ~~~~~~~~~~~~~~~^^^^^^^^^^^^^^^^^\n",
      "KeyError: 'modelVersions'\n"
     ]
    }
   ],
   "source": [
    "app.launch(inline=False, share=True)"
   ]
  },
  {
   "cell_type": "code",
   "execution_count": 13,
   "id": "871c274e",
   "metadata": {},
   "outputs": [
    {
     "name": "stdout",
     "output_type": "stream",
     "text": [
      "Requirement already satisfied: gradio==3.40.0 in /home/user/miniforge3/envs/torch/lib/python3.11/site-packages (3.40.0)\n",
      "Requirement already satisfied: aiofiles<24.0,>=22.0 in /home/user/miniforge3/envs/torch/lib/python3.11/site-packages (from gradio==3.40.0) (23.2.1)\n",
      "Requirement already satisfied: aiohttp~=3.0 in /home/user/miniforge3/envs/torch/lib/python3.11/site-packages (from gradio==3.40.0) (3.10.5)\n",
      "Requirement already satisfied: altair<6.0,>=4.2.0 in /home/user/miniforge3/envs/torch/lib/python3.11/site-packages (from gradio==3.40.0) (5.4.1)\n",
      "Requirement already satisfied: fastapi in /home/user/miniforge3/envs/torch/lib/python3.11/site-packages (from gradio==3.40.0) (0.115.0)\n",
      "Requirement already satisfied: ffmpy in /home/user/miniforge3/envs/torch/lib/python3.11/site-packages (from gradio==3.40.0) (0.4.0)\n",
      "Requirement already satisfied: gradio-client>=0.4.0 in /home/user/miniforge3/envs/torch/lib/python3.11/site-packages (from gradio==3.40.0) (1.3.0)\n",
      "Requirement already satisfied: httpx in /home/user/miniforge3/envs/torch/lib/python3.11/site-packages (from gradio==3.40.0) (0.27.2)\n",
      "Requirement already satisfied: huggingface-hub>=0.14.0 in /home/user/miniforge3/envs/torch/lib/python3.11/site-packages (from gradio==3.40.0) (0.25.0)\n",
      "Requirement already satisfied: importlib-resources<7.0,>=1.3 in /home/user/miniforge3/envs/torch/lib/python3.11/site-packages (from gradio==3.40.0) (6.4.5)\n",
      "Requirement already satisfied: jinja2<4.0 in /home/user/miniforge3/envs/torch/lib/python3.11/site-packages (from gradio==3.40.0) (3.1.4)\n",
      "Requirement already satisfied: markdown-it-py>=2.0.0 in /home/user/miniforge3/envs/torch/lib/python3.11/site-packages (from markdown-it-py[linkify]>=2.0.0->gradio==3.40.0) (2.2.0)\n",
      "Requirement already satisfied: markupsafe~=2.0 in /home/user/miniforge3/envs/torch/lib/python3.11/site-packages (from gradio==3.40.0) (2.1.5)\n",
      "Requirement already satisfied: matplotlib~=3.0 in /home/user/miniforge3/envs/torch/lib/python3.11/site-packages (from gradio==3.40.0) (3.9.2)\n",
      "Requirement already satisfied: mdit-py-plugins<=0.3.3 in /home/user/miniforge3/envs/torch/lib/python3.11/site-packages (from gradio==3.40.0) (0.3.3)\n",
      "Requirement already satisfied: numpy~=1.0 in /home/user/miniforge3/envs/torch/lib/python3.11/site-packages (from gradio==3.40.0) (1.26.4)\n",
      "Requirement already satisfied: orjson~=3.0 in /home/user/miniforge3/envs/torch/lib/python3.11/site-packages (from gradio==3.40.0) (3.10.7)\n",
      "Requirement already satisfied: packaging in /home/user/miniforge3/envs/torch/lib/python3.11/site-packages (from gradio==3.40.0) (24.1)\n",
      "Requirement already satisfied: pandas<3.0,>=1.0 in /home/user/miniforge3/envs/torch/lib/python3.11/site-packages (from gradio==3.40.0) (2.2.3)\n",
      "Requirement already satisfied: pillow<11.0,>=8.0 in /home/user/miniforge3/envs/torch/lib/python3.11/site-packages (from gradio==3.40.0) (10.4.0)\n",
      "Requirement already satisfied: pydantic!=1.8,!=1.8.1,!=2.0.0,!=2.0.1,<3.0.0,>=1.7.4 in /home/user/miniforge3/envs/torch/lib/python3.11/site-packages (from gradio==3.40.0) (2.9.2)\n",
      "Requirement already satisfied: pydub in /home/user/miniforge3/envs/torch/lib/python3.11/site-packages (from gradio==3.40.0) (0.25.1)\n",
      "Requirement already satisfied: python-multipart in /home/user/miniforge3/envs/torch/lib/python3.11/site-packages (from gradio==3.40.0) (0.0.10)\n",
      "Requirement already satisfied: pyyaml<7.0,>=5.0 in /home/user/miniforge3/envs/torch/lib/python3.11/site-packages (from gradio==3.40.0) (6.0.2)\n",
      "Requirement already satisfied: requests~=2.0 in /home/user/miniforge3/envs/torch/lib/python3.11/site-packages (from gradio==3.40.0) (2.32.3)\n",
      "Requirement already satisfied: semantic-version~=2.0 in /home/user/miniforge3/envs/torch/lib/python3.11/site-packages (from gradio==3.40.0) (2.10.0)\n",
      "Requirement already satisfied: typing-extensions~=4.0 in /home/user/miniforge3/envs/torch/lib/python3.11/site-packages (from gradio==3.40.0) (4.12.2)\n",
      "Requirement already satisfied: uvicorn>=0.14.0 in /home/user/miniforge3/envs/torch/lib/python3.11/site-packages (from gradio==3.40.0) (0.30.6)\n",
      "Requirement already satisfied: websockets<12.0,>=10.0 in /home/user/miniforge3/envs/torch/lib/python3.11/site-packages (from gradio==3.40.0) (11.0.3)\n",
      "Requirement already satisfied: aiohappyeyeballs>=2.3.0 in /home/user/miniforge3/envs/torch/lib/python3.11/site-packages (from aiohttp~=3.0->gradio==3.40.0) (2.4.0)\n",
      "Requirement already satisfied: aiosignal>=1.1.2 in /home/user/miniforge3/envs/torch/lib/python3.11/site-packages (from aiohttp~=3.0->gradio==3.40.0) (1.3.1)\n",
      "Requirement already satisfied: attrs>=17.3.0 in /home/user/miniforge3/envs/torch/lib/python3.11/site-packages (from aiohttp~=3.0->gradio==3.40.0) (24.2.0)\n",
      "Requirement already satisfied: frozenlist>=1.1.1 in /home/user/miniforge3/envs/torch/lib/python3.11/site-packages (from aiohttp~=3.0->gradio==3.40.0) (1.4.1)\n",
      "Requirement already satisfied: multidict<7.0,>=4.5 in /home/user/miniforge3/envs/torch/lib/python3.11/site-packages (from aiohttp~=3.0->gradio==3.40.0) (6.1.0)\n",
      "Requirement already satisfied: yarl<2.0,>=1.0 in /home/user/miniforge3/envs/torch/lib/python3.11/site-packages (from aiohttp~=3.0->gradio==3.40.0) (1.11.1)\n",
      "Requirement already satisfied: jsonschema>=3.0 in /home/user/miniforge3/envs/torch/lib/python3.11/site-packages (from altair<6.0,>=4.2.0->gradio==3.40.0) (4.23.0)\n",
      "Requirement already satisfied: narwhals>=1.5.2 in /home/user/miniforge3/envs/torch/lib/python3.11/site-packages (from altair<6.0,>=4.2.0->gradio==3.40.0) (1.8.2)\n",
      "Requirement already satisfied: fsspec in /home/user/miniforge3/envs/torch/lib/python3.11/site-packages (from gradio-client>=0.4.0->gradio==3.40.0) (2024.9.0)\n",
      "Requirement already satisfied: anyio in /home/user/miniforge3/envs/torch/lib/python3.11/site-packages (from httpx->gradio==3.40.0) (4.6.0)\n",
      "Requirement already satisfied: certifi in /home/user/miniforge3/envs/torch/lib/python3.11/site-packages (from httpx->gradio==3.40.0) (2024.8.30)\n",
      "Requirement already satisfied: httpcore==1.* in /home/user/miniforge3/envs/torch/lib/python3.11/site-packages (from httpx->gradio==3.40.0) (1.0.5)\n",
      "Requirement already satisfied: idna in /home/user/miniforge3/envs/torch/lib/python3.11/site-packages (from httpx->gradio==3.40.0) (3.10)\n",
      "Requirement already satisfied: sniffio in /home/user/miniforge3/envs/torch/lib/python3.11/site-packages (from httpx->gradio==3.40.0) (1.3.1)\n",
      "Requirement already satisfied: h11<0.15,>=0.13 in /home/user/miniforge3/envs/torch/lib/python3.11/site-packages (from httpcore==1.*->httpx->gradio==3.40.0) (0.14.0)\n",
      "Requirement already satisfied: filelock in /home/user/miniforge3/envs/torch/lib/python3.11/site-packages (from huggingface-hub>=0.14.0->gradio==3.40.0) (3.16.1)\n",
      "Requirement already satisfied: tqdm>=4.42.1 in /home/user/miniforge3/envs/torch/lib/python3.11/site-packages (from huggingface-hub>=0.14.0->gradio==3.40.0) (4.66.5)\n",
      "Requirement already satisfied: mdurl~=0.1 in /home/user/miniforge3/envs/torch/lib/python3.11/site-packages (from markdown-it-py>=2.0.0->markdown-it-py[linkify]>=2.0.0->gradio==3.40.0) (0.1.2)\n",
      "Requirement already satisfied: linkify-it-py<3,>=1 in /home/user/miniforge3/envs/torch/lib/python3.11/site-packages (from markdown-it-py[linkify]>=2.0.0->gradio==3.40.0) (2.0.3)\n",
      "Requirement already satisfied: contourpy>=1.0.1 in /home/user/miniforge3/envs/torch/lib/python3.11/site-packages (from matplotlib~=3.0->gradio==3.40.0) (1.3.0)\n",
      "Requirement already satisfied: cycler>=0.10 in /home/user/miniforge3/envs/torch/lib/python3.11/site-packages (from matplotlib~=3.0->gradio==3.40.0) (0.12.1)\n",
      "Requirement already satisfied: fonttools>=4.22.0 in /home/user/miniforge3/envs/torch/lib/python3.11/site-packages (from matplotlib~=3.0->gradio==3.40.0) (4.53.1)\n",
      "Requirement already satisfied: kiwisolver>=1.3.1 in /home/user/miniforge3/envs/torch/lib/python3.11/site-packages (from matplotlib~=3.0->gradio==3.40.0) (1.4.7)\n",
      "Requirement already satisfied: pyparsing>=2.3.1 in /home/user/miniforge3/envs/torch/lib/python3.11/site-packages (from matplotlib~=3.0->gradio==3.40.0) (3.1.4)\n",
      "Requirement already satisfied: python-dateutil>=2.7 in /home/user/miniforge3/envs/torch/lib/python3.11/site-packages (from matplotlib~=3.0->gradio==3.40.0) (2.9.0.post0)\n",
      "Requirement already satisfied: pytz>=2020.1 in /home/user/miniforge3/envs/torch/lib/python3.11/site-packages (from pandas<3.0,>=1.0->gradio==3.40.0) (2024.2)\n",
      "Requirement already satisfied: tzdata>=2022.7 in /home/user/miniforge3/envs/torch/lib/python3.11/site-packages (from pandas<3.0,>=1.0->gradio==3.40.0) (2024.1)\n",
      "Requirement already satisfied: annotated-types>=0.6.0 in /home/user/miniforge3/envs/torch/lib/python3.11/site-packages (from pydantic!=1.8,!=1.8.1,!=2.0.0,!=2.0.1,<3.0.0,>=1.7.4->gradio==3.40.0) (0.7.0)\n",
      "Requirement already satisfied: pydantic-core==2.23.4 in /home/user/miniforge3/envs/torch/lib/python3.11/site-packages (from pydantic!=1.8,!=1.8.1,!=2.0.0,!=2.0.1,<3.0.0,>=1.7.4->gradio==3.40.0) (2.23.4)\n"
     ]
    },
    {
     "name": "stdout",
     "output_type": "stream",
     "text": [
      "Requirement already satisfied: charset-normalizer<4,>=2 in /home/user/miniforge3/envs/torch/lib/python3.11/site-packages (from requests~=2.0->gradio==3.40.0) (3.3.2)\n",
      "Requirement already satisfied: urllib3<3,>=1.21.1 in /home/user/miniforge3/envs/torch/lib/python3.11/site-packages (from requests~=2.0->gradio==3.40.0) (2.2.3)\n",
      "Requirement already satisfied: click>=7.0 in /home/user/miniforge3/envs/torch/lib/python3.11/site-packages (from uvicorn>=0.14.0->gradio==3.40.0) (8.1.7)\n",
      "Requirement already satisfied: starlette<0.39.0,>=0.37.2 in /home/user/miniforge3/envs/torch/lib/python3.11/site-packages (from fastapi->gradio==3.40.0) (0.38.6)\n",
      "Requirement already satisfied: jsonschema-specifications>=2023.03.6 in /home/user/miniforge3/envs/torch/lib/python3.11/site-packages (from jsonschema>=3.0->altair<6.0,>=4.2.0->gradio==3.40.0) (2023.12.1)\n",
      "Requirement already satisfied: referencing>=0.28.4 in /home/user/miniforge3/envs/torch/lib/python3.11/site-packages (from jsonschema>=3.0->altair<6.0,>=4.2.0->gradio==3.40.0) (0.35.1)\n",
      "Requirement already satisfied: rpds-py>=0.7.1 in /home/user/miniforge3/envs/torch/lib/python3.11/site-packages (from jsonschema>=3.0->altair<6.0,>=4.2.0->gradio==3.40.0) (0.20.0)\n",
      "Requirement already satisfied: uc-micro-py in /home/user/miniforge3/envs/torch/lib/python3.11/site-packages (from linkify-it-py<3,>=1->markdown-it-py[linkify]>=2.0.0->gradio==3.40.0) (1.0.3)\n",
      "Requirement already satisfied: six>=1.5 in /home/user/miniforge3/envs/torch/lib/python3.11/site-packages (from python-dateutil>=2.7->matplotlib~=3.0->gradio==3.40.0) (1.16.0)\n"
     ]
    }
   ],
   "source": [
    "!pip install gradio==3.40.0"
   ]
  },
  {
   "cell_type": "code",
   "execution_count": 15,
   "id": "7fd5f160",
   "metadata": {},
   "outputs": [
    {
     "name": "stdout",
     "output_type": "stream",
     "text": [
      "Closing server running on port: 7862\n"
     ]
    }
   ],
   "source": [
    "app.close()"
   ]
  },
  {
   "cell_type": "markdown",
   "id": "40e978bf",
   "metadata": {},
   "source": [
    "# 모델 다운로드 기능 구현하기"
   ]
  },
  {
   "cell_type": "code",
   "execution_count": 6,
   "id": "b557b7ae",
   "metadata": {},
   "outputs": [],
   "source": [
    "import os\n",
    "import glob\n",
    "\n",
    "# 전역 변수로 모델 경로와 파일명을 저장\n",
    "MODEL_PATH = None\n",
    "\n",
    "# URL로부터 파일 다운로드 함수\n",
    "def download_from_url(url, file_path, chunk_size=1024):\n",
    "    try:\n",
    "        resp = requests.get(url, stream=True)\n",
    "        resp.raise_for_status()\n",
    "    except Exception as e:\n",
    "        print(f\"[Error] {e}\")\n",
    "        raise e\n",
    "    \n",
    "    total = int(resp.headers.get('content-length', 0)) # 파일 크기 추출\n",
    "    with open(file_path, 'wb') as file, tqdm(desc=file_path, total=total, unit='iB', unit_scale=True,\n",
    "                                            unit_divisor=1024) as bar:\n",
    "        for data in resp.iter_content(chunk_size=chunk_size):\n",
    "            size = file.write(data)\n",
    "            bar.update(size)\n",
    "            \n",
    "\n",
    "# 모델을 다운로드하고 경로를 기억하는 함수\n",
    "def download_model(url: str) -> str: \n",
    "    global MODEL_PATH # 전역 변수를 사용해서 경로를 기억\n",
    "    \n",
    "    model_id = url.replace(\"https://civitai.com/models/\", \"\").split(\"/\")[0]\n",
    "    \n",
    "    try:\n",
    "        response = requests.get(f\"https://civitai.com/api/v1/models/{model_id}\", timeout=6000)\n",
    "    except Exception as e:\n",
    "        print(f\"[Error] {e}\")\n",
    "        raise e\n",
    "        \n",
    "    download_url = response.json()['modelVersions'][0]['downloadUrl']\n",
    "    filename = response.json()['modelVersions'][0]['files'][0]['name']\n",
    "    \n",
    "    file_path = f\"models/{filename}\"\n",
    "    if os.path.exists(file_path):\n",
    "        print(f\"[INFO] File already exists: {file_path}\")\n",
    "        MODEL_PATH = file_path # 모델 경로 기억\n",
    "        return file_path\n",
    "    \n",
    "    os.makedirs(\"models\", exist_ok=True)\n",
    "    download_from_url(download_url, file_path)\n",
    "    print(f\"[INFO] File downloaded: {file_path}\")\n",
    "    \n",
    "    # 모델 경로 기억\n",
    "    MODEL_PATH = file_path\n",
    "    return file_path\n",
    "    \n",
    "# ./models 폴더에서 가장 최근에 수정된 모델 파일 찾기\n",
    "def find_latest_model_in_directory(directory):\n",
    "    model_files = glob.glob(f\"{directory}/*.safetensors\")\n",
    "    if not model_files:\n",
    "        return None\n",
    "    \n",
    "    # 가장 최근에 수정된 모델 파일 선택\n",
    "    latest_model = max(model_files, key=os.path.getmtime)\n",
    "    return latest_model"
   ]
  },
  {
   "cell_type": "code",
   "execution_count": null,
   "id": "58dc4df8",
   "metadata": {},
   "outputs": [],
   "source": []
  },
  {
   "cell_type": "code",
   "execution_count": 17,
   "id": "53af556e",
   "metadata": {},
   "outputs": [
    {
     "name": "stderr",
     "output_type": "stream",
     "text": [
      "Fetching 11 files: 100%|████████████████████████████████████████████████████████████████| 11/11 [00:00<00:00, 11.19it/s]\n",
      "Loading pipeline components...:   0%|                                                             | 0/6 [00:00<?, ?it/s]/home/user/miniforge3/envs/torch/lib/python3.11/site-packages/transformers/models/clip/feature_extraction_clip.py:28: FutureWarning: The class CLIPFeatureExtractor is deprecated and will be removed in version 5 of Transformers. Please use CLIPImageProcessor instead.\n",
      "  warnings.warn(\n",
      "Some weights of the model checkpoint were not used when initializing CLIPTextModel: \n",
      " ['text_model.embeddings.position_ids']\n",
      "Loading pipeline components...:  50%|██████████████████████████▌                          | 3/6 [00:07<00:07,  2.42s/it]"
     ]
    }
   ],
   "source": [
    "import torch"
   ]
  },
  {
   "cell_type": "markdown",
   "id": "13c8ce1c",
   "metadata": {},
   "source": [
    "# 다운로드한 모델 불러와서 초기화하기"
   ]
  },
  {
   "cell_type": "code",
   "execution_count": 12,
   "id": "8218a99d",
   "metadata": {},
   "outputs": [],
   "source": [
    "def init_pipeline():\n",
    "    global MODEL_PATH\n",
    "    \n",
    "    if MODEL_PATH is None:\n",
    "        MODEL_PATH = find_latest_model_in_directory(\"./models\")\n",
    "    if MODEL_PATH is None:\n",
    "        return \"Error: No model found in ./models\"\n",
    "    \n",
    "    global PIPELINE\n",
    "    \n",
    "    try:\n",
    "        PIPELINE = StableDiffusionImg2ImgPipeline.from_single_file(\n",
    "            MODEL_PATH,\n",
    "            torch_dtype=torch.float16,\n",
    "            variant=\"fp16\",\n",
    "            use_safetensors=True,\n",
    "        ).to('cpu')\n",
    "        print(\"[INFO] Initialized pipeline\")\n",
    "        return \"Model Loaded!\"\n",
    "    except Exception as e:\n",
    "        print(f\"[Error] {e}\")\n",
    "        \n",
    "    "
   ]
  },
  {
   "cell_type": "code",
   "execution_count": 15,
   "id": "06ec510d",
   "metadata": {},
   "outputs": [
    {
     "name": "stdout",
     "output_type": "stream",
     "text": [
      "IMPORTANT: You are using gradio version 3.40.0, however version 4.29.0 is available, please upgrade.\n",
      "--------\n"
     ]
    }
   ],
   "source": [
    "with gr.Blocks() as app:\n",
    "    gr.Markdown(\"##모델 불러오기\")\n",
    "    with gr.Row():\n",
    "        load_model_btn = gr.Button(value=\"모델 불러오기\")\n",
    "    with gr.Row():\n",
    "        is_model_check = gr.Textbox(label=\"Model Load Check\", value=\"Model not loaded\")\n",
    "    \n",
    "    load_model_btn.click(\n",
    "        init_pipeline,\n",
    "        None,\n",
    "        [is_model_check]\n",
    "        \n",
    "    )"
   ]
  },
  {
   "cell_type": "code",
   "execution_count": 18,
   "id": "78d2a010",
   "metadata": {},
   "outputs": [
    {
     "name": "stdout",
     "output_type": "stream",
     "text": [
      "Rerunning server... use `close()` to stop if you need to change `launch()` parameters.\n",
      "----\n",
      "Running on public URL: https://2e121f76f6b604ed06.gradio.live\n",
      "\n",
      "This share link expires in 72 hours. For free permanent hosting and GPU upgrades, run `gradio deploy` from Terminal to deploy to Spaces (https://huggingface.co/spaces)\n"
     ]
    },
    {
     "data": {
      "text/plain": []
     },
     "execution_count": 18,
     "metadata": {},
     "output_type": "execute_result"
    },
    {
     "name": "stderr",
     "output_type": "stream",
     "text": [
      "Loading pipeline components...: 100%|█████████████████████████████████████████████████████| 6/6 [00:30<00:00,  5.13s/it]\n",
      "You have disabled the safety checker for <class 'diffusers.pipelines.stable_diffusion.pipeline_stable_diffusion_img2img.StableDiffusionImg2ImgPipeline'> by passing `safety_checker=None`. Ensure that you abide to the conditions of the Stable Diffusion license and do not expose unfiltered results in services or applications open to the public. Both the diffusers team and Hugging Face strongly recommend to keep the safety filter enabled in all public facing circumstances, disabling it only for use-cases that involve analyzing network behavior or auditing its results. For more information, please have a look at https://github.com/huggingface/diffusers/pull/254 .\n",
      "Pipelines loaded with `dtype=torch.float16` cannot run with `cpu` device. It is not recommended to move them to `cpu` as running them will fail. Please make sure to use an accelerator to run the pipeline in inference, due to the lack of support for`float16` operations on this device in PyTorch. Please, remove the `torch_dtype=torch.float16` argument, or use another device for inference.\n",
      "Pipelines loaded with `dtype=torch.float16` cannot run with `cpu` device. It is not recommended to move them to `cpu` as running them will fail. Please make sure to use an accelerator to run the pipeline in inference, due to the lack of support for`float16` operations on this device in PyTorch. Please, remove the `torch_dtype=torch.float16` argument, or use another device for inference.\n",
      "Pipelines loaded with `dtype=torch.float16` cannot run with `cpu` device. It is not recommended to move them to `cpu` as running them will fail. Please make sure to use an accelerator to run the pipeline in inference, due to the lack of support for`float16` operations on this device in PyTorch. Please, remove the `torch_dtype=torch.float16` argument, or use another device for inference.\n"
     ]
    },
    {
     "name": "stdout",
     "output_type": "stream",
     "text": [
      "[INFO] Initialized pipeline\n"
     ]
    }
   ],
   "source": [
    "app.queue().launch(inline=False, share=True)"
   ]
  },
  {
   "cell_type": "code",
   "execution_count": null,
   "id": "43c0f0d7",
   "metadata": {},
   "outputs": [],
   "source": [
    "app.close()"
   ]
  },
  {
   "cell_type": "markdown",
   "id": "66887f1e",
   "metadata": {},
   "source": [
    "# 스케치 투 이미지 생성기능 구현"
   ]
  },
  {
   "cell_type": "code",
   "execution_count": null,
   "id": "180f121d",
   "metadata": {},
   "outputs": [],
   "source": [
    "def sketch_to_image(sketch, prompt, negative_prompt):"
   ]
  },
  {
   "cell_type": "code",
   "execution_count": null,
   "id": "3c1de0b6",
   "metadata": {},
   "outputs": [],
   "source": []
  },
  {
   "cell_type": "code",
   "execution_count": null,
   "id": "921dfc68",
   "metadata": {},
   "outputs": [],
   "source": []
  },
  {
   "cell_type": "code",
   "execution_count": null,
   "id": "0794a624",
   "metadata": {},
   "outputs": [],
   "source": []
  },
  {
   "cell_type": "code",
   "execution_count": null,
   "id": "a3cf841a",
   "metadata": {},
   "outputs": [],
   "source": []
  },
  {
   "cell_type": "code",
   "execution_count": null,
   "id": "6262bbf0",
   "metadata": {},
   "outputs": [],
   "source": []
  },
  {
   "cell_type": "code",
   "execution_count": null,
   "id": "c41fdd41",
   "metadata": {},
   "outputs": [],
   "source": []
  },
  {
   "cell_type": "code",
   "execution_count": null,
   "id": "0fcf9de9",
   "metadata": {},
   "outputs": [],
   "source": []
  },
  {
   "cell_type": "code",
   "execution_count": null,
   "id": "7499694d",
   "metadata": {},
   "outputs": [],
   "source": []
  },
  {
   "cell_type": "code",
   "execution_count": null,
   "id": "3f05320a",
   "metadata": {},
   "outputs": [],
   "source": []
  },
  {
   "cell_type": "code",
   "execution_count": null,
   "id": "1b3dc478",
   "metadata": {},
   "outputs": [],
   "source": []
  }
 ],
 "metadata": {
  "kernelspec": {
   "display_name": "Python 3 (ipykernel)",
   "language": "python",
   "name": "python3"
  },
  "language_info": {
   "codemirror_mode": {
    "name": "ipython",
    "version": 3
   },
   "file_extension": ".py",
   "mimetype": "text/x-python",
   "name": "python",
   "nbconvert_exporter": "python",
   "pygments_lexer": "ipython3",
   "version": "3.11.10"
  }
 },
 "nbformat": 4,
 "nbformat_minor": 5
}
