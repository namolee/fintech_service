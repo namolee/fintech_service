{
 "cells": [
  {
   "cell_type": "code",
   "execution_count": 2,
   "id": "0eae9f19",
   "metadata": {},
   "outputs": [],
   "source": [
    "import pandas as pd\n",
    "import numpy as np\n",
    "import matplotlib.pyplot as plt\n",
    "import seaborn as sns"
   ]
  },
  {
   "cell_type": "code",
   "execution_count": 3,
   "id": "9737aa0d",
   "metadata": {},
   "outputs": [
    {
     "data": {
      "text/html": [
       "<div>\n",
       "<style scoped>\n",
       "    .dataframe tbody tr th:only-of-type {\n",
       "        vertical-align: middle;\n",
       "    }\n",
       "\n",
       "    .dataframe tbody tr th {\n",
       "        vertical-align: top;\n",
       "    }\n",
       "\n",
       "    .dataframe thead th {\n",
       "        text-align: right;\n",
       "    }\n",
       "</style>\n",
       "<table border=\"1\" class=\"dataframe\">\n",
       "  <thead>\n",
       "    <tr style=\"text-align: right;\">\n",
       "      <th></th>\n",
       "      <th>0</th>\n",
       "      <th>1</th>\n",
       "      <th>2</th>\n",
       "      <th>3</th>\n",
       "      <th>4</th>\n",
       "      <th>5</th>\n",
       "      <th>6</th>\n",
       "      <th>7</th>\n",
       "      <th>8</th>\n",
       "      <th>9</th>\n",
       "      <th>10</th>\n",
       "      <th>11</th>\n",
       "      <th>12</th>\n",
       "    </tr>\n",
       "  </thead>\n",
       "  <tbody>\n",
       "    <tr>\n",
       "      <th>0</th>\n",
       "      <td>7.4</td>\n",
       "      <td>0.70</td>\n",
       "      <td>0.00</td>\n",
       "      <td>1.9</td>\n",
       "      <td>0.076</td>\n",
       "      <td>11.0</td>\n",
       "      <td>34.0</td>\n",
       "      <td>0.99780</td>\n",
       "      <td>3.51</td>\n",
       "      <td>0.56</td>\n",
       "      <td>9.4</td>\n",
       "      <td>5</td>\n",
       "      <td>1</td>\n",
       "    </tr>\n",
       "    <tr>\n",
       "      <th>1</th>\n",
       "      <td>7.8</td>\n",
       "      <td>0.88</td>\n",
       "      <td>0.00</td>\n",
       "      <td>2.6</td>\n",
       "      <td>0.098</td>\n",
       "      <td>25.0</td>\n",
       "      <td>67.0</td>\n",
       "      <td>0.99680</td>\n",
       "      <td>3.20</td>\n",
       "      <td>0.68</td>\n",
       "      <td>9.8</td>\n",
       "      <td>5</td>\n",
       "      <td>1</td>\n",
       "    </tr>\n",
       "    <tr>\n",
       "      <th>2</th>\n",
       "      <td>7.8</td>\n",
       "      <td>0.76</td>\n",
       "      <td>0.04</td>\n",
       "      <td>2.3</td>\n",
       "      <td>0.092</td>\n",
       "      <td>15.0</td>\n",
       "      <td>54.0</td>\n",
       "      <td>0.99700</td>\n",
       "      <td>3.26</td>\n",
       "      <td>0.65</td>\n",
       "      <td>9.8</td>\n",
       "      <td>5</td>\n",
       "      <td>1</td>\n",
       "    </tr>\n",
       "    <tr>\n",
       "      <th>3</th>\n",
       "      <td>11.2</td>\n",
       "      <td>0.28</td>\n",
       "      <td>0.56</td>\n",
       "      <td>1.9</td>\n",
       "      <td>0.075</td>\n",
       "      <td>17.0</td>\n",
       "      <td>60.0</td>\n",
       "      <td>0.99800</td>\n",
       "      <td>3.16</td>\n",
       "      <td>0.58</td>\n",
       "      <td>9.8</td>\n",
       "      <td>6</td>\n",
       "      <td>1</td>\n",
       "    </tr>\n",
       "    <tr>\n",
       "      <th>4</th>\n",
       "      <td>7.4</td>\n",
       "      <td>0.70</td>\n",
       "      <td>0.00</td>\n",
       "      <td>1.9</td>\n",
       "      <td>0.076</td>\n",
       "      <td>11.0</td>\n",
       "      <td>34.0</td>\n",
       "      <td>0.99780</td>\n",
       "      <td>3.51</td>\n",
       "      <td>0.56</td>\n",
       "      <td>9.4</td>\n",
       "      <td>5</td>\n",
       "      <td>1</td>\n",
       "    </tr>\n",
       "    <tr>\n",
       "      <th>...</th>\n",
       "      <td>...</td>\n",
       "      <td>...</td>\n",
       "      <td>...</td>\n",
       "      <td>...</td>\n",
       "      <td>...</td>\n",
       "      <td>...</td>\n",
       "      <td>...</td>\n",
       "      <td>...</td>\n",
       "      <td>...</td>\n",
       "      <td>...</td>\n",
       "      <td>...</td>\n",
       "      <td>...</td>\n",
       "      <td>...</td>\n",
       "    </tr>\n",
       "    <tr>\n",
       "      <th>6492</th>\n",
       "      <td>6.2</td>\n",
       "      <td>0.21</td>\n",
       "      <td>0.29</td>\n",
       "      <td>1.6</td>\n",
       "      <td>0.039</td>\n",
       "      <td>24.0</td>\n",
       "      <td>92.0</td>\n",
       "      <td>0.99114</td>\n",
       "      <td>3.27</td>\n",
       "      <td>0.50</td>\n",
       "      <td>11.2</td>\n",
       "      <td>6</td>\n",
       "      <td>0</td>\n",
       "    </tr>\n",
       "    <tr>\n",
       "      <th>6493</th>\n",
       "      <td>6.6</td>\n",
       "      <td>0.32</td>\n",
       "      <td>0.36</td>\n",
       "      <td>8.0</td>\n",
       "      <td>0.047</td>\n",
       "      <td>57.0</td>\n",
       "      <td>168.0</td>\n",
       "      <td>0.99490</td>\n",
       "      <td>3.15</td>\n",
       "      <td>0.46</td>\n",
       "      <td>9.6</td>\n",
       "      <td>5</td>\n",
       "      <td>0</td>\n",
       "    </tr>\n",
       "    <tr>\n",
       "      <th>6494</th>\n",
       "      <td>6.5</td>\n",
       "      <td>0.24</td>\n",
       "      <td>0.19</td>\n",
       "      <td>1.2</td>\n",
       "      <td>0.041</td>\n",
       "      <td>30.0</td>\n",
       "      <td>111.0</td>\n",
       "      <td>0.99254</td>\n",
       "      <td>2.99</td>\n",
       "      <td>0.46</td>\n",
       "      <td>9.4</td>\n",
       "      <td>6</td>\n",
       "      <td>0</td>\n",
       "    </tr>\n",
       "    <tr>\n",
       "      <th>6495</th>\n",
       "      <td>5.5</td>\n",
       "      <td>0.29</td>\n",
       "      <td>0.30</td>\n",
       "      <td>1.1</td>\n",
       "      <td>0.022</td>\n",
       "      <td>20.0</td>\n",
       "      <td>110.0</td>\n",
       "      <td>0.98869</td>\n",
       "      <td>3.34</td>\n",
       "      <td>0.38</td>\n",
       "      <td>12.8</td>\n",
       "      <td>7</td>\n",
       "      <td>0</td>\n",
       "    </tr>\n",
       "    <tr>\n",
       "      <th>6496</th>\n",
       "      <td>6.0</td>\n",
       "      <td>0.21</td>\n",
       "      <td>0.38</td>\n",
       "      <td>0.8</td>\n",
       "      <td>0.020</td>\n",
       "      <td>22.0</td>\n",
       "      <td>98.0</td>\n",
       "      <td>0.98941</td>\n",
       "      <td>3.26</td>\n",
       "      <td>0.32</td>\n",
       "      <td>11.8</td>\n",
       "      <td>6</td>\n",
       "      <td>0</td>\n",
       "    </tr>\n",
       "  </tbody>\n",
       "</table>\n",
       "<p>6497 rows × 13 columns</p>\n",
       "</div>"
      ],
      "text/plain": [
       "        0     1     2    3      4     5      6        7     8     9     10  \\\n",
       "0      7.4  0.70  0.00  1.9  0.076  11.0   34.0  0.99780  3.51  0.56   9.4   \n",
       "1      7.8  0.88  0.00  2.6  0.098  25.0   67.0  0.99680  3.20  0.68   9.8   \n",
       "2      7.8  0.76  0.04  2.3  0.092  15.0   54.0  0.99700  3.26  0.65   9.8   \n",
       "3     11.2  0.28  0.56  1.9  0.075  17.0   60.0  0.99800  3.16  0.58   9.8   \n",
       "4      7.4  0.70  0.00  1.9  0.076  11.0   34.0  0.99780  3.51  0.56   9.4   \n",
       "...    ...   ...   ...  ...    ...   ...    ...      ...   ...   ...   ...   \n",
       "6492   6.2  0.21  0.29  1.6  0.039  24.0   92.0  0.99114  3.27  0.50  11.2   \n",
       "6493   6.6  0.32  0.36  8.0  0.047  57.0  168.0  0.99490  3.15  0.46   9.6   \n",
       "6494   6.5  0.24  0.19  1.2  0.041  30.0  111.0  0.99254  2.99  0.46   9.4   \n",
       "6495   5.5  0.29  0.30  1.1  0.022  20.0  110.0  0.98869  3.34  0.38  12.8   \n",
       "6496   6.0  0.21  0.38  0.8  0.020  22.0   98.0  0.98941  3.26  0.32  11.8   \n",
       "\n",
       "      11  12  \n",
       "0      5   1  \n",
       "1      5   1  \n",
       "2      5   1  \n",
       "3      6   1  \n",
       "4      5   1  \n",
       "...   ..  ..  \n",
       "6492   6   0  \n",
       "6493   5   0  \n",
       "6494   6   0  \n",
       "6495   7   0  \n",
       "6496   6   0  \n",
       "\n",
       "[6497 rows x 13 columns]"
      ]
     },
     "execution_count": 3,
     "metadata": {},
     "output_type": "execute_result"
    }
   ],
   "source": [
    "data = pd.read_csv(\"https://raw.githubusercontent.com/haram4th/ADsP/main/wine.csv\", header=None)\n",
    "data"
   ]
  },
  {
   "cell_type": "markdown",
   "id": "b47b8b0e",
   "metadata": {},
   "source": [
    "1. Alcohol\n",
    "2. Malic acid\n",
    "3. Ash\n",
    "4. Alcalinity of ash\n",
    "5. Magnesium\n",
    "6. Total phenols\n",
    "7. Flavanoids\n",
    "8. Nonflavanoid phenols\n",
    "9. Proanthocyanins\n",
    "10.Color intensity\n",
    "11.Hue\n",
    "12.OD280/OD315 of diluted wines\n",
    "13.Proline"
   ]
  },
  {
   "cell_type": "code",
   "execution_count": 4,
   "id": "7259c64a",
   "metadata": {},
   "outputs": [
    {
     "name": "stdout",
     "output_type": "stream",
     "text": [
      "<class 'pandas.core.frame.DataFrame'>\n",
      "RangeIndex: 6497 entries, 0 to 6496\n",
      "Data columns (total 13 columns):\n",
      " #   Column  Non-Null Count  Dtype  \n",
      "---  ------  --------------  -----  \n",
      " 0   0       6497 non-null   float64\n",
      " 1   1       6497 non-null   float64\n",
      " 2   2       6497 non-null   float64\n",
      " 3   3       6497 non-null   float64\n",
      " 4   4       6497 non-null   float64\n",
      " 5   5       6497 non-null   float64\n",
      " 6   6       6497 non-null   float64\n",
      " 7   7       6497 non-null   float64\n",
      " 8   8       6497 non-null   float64\n",
      " 9   9       6497 non-null   float64\n",
      " 10  10      6497 non-null   float64\n",
      " 11  11      6497 non-null   int64  \n",
      " 12  12      6497 non-null   int64  \n",
      "dtypes: float64(11), int64(2)\n",
      "memory usage: 660.0 KB\n"
     ]
    }
   ],
   "source": [
    "data.info()"
   ]
  },
  {
   "cell_type": "code",
   "execution_count": 5,
   "id": "2aac85a9",
   "metadata": {},
   "outputs": [
    {
     "data": {
      "text/plain": [
       "<Axes: >"
      ]
     },
     "execution_count": 5,
     "metadata": {},
     "output_type": "execute_result"
    },
    {
     "data": {
      "image/png": "[encoded data removed]",
      "text/plain": [
       "<Figure size 640x480 with 1 Axes>"
      ]
     },
     "metadata": {},
     "output_type": "display_data"
    }
   ],
   "source": [
    "sns.boxplot(data.iloc[:,0:3])"
   ]
  },
  {
   "cell_type": "code",
   "execution_count": null,
   "id": "499a3ad7",
   "metadata": {},
   "outputs": [],
   "source": []
  },
  {
   "cell_type": "code",
   "execution_count": 6,
   "id": "1ccfc83a",
   "metadata": {},
   "outputs": [
    {
     "data": {
      "text/plain": [
       "12\n",
       "0    4898\n",
       "1    1599\n",
       "Name: count, dtype: int64"
      ]
     },
     "execution_count": 6,
     "metadata": {},
     "output_type": "execute_result"
    }
   ],
   "source": [
    "data[12].value_counts()"
   ]
  },
  {
   "cell_type": "code",
   "execution_count": 7,
   "id": "61640759",
   "metadata": {},
   "outputs": [],
   "source": [
    "X = data.drop(12, axis=1)\n",
    "y = data[12]"
   ]
  },
  {
   "cell_type": "code",
   "execution_count": 8,
   "id": "1412e6d6",
   "metadata": {},
   "outputs": [],
   "source": [
    "from sklearn.preprocessing import RobustScaler"
   ]
  },
  {
   "cell_type": "code",
   "execution_count": 9,
   "id": "a4b1056f",
   "metadata": {},
   "outputs": [
    {
     "data": {
      "text/plain": [
       "array([[ 0.30769231,  2.41176471, -2.21428571, ...,  0.29411765,\n",
       "        -0.5       , -1.        ],\n",
       "       [ 0.61538462,  3.47058824, -2.21428571, ...,  1.        ,\n",
       "        -0.27777778, -1.        ],\n",
       "       [ 0.61538462,  2.76470588, -1.92857143, ...,  0.82352941,\n",
       "        -0.27777778, -1.        ],\n",
       "       ...,\n",
       "       [-0.38461538, -0.29411765, -0.85714286, ..., -0.29411765,\n",
       "        -0.5       ,  0.        ],\n",
       "       [-1.15384615,  0.        , -0.07142857, ..., -0.76470588,\n",
       "         1.38888889,  1.        ],\n",
       "       [-0.76923077, -0.47058824,  0.5       , ..., -1.11764706,\n",
       "         0.83333333,  0.        ]])"
      ]
     },
     "execution_count": 9,
     "metadata": {},
     "output_type": "execute_result"
    }
   ],
   "source": [
    "rs = RobustScaler()\n",
    "X_scaled = rs.fit_transform(X)\n",
    "X_scaled"
   ]
  },
  {
   "cell_type": "code",
   "execution_count": 10,
   "id": "96ecc56c",
   "metadata": {},
   "outputs": [
    {
     "data": {
      "text/plain": [
       "0       1\n",
       "1       1\n",
       "2       1\n",
       "3       1\n",
       "4       1\n",
       "       ..\n",
       "6492    0\n",
       "6493    0\n",
       "6494    0\n",
       "6495    0\n",
       "6496    0\n",
       "Name: 12, Length: 6497, dtype: int64"
      ]
     },
     "execution_count": 10,
     "metadata": {},
     "output_type": "execute_result"
    }
   ],
   "source": [
    "y"
   ]
  },
  {
   "cell_type": "code",
   "execution_count": 11,
   "id": "3bc9d732",
   "metadata": {},
   "outputs": [],
   "source": [
    "from sklearn.model_selection import train_test_split\n"
   ]
  },
  {
   "cell_type": "code",
   "execution_count": 12,
   "id": "f1df35e6",
   "metadata": {},
   "outputs": [],
   "source": [
    "X_train, X_valid, y_train, y_valid = train_test_split(X_scaled, y ,test_size=0.4 , stratify=y,random_state=10)\n",
    "X_valid, X_test, y_valid, y_test = train_test_split(X_valid, y_valid, test_size=0.5,stratify=y_valid, random_state=10)"
   ]
  },
  {
   "cell_type": "code",
   "execution_count": 13,
   "id": "74083a61",
   "metadata": {},
   "outputs": [
    {
     "name": "stderr",
     "output_type": "stream",
     "text": [
      "2024-09-11 09:08:32.071152: I tensorflow/core/platform/cpu_feature_guard.cc:193] This TensorFlow binary is optimized with oneAPI Deep Neural Network Library (oneDNN) to use the following CPU instructions in performance-critical operations:  AVX2 FMA\n",
      "To enable them in other operations, rebuild TensorFlow with the appropriate compiler flags.\n",
      "2024-09-11 09:08:34.925117: I tensorflow/c/logging.cc:34] Successfully opened dynamic library libdirectml.d6f03b303ac3c4f2eeb8ca631688c9757b361310.so\n",
      "2024-09-11 09:08:34.925277: I tensorflow/c/logging.cc:34] Successfully opened dynamic library libdxcore.so\n",
      "2024-09-11 09:08:34.929563: I tensorflow/c/logging.cc:34] Successfully opened dynamic library libd3d12.so\n",
      "2024-09-11 09:08:35.148798: I tensorflow/c/logging.cc:34] DirectML device enumeration: found 1 compatible adapters.\n"
     ]
    }
   ],
   "source": [
    "from tensorflow.keras.models import Sequential, Model\n",
    "from tensorflow.keras.layers import Dense, Input\n",
    "from sklearn.metrics import classification_report"
   ]
  },
  {
   "cell_type": "code",
   "execution_count": 17,
   "id": "87c9e71e",
   "metadata": {},
   "outputs": [
    {
     "name": "stdout",
     "output_type": "stream",
     "text": [
      "Model: \"sequential\"\n",
      "_________________________________________________________________\n",
      " Layer (type)                Output Shape              Param #   \n",
      "=================================================================\n",
      " dense (Dense)               (None, 32)                416       \n",
      "                                                                 \n",
      " dense_1 (Dense)             (None, 16)                528       \n",
      "                                                                 \n",
      " dense_2 (Dense)             (None, 8)                 136       \n",
      "                                                                 \n",
      " dense_3 (Dense)             (None, 1)                 9         \n",
      "                                                                 \n",
      "=================================================================\n",
      "Total params: 1,089\n",
      "Trainable params: 1,089\n",
      "Non-trainable params: 0\n",
      "_________________________________________________________________\n"
     ]
    },
    {
     "name": "stderr",
     "output_type": "stream",
     "text": [
      "2024-09-11 09:12:25.020101: I tensorflow/core/platform/cpu_feature_guard.cc:193] This TensorFlow binary is optimized with oneAPI Deep Neural Network Library (oneDNN) to use the following CPU instructions in performance-critical operations:  AVX2 FMA\n",
      "To enable them in other operations, rebuild TensorFlow with the appropriate compiler flags.\n",
      "2024-09-11 09:12:25.022264: I tensorflow/c/logging.cc:34] DirectML: creating device on adapter 0 (AMD Radeon(TM) Graphics)\n",
      "2024-09-11 09:12:25.104741: I tensorflow/core/common_runtime/pluggable_device/pluggable_device_factory.cc:306] Could not identify NUMA node of platform GPU ID 0, defaulting to 0. Your kernel may not have been built with NUMA support.\n",
      "2024-09-11 09:12:25.104796: W tensorflow/core/common_runtime/pluggable_device/pluggable_device_bfc_allocator.cc:28] Overriding allow_growth setting because force_memory_growth was requested by the device.\n",
      "2024-09-11 09:12:25.104820: I tensorflow/core/common_runtime/pluggable_device/pluggable_device_factory.cc:272] Created TensorFlow device (/job:localhost/replica:0/task:0/device:GPU:0 with 14845 MB memory) -> physical PluggableDevice (device: 0, name: DML, pci bus id: <undefined>)\n"
     ]
    }
   ],
   "source": [
    "model = Sequential()\n",
    "model.add(Dense(32, input_dim=X_train.shape[1], activation='relu'))\n",
    "model.add(Dense(16, activation='relu'))\n",
    "model.add(Dense(8, activation='relu'))\n",
    "model.add(Dense(1, activation='sigmoid'))\n",
    "model.summary()"
   ]
  },
  {
   "cell_type": "code",
   "execution_count": 18,
   "id": "d0246dd3",
   "metadata": {},
   "outputs": [
    {
     "name": "stdout",
     "output_type": "stream",
     "text": [
      "Epoch 1/100\n",
      "7/8 [=========================>....] - ETA: 0s - loss: 0.6751 - accuracy: 0.6551"
     ]
    },
    {
     "name": "stderr",
     "output_type": "stream",
     "text": [
      "2024-09-11 09:12:28.091228: I tensorflow/core/grappler/optimizers/custom_graph_optimizer_registry.cc:114] Plugin optimizer for device_type GPU is enabled.\n",
      "2024-09-11 09:12:28.161626: I tensorflow/core/common_runtime/pluggable_device/pluggable_device_factory.cc:306] Could not identify NUMA node of platform GPU ID 0, defaulting to 0. Your kernel may not have been built with NUMA support.\n",
      "2024-09-11 09:12:28.161699: I tensorflow/core/common_runtime/pluggable_device/pluggable_device_factory.cc:272] Created TensorFlow device (/job:localhost/replica:0/task:0/device:GPU:0 with 14845 MB memory) -> physical PluggableDevice (device: 0, name: DML, pci bus id: <undefined>)\n"
     ]
    },
    {
     "name": "stdout",
     "output_type": "stream",
     "text": [
      "8/8 [==============================] - 1s 35ms/step - loss: 0.6730 - accuracy: 0.6621 - val_loss: 0.6483 - val_accuracy: 0.7421\n",
      "Epoch 2/100\n",
      "8/8 [==============================] - 0s 16ms/step - loss: 0.6336 - accuracy: 0.7878 - val_loss: 0.6102 - val_accuracy: 0.8391\n",
      "Epoch 3/100\n",
      "1/8 [==>...........................] - ETA: 0s - loss: 0.6089 - accuracy: 0.8540"
     ]
    },
    {
     "name": "stderr",
     "output_type": "stream",
     "text": [
      "2024-09-11 09:12:28.428279: I tensorflow/core/grappler/optimizers/custom_graph_optimizer_registry.cc:114] Plugin optimizer for device_type GPU is enabled.\n",
      "2024-09-11 09:12:28.453219: I tensorflow/core/common_runtime/pluggable_device/pluggable_device_factory.cc:306] Could not identify NUMA node of platform GPU ID 0, defaulting to 0. Your kernel may not have been built with NUMA support.\n",
      "2024-09-11 09:12:28.453281: I tensorflow/core/common_runtime/pluggable_device/pluggable_device_factory.cc:272] Created TensorFlow device (/job:localhost/replica:0/task:0/device:GPU:0 with 14845 MB memory) -> physical PluggableDevice (device: 0, name: DML, pci bus id: <undefined>)\n"
     ]
    },
    {
     "name": "stdout",
     "output_type": "stream",
     "text": [
      "8/8 [==============================] - 0s 15ms/step - loss: 0.5925 - accuracy: 0.8774 - val_loss: 0.5643 - val_accuracy: 0.9338\n",
      "Epoch 4/100\n",
      "8/8 [==============================] - 0s 15ms/step - loss: 0.5420 - accuracy: 0.9441 - val_loss: 0.5093 - val_accuracy: 0.9584\n",
      "Epoch 5/100\n",
      "8/8 [==============================] - 0s 15ms/step - loss: 0.4827 - accuracy: 0.9664 - val_loss: 0.4475 - val_accuracy: 0.9677\n",
      "Epoch 6/100\n",
      "8/8 [==============================] - 0s 16ms/step - loss: 0.4196 - accuracy: 0.9779 - val_loss: 0.3875 - val_accuracy: 0.9746\n",
      "Epoch 7/100\n",
      "8/8 [==============================] - 0s 14ms/step - loss: 0.3595 - accuracy: 0.9828 - val_loss: 0.3315 - val_accuracy: 0.9761\n",
      "Epoch 8/100\n",
      "8/8 [==============================] - 0s 14ms/step - loss: 0.3036 - accuracy: 0.9831 - val_loss: 0.2799 - val_accuracy: 0.9784\n",
      "Epoch 9/100\n",
      "8/8 [==============================] - 0s 15ms/step - loss: 0.2528 - accuracy: 0.9846 - val_loss: 0.2340 - val_accuracy: 0.9823\n",
      "Epoch 10/100\n",
      "8/8 [==============================] - 0s 15ms/step - loss: 0.2085 - accuracy: 0.9882 - val_loss: 0.1945 - val_accuracy: 0.9831\n",
      "Epoch 11/100\n",
      "8/8 [==============================] - 0s 14ms/step - loss: 0.1714 - accuracy: 0.9887 - val_loss: 0.1616 - val_accuracy: 0.9846\n",
      "Epoch 12/100\n",
      "8/8 [==============================] - 0s 15ms/step - loss: 0.1409 - accuracy: 0.9885 - val_loss: 0.1354 - val_accuracy: 0.9846\n",
      "Epoch 13/100\n",
      "8/8 [==============================] - 0s 14ms/step - loss: 0.1171 - accuracy: 0.9895 - val_loss: 0.1149 - val_accuracy: 0.9861\n",
      "Epoch 14/100\n",
      "8/8 [==============================] - 0s 16ms/step - loss: 0.0987 - accuracy: 0.9892 - val_loss: 0.0990 - val_accuracy: 0.9885\n",
      "Epoch 15/100\n",
      "8/8 [==============================] - 0s 16ms/step - loss: 0.0844 - accuracy: 0.9892 - val_loss: 0.0868 - val_accuracy: 0.9900\n",
      "Epoch 16/100\n",
      "8/8 [==============================] - 0s 16ms/step - loss: 0.0734 - accuracy: 0.9897 - val_loss: 0.0774 - val_accuracy: 0.9908\n",
      "Epoch 17/100\n",
      "8/8 [==============================] - 0s 14ms/step - loss: 0.0650 - accuracy: 0.9897 - val_loss: 0.0701 - val_accuracy: 0.9908\n",
      "Epoch 18/100\n",
      "8/8 [==============================] - 0s 15ms/step - loss: 0.0585 - accuracy: 0.9897 - val_loss: 0.0643 - val_accuracy: 0.9915\n",
      "Epoch 19/100\n",
      "8/8 [==============================] - 0s 14ms/step - loss: 0.0533 - accuracy: 0.9910 - val_loss: 0.0596 - val_accuracy: 0.9915\n",
      "Epoch 20/100\n",
      "8/8 [==============================] - 0s 15ms/step - loss: 0.0491 - accuracy: 0.9913 - val_loss: 0.0558 - val_accuracy: 0.9923\n",
      "Epoch 21/100\n",
      "8/8 [==============================] - 0s 15ms/step - loss: 0.0456 - accuracy: 0.9918 - val_loss: 0.0528 - val_accuracy: 0.9923\n",
      "Epoch 22/100\n",
      "8/8 [==============================] - 0s 15ms/step - loss: 0.0426 - accuracy: 0.9926 - val_loss: 0.0504 - val_accuracy: 0.9923\n",
      "Epoch 23/100\n",
      "8/8 [==============================] - 0s 14ms/step - loss: 0.0403 - accuracy: 0.9928 - val_loss: 0.0483 - val_accuracy: 0.9923\n",
      "Epoch 24/100\n",
      "8/8 [==============================] - 0s 16ms/step - loss: 0.0382 - accuracy: 0.9928 - val_loss: 0.0466 - val_accuracy: 0.9923\n",
      "Epoch 25/100\n",
      "8/8 [==============================] - 0s 17ms/step - loss: 0.0364 - accuracy: 0.9928 - val_loss: 0.0452 - val_accuracy: 0.9923\n",
      "Epoch 26/100\n",
      "8/8 [==============================] - 0s 17ms/step - loss: 0.0349 - accuracy: 0.9933 - val_loss: 0.0439 - val_accuracy: 0.9931\n",
      "Epoch 27/100\n",
      "8/8 [==============================] - 0s 15ms/step - loss: 0.0336 - accuracy: 0.9933 - val_loss: 0.0429 - val_accuracy: 0.9931\n",
      "Epoch 28/100\n",
      "8/8 [==============================] - 0s 17ms/step - loss: 0.0324 - accuracy: 0.9936 - val_loss: 0.0420 - val_accuracy: 0.9931\n",
      "Epoch 29/100\n",
      "8/8 [==============================] - 0s 16ms/step - loss: 0.0313 - accuracy: 0.9938 - val_loss: 0.0411 - val_accuracy: 0.9931\n",
      "Epoch 30/100\n",
      "8/8 [==============================] - 0s 14ms/step - loss: 0.0304 - accuracy: 0.9938 - val_loss: 0.0404 - val_accuracy: 0.9931\n",
      "Epoch 31/100\n",
      "8/8 [==============================] - 0s 14ms/step - loss: 0.0295 - accuracy: 0.9941 - val_loss: 0.0396 - val_accuracy: 0.9931\n",
      "Epoch 32/100\n",
      "8/8 [==============================] - 0s 14ms/step - loss: 0.0287 - accuracy: 0.9941 - val_loss: 0.0390 - val_accuracy: 0.9931\n",
      "Epoch 33/100\n",
      "8/8 [==============================] - 0s 15ms/step - loss: 0.0279 - accuracy: 0.9944 - val_loss: 0.0384 - val_accuracy: 0.9931\n",
      "Epoch 34/100\n",
      "8/8 [==============================] - 0s 14ms/step - loss: 0.0273 - accuracy: 0.9946 - val_loss: 0.0379 - val_accuracy: 0.9931\n",
      "Epoch 35/100\n",
      "8/8 [==============================] - 0s 16ms/step - loss: 0.0267 - accuracy: 0.9949 - val_loss: 0.0375 - val_accuracy: 0.9931\n",
      "Epoch 36/100\n",
      "8/8 [==============================] - 0s 16ms/step - loss: 0.0261 - accuracy: 0.9949 - val_loss: 0.0370 - val_accuracy: 0.9931\n",
      "Epoch 37/100\n",
      "8/8 [==============================] - 0s 14ms/step - loss: 0.0255 - accuracy: 0.9949 - val_loss: 0.0366 - val_accuracy: 0.9931\n",
      "Epoch 38/100\n",
      "8/8 [==============================] - 0s 14ms/step - loss: 0.0250 - accuracy: 0.9951 - val_loss: 0.0363 - val_accuracy: 0.9938\n",
      "Epoch 39/100\n",
      "8/8 [==============================] - 0s 17ms/step - loss: 0.0245 - accuracy: 0.9951 - val_loss: 0.0360 - val_accuracy: 0.9946\n",
      "Epoch 40/100\n",
      "8/8 [==============================] - 0s 17ms/step - loss: 0.0241 - accuracy: 0.9951 - val_loss: 0.0357 - val_accuracy: 0.9946\n",
      "Epoch 41/100\n",
      "8/8 [==============================] - 0s 14ms/step - loss: 0.0236 - accuracy: 0.9951 - val_loss: 0.0352 - val_accuracy: 0.9946\n",
      "Epoch 42/100\n",
      "8/8 [==============================] - 0s 14ms/step - loss: 0.0232 - accuracy: 0.9951 - val_loss: 0.0349 - val_accuracy: 0.9946\n",
      "Epoch 43/100\n",
      "8/8 [==============================] - 0s 16ms/step - loss: 0.0228 - accuracy: 0.9951 - val_loss: 0.0346 - val_accuracy: 0.9946\n",
      "Epoch 44/100\n",
      "8/8 [==============================] - 0s 17ms/step - loss: 0.0224 - accuracy: 0.9951 - val_loss: 0.0344 - val_accuracy: 0.9946\n",
      "Epoch 45/100\n",
      "8/8 [==============================] - 0s 16ms/step - loss: 0.0220 - accuracy: 0.9956 - val_loss: 0.0341 - val_accuracy: 0.9946\n",
      "Epoch 46/100\n",
      "8/8 [==============================] - 0s 16ms/step - loss: 0.0217 - accuracy: 0.9956 - val_loss: 0.0339 - val_accuracy: 0.9946\n",
      "Epoch 47/100\n",
      "8/8 [==============================] - 0s 16ms/step - loss: 0.0213 - accuracy: 0.9959 - val_loss: 0.0337 - val_accuracy: 0.9954\n",
      "Epoch 48/100\n",
      "8/8 [==============================] - 0s 15ms/step - loss: 0.0210 - accuracy: 0.9959 - val_loss: 0.0334 - val_accuracy: 0.9954\n",
      "Epoch 49/100\n",
      "8/8 [==============================] - 0s 14ms/step - loss: 0.0206 - accuracy: 0.9959 - val_loss: 0.0331 - val_accuracy: 0.9954\n",
      "Epoch 50/100\n",
      "8/8 [==============================] - 0s 16ms/step - loss: 0.0204 - accuracy: 0.9959 - val_loss: 0.0330 - val_accuracy: 0.9954\n",
      "Epoch 51/100\n",
      "8/8 [==============================] - 0s 17ms/step - loss: 0.0200 - accuracy: 0.9964 - val_loss: 0.0328 - val_accuracy: 0.9954\n",
      "Epoch 52/100\n",
      "8/8 [==============================] - 0s 14ms/step - loss: 0.0197 - accuracy: 0.9964 - val_loss: 0.0327 - val_accuracy: 0.9954\n",
      "Epoch 53/100\n",
      "8/8 [==============================] - 0s 14ms/step - loss: 0.0194 - accuracy: 0.9962 - val_loss: 0.0327 - val_accuracy: 0.9954\n",
      "Epoch 54/100\n",
      "8/8 [==============================] - 0s 15ms/step - loss: 0.0191 - accuracy: 0.9962 - val_loss: 0.0325 - val_accuracy: 0.9954\n",
      "Epoch 55/100\n",
      "8/8 [==============================] - 0s 15ms/step - loss: 0.0188 - accuracy: 0.9964 - val_loss: 0.0322 - val_accuracy: 0.9954\n",
      "Epoch 56/100\n",
      "8/8 [==============================] - 0s 14ms/step - loss: 0.0185 - accuracy: 0.9967 - val_loss: 0.0320 - val_accuracy: 0.9954\n",
      "Epoch 57/100\n",
      "8/8 [==============================] - 0s 16ms/step - loss: 0.0183 - accuracy: 0.9967 - val_loss: 0.0319 - val_accuracy: 0.9954\n",
      "Epoch 58/100\n",
      "8/8 [==============================] - 0s 14ms/step - loss: 0.0181 - accuracy: 0.9967 - val_loss: 0.0320 - val_accuracy: 0.9954\n",
      "Epoch 59/100\n",
      "8/8 [==============================] - 0s 15ms/step - loss: 0.0177 - accuracy: 0.9967 - val_loss: 0.0317 - val_accuracy: 0.9954\n",
      "Epoch 60/100\n",
      "8/8 [==============================] - 0s 14ms/step - loss: 0.0175 - accuracy: 0.9967 - val_loss: 0.0315 - val_accuracy: 0.9954\n",
      "Epoch 61/100\n"
     ]
    },
    {
     "name": "stdout",
     "output_type": "stream",
     "text": [
      "8/8 [==============================] - 0s 14ms/step - loss: 0.0172 - accuracy: 0.9967 - val_loss: 0.0315 - val_accuracy: 0.9954\n",
      "Epoch 62/100\n",
      "8/8 [==============================] - 0s 13ms/step - loss: 0.0170 - accuracy: 0.9967 - val_loss: 0.0315 - val_accuracy: 0.9954\n",
      "Epoch 63/100\n",
      "8/8 [==============================] - 0s 14ms/step - loss: 0.0168 - accuracy: 0.9967 - val_loss: 0.0314 - val_accuracy: 0.9954\n",
      "Epoch 64/100\n",
      "8/8 [==============================] - 0s 14ms/step - loss: 0.0166 - accuracy: 0.9967 - val_loss: 0.0315 - val_accuracy: 0.9954\n",
      "Epoch 65/100\n",
      "8/8 [==============================] - 0s 13ms/step - loss: 0.0164 - accuracy: 0.9967 - val_loss: 0.0313 - val_accuracy: 0.9954\n",
      "Epoch 66/100\n",
      "8/8 [==============================] - 0s 14ms/step - loss: 0.0162 - accuracy: 0.9967 - val_loss: 0.0311 - val_accuracy: 0.9954\n",
      "Epoch 67/100\n",
      "8/8 [==============================] - 0s 14ms/step - loss: 0.0160 - accuracy: 0.9967 - val_loss: 0.0309 - val_accuracy: 0.9954\n",
      "Epoch 68/100\n",
      "8/8 [==============================] - 0s 14ms/step - loss: 0.0158 - accuracy: 0.9969 - val_loss: 0.0308 - val_accuracy: 0.9954\n",
      "Epoch 69/100\n",
      "8/8 [==============================] - 0s 14ms/step - loss: 0.0156 - accuracy: 0.9967 - val_loss: 0.0311 - val_accuracy: 0.9954\n",
      "Epoch 70/100\n",
      "8/8 [==============================] - 0s 15ms/step - loss: 0.0154 - accuracy: 0.9967 - val_loss: 0.0309 - val_accuracy: 0.9954\n",
      "Epoch 71/100\n",
      "8/8 [==============================] - 0s 14ms/step - loss: 0.0153 - accuracy: 0.9969 - val_loss: 0.0309 - val_accuracy: 0.9954\n",
      "Epoch 72/100\n",
      "8/8 [==============================] - 0s 14ms/step - loss: 0.0151 - accuracy: 0.9969 - val_loss: 0.0307 - val_accuracy: 0.9954\n",
      "Epoch 73/100\n",
      "8/8 [==============================] - 0s 14ms/step - loss: 0.0149 - accuracy: 0.9969 - val_loss: 0.0308 - val_accuracy: 0.9954\n",
      "Epoch 74/100\n",
      "8/8 [==============================] - 0s 14ms/step - loss: 0.0148 - accuracy: 0.9969 - val_loss: 0.0308 - val_accuracy: 0.9954\n",
      "Epoch 75/100\n",
      "8/8 [==============================] - 0s 14ms/step - loss: 0.0146 - accuracy: 0.9969 - val_loss: 0.0307 - val_accuracy: 0.9954\n",
      "Epoch 76/100\n",
      "8/8 [==============================] - 0s 14ms/step - loss: 0.0145 - accuracy: 0.9972 - val_loss: 0.0306 - val_accuracy: 0.9954\n",
      "Epoch 77/100\n",
      "8/8 [==============================] - 0s 14ms/step - loss: 0.0144 - accuracy: 0.9972 - val_loss: 0.0307 - val_accuracy: 0.9954\n",
      "Epoch 78/100\n",
      "8/8 [==============================] - 0s 15ms/step - loss: 0.0142 - accuracy: 0.9974 - val_loss: 0.0306 - val_accuracy: 0.9954\n",
      "Epoch 79/100\n",
      "8/8 [==============================] - 0s 14ms/step - loss: 0.0141 - accuracy: 0.9972 - val_loss: 0.0305 - val_accuracy: 0.9954\n",
      "Epoch 80/100\n",
      "8/8 [==============================] - 0s 14ms/step - loss: 0.0140 - accuracy: 0.9972 - val_loss: 0.0304 - val_accuracy: 0.9954\n",
      "Epoch 81/100\n",
      "8/8 [==============================] - 0s 14ms/step - loss: 0.0139 - accuracy: 0.9972 - val_loss: 0.0306 - val_accuracy: 0.9954\n",
      "Epoch 82/100\n",
      "8/8 [==============================] - 0s 13ms/step - loss: 0.0137 - accuracy: 0.9974 - val_loss: 0.0303 - val_accuracy: 0.9954\n",
      "Epoch 83/100\n",
      "8/8 [==============================] - 0s 14ms/step - loss: 0.0136 - accuracy: 0.9974 - val_loss: 0.0304 - val_accuracy: 0.9954\n",
      "Epoch 84/100\n",
      "8/8 [==============================] - 0s 15ms/step - loss: 0.0135 - accuracy: 0.9974 - val_loss: 0.0305 - val_accuracy: 0.9954\n",
      "Epoch 85/100\n",
      "8/8 [==============================] - 0s 14ms/step - loss: 0.0134 - accuracy: 0.9974 - val_loss: 0.0304 - val_accuracy: 0.9954\n",
      "Epoch 86/100\n",
      "8/8 [==============================] - 0s 14ms/step - loss: 0.0133 - accuracy: 0.9977 - val_loss: 0.0304 - val_accuracy: 0.9954\n",
      "Epoch 87/100\n",
      "8/8 [==============================] - 0s 14ms/step - loss: 0.0132 - accuracy: 0.9977 - val_loss: 0.0305 - val_accuracy: 0.9954\n",
      "Epoch 88/100\n",
      "8/8 [==============================] - 0s 14ms/step - loss: 0.0131 - accuracy: 0.9977 - val_loss: 0.0302 - val_accuracy: 0.9954\n",
      "Epoch 89/100\n",
      "8/8 [==============================] - 0s 14ms/step - loss: 0.0130 - accuracy: 0.9977 - val_loss: 0.0302 - val_accuracy: 0.9954\n",
      "Epoch 90/100\n",
      "8/8 [==============================] - 0s 16ms/step - loss: 0.0128 - accuracy: 0.9977 - val_loss: 0.0303 - val_accuracy: 0.9954\n",
      "Epoch 91/100\n",
      "8/8 [==============================] - 0s 15ms/step - loss: 0.0127 - accuracy: 0.9974 - val_loss: 0.0303 - val_accuracy: 0.9954\n",
      "Epoch 92/100\n",
      "8/8 [==============================] - 0s 14ms/step - loss: 0.0126 - accuracy: 0.9974 - val_loss: 0.0302 - val_accuracy: 0.9954\n",
      "Epoch 93/100\n",
      "8/8 [==============================] - 0s 14ms/step - loss: 0.0126 - accuracy: 0.9977 - val_loss: 0.0299 - val_accuracy: 0.9954\n",
      "Epoch 94/100\n",
      "8/8 [==============================] - 0s 14ms/step - loss: 0.0125 - accuracy: 0.9977 - val_loss: 0.0301 - val_accuracy: 0.9954\n",
      "Epoch 95/100\n",
      "8/8 [==============================] - 0s 14ms/step - loss: 0.0123 - accuracy: 0.9977 - val_loss: 0.0302 - val_accuracy: 0.9954\n",
      "Epoch 96/100\n",
      "8/8 [==============================] - 0s 15ms/step - loss: 0.0123 - accuracy: 0.9977 - val_loss: 0.0302 - val_accuracy: 0.9954\n",
      "Epoch 97/100\n",
      "8/8 [==============================] - 0s 14ms/step - loss: 0.0122 - accuracy: 0.9977 - val_loss: 0.0300 - val_accuracy: 0.9954\n",
      "Epoch 98/100\n",
      "8/8 [==============================] - 0s 14ms/step - loss: 0.0121 - accuracy: 0.9977 - val_loss: 0.0298 - val_accuracy: 0.9954\n",
      "Epoch 99/100\n",
      "8/8 [==============================] - 0s 14ms/step - loss: 0.0120 - accuracy: 0.9977 - val_loss: 0.0299 - val_accuracy: 0.9954\n",
      "Epoch 100/100\n",
      "8/8 [==============================] - 0s 14ms/step - loss: 0.0119 - accuracy: 0.9977 - val_loss: 0.0303 - val_accuracy: 0.9954\n"
     ]
    }
   ],
   "source": [
    "model.compile(loss='binary_crossentropy', optimizer='adam', metrics=['accuracy'])\n",
    "history = model.fit(X_train, y_train, epochs=100, batch_size=500, validation_data=(X_valid,y_valid))"
   ]
  },
  {
   "cell_type": "code",
   "execution_count": 19,
   "id": "46d6fd59",
   "metadata": {},
   "outputs": [
    {
     "name": "stdout",
     "output_type": "stream",
     "text": [
      "41/41 [==============================] - 0s 3ms/step\n",
      "              precision    recall  f1-score   support\n",
      "\n",
      "           0       0.99      1.00      1.00       980\n",
      "           1       1.00      0.98      0.99       320\n",
      "\n",
      "    accuracy                           1.00      1300\n",
      "   macro avg       1.00      0.99      0.99      1300\n",
      "weighted avg       1.00      1.00      1.00      1300\n",
      "\n"
     ]
    },
    {
     "name": "stderr",
     "output_type": "stream",
     "text": [
      "2024-09-11 09:12:41.322621: I tensorflow/core/grappler/optimizers/custom_graph_optimizer_registry.cc:114] Plugin optimizer for device_type GPU is enabled.\n",
      "2024-09-11 09:12:41.448316: I tensorflow/core/common_runtime/pluggable_device/pluggable_device_factory.cc:306] Could not identify NUMA node of platform GPU ID 0, defaulting to 0. Your kernel may not have been built with NUMA support.\n",
      "2024-09-11 09:12:41.448403: I tensorflow/core/common_runtime/pluggable_device/pluggable_device_factory.cc:272] Created TensorFlow device (/job:localhost/replica:0/task:0/device:GPU:0 with 14845 MB memory) -> physical PluggableDevice (device: 0, name: DML, pci bus id: <undefined>)\n",
      "2024-09-11 09:12:41.469784: I tensorflow/core/common_runtime/pluggable_device/pluggable_device_factory.cc:306] Could not identify NUMA node of platform GPU ID 0, defaulting to 0. Your kernel may not have been built with NUMA support.\n",
      "2024-09-11 09:12:41.469848: I tensorflow/core/common_runtime/pluggable_device/pluggable_device_factory.cc:272] Created TensorFlow device (/job:localhost/replica:0/task:0/device:GPU:0 with 14845 MB memory) -> physical PluggableDevice (device: 0, name: DML, pci bus id: <undefined>)\n",
      "2024-09-11 09:12:41.474878: I tensorflow/core/common_runtime/pluggable_device/pluggable_device_factory.cc:306] Could not identify NUMA node of platform GPU ID 0, defaulting to 0. Your kernel may not have been built with NUMA support.\n",
      "2024-09-11 09:12:41.474938: I tensorflow/core/common_runtime/pluggable_device/pluggable_device_factory.cc:272] Created TensorFlow device (/job:localhost/replica:0/task:0/device:GPU:0 with 14845 MB memory) -> physical PluggableDevice (device: 0, name: DML, pci bus id: <undefined>)\n"
     ]
    }
   ],
   "source": [
    "pred = model.predict(X_test)\n",
    "pred = pd.DataFrame(pred)\n",
    "pred = pred[0].apply(lambda x: 1 if x> 0.5 else 0)\n",
    "print(classification_report(y_test, pred))"
   ]
  },
  {
   "cell_type": "code",
   "execution_count": 20,
   "id": "820b1a9e",
   "metadata": {},
   "outputs": [
    {
     "data": {
      "text/plain": [
       "dict_keys(['loss', 'accuracy', 'val_loss', 'val_accuracy'])"
      ]
     },
     "execution_count": 20,
     "metadata": {},
     "output_type": "execute_result"
    }
   ],
   "source": [
    "history.history.keys()"
   ]
  },
  {
   "cell_type": "code",
   "execution_count": 21,
   "id": "015fd116",
   "metadata": {},
   "outputs": [
    {
     "data": {
      "image/png": "[encoded data removed]",
      "text/plain": [
       "<Figure size 800x400 with 1 Axes>"
      ]
     },
     "metadata": {},
     "output_type": "display_data"
    }
   ],
   "source": [
    "plt.figure(figsize=(8,4))\n",
    "plt.plot(history.history['loss'])\n",
    "plt.plot(history.history['val_loss'])\n",
    "plt.xlabel('epochs')\n",
    "plt.ylabel('loss')\n",
    "plt.legend(['train', 'val'])\n",
    "plt.show()"
   ]
  },
  {
   "cell_type": "code",
   "execution_count": null,
   "id": "4f0599c6",
   "metadata": {},
   "outputs": [],
   "source": []
  },
  {
   "cell_type": "markdown",
   "id": "ba0b15cd",
   "metadata": {},
   "source": [
    "# EarlyStopping으로 학습 조기 중단 및 저장하기"
   ]
  },
  {
   "cell_type": "code",
   "execution_count": 22,
   "id": "b2a0fd24",
   "metadata": {},
   "outputs": [],
   "source": [
    "from tensorflow.keras.callbacks import EarlyStopping, ModelCheckpoint\n"
   ]
  },
  {
   "cell_type": "code",
   "execution_count": 23,
   "id": "208fc024",
   "metadata": {},
   "outputs": [],
   "source": [
    "early_stopping_callback = EarlyStopping(monitor='val_loss', patience=20)"
   ]
  },
  {
   "cell_type": "markdown",
   "id": "203efe11",
   "metadata": {},
   "source": [
    "# ModelCheckpoint\n",
    "* 모델을 중간에 저장하는 옵션 "
   ]
  },
  {
   "cell_type": "code",
   "execution_count": 32,
   "id": "329263ea",
   "metadata": {},
   "outputs": [
    {
     "name": "stdout",
     "output_type": "stream",
     "text": [
      "Directory /model created.\n"
     ]
    }
   ],
   "source": [
    "import os\n",
    "if not os.path.exists(\"./model\"):\n",
    "    os.makedirs(\"./model\")\n",
    "    print(f\"Directory /model created.\")\n",
    "else:\n",
    "    print(f\"Directory /model already exists.\")"
   ]
  },
  {
   "cell_type": "code",
   "execution_count": 33,
   "id": "3b1013c3",
   "metadata": {},
   "outputs": [],
   "source": [
    "modelpath = \"./model/{epoch:03d}--{val_loss:.4f}.keras\"\n",
    "checkpointer = ModelCheckpoint(filepath=modelpath, monitor='val_loss', verbose=0, save_best_only=True)"
   ]
  },
  {
   "cell_type": "code",
   "execution_count": 35,
   "id": "278f2f81",
   "metadata": {},
   "outputs": [
    {
     "name": "stdout",
     "output_type": "stream",
     "text": [
      "Epoch 1/1000\n",
      "8/8 [==============================] - 0s 29ms/step - loss: 0.0102 - accuracy: 0.9982 - val_loss: 0.0308 - val_accuracy: 0.9946\n",
      "Epoch 2/1000\n",
      "8/8 [==============================] - 0s 24ms/step - loss: 0.0101 - accuracy: 0.9985 - val_loss: 0.0308 - val_accuracy: 0.9946\n",
      "Epoch 3/1000\n",
      "8/8 [==============================] - 0s 24ms/step - loss: 0.0101 - accuracy: 0.9985 - val_loss: 0.0305 - val_accuracy: 0.9946\n",
      "Epoch 4/1000\n",
      "8/8 [==============================] - 0s 16ms/step - loss: 0.0100 - accuracy: 0.9985 - val_loss: 0.0306 - val_accuracy: 0.9946\n",
      "Epoch 5/1000\n",
      "8/8 [==============================] - 0s 16ms/step - loss: 0.0099 - accuracy: 0.9985 - val_loss: 0.0309 - val_accuracy: 0.9946\n",
      "Epoch 6/1000\n",
      "8/8 [==============================] - 0s 17ms/step - loss: 0.0098 - accuracy: 0.9985 - val_loss: 0.0307 - val_accuracy: 0.9946\n",
      "Epoch 7/1000\n",
      "8/8 [==============================] - 0s 18ms/step - loss: 0.0097 - accuracy: 0.9985 - val_loss: 0.0308 - val_accuracy: 0.9946\n",
      "Epoch 8/1000\n",
      "8/8 [==============================] - 0s 25ms/step - loss: 0.0096 - accuracy: 0.9985 - val_loss: 0.0305 - val_accuracy: 0.9946\n",
      "Epoch 9/1000\n",
      "8/8 [==============================] - 0s 18ms/step - loss: 0.0095 - accuracy: 0.9985 - val_loss: 0.0308 - val_accuracy: 0.9946\n",
      "Epoch 10/1000\n",
      "8/8 [==============================] - 0s 16ms/step - loss: 0.0094 - accuracy: 0.9985 - val_loss: 0.0307 - val_accuracy: 0.9946\n",
      "Epoch 11/1000\n",
      "8/8 [==============================] - 0s 19ms/step - loss: 0.0094 - accuracy: 0.9985 - val_loss: 0.0308 - val_accuracy: 0.9946\n",
      "Epoch 12/1000\n",
      "8/8 [==============================] - 0s 19ms/step - loss: 0.0093 - accuracy: 0.9985 - val_loss: 0.0306 - val_accuracy: 0.9946\n",
      "Epoch 13/1000\n",
      "8/8 [==============================] - 0s 16ms/step - loss: 0.0092 - accuracy: 0.9985 - val_loss: 0.0308 - val_accuracy: 0.9946\n",
      "Epoch 14/1000\n",
      "8/8 [==============================] - 0s 15ms/step - loss: 0.0091 - accuracy: 0.9985 - val_loss: 0.0307 - val_accuracy: 0.9946\n",
      "Epoch 15/1000\n",
      "8/8 [==============================] - 0s 15ms/step - loss: 0.0090 - accuracy: 0.9985 - val_loss: 0.0308 - val_accuracy: 0.9946\n",
      "Epoch 16/1000\n",
      "8/8 [==============================] - 0s 17ms/step - loss: 0.0090 - accuracy: 0.9985 - val_loss: 0.0310 - val_accuracy: 0.9946\n",
      "Epoch 17/1000\n",
      "8/8 [==============================] - 0s 18ms/step - loss: 0.0089 - accuracy: 0.9985 - val_loss: 0.0307 - val_accuracy: 0.9946\n",
      "Epoch 18/1000\n",
      "8/8 [==============================] - 0s 15ms/step - loss: 0.0088 - accuracy: 0.9985 - val_loss: 0.0308 - val_accuracy: 0.9946\n",
      "Epoch 19/1000\n",
      "8/8 [==============================] - 0s 16ms/step - loss: 0.0087 - accuracy: 0.9985 - val_loss: 0.0308 - val_accuracy: 0.9946\n",
      "Epoch 20/1000\n",
      "8/8 [==============================] - 0s 15ms/step - loss: 0.0086 - accuracy: 0.9985 - val_loss: 0.0309 - val_accuracy: 0.9946\n",
      "Epoch 21/1000\n",
      "8/8 [==============================] - 0s 17ms/step - loss: 0.0086 - accuracy: 0.9985 - val_loss: 0.0309 - val_accuracy: 0.9946\n",
      "Epoch 22/1000\n",
      "8/8 [==============================] - 0s 16ms/step - loss: 0.0085 - accuracy: 0.9985 - val_loss: 0.0307 - val_accuracy: 0.9946\n",
      "Epoch 23/1000\n",
      "8/8 [==============================] - 0s 17ms/step - loss: 0.0084 - accuracy: 0.9985 - val_loss: 0.0309 - val_accuracy: 0.9946\n",
      "Epoch 24/1000\n",
      "8/8 [==============================] - 0s 16ms/step - loss: 0.0083 - accuracy: 0.9985 - val_loss: 0.0309 - val_accuracy: 0.9946\n",
      "Epoch 25/1000\n",
      "8/8 [==============================] - 0s 15ms/step - loss: 0.0083 - accuracy: 0.9985 - val_loss: 0.0308 - val_accuracy: 0.9946\n",
      "Epoch 26/1000\n",
      "8/8 [==============================] - 0s 15ms/step - loss: 0.0082 - accuracy: 0.9985 - val_loss: 0.0309 - val_accuracy: 0.9946\n",
      "Epoch 27/1000\n",
      "8/8 [==============================] - 0s 16ms/step - loss: 0.0081 - accuracy: 0.9985 - val_loss: 0.0310 - val_accuracy: 0.9946\n",
      "Epoch 28/1000\n",
      "8/8 [==============================] - 0s 16ms/step - loss: 0.0081 - accuracy: 0.9985 - val_loss: 0.0311 - val_accuracy: 0.9946\n"
     ]
    }
   ],
   "source": [
    "history = model.fit(X_train, y_train, epochs=1000, batch_size=500, validation_data=(X_valid,y_valid),\n",
    "                   callbacks=[early_stopping_callback, checkpointer])"
   ]
  },
  {
   "cell_type": "markdown",
   "id": "4982ee19",
   "metadata": {},
   "source": [
    "# 저장된 베스트 모델을 불러와서 테스트 하기"
   ]
  },
  {
   "cell_type": "code",
   "execution_count": 36,
   "id": "925bf893",
   "metadata": {},
   "outputs": [],
   "source": [
    "from tensorflow.keras.models import load_model"
   ]
  },
  {
   "cell_type": "code",
   "execution_count": 37,
   "id": "6464c3c5",
   "metadata": {},
   "outputs": [],
   "source": [
    "best_model = load_model(\"./model/008--0.0305.keras\")"
   ]
  },
  {
   "cell_type": "code",
   "execution_count": 38,
   "id": "4019b74c",
   "metadata": {},
   "outputs": [
    {
     "name": "stdout",
     "output_type": "stream",
     "text": [
      "41/41 [==============================] - 0s 3ms/step\n",
      "              precision    recall  f1-score   support\n",
      "\n",
      "           0       1.00      1.00      1.00       980\n",
      "           1       1.00      0.99      0.99       320\n",
      "\n",
      "    accuracy                           1.00      1300\n",
      "   macro avg       1.00      0.99      1.00      1300\n",
      "weighted avg       1.00      1.00      1.00      1300\n",
      "\n"
     ]
    },
    {
     "name": "stderr",
     "output_type": "stream",
     "text": [
      "2024-09-10 11:31:52.480387: I tensorflow/core/grappler/optimizers/custom_graph_optimizer_registry.cc:114] Plugin optimizer for device_type GPU is enabled.\n"
     ]
    }
   ],
   "source": [
    "best_pred = best_model.predict(X_test)\n",
    "best_pred = pd.DataFrame(best_pred)\n",
    "best_pred = best_pred[0].apply(lambda x: 1 if x>0.5 else 0)\n",
    "print(classification_report(y_test,best_pred))"
   ]
  },
  {
   "cell_type": "code",
   "execution_count": null,
   "id": "72b0930c",
   "metadata": {},
   "outputs": [],
   "source": []
  },
  {
   "cell_type": "code",
   "execution_count": null,
   "id": "f0d42373",
   "metadata": {},
   "outputs": [],
   "source": []
  },
  {
   "cell_type": "markdown",
   "id": "0a09ef8f",
   "metadata": {},
   "source": [
    "# 다중분류 와인"
   ]
  },
  {
   "cell_type": "code",
   "execution_count": 94,
   "id": "8e75bcc3",
   "metadata": {},
   "outputs": [
    {
     "data": {
      "text/html": [
       "<div>\n",
       "<style scoped>\n",
       "    .dataframe tbody tr th:only-of-type {\n",
       "        vertical-align: middle;\n",
       "    }\n",
       "\n",
       "    .dataframe tbody tr th {\n",
       "        vertical-align: top;\n",
       "    }\n",
       "\n",
       "    .dataframe thead th {\n",
       "        text-align: right;\n",
       "    }\n",
       "</style>\n",
       "<table border=\"1\" class=\"dataframe\">\n",
       "  <thead>\n",
       "    <tr style=\"text-align: right;\">\n",
       "      <th></th>\n",
       "      <th>fixed acidity</th>\n",
       "      <th>volatile acidity</th>\n",
       "      <th>citric acid</th>\n",
       "      <th>residual sugar</th>\n",
       "      <th>chlorides</th>\n",
       "      <th>free sulfur dioxide</th>\n",
       "      <th>total sulfur dioxide</th>\n",
       "      <th>density</th>\n",
       "      <th>pH</th>\n",
       "      <th>sulphates</th>\n",
       "      <th>alcohol</th>\n",
       "      <th>quality</th>\n",
       "    </tr>\n",
       "  </thead>\n",
       "  <tbody>\n",
       "    <tr>\n",
       "      <th>0</th>\n",
       "      <td>7.0</td>\n",
       "      <td>0.27</td>\n",
       "      <td>0.36</td>\n",
       "      <td>20.7</td>\n",
       "      <td>0.045</td>\n",
       "      <td>45.0</td>\n",
       "      <td>170.0</td>\n",
       "      <td>1.0010</td>\n",
       "      <td>3.00</td>\n",
       "      <td>0.45</td>\n",
       "      <td>8.8</td>\n",
       "      <td>6</td>\n",
       "    </tr>\n",
       "    <tr>\n",
       "      <th>1</th>\n",
       "      <td>6.3</td>\n",
       "      <td>0.30</td>\n",
       "      <td>0.34</td>\n",
       "      <td>1.6</td>\n",
       "      <td>0.049</td>\n",
       "      <td>14.0</td>\n",
       "      <td>132.0</td>\n",
       "      <td>0.9940</td>\n",
       "      <td>3.30</td>\n",
       "      <td>0.49</td>\n",
       "      <td>9.5</td>\n",
       "      <td>6</td>\n",
       "    </tr>\n",
       "    <tr>\n",
       "      <th>2</th>\n",
       "      <td>8.1</td>\n",
       "      <td>0.28</td>\n",
       "      <td>0.40</td>\n",
       "      <td>6.9</td>\n",
       "      <td>0.050</td>\n",
       "      <td>30.0</td>\n",
       "      <td>97.0</td>\n",
       "      <td>0.9951</td>\n",
       "      <td>3.26</td>\n",
       "      <td>0.44</td>\n",
       "      <td>10.1</td>\n",
       "      <td>6</td>\n",
       "    </tr>\n",
       "    <tr>\n",
       "      <th>3</th>\n",
       "      <td>7.2</td>\n",
       "      <td>0.23</td>\n",
       "      <td>0.32</td>\n",
       "      <td>8.5</td>\n",
       "      <td>0.058</td>\n",
       "      <td>47.0</td>\n",
       "      <td>186.0</td>\n",
       "      <td>0.9956</td>\n",
       "      <td>3.19</td>\n",
       "      <td>0.40</td>\n",
       "      <td>9.9</td>\n",
       "      <td>6</td>\n",
       "    </tr>\n",
       "    <tr>\n",
       "      <th>4</th>\n",
       "      <td>7.2</td>\n",
       "      <td>0.23</td>\n",
       "      <td>0.32</td>\n",
       "      <td>8.5</td>\n",
       "      <td>0.058</td>\n",
       "      <td>47.0</td>\n",
       "      <td>186.0</td>\n",
       "      <td>0.9956</td>\n",
       "      <td>3.19</td>\n",
       "      <td>0.40</td>\n",
       "      <td>9.9</td>\n",
       "      <td>6</td>\n",
       "    </tr>\n",
       "  </tbody>\n",
       "</table>\n",
       "</div>"
      ],
      "text/plain": [
       "   fixed acidity  volatile acidity  citric acid  residual sugar  chlorides  \\\n",
       "0            7.0              0.27         0.36            20.7      0.045   \n",
       "1            6.3              0.30         0.34             1.6      0.049   \n",
       "2            8.1              0.28         0.40             6.9      0.050   \n",
       "3            7.2              0.23         0.32             8.5      0.058   \n",
       "4            7.2              0.23         0.32             8.5      0.058   \n",
       "\n",
       "   free sulfur dioxide  total sulfur dioxide  density    pH  sulphates  \\\n",
       "0                 45.0                 170.0   1.0010  3.00       0.45   \n",
       "1                 14.0                 132.0   0.9940  3.30       0.49   \n",
       "2                 30.0                  97.0   0.9951  3.26       0.44   \n",
       "3                 47.0                 186.0   0.9956  3.19       0.40   \n",
       "4                 47.0                 186.0   0.9956  3.19       0.40   \n",
       "\n",
       "   alcohol  quality  \n",
       "0      8.8        6  \n",
       "1      9.5        6  \n",
       "2     10.1        6  \n",
       "3      9.9        6  \n",
       "4      9.9        6  "
      ]
     },
     "execution_count": 94,
     "metadata": {},
     "output_type": "execute_result"
    }
   ],
   "source": [
    "wine = pd.read_csv(\"../06machine_learning/data/winequality-white.csv\", sep=\";\")\n",
    "wine.head()"
   ]
  },
  {
   "cell_type": "code",
   "execution_count": 78,
   "id": "4098af33",
   "metadata": {},
   "outputs": [
    {
     "name": "stdout",
     "output_type": "stream",
     "text": [
      "<class 'pandas.core.frame.DataFrame'>\n",
      "RangeIndex: 4898 entries, 0 to 4897\n",
      "Data columns (total 12 columns):\n",
      " #   Column                Non-Null Count  Dtype  \n",
      "---  ------                --------------  -----  \n",
      " 0   fixed acidity         4898 non-null   float64\n",
      " 1   volatile acidity      4898 non-null   float64\n",
      " 2   citric acid           4898 non-null   float64\n",
      " 3   residual sugar        4898 non-null   float64\n",
      " 4   chlorides             4898 non-null   float64\n",
      " 5   free sulfur dioxide   4898 non-null   float64\n",
      " 6   total sulfur dioxide  4898 non-null   float64\n",
      " 7   density               4898 non-null   float64\n",
      " 8   pH                    4898 non-null   float64\n",
      " 9   sulphates             4898 non-null   float64\n",
      " 10  alcohol               4898 non-null   float64\n",
      " 11  quality               4898 non-null   int64  \n",
      "dtypes: float64(11), int64(1)\n",
      "memory usage: 459.3 KB\n"
     ]
    }
   ],
   "source": [
    "wine.info()"
   ]
  },
  {
   "cell_type": "code",
   "execution_count": 95,
   "id": "449b3fb5",
   "metadata": {},
   "outputs": [
    {
     "data": {
      "text/plain": [
       "quality\n",
       "6    2198\n",
       "5    1457\n",
       "7     880\n",
       "8     175\n",
       "4     163\n",
       "3      20\n",
       "9       5\n",
       "Name: count, dtype: int64"
      ]
     },
     "execution_count": 95,
     "metadata": {},
     "output_type": "execute_result"
    }
   ],
   "source": [
    "wine['quality'].value_counts()"
   ]
  },
  {
   "cell_type": "code",
   "execution_count": 96,
   "id": "bdd61f9c",
   "metadata": {},
   "outputs": [],
   "source": [
    "X = wine.drop('quality', axis=1)\n",
    "y = wine['quality'].copy()\n",
    "y2 = wine['quality'].copy()\n"
   ]
  },
  {
   "cell_type": "code",
   "execution_count": 97,
   "id": "c28c8804",
   "metadata": {},
   "outputs": [
    {
     "data": {
      "text/plain": [
       "0    6\n",
       "1    6\n",
       "2    6\n",
       "3    6\n",
       "4    6\n",
       "Name: quality, dtype: int64"
      ]
     },
     "execution_count": 97,
     "metadata": {},
     "output_type": "execute_result"
    }
   ],
   "source": [
    "y.head()"
   ]
  },
  {
   "cell_type": "code",
   "execution_count": 81,
   "id": "f0e89092",
   "metadata": {},
   "outputs": [],
   "source": [
    "from sklearn.preprocessing import RobustScaler"
   ]
  },
  {
   "cell_type": "code",
   "execution_count": 98,
   "id": "6f5edf81",
   "metadata": {},
   "outputs": [
    {
     "data": {
      "text/plain": [
       "array([[ 0.2       ,  0.09090909,  0.33333333, ..., -0.94736842,\n",
       "        -0.14285714, -0.84210526],\n",
       "       [-0.5       ,  0.36363636,  0.16666667, ...,  0.63157895,\n",
       "         0.14285714, -0.47368421],\n",
       "       [ 1.3       ,  0.18181818,  0.66666667, ...,  0.42105263,\n",
       "        -0.21428571, -0.15789474],\n",
       "       ...,\n",
       "       [-0.3       , -0.18181818, -1.08333333, ..., -1.        ,\n",
       "        -0.07142857, -0.52631579],\n",
       "       [-1.3       ,  0.27272727, -0.16666667, ...,  0.84210526,\n",
       "        -0.64285714,  1.26315789],\n",
       "       [-0.8       , -0.45454545,  0.5       , ...,  0.42105263,\n",
       "        -1.07142857,  0.73684211]])"
      ]
     },
     "execution_count": 98,
     "metadata": {},
     "output_type": "execute_result"
    }
   ],
   "source": [
    "rbs = RobustScaler()\n",
    "X_scaled = rbs.fit_transform(X)\n",
    "X_scaled"
   ]
  },
  {
   "cell_type": "code",
   "execution_count": 99,
   "id": "e804fe02",
   "metadata": {},
   "outputs": [
    {
     "data": {
      "text/html": [
       "<div>\n",
       "<style scoped>\n",
       "    .dataframe tbody tr th:only-of-type {\n",
       "        vertical-align: middle;\n",
       "    }\n",
       "\n",
       "    .dataframe tbody tr th {\n",
       "        vertical-align: top;\n",
       "    }\n",
       "\n",
       "    .dataframe thead th {\n",
       "        text-align: right;\n",
       "    }\n",
       "</style>\n",
       "<table border=\"1\" class=\"dataframe\">\n",
       "  <thead>\n",
       "    <tr style=\"text-align: right;\">\n",
       "      <th></th>\n",
       "      <th>3</th>\n",
       "      <th>4</th>\n",
       "      <th>5</th>\n",
       "      <th>6</th>\n",
       "      <th>7</th>\n",
       "      <th>8</th>\n",
       "      <th>9</th>\n",
       "    </tr>\n",
       "  </thead>\n",
       "  <tbody>\n",
       "    <tr>\n",
       "      <th>0</th>\n",
       "      <td>False</td>\n",
       "      <td>False</td>\n",
       "      <td>False</td>\n",
       "      <td>True</td>\n",
       "      <td>False</td>\n",
       "      <td>False</td>\n",
       "      <td>False</td>\n",
       "    </tr>\n",
       "    <tr>\n",
       "      <th>1</th>\n",
       "      <td>False</td>\n",
       "      <td>False</td>\n",
       "      <td>False</td>\n",
       "      <td>True</td>\n",
       "      <td>False</td>\n",
       "      <td>False</td>\n",
       "      <td>False</td>\n",
       "    </tr>\n",
       "    <tr>\n",
       "      <th>2</th>\n",
       "      <td>False</td>\n",
       "      <td>False</td>\n",
       "      <td>False</td>\n",
       "      <td>True</td>\n",
       "      <td>False</td>\n",
       "      <td>False</td>\n",
       "      <td>False</td>\n",
       "    </tr>\n",
       "    <tr>\n",
       "      <th>3</th>\n",
       "      <td>False</td>\n",
       "      <td>False</td>\n",
       "      <td>False</td>\n",
       "      <td>True</td>\n",
       "      <td>False</td>\n",
       "      <td>False</td>\n",
       "      <td>False</td>\n",
       "    </tr>\n",
       "    <tr>\n",
       "      <th>4</th>\n",
       "      <td>False</td>\n",
       "      <td>False</td>\n",
       "      <td>False</td>\n",
       "      <td>True</td>\n",
       "      <td>False</td>\n",
       "      <td>False</td>\n",
       "      <td>False</td>\n",
       "    </tr>\n",
       "    <tr>\n",
       "      <th>...</th>\n",
       "      <td>...</td>\n",
       "      <td>...</td>\n",
       "      <td>...</td>\n",
       "      <td>...</td>\n",
       "      <td>...</td>\n",
       "      <td>...</td>\n",
       "      <td>...</td>\n",
       "    </tr>\n",
       "    <tr>\n",
       "      <th>4893</th>\n",
       "      <td>False</td>\n",
       "      <td>False</td>\n",
       "      <td>False</td>\n",
       "      <td>True</td>\n",
       "      <td>False</td>\n",
       "      <td>False</td>\n",
       "      <td>False</td>\n",
       "    </tr>\n",
       "    <tr>\n",
       "      <th>4894</th>\n",
       "      <td>False</td>\n",
       "      <td>False</td>\n",
       "      <td>True</td>\n",
       "      <td>False</td>\n",
       "      <td>False</td>\n",
       "      <td>False</td>\n",
       "      <td>False</td>\n",
       "    </tr>\n",
       "    <tr>\n",
       "      <th>4895</th>\n",
       "      <td>False</td>\n",
       "      <td>False</td>\n",
       "      <td>False</td>\n",
       "      <td>True</td>\n",
       "      <td>False</td>\n",
       "      <td>False</td>\n",
       "      <td>False</td>\n",
       "    </tr>\n",
       "    <tr>\n",
       "      <th>4896</th>\n",
       "      <td>False</td>\n",
       "      <td>False</td>\n",
       "      <td>False</td>\n",
       "      <td>False</td>\n",
       "      <td>True</td>\n",
       "      <td>False</td>\n",
       "      <td>False</td>\n",
       "    </tr>\n",
       "    <tr>\n",
       "      <th>4897</th>\n",
       "      <td>False</td>\n",
       "      <td>False</td>\n",
       "      <td>False</td>\n",
       "      <td>True</td>\n",
       "      <td>False</td>\n",
       "      <td>False</td>\n",
       "      <td>False</td>\n",
       "    </tr>\n",
       "  </tbody>\n",
       "</table>\n",
       "<p>4898 rows × 7 columns</p>\n",
       "</div>"
      ],
      "text/plain": [
       "          3      4      5      6      7      8      9\n",
       "0     False  False  False   True  False  False  False\n",
       "1     False  False  False   True  False  False  False\n",
       "2     False  False  False   True  False  False  False\n",
       "3     False  False  False   True  False  False  False\n",
       "4     False  False  False   True  False  False  False\n",
       "...     ...    ...    ...    ...    ...    ...    ...\n",
       "4893  False  False  False   True  False  False  False\n",
       "4894  False  False   True  False  False  False  False\n",
       "4895  False  False  False   True  False  False  False\n",
       "4896  False  False  False  False   True  False  False\n",
       "4897  False  False  False   True  False  False  False\n",
       "\n",
       "[4898 rows x 7 columns]"
      ]
     },
     "execution_count": 99,
     "metadata": {},
     "output_type": "execute_result"
    }
   ],
   "source": [
    "y = pd.get_dummies(y)\n",
    "y"
   ]
  },
  {
   "cell_type": "code",
   "execution_count": 101,
   "id": "fbfc9165",
   "metadata": {},
   "outputs": [],
   "source": [
    "from sklearn.model_selection import train_test_split\n"
   ]
  },
  {
   "cell_type": "code",
   "execution_count": 102,
   "id": "60dce253",
   "metadata": {},
   "outputs": [],
   "source": [
    "X_train, X_valid, y_train, y_valid = train_test_split(X_scaled, y ,test_size=0.4 , stratify=y,random_state=10)\n",
    "X_valid, X_test, y_valid, y_test = train_test_split(X_valid, y_valid, test_size=0.5,stratify=y_valid, random_state=10)"
   ]
  },
  {
   "cell_type": "code",
   "execution_count": 106,
   "id": "0e0ed639",
   "metadata": {},
   "outputs": [],
   "source": [
    "from tensorflow.keras.models import Sequential, Model, load_model\n",
    "from tensorflow.keras.layers import Dense, Input\n",
    "from tensorflow.keras.callbacks import EarlyStopping, ModelCheckpoint\n",
    "from sklearn.metrics import classification_report"
   ]
  },
  {
   "cell_type": "code",
   "execution_count": 104,
   "id": "4654cf9a",
   "metadata": {},
   "outputs": [
    {
     "name": "stdout",
     "output_type": "stream",
     "text": [
      "Model: \"sequential_4\"\n",
      "_________________________________________________________________\n",
      " Layer (type)                Output Shape              Param #   \n",
      "=================================================================\n",
      " dense_16 (Dense)            (None, 32)                384       \n",
      "                                                                 \n",
      " dense_17 (Dense)            (None, 64)                2112      \n",
      "                                                                 \n",
      " dense_18 (Dense)            (None, 32)                2080      \n",
      "                                                                 \n",
      " dense_19 (Dense)            (None, 16)                528       \n",
      "                                                                 \n",
      " dense_20 (Dense)            (None, 7)                 119       \n",
      "                                                                 \n",
      "=================================================================\n",
      "Total params: 5,223\n",
      "Trainable params: 5,223\n",
      "Non-trainable params: 0\n",
      "_________________________________________________________________\n"
     ]
    }
   ],
   "source": [
    "model = Sequential()\n",
    "model.add(Dense(32, input_dim=X_train.shape[1], activation='relu'))\n",
    "model.add(Dense(64, activation='relu'))\n",
    "model.add(Dense(32, activation='relu'))\n",
    "model.add(Dense(16, activation='relu'))\n",
    "model.add(Dense(7, activation='softmax'))\n",
    "model.summary()"
   ]
  },
  {
   "cell_type": "code",
   "execution_count": 105,
   "id": "d9c9e3c1",
   "metadata": {
    "scrolled": true
   },
   "outputs": [
    {
     "name": "stdout",
     "output_type": "stream",
     "text": [
      "Epoch 1/10000\n",
      "1/6 [====>.........................] - ETA: 2s - loss: 2.0112 - accuracy: 0.0940"
     ]
    },
    {
     "name": "stderr",
     "output_type": "stream",
     "text": [
      "2024-09-10 14:21:51.031377: I tensorflow/core/grappler/optimizers/custom_graph_optimizer_registry.cc:114] Plugin optimizer for device_type GPU is enabled.\n",
      "2024-09-10 14:21:51.088249: I tensorflow/core/common_runtime/pluggable_device/pluggable_device_factory.cc:306] Could not identify NUMA node of platform GPU ID 0, defaulting to 0. Your kernel may not have been built with NUMA support.\n",
      "2024-09-10 14:21:51.088311: I tensorflow/core/common_runtime/pluggable_device/pluggable_device_factory.cc:272] Created TensorFlow device (/job:localhost/replica:0/task:0/device:GPU:0 with 14845 MB memory) -> physical PluggableDevice (device: 0, name: DML, pci bus id: <undefined>)\n"
     ]
    },
    {
     "name": "stdout",
     "output_type": "stream",
     "text": [
      "6/6 [==============================] - 1s 56ms/step - loss: 1.9776 - accuracy: 0.1304 - val_loss: 1.9364 - val_accuracy: 0.1867\n",
      "Epoch 2/10000\n",
      "6/6 [==============================] - ETA: 0s - loss: 1.9185 - accuracy: 0.2127"
     ]
    },
    {
     "name": "stderr",
     "output_type": "stream",
     "text": [
      "2024-09-10 14:21:51.328778: I tensorflow/core/grappler/optimizers/custom_graph_optimizer_registry.cc:114] Plugin optimizer for device_type GPU is enabled.\n",
      "2024-09-10 14:21:51.356697: I tensorflow/core/common_runtime/pluggable_device/pluggable_device_factory.cc:306] Could not identify NUMA node of platform GPU ID 0, defaulting to 0. Your kernel may not have been built with NUMA support.\n",
      "2024-09-10 14:21:51.356762: I tensorflow/core/common_runtime/pluggable_device/pluggable_device_factory.cc:272] Created TensorFlow device (/job:localhost/replica:0/task:0/device:GPU:0 with 14845 MB memory) -> physical PluggableDevice (device: 0, name: DML, pci bus id: <undefined>)\n"
     ]
    },
    {
     "name": "stdout",
     "output_type": "stream",
     "text": [
      "6/6 [==============================] - 0s 34ms/step - loss: 1.9185 - accuracy: 0.2127 - val_loss: 1.8962 - val_accuracy: 0.2286\n",
      "Epoch 3/10000\n",
      "6/6 [==============================] - 0s 31ms/step - loss: 1.8760 - accuracy: 0.2594 - val_loss: 1.8539 - val_accuracy: 0.2245\n",
      "Epoch 4/10000\n",
      "6/6 [==============================] - 0s 32ms/step - loss: 1.8235 - accuracy: 0.2914 - val_loss: 1.7942 - val_accuracy: 0.2857\n",
      "Epoch 5/10000\n",
      "6/6 [==============================] - 0s 26ms/step - loss: 1.7478 - accuracy: 0.3468 - val_loss: 1.7022 - val_accuracy: 0.3847\n",
      "Epoch 6/10000\n",
      "6/6 [==============================] - 0s 31ms/step - loss: 1.6332 - accuracy: 0.4551 - val_loss: 1.5697 - val_accuracy: 0.4643\n",
      "Epoch 7/10000\n",
      "6/6 [==============================] - 0s 40ms/step - loss: 1.4992 - accuracy: 0.4942 - val_loss: 1.4557 - val_accuracy: 0.4816\n",
      "Epoch 8/10000\n",
      "6/6 [==============================] - 0s 32ms/step - loss: 1.3952 - accuracy: 0.5000 - val_loss: 1.3875 - val_accuracy: 0.4786\n",
      "Epoch 9/10000\n",
      "6/6 [==============================] - 0s 33ms/step - loss: 1.3367 - accuracy: 0.5092 - val_loss: 1.3480 - val_accuracy: 0.4847\n",
      "Epoch 10/10000\n",
      "6/6 [==============================] - 0s 31ms/step - loss: 1.2976 - accuracy: 0.5088 - val_loss: 1.3155 - val_accuracy: 0.4857\n",
      "Epoch 11/10000\n",
      "6/6 [==============================] - 0s 32ms/step - loss: 1.2680 - accuracy: 0.5133 - val_loss: 1.2940 - val_accuracy: 0.4908\n",
      "Epoch 12/10000\n",
      "6/6 [==============================] - 0s 30ms/step - loss: 1.2471 - accuracy: 0.5204 - val_loss: 1.2789 - val_accuracy: 0.4929\n",
      "Epoch 13/10000\n",
      "6/6 [==============================] - 0s 33ms/step - loss: 1.2293 - accuracy: 0.5255 - val_loss: 1.2646 - val_accuracy: 0.5173\n",
      "Epoch 14/10000\n",
      "6/6 [==============================] - 0s 32ms/step - loss: 1.2127 - accuracy: 0.5317 - val_loss: 1.2524 - val_accuracy: 0.5153\n",
      "Epoch 15/10000\n",
      "6/6 [==============================] - 0s 30ms/step - loss: 1.1985 - accuracy: 0.5354 - val_loss: 1.2408 - val_accuracy: 0.5092\n",
      "Epoch 16/10000\n",
      "6/6 [==============================] - 0s 29ms/step - loss: 1.1862 - accuracy: 0.5361 - val_loss: 1.2284 - val_accuracy: 0.5204\n",
      "Epoch 17/10000\n",
      "6/6 [==============================] - 0s 30ms/step - loss: 1.1726 - accuracy: 0.5412 - val_loss: 1.2179 - val_accuracy: 0.5204\n",
      "Epoch 18/10000\n",
      "6/6 [==============================] - 0s 30ms/step - loss: 1.1607 - accuracy: 0.5477 - val_loss: 1.2070 - val_accuracy: 0.5276\n",
      "Epoch 19/10000\n",
      "6/6 [==============================] - 0s 28ms/step - loss: 1.1501 - accuracy: 0.5436 - val_loss: 1.1988 - val_accuracy: 0.5204\n",
      "Epoch 20/10000\n",
      "6/6 [==============================] - 0s 33ms/step - loss: 1.1393 - accuracy: 0.5517 - val_loss: 1.1887 - val_accuracy: 0.5286\n",
      "Epoch 21/10000\n",
      "6/6 [==============================] - 0s 32ms/step - loss: 1.1292 - accuracy: 0.5528 - val_loss: 1.1802 - val_accuracy: 0.5255\n",
      "Epoch 22/10000\n",
      "6/6 [==============================] - 0s 32ms/step - loss: 1.1192 - accuracy: 0.5568 - val_loss: 1.1711 - val_accuracy: 0.5276\n",
      "Epoch 23/10000\n",
      "6/6 [==============================] - 0s 30ms/step - loss: 1.1106 - accuracy: 0.5568 - val_loss: 1.1632 - val_accuracy: 0.5316\n",
      "Epoch 24/10000\n",
      "6/6 [==============================] - 0s 31ms/step - loss: 1.1029 - accuracy: 0.5558 - val_loss: 1.1553 - val_accuracy: 0.5367\n",
      "Epoch 25/10000\n",
      "6/6 [==============================] - 0s 33ms/step - loss: 1.0936 - accuracy: 0.5589 - val_loss: 1.1504 - val_accuracy: 0.5418\n",
      "Epoch 26/10000\n",
      "6/6 [==============================] - 0s 29ms/step - loss: 1.0869 - accuracy: 0.5562 - val_loss: 1.1422 - val_accuracy: 0.5347\n",
      "Epoch 27/10000\n",
      "6/6 [==============================] - 0s 28ms/step - loss: 1.0788 - accuracy: 0.5626 - val_loss: 1.1342 - val_accuracy: 0.5449\n",
      "Epoch 28/10000\n",
      "6/6 [==============================] - 0s 37ms/step - loss: 1.0706 - accuracy: 0.5660 - val_loss: 1.1278 - val_accuracy: 0.5378\n",
      "Epoch 29/10000\n",
      "6/6 [==============================] - 0s 33ms/step - loss: 1.0648 - accuracy: 0.5602 - val_loss: 1.1208 - val_accuracy: 0.5439\n",
      "Epoch 30/10000\n",
      "6/6 [==============================] - 0s 33ms/step - loss: 1.0590 - accuracy: 0.5718 - val_loss: 1.1156 - val_accuracy: 0.5510\n",
      "Epoch 31/10000\n",
      "6/6 [==============================] - 0s 34ms/step - loss: 1.0518 - accuracy: 0.5684 - val_loss: 1.1125 - val_accuracy: 0.5418\n",
      "Epoch 32/10000\n",
      "6/6 [==============================] - 0s 33ms/step - loss: 1.0454 - accuracy: 0.5684 - val_loss: 1.1053 - val_accuracy: 0.5459\n",
      "Epoch 33/10000\n",
      "6/6 [==============================] - 0s 34ms/step - loss: 1.0390 - accuracy: 0.5779 - val_loss: 1.1010 - val_accuracy: 0.5429\n",
      "Epoch 34/10000\n",
      "6/6 [==============================] - 0s 31ms/step - loss: 1.0358 - accuracy: 0.5718 - val_loss: 1.0944 - val_accuracy: 0.5459\n",
      "Epoch 35/10000\n",
      "6/6 [==============================] - 0s 29ms/step - loss: 1.0293 - accuracy: 0.5776 - val_loss: 1.0917 - val_accuracy: 0.5490\n",
      "Epoch 36/10000\n",
      "6/6 [==============================] - 0s 27ms/step - loss: 1.0239 - accuracy: 0.5742 - val_loss: 1.0888 - val_accuracy: 0.5469\n",
      "Epoch 37/10000\n",
      "6/6 [==============================] - 0s 32ms/step - loss: 1.0193 - accuracy: 0.5800 - val_loss: 1.0845 - val_accuracy: 0.5531\n",
      "Epoch 38/10000\n",
      "6/6 [==============================] - 0s 29ms/step - loss: 1.0156 - accuracy: 0.5786 - val_loss: 1.0805 - val_accuracy: 0.5571\n",
      "Epoch 39/10000\n",
      "6/6 [==============================] - 0s 31ms/step - loss: 1.0134 - accuracy: 0.5813 - val_loss: 1.0778 - val_accuracy: 0.5500\n",
      "Epoch 40/10000\n",
      "6/6 [==============================] - 0s 29ms/step - loss: 1.0081 - accuracy: 0.5841 - val_loss: 1.0756 - val_accuracy: 0.5541\n",
      "Epoch 41/10000\n",
      "6/6 [==============================] - 0s 30ms/step - loss: 1.0032 - accuracy: 0.5817 - val_loss: 1.0739 - val_accuracy: 0.5541\n",
      "Epoch 42/10000\n",
      "6/6 [==============================] - 0s 33ms/step - loss: 0.9982 - accuracy: 0.5892 - val_loss: 1.0716 - val_accuracy: 0.5541\n",
      "Epoch 43/10000\n",
      "6/6 [==============================] - 0s 37ms/step - loss: 0.9960 - accuracy: 0.5916 - val_loss: 1.0691 - val_accuracy: 0.5541\n",
      "Epoch 44/10000\n",
      "6/6 [==============================] - 0s 32ms/step - loss: 0.9906 - accuracy: 0.5977 - val_loss: 1.0677 - val_accuracy: 0.5612\n",
      "Epoch 45/10000\n",
      "6/6 [==============================] - 0s 32ms/step - loss: 0.9868 - accuracy: 0.6001 - val_loss: 1.0658 - val_accuracy: 0.5622\n",
      "Epoch 46/10000\n",
      "6/6 [==============================] - 0s 28ms/step - loss: 0.9826 - accuracy: 0.6021 - val_loss: 1.0648 - val_accuracy: 0.5571\n",
      "Epoch 47/10000\n",
      "6/6 [==============================] - 0s 30ms/step - loss: 0.9787 - accuracy: 0.5994 - val_loss: 1.0631 - val_accuracy: 0.5673\n",
      "Epoch 48/10000\n",
      "6/6 [==============================] - 0s 32ms/step - loss: 0.9749 - accuracy: 0.6007 - val_loss: 1.0610 - val_accuracy: 0.5571\n",
      "Epoch 49/10000\n",
      "6/6 [==============================] - 0s 28ms/step - loss: 0.9717 - accuracy: 0.6038 - val_loss: 1.0587 - val_accuracy: 0.5633\n",
      "Epoch 50/10000\n",
      "6/6 [==============================] - 0s 18ms/step - loss: 0.9685 - accuracy: 0.6035 - val_loss: 1.0595 - val_accuracy: 0.5592\n",
      "Epoch 51/10000\n",
      "6/6 [==============================] - 0s 28ms/step - loss: 0.9642 - accuracy: 0.6038 - val_loss: 1.0574 - val_accuracy: 0.5612\n",
      "Epoch 52/10000\n",
      "6/6 [==============================] - 0s 28ms/step - loss: 0.9603 - accuracy: 0.6048 - val_loss: 1.0559 - val_accuracy: 0.5592\n",
      "Epoch 53/10000\n",
      "6/6 [==============================] - 0s 33ms/step - loss: 0.9568 - accuracy: 0.6076 - val_loss: 1.0550 - val_accuracy: 0.5633\n",
      "Epoch 54/10000\n",
      "6/6 [==============================] - 0s 29ms/step - loss: 0.9540 - accuracy: 0.6113 - val_loss: 1.0545 - val_accuracy: 0.5612\n",
      "Epoch 55/10000\n",
      "6/6 [==============================] - 0s 30ms/step - loss: 0.9508 - accuracy: 0.6093 - val_loss: 1.0523 - val_accuracy: 0.5612\n",
      "Epoch 56/10000\n",
      "6/6 [==============================] - 0s 30ms/step - loss: 0.9461 - accuracy: 0.6137 - val_loss: 1.0515 - val_accuracy: 0.5622\n",
      "Epoch 57/10000\n",
      "6/6 [==============================] - 0s 18ms/step - loss: 0.9431 - accuracy: 0.6147 - val_loss: 1.0517 - val_accuracy: 0.5582\n",
      "Epoch 58/10000\n",
      "6/6 [==============================] - 0s 29ms/step - loss: 0.9406 - accuracy: 0.6127 - val_loss: 1.0494 - val_accuracy: 0.5612\n",
      "Epoch 59/10000\n",
      "6/6 [==============================] - 0s 33ms/step - loss: 0.9383 - accuracy: 0.6188 - val_loss: 1.0482 - val_accuracy: 0.5571\n",
      "Epoch 60/10000\n",
      "6/6 [==============================] - 0s 20ms/step - loss: 0.9379 - accuracy: 0.6198 - val_loss: 1.0482 - val_accuracy: 0.5602\n",
      "Epoch 61/10000\n",
      "6/6 [==============================] - 0s 18ms/step - loss: 0.9358 - accuracy: 0.6133 - val_loss: 1.0532 - val_accuracy: 0.5531\n",
      "Epoch 62/10000\n",
      "6/6 [==============================] - 0s 34ms/step - loss: 0.9320 - accuracy: 0.6195 - val_loss: 1.0469 - val_accuracy: 0.5602\n",
      "Epoch 63/10000\n",
      "6/6 [==============================] - 0s 19ms/step - loss: 0.9256 - accuracy: 0.6201 - val_loss: 1.0477 - val_accuracy: 0.5520\n",
      "Epoch 64/10000\n",
      "6/6 [==============================] - 0s 30ms/step - loss: 0.9262 - accuracy: 0.6259 - val_loss: 1.0446 - val_accuracy: 0.5541\n",
      "Epoch 65/10000\n",
      "6/6 [==============================] - 0s 18ms/step - loss: 0.9189 - accuracy: 0.6195 - val_loss: 1.0467 - val_accuracy: 0.5520\n",
      "Epoch 66/10000\n",
      "6/6 [==============================] - 0s 29ms/step - loss: 0.9156 - accuracy: 0.6256 - val_loss: 1.0393 - val_accuracy: 0.5541\n",
      "Epoch 67/10000\n",
      "6/6 [==============================] - 0s 20ms/step - loss: 0.9139 - accuracy: 0.6246 - val_loss: 1.0408 - val_accuracy: 0.5561\n",
      "Epoch 68/10000\n",
      "6/6 [==============================] - 0s 17ms/step - loss: 0.9097 - accuracy: 0.6263 - val_loss: 1.0398 - val_accuracy: 0.5541\n",
      "Epoch 69/10000\n",
      "6/6 [==============================] - 0s 23ms/step - loss: 0.9059 - accuracy: 0.6324 - val_loss: 1.0423 - val_accuracy: 0.5541\n",
      "Epoch 70/10000\n",
      "6/6 [==============================] - 0s 28ms/step - loss: 0.9028 - accuracy: 0.6351 - val_loss: 1.0371 - val_accuracy: 0.5541\n",
      "Epoch 71/10000\n",
      "6/6 [==============================] - 0s 18ms/step - loss: 0.8986 - accuracy: 0.6378 - val_loss: 1.0382 - val_accuracy: 0.5520\n",
      "Epoch 72/10000\n",
      "6/6 [==============================] - 0s 18ms/step - loss: 0.8961 - accuracy: 0.6355 - val_loss: 1.0396 - val_accuracy: 0.5531\n",
      "Epoch 73/10000\n",
      "6/6 [==============================] - 0s 18ms/step - loss: 0.8927 - accuracy: 0.6382 - val_loss: 1.0401 - val_accuracy: 0.5531\n",
      "Epoch 74/10000\n",
      "6/6 [==============================] - 0s 15ms/step - loss: 0.8900 - accuracy: 0.6368 - val_loss: 1.0379 - val_accuracy: 0.5520\n",
      "Epoch 75/10000\n",
      "6/6 [==============================] - 0s 18ms/step - loss: 0.8866 - accuracy: 0.6433 - val_loss: 1.0374 - val_accuracy: 0.5531\n",
      "Epoch 76/10000\n",
      "6/6 [==============================] - 0s 18ms/step - loss: 0.8840 - accuracy: 0.6413 - val_loss: 1.0409 - val_accuracy: 0.5469\n",
      "Epoch 77/10000\n",
      "6/6 [==============================] - 0s 17ms/step - loss: 0.8817 - accuracy: 0.6450 - val_loss: 1.0398 - val_accuracy: 0.5551\n",
      "Epoch 78/10000\n",
      "6/6 [==============================] - 0s 18ms/step - loss: 0.8794 - accuracy: 0.6457 - val_loss: 1.0426 - val_accuracy: 0.5541\n",
      "Epoch 79/10000\n",
      "6/6 [==============================] - 0s 33ms/step - loss: 0.8768 - accuracy: 0.6477 - val_loss: 1.0358 - val_accuracy: 0.5510\n",
      "Epoch 80/10000\n",
      "6/6 [==============================] - 0s 20ms/step - loss: 0.8761 - accuracy: 0.6443 - val_loss: 1.0394 - val_accuracy: 0.5531\n",
      "Epoch 81/10000\n",
      "6/6 [==============================] - 0s 19ms/step - loss: 0.8709 - accuracy: 0.6457 - val_loss: 1.0369 - val_accuracy: 0.5480\n",
      "Epoch 82/10000\n",
      "6/6 [==============================] - 0s 17ms/step - loss: 0.8705 - accuracy: 0.6487 - val_loss: 1.0378 - val_accuracy: 0.5500\n",
      "Epoch 83/10000\n",
      "6/6 [==============================] - 0s 19ms/step - loss: 0.8674 - accuracy: 0.6521 - val_loss: 1.0388 - val_accuracy: 0.5541\n",
      "Epoch 84/10000\n",
      "6/6 [==============================] - 0s 18ms/step - loss: 0.8672 - accuracy: 0.6430 - val_loss: 1.0375 - val_accuracy: 0.5520\n",
      "Epoch 85/10000\n",
      "6/6 [==============================] - 0s 19ms/step - loss: 0.8656 - accuracy: 0.6430 - val_loss: 1.0467 - val_accuracy: 0.5500\n",
      "Epoch 86/10000\n",
      "6/6 [==============================] - 0s 20ms/step - loss: 0.8595 - accuracy: 0.6555 - val_loss: 1.0362 - val_accuracy: 0.5531\n",
      "Epoch 87/10000\n",
      "6/6 [==============================] - 0s 18ms/step - loss: 0.8559 - accuracy: 0.6613 - val_loss: 1.0387 - val_accuracy: 0.5592\n",
      "Epoch 88/10000\n",
      "6/6 [==============================] - 0s 30ms/step - loss: 0.8531 - accuracy: 0.6590 - val_loss: 1.0355 - val_accuracy: 0.5592\n",
      "Epoch 89/10000\n",
      "6/6 [==============================] - 0s 25ms/step - loss: 0.8515 - accuracy: 0.6600 - val_loss: 1.0381 - val_accuracy: 0.5500\n",
      "Epoch 90/10000\n",
      "6/6 [==============================] - 0s 19ms/step - loss: 0.8486 - accuracy: 0.6617 - val_loss: 1.0444 - val_accuracy: 0.5541\n",
      "Epoch 91/10000\n",
      "6/6 [==============================] - 0s 20ms/step - loss: 0.8485 - accuracy: 0.6600 - val_loss: 1.0411 - val_accuracy: 0.5541\n",
      "Epoch 92/10000\n",
      "6/6 [==============================] - 0s 19ms/step - loss: 0.8441 - accuracy: 0.6637 - val_loss: 1.0385 - val_accuracy: 0.5520\n",
      "Epoch 93/10000\n",
      "6/6 [==============================] - 0s 18ms/step - loss: 0.8414 - accuracy: 0.6607 - val_loss: 1.0364 - val_accuracy: 0.5571\n",
      "Epoch 94/10000\n",
      "6/6 [==============================] - 0s 18ms/step - loss: 0.8386 - accuracy: 0.6647 - val_loss: 1.0375 - val_accuracy: 0.5531\n",
      "Epoch 95/10000\n",
      "6/6 [==============================] - 0s 19ms/step - loss: 0.8378 - accuracy: 0.6634 - val_loss: 1.0443 - val_accuracy: 0.5520\n",
      "Epoch 96/10000\n",
      "6/6 [==============================] - 0s 18ms/step - loss: 0.8353 - accuracy: 0.6651 - val_loss: 1.0432 - val_accuracy: 0.5612\n",
      "Epoch 97/10000\n",
      "6/6 [==============================] - 0s 17ms/step - loss: 0.8322 - accuracy: 0.6685 - val_loss: 1.0419 - val_accuracy: 0.5520\n",
      "Epoch 98/10000\n",
      "6/6 [==============================] - 0s 16ms/step - loss: 0.8293 - accuracy: 0.6692 - val_loss: 1.0440 - val_accuracy: 0.5592\n",
      "Epoch 99/10000\n",
      "6/6 [==============================] - 0s 17ms/step - loss: 0.8262 - accuracy: 0.6692 - val_loss: 1.0427 - val_accuracy: 0.5541\n",
      "Epoch 100/10000\n",
      "6/6 [==============================] - 0s 16ms/step - loss: 0.8248 - accuracy: 0.6712 - val_loss: 1.0441 - val_accuracy: 0.5531\n",
      "Epoch 101/10000\n",
      "6/6 [==============================] - 0s 17ms/step - loss: 0.8254 - accuracy: 0.6719 - val_loss: 1.0439 - val_accuracy: 0.5561\n",
      "Epoch 102/10000\n",
      "6/6 [==============================] - 0s 16ms/step - loss: 0.8243 - accuracy: 0.6702 - val_loss: 1.0493 - val_accuracy: 0.5561\n",
      "Epoch 103/10000\n",
      "6/6 [==============================] - 0s 17ms/step - loss: 0.8171 - accuracy: 0.6692 - val_loss: 1.0406 - val_accuracy: 0.5612\n",
      "Epoch 104/10000\n",
      "6/6 [==============================] - 0s 18ms/step - loss: 0.8133 - accuracy: 0.6807 - val_loss: 1.0462 - val_accuracy: 0.5520\n",
      "Epoch 105/10000\n",
      "6/6 [==============================] - 0s 20ms/step - loss: 0.8113 - accuracy: 0.6753 - val_loss: 1.0456 - val_accuracy: 0.5561\n",
      "Epoch 106/10000\n",
      "6/6 [==============================] - 0s 18ms/step - loss: 0.8097 - accuracy: 0.6784 - val_loss: 1.0465 - val_accuracy: 0.5571\n",
      "Epoch 107/10000\n",
      "6/6 [==============================] - 0s 19ms/step - loss: 0.8057 - accuracy: 0.6784 - val_loss: 1.0454 - val_accuracy: 0.5551\n",
      "Epoch 108/10000\n",
      "6/6 [==============================] - 0s 19ms/step - loss: 0.8044 - accuracy: 0.6804 - val_loss: 1.0469 - val_accuracy: 0.5653\n",
      "Epoch 109/10000\n",
      "6/6 [==============================] - 0s 18ms/step - loss: 0.8037 - accuracy: 0.6784 - val_loss: 1.0512 - val_accuracy: 0.5582\n",
      "Epoch 110/10000\n",
      "6/6 [==============================] - 0s 19ms/step - loss: 0.8010 - accuracy: 0.6814 - val_loss: 1.0512 - val_accuracy: 0.5612\n",
      "Epoch 111/10000\n",
      "6/6 [==============================] - 0s 19ms/step - loss: 0.8004 - accuracy: 0.6845 - val_loss: 1.0482 - val_accuracy: 0.5612\n",
      "Epoch 112/10000\n",
      "6/6 [==============================] - 0s 21ms/step - loss: 0.7974 - accuracy: 0.6865 - val_loss: 1.0518 - val_accuracy: 0.5602\n",
      "Epoch 113/10000\n",
      "6/6 [==============================] - 0s 21ms/step - loss: 0.7919 - accuracy: 0.6852 - val_loss: 1.0489 - val_accuracy: 0.5571\n",
      "Epoch 114/10000\n",
      "6/6 [==============================] - 0s 22ms/step - loss: 0.7904 - accuracy: 0.6879 - val_loss: 1.0546 - val_accuracy: 0.5633\n",
      "Epoch 115/10000\n",
      "6/6 [==============================] - 0s 18ms/step - loss: 0.7884 - accuracy: 0.6903 - val_loss: 1.0486 - val_accuracy: 0.5592\n",
      "Epoch 116/10000\n"
     ]
    },
    {
     "name": "stdout",
     "output_type": "stream",
     "text": [
      "6/6 [==============================] - 0s 18ms/step - loss: 0.7860 - accuracy: 0.6865 - val_loss: 1.0484 - val_accuracy: 0.5592\n",
      "Epoch 117/10000\n",
      "6/6 [==============================] - 0s 18ms/step - loss: 0.7855 - accuracy: 0.6886 - val_loss: 1.0571 - val_accuracy: 0.5633\n",
      "Epoch 118/10000\n",
      "6/6 [==============================] - 0s 21ms/step - loss: 0.7852 - accuracy: 0.6886 - val_loss: 1.0560 - val_accuracy: 0.5622\n",
      "Epoch 119/10000\n",
      "6/6 [==============================] - 0s 22ms/step - loss: 0.7815 - accuracy: 0.6882 - val_loss: 1.0589 - val_accuracy: 0.5622\n",
      "Epoch 120/10000\n",
      "6/6 [==============================] - 0s 20ms/step - loss: 0.7783 - accuracy: 0.6903 - val_loss: 1.0555 - val_accuracy: 0.5551\n",
      "Epoch 121/10000\n",
      "6/6 [==============================] - 0s 21ms/step - loss: 0.7752 - accuracy: 0.6916 - val_loss: 1.0575 - val_accuracy: 0.5653\n",
      "Epoch 122/10000\n",
      "6/6 [==============================] - 0s 18ms/step - loss: 0.7717 - accuracy: 0.7001 - val_loss: 1.0635 - val_accuracy: 0.5612\n",
      "Epoch 123/10000\n",
      "6/6 [==============================] - 0s 18ms/step - loss: 0.7709 - accuracy: 0.6964 - val_loss: 1.0546 - val_accuracy: 0.5684\n",
      "Epoch 124/10000\n",
      "6/6 [==============================] - 0s 16ms/step - loss: 0.7689 - accuracy: 0.6947 - val_loss: 1.0601 - val_accuracy: 0.5622\n",
      "Epoch 125/10000\n",
      "6/6 [==============================] - 0s 19ms/step - loss: 0.7678 - accuracy: 0.7032 - val_loss: 1.0624 - val_accuracy: 0.5684\n",
      "Epoch 126/10000\n",
      "6/6 [==============================] - 0s 19ms/step - loss: 0.7670 - accuracy: 0.6950 - val_loss: 1.0729 - val_accuracy: 0.5541\n",
      "Epoch 127/10000\n",
      "6/6 [==============================] - 0s 16ms/step - loss: 0.7664 - accuracy: 0.6923 - val_loss: 1.0581 - val_accuracy: 0.5694\n",
      "Epoch 128/10000\n",
      "6/6 [==============================] - 0s 17ms/step - loss: 0.7637 - accuracy: 0.7001 - val_loss: 1.0715 - val_accuracy: 0.5755\n",
      "Epoch 129/10000\n",
      "6/6 [==============================] - 0s 15ms/step - loss: 0.7672 - accuracy: 0.6978 - val_loss: 1.0789 - val_accuracy: 0.5541\n",
      "Epoch 130/10000\n",
      "6/6 [==============================] - 0s 19ms/step - loss: 0.7613 - accuracy: 0.6981 - val_loss: 1.0755 - val_accuracy: 0.5714\n",
      "Epoch 131/10000\n",
      "6/6 [==============================] - 0s 16ms/step - loss: 0.7584 - accuracy: 0.7052 - val_loss: 1.0666 - val_accuracy: 0.5704\n",
      "Epoch 132/10000\n",
      "6/6 [==============================] - 0s 17ms/step - loss: 0.7520 - accuracy: 0.7080 - val_loss: 1.0800 - val_accuracy: 0.5653\n",
      "Epoch 133/10000\n",
      "6/6 [==============================] - 0s 18ms/step - loss: 0.7507 - accuracy: 0.7039 - val_loss: 1.0668 - val_accuracy: 0.5714\n",
      "Epoch 134/10000\n",
      "6/6 [==============================] - 0s 16ms/step - loss: 0.7498 - accuracy: 0.7049 - val_loss: 1.0839 - val_accuracy: 0.5694\n",
      "Epoch 135/10000\n",
      "6/6 [==============================] - 0s 18ms/step - loss: 0.7493 - accuracy: 0.7086 - val_loss: 1.0728 - val_accuracy: 0.5643\n",
      "Epoch 136/10000\n",
      "6/6 [==============================] - 0s 17ms/step - loss: 0.7456 - accuracy: 0.7076 - val_loss: 1.0716 - val_accuracy: 0.5735\n",
      "Epoch 137/10000\n",
      "6/6 [==============================] - 0s 18ms/step - loss: 0.7411 - accuracy: 0.7107 - val_loss: 1.0696 - val_accuracy: 0.5704\n",
      "Epoch 138/10000\n",
      "6/6 [==============================] - 0s 20ms/step - loss: 0.7443 - accuracy: 0.7120 - val_loss: 1.0765 - val_accuracy: 0.5673\n",
      "Epoch 139/10000\n",
      "6/6 [==============================] - 0s 19ms/step - loss: 0.7407 - accuracy: 0.7052 - val_loss: 1.0862 - val_accuracy: 0.5622\n",
      "Epoch 140/10000\n",
      "6/6 [==============================] - 0s 18ms/step - loss: 0.7367 - accuracy: 0.7168 - val_loss: 1.0716 - val_accuracy: 0.5694\n",
      "Epoch 141/10000\n",
      "6/6 [==============================] - 0s 18ms/step - loss: 0.7338 - accuracy: 0.7134 - val_loss: 1.0790 - val_accuracy: 0.5745\n",
      "Epoch 142/10000\n",
      "6/6 [==============================] - 0s 18ms/step - loss: 0.7343 - accuracy: 0.7155 - val_loss: 1.0868 - val_accuracy: 0.5663\n",
      "Epoch 143/10000\n",
      "6/6 [==============================] - 0s 19ms/step - loss: 0.7290 - accuracy: 0.7199 - val_loss: 1.0799 - val_accuracy: 0.5673\n",
      "Epoch 144/10000\n",
      "6/6 [==============================] - 0s 17ms/step - loss: 0.7290 - accuracy: 0.7124 - val_loss: 1.0875 - val_accuracy: 0.5755\n",
      "Epoch 145/10000\n",
      "6/6 [==============================] - 0s 18ms/step - loss: 0.7282 - accuracy: 0.7131 - val_loss: 1.0796 - val_accuracy: 0.5684\n",
      "Epoch 146/10000\n",
      "6/6 [==============================] - 0s 20ms/step - loss: 0.7268 - accuracy: 0.7175 - val_loss: 1.0840 - val_accuracy: 0.5663\n",
      "Epoch 147/10000\n",
      "6/6 [==============================] - 0s 23ms/step - loss: 0.7223 - accuracy: 0.7206 - val_loss: 1.0893 - val_accuracy: 0.5704\n",
      "Epoch 148/10000\n",
      "6/6 [==============================] - 0s 20ms/step - loss: 0.7202 - accuracy: 0.7229 - val_loss: 1.0819 - val_accuracy: 0.5714\n",
      "Epoch 149/10000\n",
      "6/6 [==============================] - 0s 17ms/step - loss: 0.7172 - accuracy: 0.7240 - val_loss: 1.0901 - val_accuracy: 0.5724\n",
      "Epoch 150/10000\n",
      "6/6 [==============================] - 0s 21ms/step - loss: 0.7193 - accuracy: 0.7161 - val_loss: 1.0962 - val_accuracy: 0.5653\n",
      "Epoch 151/10000\n",
      "6/6 [==============================] - 0s 18ms/step - loss: 0.7172 - accuracy: 0.7212 - val_loss: 1.0960 - val_accuracy: 0.5653\n",
      "Epoch 152/10000\n",
      "6/6 [==============================] - 0s 18ms/step - loss: 0.7158 - accuracy: 0.7243 - val_loss: 1.0982 - val_accuracy: 0.5786\n",
      "Epoch 153/10000\n",
      "6/6 [==============================] - 0s 20ms/step - loss: 0.7152 - accuracy: 0.7243 - val_loss: 1.0900 - val_accuracy: 0.5622\n",
      "Epoch 154/10000\n",
      "6/6 [==============================] - 0s 18ms/step - loss: 0.7104 - accuracy: 0.7240 - val_loss: 1.1034 - val_accuracy: 0.5745\n",
      "Epoch 155/10000\n",
      "6/6 [==============================] - 0s 16ms/step - loss: 0.7072 - accuracy: 0.7270 - val_loss: 1.0925 - val_accuracy: 0.5684\n",
      "Epoch 156/10000\n",
      "6/6 [==============================] - 0s 17ms/step - loss: 0.7044 - accuracy: 0.7291 - val_loss: 1.1040 - val_accuracy: 0.5653\n",
      "Epoch 157/10000\n",
      "6/6 [==============================] - 0s 15ms/step - loss: 0.7031 - accuracy: 0.7308 - val_loss: 1.1029 - val_accuracy: 0.5673\n",
      "Epoch 158/10000\n",
      "6/6 [==============================] - 0s 19ms/step - loss: 0.6997 - accuracy: 0.7311 - val_loss: 1.1002 - val_accuracy: 0.5684\n",
      "Epoch 159/10000\n",
      "6/6 [==============================] - 0s 18ms/step - loss: 0.6999 - accuracy: 0.7311 - val_loss: 1.1004 - val_accuracy: 0.5684\n",
      "Epoch 160/10000\n",
      "6/6 [==============================] - 0s 19ms/step - loss: 0.6962 - accuracy: 0.7352 - val_loss: 1.1102 - val_accuracy: 0.5663\n",
      "Epoch 161/10000\n",
      "6/6 [==============================] - 0s 19ms/step - loss: 0.6949 - accuracy: 0.7369 - val_loss: 1.1038 - val_accuracy: 0.5663\n",
      "Epoch 162/10000\n",
      "6/6 [==============================] - 0s 16ms/step - loss: 0.6940 - accuracy: 0.7301 - val_loss: 1.1212 - val_accuracy: 0.5684\n",
      "Epoch 163/10000\n",
      "6/6 [==============================] - 0s 17ms/step - loss: 0.6942 - accuracy: 0.7349 - val_loss: 1.1089 - val_accuracy: 0.5643\n",
      "Epoch 164/10000\n",
      "6/6 [==============================] - 0s 19ms/step - loss: 0.6923 - accuracy: 0.7308 - val_loss: 1.1195 - val_accuracy: 0.5673\n",
      "Epoch 165/10000\n",
      "6/6 [==============================] - 0s 20ms/step - loss: 0.6909 - accuracy: 0.7335 - val_loss: 1.1095 - val_accuracy: 0.5663\n",
      "Epoch 166/10000\n",
      "6/6 [==============================] - 0s 19ms/step - loss: 0.6860 - accuracy: 0.7430 - val_loss: 1.1144 - val_accuracy: 0.5673\n",
      "Epoch 167/10000\n",
      "6/6 [==============================] - 0s 18ms/step - loss: 0.6869 - accuracy: 0.7362 - val_loss: 1.1166 - val_accuracy: 0.5694\n",
      "Epoch 168/10000\n",
      "6/6 [==============================] - 0s 18ms/step - loss: 0.6818 - accuracy: 0.7413 - val_loss: 1.1163 - val_accuracy: 0.5735\n",
      "Epoch 169/10000\n",
      "6/6 [==============================] - 0s 17ms/step - loss: 0.6818 - accuracy: 0.7427 - val_loss: 1.1185 - val_accuracy: 0.5704\n",
      "Epoch 170/10000\n",
      "6/6 [==============================] - 0s 18ms/step - loss: 0.6777 - accuracy: 0.7417 - val_loss: 1.1182 - val_accuracy: 0.5704\n",
      "Epoch 171/10000\n",
      "6/6 [==============================] - 0s 18ms/step - loss: 0.6791 - accuracy: 0.7423 - val_loss: 1.1222 - val_accuracy: 0.5653\n",
      "Epoch 172/10000\n",
      "6/6 [==============================] - 0s 19ms/step - loss: 0.6756 - accuracy: 0.7447 - val_loss: 1.1458 - val_accuracy: 0.5531\n",
      "Epoch 173/10000\n"
     ]
    },
    {
     "name": "stdout",
     "output_type": "stream",
     "text": [
      "6/6 [==============================] - 0s 18ms/step - loss: 0.6811 - accuracy: 0.7369 - val_loss: 1.1328 - val_accuracy: 0.5724\n",
      "Epoch 174/10000\n",
      "6/6 [==============================] - 0s 18ms/step - loss: 0.6723 - accuracy: 0.7485 - val_loss: 1.1204 - val_accuracy: 0.5643\n",
      "Epoch 175/10000\n",
      "6/6 [==============================] - 0s 17ms/step - loss: 0.6689 - accuracy: 0.7488 - val_loss: 1.1302 - val_accuracy: 0.5745\n",
      "Epoch 176/10000\n",
      "6/6 [==============================] - 0s 18ms/step - loss: 0.6679 - accuracy: 0.7491 - val_loss: 1.1484 - val_accuracy: 0.5714\n",
      "Epoch 177/10000\n",
      "6/6 [==============================] - 0s 16ms/step - loss: 0.6685 - accuracy: 0.7509 - val_loss: 1.1336 - val_accuracy: 0.5704\n",
      "Epoch 178/10000\n",
      "6/6 [==============================] - 0s 18ms/step - loss: 0.6662 - accuracy: 0.7440 - val_loss: 1.1351 - val_accuracy: 0.5673\n",
      "Epoch 179/10000\n",
      "6/6 [==============================] - 0s 16ms/step - loss: 0.6629 - accuracy: 0.7515 - val_loss: 1.1296 - val_accuracy: 0.5684\n",
      "Epoch 180/10000\n",
      "6/6 [==============================] - 0s 18ms/step - loss: 0.6593 - accuracy: 0.7515 - val_loss: 1.1437 - val_accuracy: 0.5694\n",
      "Epoch 181/10000\n",
      "6/6 [==============================] - 0s 18ms/step - loss: 0.6561 - accuracy: 0.7539 - val_loss: 1.1375 - val_accuracy: 0.5714\n",
      "Epoch 182/10000\n",
      "6/6 [==============================] - 0s 16ms/step - loss: 0.6562 - accuracy: 0.7536 - val_loss: 1.1342 - val_accuracy: 0.5684\n",
      "Epoch 183/10000\n",
      "6/6 [==============================] - 0s 18ms/step - loss: 0.6563 - accuracy: 0.7515 - val_loss: 1.1425 - val_accuracy: 0.5714\n",
      "Epoch 184/10000\n",
      "6/6 [==============================] - 0s 17ms/step - loss: 0.6561 - accuracy: 0.7553 - val_loss: 1.1446 - val_accuracy: 0.5724\n",
      "Epoch 185/10000\n",
      "6/6 [==============================] - 0s 18ms/step - loss: 0.6533 - accuracy: 0.7560 - val_loss: 1.1418 - val_accuracy: 0.5694\n",
      "Epoch 186/10000\n",
      "6/6 [==============================] - 0s 18ms/step - loss: 0.6533 - accuracy: 0.7491 - val_loss: 1.1551 - val_accuracy: 0.5704\n",
      "Epoch 187/10000\n",
      "6/6 [==============================] - 0s 16ms/step - loss: 0.6521 - accuracy: 0.7539 - val_loss: 1.1514 - val_accuracy: 0.5694\n",
      "Epoch 188/10000\n",
      "6/6 [==============================] - 0s 16ms/step - loss: 0.6474 - accuracy: 0.7628 - val_loss: 1.1426 - val_accuracy: 0.5571\n"
     ]
    }
   ],
   "source": [
    "model.compile(loss='categorical_crossentropy', optimizer='adam', metrics=['accuracy'])\n",
    "early_stop = EarlyStopping(patience=100)\n",
    "filepath=\"/model/white_wine{epoch:04d}__{val_loss:.4f}.keras\"\n",
    "model_save = ModelCheckpoint(filepath=filepath, save_best_only=True)\n",
    "history = model.fit(X_train, y_train, epochs=10000, batch_size=500, validation_data=(X_valid,y_valid), \n",
    "                    callbacks=[early_stop,model_save])\n"
   ]
  },
  {
   "cell_type": "code",
   "execution_count": 112,
   "id": "840c30bf",
   "metadata": {},
   "outputs": [
    {
     "name": "stdout",
     "output_type": "stream",
     "text": [
      "31/31 [==============================] - 0s 3ms/step\n"
     ]
    },
    {
     "name": "stderr",
     "output_type": "stream",
     "text": [
      "2024-09-10 14:30:06.908372: I tensorflow/core/grappler/optimizers/custom_graph_optimizer_registry.cc:114] Plugin optimizer for device_type GPU is enabled.\n"
     ]
    }
   ],
   "source": [
    "wine_best_model = load_model(\"./model/white_wine0088__1.0355.keras\")\n",
    "wine_pred = wine_best_model.predict(X_test)\n",
    "wine_pred = pd.DataFrame(wine_pred,columns=y.columns)"
   ]
  },
  {
   "cell_type": "code",
   "execution_count": 108,
   "id": "6471b6af",
   "metadata": {},
   "outputs": [
    {
     "data": {
      "text/html": [
       "<div>\n",
       "<style scoped>\n",
       "    .dataframe tbody tr th:only-of-type {\n",
       "        vertical-align: middle;\n",
       "    }\n",
       "\n",
       "    .dataframe tbody tr th {\n",
       "        vertical-align: top;\n",
       "    }\n",
       "\n",
       "    .dataframe thead th {\n",
       "        text-align: right;\n",
       "    }\n",
       "</style>\n",
       "<table border=\"1\" class=\"dataframe\">\n",
       "  <thead>\n",
       "    <tr style=\"text-align: right;\">\n",
       "      <th></th>\n",
       "      <th>0</th>\n",
       "      <th>1</th>\n",
       "      <th>2</th>\n",
       "      <th>3</th>\n",
       "      <th>4</th>\n",
       "      <th>5</th>\n",
       "      <th>6</th>\n",
       "    </tr>\n",
       "  </thead>\n",
       "  <tbody>\n",
       "    <tr>\n",
       "      <th>0</th>\n",
       "      <td>0.004084</td>\n",
       "      <td>0.008073</td>\n",
       "      <td>0.098135</td>\n",
       "      <td>0.768133</td>\n",
       "      <td>0.114346</td>\n",
       "      <td>0.006879</td>\n",
       "      <td>0.000351</td>\n",
       "    </tr>\n",
       "    <tr>\n",
       "      <th>1</th>\n",
       "      <td>0.005688</td>\n",
       "      <td>0.006195</td>\n",
       "      <td>0.036908</td>\n",
       "      <td>0.650371</td>\n",
       "      <td>0.241850</td>\n",
       "      <td>0.057538</td>\n",
       "      <td>0.001449</td>\n",
       "    </tr>\n",
       "    <tr>\n",
       "      <th>2</th>\n",
       "      <td>0.004882</td>\n",
       "      <td>0.046232</td>\n",
       "      <td>0.316800</td>\n",
       "      <td>0.583672</td>\n",
       "      <td>0.043409</td>\n",
       "      <td>0.004383</td>\n",
       "      <td>0.000622</td>\n",
       "    </tr>\n",
       "    <tr>\n",
       "      <th>3</th>\n",
       "      <td>0.001086</td>\n",
       "      <td>0.009459</td>\n",
       "      <td>0.120742</td>\n",
       "      <td>0.602630</td>\n",
       "      <td>0.257367</td>\n",
       "      <td>0.008471</td>\n",
       "      <td>0.000245</td>\n",
       "    </tr>\n",
       "    <tr>\n",
       "      <th>4</th>\n",
       "      <td>0.001173</td>\n",
       "      <td>0.002574</td>\n",
       "      <td>0.099251</td>\n",
       "      <td>0.722725</td>\n",
       "      <td>0.154535</td>\n",
       "      <td>0.019342</td>\n",
       "      <td>0.000401</td>\n",
       "    </tr>\n",
       "    <tr>\n",
       "      <th>...</th>\n",
       "      <td>...</td>\n",
       "      <td>...</td>\n",
       "      <td>...</td>\n",
       "      <td>...</td>\n",
       "      <td>...</td>\n",
       "      <td>...</td>\n",
       "      <td>...</td>\n",
       "    </tr>\n",
       "    <tr>\n",
       "      <th>975</th>\n",
       "      <td>0.013026</td>\n",
       "      <td>0.107886</td>\n",
       "      <td>0.431916</td>\n",
       "      <td>0.387267</td>\n",
       "      <td>0.033966</td>\n",
       "      <td>0.022703</td>\n",
       "      <td>0.003237</td>\n",
       "    </tr>\n",
       "    <tr>\n",
       "      <th>976</th>\n",
       "      <td>0.003376</td>\n",
       "      <td>0.738663</td>\n",
       "      <td>0.239338</td>\n",
       "      <td>0.016705</td>\n",
       "      <td>0.001549</td>\n",
       "      <td>0.000226</td>\n",
       "      <td>0.000143</td>\n",
       "    </tr>\n",
       "    <tr>\n",
       "      <th>977</th>\n",
       "      <td>0.007724</td>\n",
       "      <td>0.017328</td>\n",
       "      <td>0.276579</td>\n",
       "      <td>0.608933</td>\n",
       "      <td>0.081704</td>\n",
       "      <td>0.007083</td>\n",
       "      <td>0.000649</td>\n",
       "    </tr>\n",
       "    <tr>\n",
       "      <th>978</th>\n",
       "      <td>0.007076</td>\n",
       "      <td>0.039315</td>\n",
       "      <td>0.378750</td>\n",
       "      <td>0.525649</td>\n",
       "      <td>0.039306</td>\n",
       "      <td>0.008688</td>\n",
       "      <td>0.001217</td>\n",
       "    </tr>\n",
       "    <tr>\n",
       "      <th>979</th>\n",
       "      <td>0.004965</td>\n",
       "      <td>0.018305</td>\n",
       "      <td>0.379414</td>\n",
       "      <td>0.517208</td>\n",
       "      <td>0.073082</td>\n",
       "      <td>0.006027</td>\n",
       "      <td>0.000999</td>\n",
       "    </tr>\n",
       "  </tbody>\n",
       "</table>\n",
       "<p>980 rows × 7 columns</p>\n",
       "</div>"
      ],
      "text/plain": [
       "            0         1         2         3         4         5         6\n",
       "0    0.004084  0.008073  0.098135  0.768133  0.114346  0.006879  0.000351\n",
       "1    0.005688  0.006195  0.036908  0.650371  0.241850  0.057538  0.001449\n",
       "2    0.004882  0.046232  0.316800  0.583672  0.043409  0.004383  0.000622\n",
       "3    0.001086  0.009459  0.120742  0.602630  0.257367  0.008471  0.000245\n",
       "4    0.001173  0.002574  0.099251  0.722725  0.154535  0.019342  0.000401\n",
       "..        ...       ...       ...       ...       ...       ...       ...\n",
       "975  0.013026  0.107886  0.431916  0.387267  0.033966  0.022703  0.003237\n",
       "976  0.003376  0.738663  0.239338  0.016705  0.001549  0.000226  0.000143\n",
       "977  0.007724  0.017328  0.276579  0.608933  0.081704  0.007083  0.000649\n",
       "978  0.007076  0.039315  0.378750  0.525649  0.039306  0.008688  0.001217\n",
       "979  0.004965  0.018305  0.379414  0.517208  0.073082  0.006027  0.000999\n",
       "\n",
       "[980 rows x 7 columns]"
      ]
     },
     "execution_count": 108,
     "metadata": {},
     "output_type": "execute_result"
    }
   ],
   "source": [
    "wine_pred"
   ]
  },
  {
   "cell_type": "code",
   "execution_count": 113,
   "id": "b7a132ce",
   "metadata": {},
   "outputs": [
    {
     "data": {
      "text/plain": [
       "0      6\n",
       "1      6\n",
       "2      6\n",
       "3      6\n",
       "4      6\n",
       "      ..\n",
       "975    5\n",
       "976    4\n",
       "977    6\n",
       "978    6\n",
       "979    6\n",
       "Length: 980, dtype: int64"
      ]
     },
     "execution_count": 113,
     "metadata": {},
     "output_type": "execute_result"
    }
   ],
   "source": [
    "wine_pred_class=wine_pred.idxmax(axis=1)\n",
    "wine_pred_class"
   ]
  },
  {
   "cell_type": "code",
   "execution_count": 114,
   "id": "9b572428",
   "metadata": {},
   "outputs": [
    {
     "data": {
      "text/html": [
       "<div>\n",
       "<style scoped>\n",
       "    .dataframe tbody tr th:only-of-type {\n",
       "        vertical-align: middle;\n",
       "    }\n",
       "\n",
       "    .dataframe tbody tr th {\n",
       "        vertical-align: top;\n",
       "    }\n",
       "\n",
       "    .dataframe thead th {\n",
       "        text-align: right;\n",
       "    }\n",
       "</style>\n",
       "<table border=\"1\" class=\"dataframe\">\n",
       "  <thead>\n",
       "    <tr style=\"text-align: right;\">\n",
       "      <th></th>\n",
       "      <th>3</th>\n",
       "      <th>4</th>\n",
       "      <th>5</th>\n",
       "      <th>6</th>\n",
       "      <th>7</th>\n",
       "      <th>8</th>\n",
       "      <th>9</th>\n",
       "    </tr>\n",
       "  </thead>\n",
       "  <tbody>\n",
       "    <tr>\n",
       "      <th>0</th>\n",
       "      <td>False</td>\n",
       "      <td>False</td>\n",
       "      <td>False</td>\n",
       "      <td>True</td>\n",
       "      <td>False</td>\n",
       "      <td>False</td>\n",
       "      <td>False</td>\n",
       "    </tr>\n",
       "    <tr>\n",
       "      <th>1</th>\n",
       "      <td>False</td>\n",
       "      <td>False</td>\n",
       "      <td>False</td>\n",
       "      <td>True</td>\n",
       "      <td>False</td>\n",
       "      <td>False</td>\n",
       "      <td>False</td>\n",
       "    </tr>\n",
       "    <tr>\n",
       "      <th>2</th>\n",
       "      <td>False</td>\n",
       "      <td>False</td>\n",
       "      <td>False</td>\n",
       "      <td>True</td>\n",
       "      <td>False</td>\n",
       "      <td>False</td>\n",
       "      <td>False</td>\n",
       "    </tr>\n",
       "    <tr>\n",
       "      <th>3</th>\n",
       "      <td>False</td>\n",
       "      <td>False</td>\n",
       "      <td>False</td>\n",
       "      <td>True</td>\n",
       "      <td>False</td>\n",
       "      <td>False</td>\n",
       "      <td>False</td>\n",
       "    </tr>\n",
       "    <tr>\n",
       "      <th>4</th>\n",
       "      <td>False</td>\n",
       "      <td>False</td>\n",
       "      <td>False</td>\n",
       "      <td>True</td>\n",
       "      <td>False</td>\n",
       "      <td>False</td>\n",
       "      <td>False</td>\n",
       "    </tr>\n",
       "    <tr>\n",
       "      <th>...</th>\n",
       "      <td>...</td>\n",
       "      <td>...</td>\n",
       "      <td>...</td>\n",
       "      <td>...</td>\n",
       "      <td>...</td>\n",
       "      <td>...</td>\n",
       "      <td>...</td>\n",
       "    </tr>\n",
       "    <tr>\n",
       "      <th>4893</th>\n",
       "      <td>False</td>\n",
       "      <td>False</td>\n",
       "      <td>False</td>\n",
       "      <td>True</td>\n",
       "      <td>False</td>\n",
       "      <td>False</td>\n",
       "      <td>False</td>\n",
       "    </tr>\n",
       "    <tr>\n",
       "      <th>4894</th>\n",
       "      <td>False</td>\n",
       "      <td>False</td>\n",
       "      <td>True</td>\n",
       "      <td>False</td>\n",
       "      <td>False</td>\n",
       "      <td>False</td>\n",
       "      <td>False</td>\n",
       "    </tr>\n",
       "    <tr>\n",
       "      <th>4895</th>\n",
       "      <td>False</td>\n",
       "      <td>False</td>\n",
       "      <td>False</td>\n",
       "      <td>True</td>\n",
       "      <td>False</td>\n",
       "      <td>False</td>\n",
       "      <td>False</td>\n",
       "    </tr>\n",
       "    <tr>\n",
       "      <th>4896</th>\n",
       "      <td>False</td>\n",
       "      <td>False</td>\n",
       "      <td>False</td>\n",
       "      <td>False</td>\n",
       "      <td>True</td>\n",
       "      <td>False</td>\n",
       "      <td>False</td>\n",
       "    </tr>\n",
       "    <tr>\n",
       "      <th>4897</th>\n",
       "      <td>False</td>\n",
       "      <td>False</td>\n",
       "      <td>False</td>\n",
       "      <td>True</td>\n",
       "      <td>False</td>\n",
       "      <td>False</td>\n",
       "      <td>False</td>\n",
       "    </tr>\n",
       "  </tbody>\n",
       "</table>\n",
       "<p>4898 rows × 7 columns</p>\n",
       "</div>"
      ],
      "text/plain": [
       "          3      4      5      6      7      8      9\n",
       "0     False  False  False   True  False  False  False\n",
       "1     False  False  False   True  False  False  False\n",
       "2     False  False  False   True  False  False  False\n",
       "3     False  False  False   True  False  False  False\n",
       "4     False  False  False   True  False  False  False\n",
       "...     ...    ...    ...    ...    ...    ...    ...\n",
       "4893  False  False  False   True  False  False  False\n",
       "4894  False  False   True  False  False  False  False\n",
       "4895  False  False  False   True  False  False  False\n",
       "4896  False  False  False  False   True  False  False\n",
       "4897  False  False  False   True  False  False  False\n",
       "\n",
       "[4898 rows x 7 columns]"
      ]
     },
     "execution_count": 114,
     "metadata": {},
     "output_type": "execute_result"
    }
   ],
   "source": [
    "y"
   ]
  },
  {
   "cell_type": "code",
   "execution_count": 117,
   "id": "45176402",
   "metadata": {},
   "outputs": [
    {
     "data": {
      "text/plain": [
       "0      6\n",
       "1      6\n",
       "2      7\n",
       "3      7\n",
       "4      5\n",
       "      ..\n",
       "975    6\n",
       "976    4\n",
       "977    5\n",
       "978    6\n",
       "979    6\n",
       "Length: 980, dtype: int64"
      ]
     },
     "execution_count": 117,
     "metadata": {},
     "output_type": "execute_result"
    }
   ],
   "source": [
    "y_test_class = y_test.idxmax(axis=1)\n",
    "y_test_class=y_test_class.reset_index(drop=True)\n",
    "y_test_class"
   ]
  },
  {
   "cell_type": "code",
   "execution_count": 118,
   "id": "0b765645",
   "metadata": {
    "scrolled": true
   },
   "outputs": [
    {
     "name": "stdout",
     "output_type": "stream",
     "text": [
      "              precision    recall  f1-score   support\n",
      "\n",
      "           3       0.00      0.00      0.00         4\n",
      "           4       0.58      0.21      0.31        33\n",
      "           5       0.60      0.58      0.59       291\n",
      "           6       0.56      0.74      0.64       440\n",
      "           7       0.54      0.32      0.40       176\n",
      "           8       0.00      0.00      0.00        35\n",
      "           9       0.00      0.00      0.00         1\n",
      "\n",
      "    accuracy                           0.57       980\n",
      "   macro avg       0.33      0.26      0.28       980\n",
      "weighted avg       0.55      0.57      0.54       980\n",
      "\n"
     ]
    },
    {
     "name": "stderr",
     "output_type": "stream",
     "text": [
      "/home/user/miniforge3/envs/dml/lib/python3.9/site-packages/sklearn/metrics/_classification.py:1531: UndefinedMetricWarning: Precision is ill-defined and being set to 0.0 in labels with no predicted samples. Use `zero_division` parameter to control this behavior.\n",
      "  _warn_prf(average, modifier, f\"{metric.capitalize()} is\", len(result))\n",
      "/home/user/miniforge3/envs/dml/lib/python3.9/site-packages/sklearn/metrics/_classification.py:1531: UndefinedMetricWarning: Precision is ill-defined and being set to 0.0 in labels with no predicted samples. Use `zero_division` parameter to control this behavior.\n",
      "  _warn_prf(average, modifier, f\"{metric.capitalize()} is\", len(result))\n",
      "/home/user/miniforge3/envs/dml/lib/python3.9/site-packages/sklearn/metrics/_classification.py:1531: UndefinedMetricWarning: Precision is ill-defined and being set to 0.0 in labels with no predicted samples. Use `zero_division` parameter to control this behavior.\n",
      "  _warn_prf(average, modifier, f\"{metric.capitalize()} is\", len(result))\n"
     ]
    }
   ],
   "source": [
    "print(classification_report(y_test_class, wine_pred_class))"
   ]
  },
  {
   "cell_type": "code",
   "execution_count": null,
   "id": "45b72dd8",
   "metadata": {},
   "outputs": [],
   "source": []
  },
  {
   "cell_type": "markdown",
   "id": "db6bc535",
   "metadata": {},
   "source": [
    "XGB로 비교분석"
   ]
  },
  {
   "cell_type": "code",
   "execution_count": 125,
   "id": "067ae924",
   "metadata": {},
   "outputs": [],
   "source": [
    "from sklearn.preprocessing import LabelEncoder"
   ]
  },
  {
   "cell_type": "code",
   "execution_count": 126,
   "id": "13ecb9e2",
   "metadata": {},
   "outputs": [
    {
     "data": {
      "text/plain": [
       "array([3, 3, 3, ..., 3, 4, 3])"
      ]
     },
     "execution_count": 126,
     "metadata": {},
     "output_type": "execute_result"
    }
   ],
   "source": [
    "le = LabelEncoder()\n",
    "\n",
    "y2_labeled = le.fit_transform(y2)\n",
    "y2_labeled"
   ]
  },
  {
   "cell_type": "code",
   "execution_count": null,
   "id": "93e4cf19",
   "metadata": {},
   "outputs": [],
   "source": [
    "X_train, X_valid"
   ]
  },
  {
   "cell_type": "code",
   "execution_count": 127,
   "id": "13caf2a2",
   "metadata": {},
   "outputs": [],
   "source": [
    "X_train2, X_valid2, y_train2, y_valid2 = train_test_split(X_scaled, y2_labeled ,test_size=0.4 , stratify=y2_labeled,random_state=10)\n",
    "X_valid2, X_test2, y_valid2, y_test2 = train_test_split(X_valid2, y_valid2, test_size=0.5,stratify=y_valid2, random_state=10)"
   ]
  },
  {
   "cell_type": "code",
   "execution_count": 122,
   "id": "0fc7d14d",
   "metadata": {},
   "outputs": [
    {
     "name": "stdout",
     "output_type": "stream",
     "text": [
      "Collecting xgboost\n",
      "  Using cached xgboost-2.1.1-py3-none-manylinux_2_28_x86_64.whl.metadata (2.1 kB)\n",
      "Requirement already satisfied: numpy in /home/user/miniforge3/envs/dml/lib/python3.9/site-packages (from xgboost) (1.26.4)\n",
      "Collecting nvidia-nccl-cu12 (from xgboost)\n",
      "  Using cached nvidia_nccl_cu12-2.22.3-py3-none-manylinux2014_x86_64.whl.metadata (1.8 kB)\n",
      "Requirement already satisfied: scipy in /home/user/miniforge3/envs/dml/lib/python3.9/site-packages (from xgboost) (1.13.1)\n",
      "Using cached xgboost-2.1.1-py3-none-manylinux_2_28_x86_64.whl (153.9 MB)\n",
      "Using cached nvidia_nccl_cu12-2.22.3-py3-none-manylinux2014_x86_64.whl (190.9 MB)\n",
      "Installing collected packages: nvidia-nccl-cu12, xgboost\n",
      "Successfully installed nvidia-nccl-cu12-2.22.3 xgboost-2.1.1\n"
     ]
    }
   ],
   "source": [
    "#!pip install xgboost"
   ]
  },
  {
   "cell_type": "code",
   "execution_count": 123,
   "id": "af6bc97a",
   "metadata": {},
   "outputs": [],
   "source": [
    "from xgboost import XGBClassifier"
   ]
  },
  {
   "cell_type": "code",
   "execution_count": 128,
   "id": "b5100731",
   "metadata": {},
   "outputs": [
    {
     "name": "stdout",
     "output_type": "stream",
     "text": [
      "              precision    recall  f1-score   support\n",
      "\n",
      "           0       0.00      0.00      0.00         4\n",
      "           1       0.48      0.33      0.39        33\n",
      "           2       0.64      0.61      0.62       291\n",
      "           3       0.64      0.70      0.67       440\n",
      "           4       0.59      0.60      0.59       176\n",
      "           5       0.60      0.34      0.44        35\n",
      "           6       0.00      0.00      0.00         1\n",
      "\n",
      "    accuracy                           0.62       980\n",
      "   macro avg       0.42      0.37      0.39       980\n",
      "weighted avg       0.62      0.62      0.62       980\n",
      "\n"
     ]
    },
    {
     "name": "stderr",
     "output_type": "stream",
     "text": [
      "/home/user/miniforge3/envs/dml/lib/python3.9/site-packages/sklearn/metrics/_classification.py:1531: UndefinedMetricWarning: Precision is ill-defined and being set to 0.0 in labels with no predicted samples. Use `zero_division` parameter to control this behavior.\n",
      "  _warn_prf(average, modifier, f\"{metric.capitalize()} is\", len(result))\n",
      "/home/user/miniforge3/envs/dml/lib/python3.9/site-packages/sklearn/metrics/_classification.py:1531: UndefinedMetricWarning: Precision is ill-defined and being set to 0.0 in labels with no predicted samples. Use `zero_division` parameter to control this behavior.\n",
      "  _warn_prf(average, modifier, f\"{metric.capitalize()} is\", len(result))\n",
      "/home/user/miniforge3/envs/dml/lib/python3.9/site-packages/sklearn/metrics/_classification.py:1531: UndefinedMetricWarning: Precision is ill-defined and being set to 0.0 in labels with no predicted samples. Use `zero_division` parameter to control this behavior.\n",
      "  _warn_prf(average, modifier, f\"{metric.capitalize()} is\", len(result))\n"
     ]
    }
   ],
   "source": [
    "xgb=XGBClassifier(max_depth=5, n_estimators = 1000, random_state = 10, n_jobs=-1)\n",
    "xgb.fit(X_train2, y_train2)\n",
    "xgb_pred=xgb.predict(X_valid2)\n",
    "print(classification_report(y_valid2, xgb_pred))"
   ]
  },
  {
   "cell_type": "code",
   "execution_count": null,
   "id": "11800087",
   "metadata": {},
   "outputs": [],
   "source": []
  },
  {
   "cell_type": "code",
   "execution_count": null,
   "id": "ccfb36e8",
   "metadata": {},
   "outputs": [],
   "source": []
  },
  {
   "cell_type": "code",
   "execution_count": null,
   "id": "fad74c5e",
   "metadata": {},
   "outputs": [],
   "source": []
  },
  {
   "cell_type": "code",
   "execution_count": null,
   "id": "585e8ddf",
   "metadata": {},
   "outputs": [],
   "source": []
  },
  {
   "cell_type": "code",
   "execution_count": null,
   "id": "7c8b2afe",
   "metadata": {},
   "outputs": [],
   "source": []
  },
  {
   "cell_type": "code",
   "execution_count": null,
   "id": "4b08a73d",
   "metadata": {},
   "outputs": [],
   "source": []
  },
  {
   "cell_type": "code",
   "execution_count": null,
   "id": "2788b2e1",
   "metadata": {},
   "outputs": [],
   "source": []
  },
  {
   "cell_type": "code",
   "execution_count": null,
   "id": "f0d4ab09",
   "metadata": {},
   "outputs": [],
   "source": []
  },
  {
   "cell_type": "code",
   "execution_count": null,
   "id": "12f8e597",
   "metadata": {},
   "outputs": [],
   "source": []
  }
 ],
 "metadata": {
  "kernelspec": {
   "display_name": "Python 3 (ipykernel)",
   "language": "python",
   "name": "python3"
  },
  "language_info": {
   "codemirror_mode": {
    "name": "ipython",
    "version": 3
   },
   "file_extension": ".py",
   "mimetype": "text/x-python",
   "name": "python",
   "nbconvert_exporter": "python",
   "pygments_lexer": "ipython3",
   "version": "3.9.19"
  }
 },
 "nbformat": 4,
 "nbformat_minor": 5
}
