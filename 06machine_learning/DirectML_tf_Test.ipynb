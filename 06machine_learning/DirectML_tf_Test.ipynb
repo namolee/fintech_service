{
 "cells": [
  {
   "cell_type": "code",
   "execution_count": 1,
   "id": "87934a1f",
   "metadata": {},
   "outputs": [
    {
     "name": "stderr",
     "output_type": "stream",
     "text": [
      "2024-09-06 10:33:42.772601: I tensorflow/core/platform/cpu_feature_guard.cc:193] This TensorFlow binary is optimized with oneAPI Deep Neural Network Library (oneDNN) to use the following CPU instructions in performance-critical operations:  AVX2 FMA\n",
      "To enable them in other operations, rebuild TensorFlow with the appropriate compiler flags.\n",
      "2024-09-06 10:33:45.491611: I tensorflow/c/logging.cc:34] Successfully opened dynamic library libdirectml.d6f03b303ac3c4f2eeb8ca631688c9757b361310.so\n",
      "2024-09-06 10:33:45.491738: I tensorflow/c/logging.cc:34] Successfully opened dynamic library libdxcore.so\n",
      "2024-09-06 10:33:45.495991: I tensorflow/c/logging.cc:34] Successfully opened dynamic library libd3d12.so\n",
      "2024-09-06 10:33:45.932042: I tensorflow/c/logging.cc:34] DirectML device enumeration: found 1 compatible adapters.\n"
     ]
    },
    {
     "name": "stdout",
     "output_type": "stream",
     "text": [
      "사용 가능한 GPU 장치: [PhysicalDevice(name='/physical_device:GPU:0', device_type='GPU')]\n"
     ]
    },
    {
     "name": "stderr",
     "output_type": "stream",
     "text": [
      "2024-09-06 10:33:46.230610: I tensorflow/core/platform/cpu_feature_guard.cc:193] This TensorFlow binary is optimized with oneAPI Deep Neural Network Library (oneDNN) to use the following CPU instructions in performance-critical operations:  AVX2 FMA\n",
      "To enable them in other operations, rebuild TensorFlow with the appropriate compiler flags.\n",
      "2024-09-06 10:33:46.233660: I tensorflow/c/logging.cc:34] DirectML: creating device on adapter 0 (AMD Radeon(TM) Graphics)\n",
      "2024-09-06 10:33:46.306424: I tensorflow/core/common_runtime/pluggable_device/pluggable_device_factory.cc:306] Could not identify NUMA node of platform GPU ID 0, defaulting to 0. Your kernel may not have been built with NUMA support.\n",
      "2024-09-06 10:33:46.306469: W tensorflow/core/common_runtime/pluggable_device/pluggable_device_bfc_allocator.cc:28] Overriding allow_growth setting because force_memory_growth was requested by the device.\n",
      "2024-09-06 10:33:46.306491: I tensorflow/core/common_runtime/pluggable_device/pluggable_device_factory.cc:272] Created TensorFlow device (/job:localhost/replica:0/task:0/device:GPU:0 with 14845 MB memory) -> physical PluggableDevice (device: 0, name: DML, pci bus id: <undefined>)\n"
     ]
    },
    {
     "name": "stdout",
     "output_type": "stream",
     "text": [
      "tf.Tensor(\n",
      "[[  35.89313      31.50273      36.995697   ...  216.40816\n",
      "   -10.628429    -61.55483   ]\n",
      " [ -26.058138    158.34074     -85.94442    ...    1.6450168\n",
      "  -127.14757     151.68439   ]\n",
      " [-177.24194     208.58568    -106.58793    ...   67.8077\n",
      "     0.77378845   70.737305  ]\n",
      " ...\n",
      " [ 190.5713      -74.10184     162.73807    ...  -17.783628\n",
      "   -78.180954   -124.70596   ]\n",
      " [-237.39255      82.34461      88.2199     ... -101.18988\n",
      "   -29.847496   -118.715164  ]\n",
      " [   7.3418875    77.77252    -102.07143    ...  -14.735453\n",
      "  -107.08738      21.593197  ]], shape=(10000, 10000), dtype=float32)\n",
      "연산 완료.\n"
     ]
    }
   ],
   "source": [
    "import tensorflow as tf\n",
    "#TensorFlow에서 사용할 수 있는 GPU 확인\n",
    "gpus = tf.config.list_physical_devices('GPU')\n",
    "if gpus:\n",
    "    print(f\"사용 가능한 GPU 장치: {gpus}\")\n",
    "else:\n",
    "    print(\"사용 가능한 GPU가 없습니다.\")\n",
    "\n",
    "#간단한 행렬 연산을 통해 GPU 사용 여부 테스트\n",
    "with tf.device('/GPU:0'):  # GPU:0은 첫 번째 GPU를 의미합니다.\n",
    "    a = tf.random.normal([10000, 10000])\n",
    "    b = tf.random.normal([10000, 10000])\n",
    "    result = tf.matmul(a, b)\n",
    "    print(result)\n",
    "print(\"연산 완료.\")"
   ]
  }
 ],
 "metadata": {
  "kernelspec": {
   "display_name": "Python 3 (ipykernel)",
   "language": "python",
   "name": "python3"
  },
  "language_info": {
   "codemirror_mode": {
    "name": "ipython",
    "version": 3
   },
   "file_extension": ".py",
   "mimetype": "text/x-python",
   "name": "python",
   "nbconvert_exporter": "python",
   "pygments_lexer": "ipython3",
   "version": "3.9.19"
  }
 },
 "nbformat": 4,
 "nbformat_minor": 5
}
