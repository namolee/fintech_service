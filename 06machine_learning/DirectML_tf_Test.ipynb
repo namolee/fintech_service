{
 "cells": [
  {
   "cell_type": "code",
   "execution_count": 1,
   "id": "87934a1f",
   "metadata": {
    "scrolled": true
   },
   "outputs": [
    {
     "name": "stderr",
     "output_type": "stream",
     "text": [
      "2024-09-09 11:42:18.622497: I tensorflow/core/platform/cpu_feature_guard.cc:193] This TensorFlow binary is optimized with oneAPI Deep Neural Network Library (oneDNN) to use the following CPU instructions in performance-critical operations:  AVX2 FMA\n",
      "To enable them in other operations, rebuild TensorFlow with the appropriate compiler flags.\n",
      "2024-09-09 11:42:20.486764: I tensorflow/c/logging.cc:34] Successfully opened dynamic library libdirectml.d6f03b303ac3c4f2eeb8ca631688c9757b361310.so\n",
      "2024-09-09 11:42:20.486870: I tensorflow/c/logging.cc:34] Successfully opened dynamic library libdxcore.so\n",
      "2024-09-09 11:42:20.490769: I tensorflow/c/logging.cc:34] Successfully opened dynamic library libd3d12.so\n",
      "2024-09-09 11:42:20.633864: I tensorflow/c/logging.cc:34] DirectML device enumeration: found 1 compatible adapters.\n"
     ]
    },
    {
     "name": "stdout",
     "output_type": "stream",
     "text": [
      "사용 가능한 GPU 장치: [PhysicalDevice(name='/physical_device:GPU:0', device_type='GPU')]\n"
     ]
    },
    {
     "name": "stderr",
     "output_type": "stream",
     "text": [
      "2024-09-09 11:42:21.279635: I tensorflow/core/platform/cpu_feature_guard.cc:193] This TensorFlow binary is optimized with oneAPI Deep Neural Network Library (oneDNN) to use the following CPU instructions in performance-critical operations:  AVX2 FMA\n",
      "To enable them in other operations, rebuild TensorFlow with the appropriate compiler flags.\n",
      "2024-09-09 11:42:21.281115: I tensorflow/c/logging.cc:34] DirectML: creating device on adapter 0 (AMD Radeon(TM) Graphics)\n",
      "2024-09-09 11:42:21.355982: I tensorflow/core/common_runtime/pluggable_device/pluggable_device_factory.cc:306] Could not identify NUMA node of platform GPU ID 0, defaulting to 0. Your kernel may not have been built with NUMA support.\n",
      "2024-09-09 11:42:21.356025: W tensorflow/core/common_runtime/pluggable_device/pluggable_device_bfc_allocator.cc:28] Overriding allow_growth setting because force_memory_growth was requested by the device.\n",
      "2024-09-09 11:42:21.356052: I tensorflow/core/common_runtime/pluggable_device/pluggable_device_factory.cc:272] Created TensorFlow device (/job:localhost/replica:0/task:0/device:GPU:0 with 14845 MB memory) -> physical PluggableDevice (device: 0, name: DML, pci bus id: <undefined>)\n"
     ]
    },
    {
     "name": "stdout",
     "output_type": "stream",
     "text": [
      "tf.Tensor(\n",
      "[[ -78.6377      -6.1836376  118.45701   ...   27.164316    83.69451\n",
      "    62.346786 ]\n",
      " [-117.9129    -203.17616    -62.71895   ...   57.64703     74.475426\n",
      "   151.43181  ]\n",
      " [-106.4896     -55.265175    36.341656  ...  112.04155     58.58349\n",
      "   141.2392   ]\n",
      " ...\n",
      " [-173.12779    -28.50266     -4.877345  ...  119.514046   -38.34804\n",
      "   -18.906252 ]\n",
      " [ -13.012083   -83.46701    106.17198   ...   18.520922  -176.83722\n",
      "  -110.92329  ]\n",
      " [ 175.07805     55.961082   283.4324    ...  127.59157   -170.3069\n",
      "   -53.383533 ]], shape=(10000, 10000), dtype=float32)\n",
      "연산 완료.\n"
     ]
    }
   ],
   "source": [
    "import tensorflow as tf\n",
    "#TensorFlow에서 사용할 수 있는 GPU 확인\n",
    "gpus = tf.config.list_physical_devices('GPU')\n",
    "if gpus:\n",
    "    print(f\"사용 가능한 GPU 장치: {gpus}\")\n",
    "else:\n",
    "    print(\"사용 가능한 GPU가 없습니다.\")\n",
    "\n",
    "#간단한 행렬 연산을 통해 GPU 사용 여부 테스트\n",
    "with tf.device('/GPU:0'):  # GPU:0은 첫 번째 GPU를 의미합니다.\n",
    "    a = tf.random.normal([10000, 10000])\n",
    "    b = tf.random.normal([10000, 10000])\n",
    "    result = tf.matmul(a, b)\n",
    "    print(result)\n",
    "print(\"연산 완료.\")"
   ]
  },
  {
   "cell_type": "code",
   "execution_count": 2,
   "id": "943cc4af",
   "metadata": {},
   "outputs": [],
   "source": [
    "import numpy as np"
   ]
  },
  {
   "cell_type": "code",
   "execution_count": 3,
   "id": "fcc15c61",
   "metadata": {},
   "outputs": [
    {
     "name": "stdout",
     "output_type": "stream",
     "text": [
      "1.26.4\n"
     ]
    }
   ],
   "source": [
    "print(np.__version__)"
   ]
  },
  {
   "cell_type": "code",
   "execution_count": null,
   "id": "96baddf2",
   "metadata": {},
   "outputs": [],
   "source": []
  }
 ],
 "metadata": {
  "kernelspec": {
   "display_name": "Python 3 (ipykernel)",
   "language": "python",
   "name": "python3"
  },
  "language_info": {
   "codemirror_mode": {
    "name": "ipython",
    "version": 3
   },
   "file_extension": ".py",
   "mimetype": "text/x-python",
   "name": "python",
   "nbconvert_exporter": "python",
   "pygments_lexer": "ipython3",
   "version": "3.9.19"
  }
 },
 "nbformat": 4,
 "nbformat_minor": 5
}
