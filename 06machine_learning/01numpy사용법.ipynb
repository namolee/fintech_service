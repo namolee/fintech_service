{
 "cells": [
  {
   "cell_type": "markdown",
   "id": "94a01d14",
   "metadata": {},
   "source": [
    "# numpy란?\n",
    "* Numerical Python의 약자. 과학적, 산업적 연산을 위한 파이썬 패키지\n",
    "* 다차원 배열, 행렬 연산에 주로 사용\n"
   ]
  },
  {
   "cell_type": "code",
   "execution_count": null,
   "id": "d97cf178",
   "metadata": {},
   "outputs": [],
   "source": [
    "# !pip install numpy\n",
    "# !conda install numpy"
   ]
  },
  {
   "cell_type": "markdown",
   "id": "7902a5df",
   "metadata": {},
   "source": [
    "# 차원"
   ]
  },
  {
   "cell_type": "markdown",
   "id": "3870f3b9",
   "metadata": {},
   "source": [
    "* 0차원 = 점   ,      스칼라\n"
   ]
  },
  {
   "cell_type": "markdown",
   "id": "05a60c9a",
   "metadata": {},
   "source": [
    "* 1차원 = 선   ,      벡터\n",
    "* 벡터는 방향을 가진 데이터"
   ]
  },
  {
   "cell_type": "markdown",
   "id": "b2498271",
   "metadata": {},
   "source": [
    "* 2차원 = 면, metrix, dataframe"
   ]
  },
  {
   "cell_type": "markdown",
   "id": "71a5cc1b",
   "metadata": {},
   "source": [
    "* 3차원 = 공간, 입체"
   ]
  },
  {
   "cell_type": "markdown",
   "id": "49ca853d",
   "metadata": {},
   "source": [
    "* 4차원 = 3차원 요소가 2개 이상"
   ]
  },
  {
   "cell_type": "code",
   "execution_count": 2,
   "id": "166ed99b",
   "metadata": {},
   "outputs": [],
   "source": [
    "import numpy as np"
   ]
  },
  {
   "cell_type": "code",
   "execution_count": 5,
   "id": "297925b5",
   "metadata": {},
   "outputs": [],
   "source": [
    "a = np.array([1,2,3,4,5])"
   ]
  },
  {
   "cell_type": "code",
   "execution_count": 6,
   "id": "0f46f36d",
   "metadata": {},
   "outputs": [
    {
     "data": {
      "text/plain": [
       "array([1, 2, 3, 4, 5])"
      ]
     },
     "execution_count": 6,
     "metadata": {},
     "output_type": "execute_result"
    }
   ],
   "source": [
    "a"
   ]
  },
  {
   "cell_type": "code",
   "execution_count": 7,
   "id": "374702cc",
   "metadata": {},
   "outputs": [
    {
     "data": {
      "text/plain": [
       "1"
      ]
     },
     "execution_count": 7,
     "metadata": {},
     "output_type": "execute_result"
    }
   ],
   "source": [
    "a.ndim"
   ]
  },
  {
   "cell_type": "code",
   "execution_count": 9,
   "id": "bf3b6f37",
   "metadata": {},
   "outputs": [],
   "source": [
    "b=32"
   ]
  },
  {
   "cell_type": "code",
   "execution_count": 10,
   "id": "667faa7a",
   "metadata": {},
   "outputs": [
    {
     "ename": "AttributeError",
     "evalue": "'int' object has no attribute 'ndim'",
     "output_type": "error",
     "traceback": [
      "\u001b[1;31m---------------------------------------------------------------------------\u001b[0m",
      "\u001b[1;31mAttributeError\u001b[0m                            Traceback (most recent call last)",
      "Cell \u001b[1;32mIn[10], line 1\u001b[0m\n\u001b[1;32m----> 1\u001b[0m \u001b[43mb\u001b[49m\u001b[38;5;241;43m.\u001b[39;49m\u001b[43mndim\u001b[49m\n",
      "\u001b[1;31mAttributeError\u001b[0m: 'int' object has no attribute 'ndim'"
     ]
    }
   ],
   "source": [
    "b.ndim"
   ]
  },
  {
   "cell_type": "code",
   "execution_count": 15,
   "id": "7ba32939",
   "metadata": {},
   "outputs": [
    {
     "data": {
      "text/plain": [
       "array([[1, 2, 3, 4, 5],\n",
       "       [1, 2, 3, 4, 5]])"
      ]
     },
     "execution_count": 15,
     "metadata": {},
     "output_type": "execute_result"
    }
   ],
   "source": [
    "c = np.array([[1,2,3,4,5],[1,2,3,4,5]])\n",
    "c"
   ]
  },
  {
   "cell_type": "code",
   "execution_count": 17,
   "id": "db8770ed",
   "metadata": {},
   "outputs": [
    {
     "data": {
      "text/plain": [
       "2"
      ]
     },
     "execution_count": 17,
     "metadata": {},
     "output_type": "execute_result"
    }
   ],
   "source": [
    "c.ndim"
   ]
  },
  {
   "cell_type": "code",
   "execution_count": 19,
   "id": "a1fac8c8",
   "metadata": {},
   "outputs": [
    {
     "data": {
      "text/plain": [
       "array([[[1, 2, 3, 4, 5],\n",
       "        [1, 2, 3, 4, 5]],\n",
       "\n",
       "       [[1, 2, 3, 4, 5],\n",
       "        [1, 2, 3, 4, 5]]])"
      ]
     },
     "execution_count": 19,
     "metadata": {},
     "output_type": "execute_result"
    }
   ],
   "source": [
    "d= np.array([[[1,2,3,4,5],[1,2,3,4,5]],[[1,2,3,4,5],[1,2,3,4,5]]])\n",
    "d"
   ]
  },
  {
   "cell_type": "code",
   "execution_count": 20,
   "id": "088eedb5",
   "metadata": {},
   "outputs": [
    {
     "data": {
      "text/plain": [
       "3"
      ]
     },
     "execution_count": 20,
     "metadata": {},
     "output_type": "execute_result"
    }
   ],
   "source": [
    "d.ndim"
   ]
  },
  {
   "cell_type": "code",
   "execution_count": 21,
   "id": "aa892d62",
   "metadata": {},
   "outputs": [
    {
     "data": {
      "text/plain": [
       "array([[[[1, 2, 3, 4, 5],\n",
       "         [1, 2, 3, 4, 5]],\n",
       "\n",
       "        [[1, 2, 3, 4, 5],\n",
       "         [1, 2, 3, 4, 5]]],\n",
       "\n",
       "\n",
       "       [[[1, 2, 3, 4, 5],\n",
       "         [1, 2, 3, 4, 5]],\n",
       "\n",
       "        [[1, 2, 3, 4, 5],\n",
       "         [1, 2, 3, 4, 5]]]])"
      ]
     },
     "execution_count": 21,
     "metadata": {},
     "output_type": "execute_result"
    }
   ],
   "source": [
    "e=np.array([[[[1,2,3,4,5],[1,2,3,4,5]],[[1,2,3,4,5],[1,2,3,4,5]]],[[[1,2,3,4,5],[1,2,3,4,5]],[[1,2,3,4,5],[1,2,3,4,5]]]])\n",
    "e"
   ]
  },
  {
   "cell_type": "code",
   "execution_count": 22,
   "id": "8013f354",
   "metadata": {},
   "outputs": [
    {
     "data": {
      "text/plain": [
       "4"
      ]
     },
     "execution_count": 22,
     "metadata": {},
     "output_type": "execute_result"
    }
   ],
   "source": [
    "e.ndim"
   ]
  },
  {
   "cell_type": "code",
   "execution_count": 23,
   "id": "cf943b24",
   "metadata": {},
   "outputs": [
    {
     "data": {
      "text/plain": [
       "(5,)"
      ]
     },
     "execution_count": 23,
     "metadata": {},
     "output_type": "execute_result"
    }
   ],
   "source": [
    "a.shape"
   ]
  },
  {
   "cell_type": "code",
   "execution_count": 26,
   "id": "ef3fe646",
   "metadata": {},
   "outputs": [
    {
     "data": {
      "text/plain": [
       "(2, 5)"
      ]
     },
     "execution_count": 26,
     "metadata": {},
     "output_type": "execute_result"
    }
   ],
   "source": [
    "c.shape"
   ]
  },
  {
   "cell_type": "markdown",
   "id": "1bc4c2ac",
   "metadata": {},
   "source": [
    "# numpy를 사용하는 이유: 행렬 연산이 쉽고 빠르기 때문"
   ]
  },
  {
   "cell_type": "code",
   "execution_count": 27,
   "id": "d00af2da",
   "metadata": {},
   "outputs": [],
   "source": [
    "a = 10"
   ]
  },
  {
   "cell_type": "code",
   "execution_count": 28,
   "id": "781e8e3f",
   "metadata": {},
   "outputs": [
    {
     "data": {
      "text/plain": [
       "11"
      ]
     },
     "execution_count": 28,
     "metadata": {},
     "output_type": "execute_result"
    }
   ],
   "source": [
    "scalar = a+1\n",
    "scalar"
   ]
  },
  {
   "cell_type": "markdown",
   "id": "9314d666",
   "metadata": {},
   "source": [
    "* 벡터연산"
   ]
  },
  {
   "cell_type": "code",
   "execution_count": 31,
   "id": "409635d1",
   "metadata": {},
   "outputs": [
    {
     "data": {
      "text/plain": [
       "array([1, 2, 3, 4, 5])"
      ]
     },
     "execution_count": 31,
     "metadata": {},
     "output_type": "execute_result"
    }
   ],
   "source": [
    "b=np.array([1,2,3,4,5])\n",
    "b"
   ]
  },
  {
   "cell_type": "code",
   "execution_count": 32,
   "id": "f001e4f7",
   "metadata": {},
   "outputs": [
    {
     "data": {
      "text/plain": [
       "array([4, 5, 6, 7, 8])"
      ]
     },
     "execution_count": 32,
     "metadata": {},
     "output_type": "execute_result"
    }
   ],
   "source": [
    "b=b+3\n",
    "b"
   ]
  },
  {
   "cell_type": "code",
   "execution_count": null,
   "id": "112b5d69",
   "metadata": {},
   "outputs": [],
   "source": [
    "hap=[]\n",
    "for num in b:\n",
    "    hap.append(num+3)"
   ]
  },
  {
   "cell_type": "code",
   "execution_count": 34,
   "id": "62b1ec09",
   "metadata": {},
   "outputs": [
    {
     "data": {
      "text/plain": [
       "[1, 2, 3, 4, 5]"
      ]
     },
     "execution_count": 34,
     "metadata": {},
     "output_type": "execute_result"
    }
   ],
   "source": [
    "c=[1,2,3,4,5]\n",
    "c"
   ]
  },
  {
   "cell_type": "code",
   "execution_count": 35,
   "id": "cd47a821",
   "metadata": {},
   "outputs": [
    {
     "ename": "TypeError",
     "evalue": "can only concatenate list (not \"int\") to list",
     "output_type": "error",
     "traceback": [
      "\u001b[1;31m---------------------------------------------------------------------------\u001b[0m",
      "\u001b[1;31mTypeError\u001b[0m                                 Traceback (most recent call last)",
      "Cell \u001b[1;32mIn[35], line 1\u001b[0m\n\u001b[1;32m----> 1\u001b[0m c\u001b[38;5;241m=\u001b[39m\u001b[43mc\u001b[49m\u001b[38;5;241;43m+\u001b[39;49m\u001b[38;5;241;43m3\u001b[39;49m\n\u001b[0;32m      2\u001b[0m c\n",
      "\u001b[1;31mTypeError\u001b[0m: can only concatenate list (not \"int\") to list"
     ]
    }
   ],
   "source": [
    "c=c+3\n",
    "c"
   ]
  },
  {
   "cell_type": "code",
   "execution_count": 36,
   "id": "73cc81c8",
   "metadata": {},
   "outputs": [],
   "source": [
    "b=b*2\n"
   ]
  },
  {
   "cell_type": "code",
   "execution_count": 37,
   "id": "3277ceaa",
   "metadata": {},
   "outputs": [
    {
     "data": {
      "text/plain": [
       "array([ 8, 10, 12, 14, 16])"
      ]
     },
     "execution_count": 37,
     "metadata": {},
     "output_type": "execute_result"
    }
   ],
   "source": [
    "b"
   ]
  },
  {
   "cell_type": "code",
   "execution_count": 38,
   "id": "bde605db",
   "metadata": {},
   "outputs": [
    {
     "data": {
      "text/plain": [
       "[[1, 2, 3], [1, 2, 3], [1, 2, 3]]"
      ]
     },
     "execution_count": 38,
     "metadata": {},
     "output_type": "execute_result"
    }
   ],
   "source": [
    "d=[[1,2,3],[1,2,3],[1,2,3]]\n",
    "d"
   ]
  },
  {
   "cell_type": "code",
   "execution_count": 49,
   "id": "9536e727",
   "metadata": {},
   "outputs": [
    {
     "ename": "TypeError",
     "evalue": "can only concatenate list (not \"int\") to list",
     "output_type": "error",
     "traceback": [
      "\u001b[1;31m---------------------------------------------------------------------------\u001b[0m",
      "\u001b[1;31mTypeError\u001b[0m                                 Traceback (most recent call last)",
      "Cell \u001b[1;32mIn[49], line 1\u001b[0m\n\u001b[1;32m----> 1\u001b[0m d\u001b[38;5;241m=\u001b[39m\u001b[43md\u001b[49m\u001b[38;5;241;43m+\u001b[39;49m\u001b[38;5;241;43m5\u001b[39;49m\n",
      "\u001b[1;31mTypeError\u001b[0m: can only concatenate list (not \"int\") to list"
     ]
    }
   ],
   "source": [
    "d=d+5"
   ]
  },
  {
   "cell_type": "code",
   "execution_count": 46,
   "id": "b6ab246b",
   "metadata": {},
   "outputs": [
    {
     "data": {
      "text/plain": [
       "[[6, 7, 8], [6, 7, 8], [6, 7, 8]]"
      ]
     },
     "execution_count": 46,
     "metadata": {},
     "output_type": "execute_result"
    }
   ],
   "source": [
    "hap=[]\n",
    "for i in d:\n",
    "    temp=[]\n",
    "    for j in i:\n",
    "        temp.append(j+5)\n",
    "    hap.append(temp)\n",
    "hap"
   ]
  },
  {
   "cell_type": "code",
   "execution_count": 39,
   "id": "00d0fa9c",
   "metadata": {},
   "outputs": [
    {
     "data": {
      "text/plain": [
       "array([[1, 2, 3],\n",
       "       [1, 2, 3],\n",
       "       [1, 2, 3]])"
      ]
     },
     "execution_count": 39,
     "metadata": {},
     "output_type": "execute_result"
    }
   ],
   "source": [
    "d2= np.array([[1,2,3],[1,2,3],[1,2,3]])\n",
    "d2"
   ]
  },
  {
   "cell_type": "code",
   "execution_count": 48,
   "id": "08c5db1c",
   "metadata": {},
   "outputs": [
    {
     "data": {
      "text/plain": [
       "array([[6, 7, 8],\n",
       "       [6, 7, 8],\n",
       "       [6, 7, 8]])"
      ]
     },
     "execution_count": 48,
     "metadata": {},
     "output_type": "execute_result"
    }
   ],
   "source": [
    "d2=d2+5\n",
    "d2"
   ]
  },
  {
   "cell_type": "markdown",
   "id": "e27a9c69",
   "metadata": {},
   "source": [
    "# numpy에서 자주 사용하는 메서드\n",
    "* .ndim: 몇 차원인지 보는 것\n",
    "* .shape: 몇 차원, 몇 행 몇 열로 되어있는지 구조 확인\n",
    "* .size: 배열 안에 있는 요소의 총 갯수가 몇개인지\n",
    "* .dtype: 데이터 타입이 무엇인지\n",
    "* .itemsize: 1개 자료의 크기는 몇 인지"
   ]
  },
  {
   "cell_type": "code",
   "execution_count": 50,
   "id": "b0b84169",
   "metadata": {},
   "outputs": [
    {
     "data": {
      "text/plain": [
       "2"
      ]
     },
     "execution_count": 50,
     "metadata": {},
     "output_type": "execute_result"
    }
   ],
   "source": [
    "d2.ndim"
   ]
  },
  {
   "cell_type": "code",
   "execution_count": 51,
   "id": "b3448d3b",
   "metadata": {},
   "outputs": [
    {
     "data": {
      "text/plain": [
       "(3, 3)"
      ]
     },
     "execution_count": 51,
     "metadata": {},
     "output_type": "execute_result"
    }
   ],
   "source": [
    "d2.shape"
   ]
  },
  {
   "cell_type": "code",
   "execution_count": 52,
   "id": "3aa219ac",
   "metadata": {},
   "outputs": [
    {
     "data": {
      "text/plain": [
       "9"
      ]
     },
     "execution_count": 52,
     "metadata": {},
     "output_type": "execute_result"
    }
   ],
   "source": [
    "d2.size"
   ]
  },
  {
   "cell_type": "code",
   "execution_count": 53,
   "id": "3c9a9ec1",
   "metadata": {},
   "outputs": [
    {
     "data": {
      "text/plain": [
       "dtype('int64')"
      ]
     },
     "execution_count": 53,
     "metadata": {},
     "output_type": "execute_result"
    }
   ],
   "source": [
    "d2.dtype"
   ]
  },
  {
   "cell_type": "code",
   "execution_count": 54,
   "id": "4e0af614",
   "metadata": {},
   "outputs": [
    {
     "data": {
      "text/plain": [
       "8"
      ]
     },
     "execution_count": 54,
     "metadata": {},
     "output_type": "execute_result"
    }
   ],
   "source": [
    "d2.itemsize"
   ]
  },
  {
   "cell_type": "code",
   "execution_count": 55,
   "id": "3714ab18",
   "metadata": {},
   "outputs": [
    {
     "data": {
      "text/plain": [
       "array([[3. , 3.5, 4. ],\n",
       "       [3. , 3.5, 4. ],\n",
       "       [3. , 3.5, 4. ]])"
      ]
     },
     "execution_count": 55,
     "metadata": {},
     "output_type": "execute_result"
    }
   ],
   "source": [
    "d3=d2/2\n",
    "d3\n"
   ]
  },
  {
   "cell_type": "code",
   "execution_count": 56,
   "id": "c3725aa6",
   "metadata": {},
   "outputs": [
    {
     "data": {
      "text/plain": [
       "dtype('float64')"
      ]
     },
     "execution_count": 56,
     "metadata": {},
     "output_type": "execute_result"
    }
   ],
   "source": [
    "d3.dtype"
   ]
  },
  {
   "cell_type": "markdown",
   "id": "dfc85843",
   "metadata": {},
   "source": [
    "# ndarray 만들기\n",
    "* np.array(리스트/튜플)\n",
    "* 자료형은 반드시 1가지만 넣는다."
   ]
  },
  {
   "cell_type": "code",
   "execution_count": 60,
   "id": "e22b484e",
   "metadata": {},
   "outputs": [
    {
     "data": {
      "text/plain": [
       "dtype('int64')"
      ]
     },
     "execution_count": 60,
     "metadata": {},
     "output_type": "execute_result"
    }
   ],
   "source": [
    "e=np.array([1,2,3,4,5])\n",
    "e.dtype"
   ]
  },
  {
   "cell_type": "code",
   "execution_count": 62,
   "id": "ab84de17",
   "metadata": {},
   "outputs": [
    {
     "data": {
      "text/plain": [
       "dtype('float64')"
      ]
     },
     "execution_count": 62,
     "metadata": {},
     "output_type": "execute_result"
    }
   ],
   "source": [
    "e2=np.array([1,2,3,4,5.3])\n",
    "e2.dtype"
   ]
  },
  {
   "cell_type": "code",
   "execution_count": 63,
   "id": "dc163e91",
   "metadata": {},
   "outputs": [
    {
     "data": {
      "text/plain": [
       "dtype('<U32')"
      ]
     },
     "execution_count": 63,
     "metadata": {},
     "output_type": "execute_result"
    }
   ],
   "source": [
    "e3=np.array([1,2,'3',4,5.3])\n",
    "e3.dtype"
   ]
  },
  {
   "cell_type": "markdown",
   "id": "fcec1494",
   "metadata": {},
   "source": [
    "* np.arange(시작,끝+1,step)\n"
   ]
  },
  {
   "cell_type": "code",
   "execution_count": 64,
   "id": "34c470ae",
   "metadata": {},
   "outputs": [
    {
     "data": {
      "text/plain": [
       "array([  1,   2,   3,   4,   5,   6,   7,   8,   9,  10,  11,  12,  13,\n",
       "        14,  15,  16,  17,  18,  19,  20,  21,  22,  23,  24,  25,  26,\n",
       "        27,  28,  29,  30,  31,  32,  33,  34,  35,  36,  37,  38,  39,\n",
       "        40,  41,  42,  43,  44,  45,  46,  47,  48,  49,  50,  51,  52,\n",
       "        53,  54,  55,  56,  57,  58,  59,  60,  61,  62,  63,  64,  65,\n",
       "        66,  67,  68,  69,  70,  71,  72,  73,  74,  75,  76,  77,  78,\n",
       "        79,  80,  81,  82,  83,  84,  85,  86,  87,  88,  89,  90,  91,\n",
       "        92,  93,  94,  95,  96,  97,  98,  99, 100])"
      ]
     },
     "execution_count": 64,
     "metadata": {},
     "output_type": "execute_result"
    }
   ],
   "source": [
    "np.arange(1,101)"
   ]
  },
  {
   "cell_type": "code",
   "execution_count": 65,
   "id": "447d1be6",
   "metadata": {},
   "outputs": [
    {
     "data": {
      "text/plain": [
       "array([ 3,  6,  9, 12, 15, 18, 21, 24, 27, 30, 33, 36, 39, 42, 45, 48, 51,\n",
       "       54, 57, 60, 63, 66, 69, 72, 75, 78, 81, 84, 87, 90, 93, 96, 99])"
      ]
     },
     "execution_count": 65,
     "metadata": {},
     "output_type": "execute_result"
    }
   ],
   "source": [
    "np.arange(3,101,3)"
   ]
  },
  {
   "cell_type": "markdown",
   "id": "60874677",
   "metadata": {},
   "source": [
    "* reshape(행, 열) 벡터를 원하는 크기의 matrix로 변한"
   ]
  },
  {
   "cell_type": "code",
   "execution_count": 66,
   "id": "94f676ee",
   "metadata": {},
   "outputs": [
    {
     "name": "stdout",
     "output_type": "stream",
     "text": [
      "[ 0  1  2  3  4  5  6  7  8  9 10 11 12 13 14 15 16 17 18 19 20 21 22 23]\n"
     ]
    }
   ],
   "source": [
    "a=np.arange(24)\n",
    "print(a)"
   ]
  },
  {
   "cell_type": "code",
   "execution_count": 70,
   "id": "b5840641",
   "metadata": {
    "scrolled": true
   },
   "outputs": [
    {
     "data": {
      "text/plain": [
       "array([[ 0,  1,  2,  3,  4,  5],\n",
       "       [ 6,  7,  8,  9, 10, 11],\n",
       "       [12, 13, 14, 15, 16, 17],\n",
       "       [18, 19, 20, 21, 22, 23]])"
      ]
     },
     "execution_count": 70,
     "metadata": {},
     "output_type": "execute_result"
    }
   ],
   "source": [
    "a.reshape(4,6)"
   ]
  },
  {
   "cell_type": "markdown",
   "id": "427d9a3f",
   "metadata": {},
   "source": [
    "* .flatten() 다차원 데이터를 1차원 배열로 바꿔주는 함수"
   ]
  },
  {
   "cell_type": "code",
   "execution_count": 71,
   "id": "09931510",
   "metadata": {},
   "outputs": [
    {
     "data": {
      "text/plain": [
       "array([ 0,  1,  2,  3,  4,  5,  6,  7,  8,  9, 10, 11, 12, 13, 14, 15, 16,\n",
       "       17, 18, 19, 20, 21, 22, 23])"
      ]
     },
     "execution_count": 71,
     "metadata": {},
     "output_type": "execute_result"
    }
   ],
   "source": [
    "a.flatten()\n",
    "a"
   ]
  },
  {
   "cell_type": "markdown",
   "id": "fe844946",
   "metadata": {},
   "source": [
    "정해진 숫자 범위 안에서 균등하게 구간을 나눌 때\n",
    "* np.linspace(시작,끝,구간수)"
   ]
  },
  {
   "cell_type": "code",
   "execution_count": 72,
   "id": "0dafb2a2",
   "metadata": {
    "scrolled": true
   },
   "outputs": [
    {
     "data": {
      "text/plain": [
       "array([0.        , 0.00819672, 0.01639344, 0.02459016, 0.03278689,\n",
       "       0.04098361, 0.04918033, 0.05737705, 0.06557377, 0.07377049,\n",
       "       0.08196721, 0.09016393, 0.09836066, 0.10655738, 0.1147541 ,\n",
       "       0.12295082, 0.13114754, 0.13934426, 0.14754098, 0.1557377 ,\n",
       "       0.16393443, 0.17213115, 0.18032787, 0.18852459, 0.19672131,\n",
       "       0.20491803, 0.21311475, 0.22131148, 0.2295082 , 0.23770492,\n",
       "       0.24590164, 0.25409836, 0.26229508, 0.2704918 , 0.27868852,\n",
       "       0.28688525, 0.29508197, 0.30327869, 0.31147541, 0.31967213,\n",
       "       0.32786885, 0.33606557, 0.3442623 , 0.35245902, 0.36065574,\n",
       "       0.36885246, 0.37704918, 0.3852459 , 0.39344262, 0.40163934,\n",
       "       0.40983607, 0.41803279, 0.42622951, 0.43442623, 0.44262295,\n",
       "       0.45081967, 0.45901639, 0.46721311, 0.47540984, 0.48360656,\n",
       "       0.49180328, 0.5       , 0.50819672, 0.51639344, 0.52459016,\n",
       "       0.53278689, 0.54098361, 0.54918033, 0.55737705, 0.56557377,\n",
       "       0.57377049, 0.58196721, 0.59016393, 0.59836066, 0.60655738,\n",
       "       0.6147541 , 0.62295082, 0.63114754, 0.63934426, 0.64754098,\n",
       "       0.6557377 , 0.66393443, 0.67213115, 0.68032787, 0.68852459,\n",
       "       0.69672131, 0.70491803, 0.71311475, 0.72131148, 0.7295082 ,\n",
       "       0.73770492, 0.74590164, 0.75409836, 0.76229508, 0.7704918 ,\n",
       "       0.77868852, 0.78688525, 0.79508197, 0.80327869, 0.81147541,\n",
       "       0.81967213, 0.82786885, 0.83606557, 0.8442623 , 0.85245902,\n",
       "       0.86065574, 0.86885246, 0.87704918, 0.8852459 , 0.89344262,\n",
       "       0.90163934, 0.90983607, 0.91803279, 0.92622951, 0.93442623,\n",
       "       0.94262295, 0.95081967, 0.95901639, 0.96721311, 0.97540984,\n",
       "       0.98360656, 0.99180328, 1.        ])"
      ]
     },
     "execution_count": 72,
     "metadata": {},
     "output_type": "execute_result"
    }
   ],
   "source": [
    "np.linspace(0,1,123)"
   ]
  },
  {
   "cell_type": "markdown",
   "id": "da6059d7",
   "metadata": {},
   "source": [
    "* sort()를 쓰면 바뀐 내용이 저장되고, sorted()를 쓰면 저장되지 않는다."
   ]
  },
  {
   "cell_type": "markdown",
   "id": "33148fcb",
   "metadata": {},
   "source": [
    "## argsort() 자료중 값이 작은 것에서 큰 순으로 인덱스 출력\n"
   ]
  },
  {
   "cell_type": "code",
   "execution_count": 76,
   "id": "268af9ef",
   "metadata": {},
   "outputs": [
    {
     "data": {
      "text/plain": [
       "array([ 5. ,  0.5, -7. , 42. , 10. ])"
      ]
     },
     "execution_count": 76,
     "metadata": {},
     "output_type": "execute_result"
    }
   ],
   "source": [
    "g=np.array([5,0.5,-7,42,10])\n",
    "g\n"
   ]
  },
  {
   "cell_type": "code",
   "execution_count": 75,
   "id": "f7e536e0",
   "metadata": {},
   "outputs": [
    {
     "data": {
      "text/plain": [
       "array([2, 1, 0, 3])"
      ]
     },
     "execution_count": 75,
     "metadata": {},
     "output_type": "execute_result"
    }
   ],
   "source": [
    "g.argsort()"
   ]
  },
  {
   "cell_type": "markdown",
   "id": "91673b13",
   "metadata": {},
   "source": [
    "# 배열 합치기\n",
    "* np.concatenate()"
   ]
  },
  {
   "cell_type": "code",
   "execution_count": 79,
   "id": "517a9bd8",
   "metadata": {},
   "outputs": [
    {
     "name": "stdout",
     "output_type": "stream",
     "text": [
      "[[1 2]\n",
      " [3 4]]\n",
      "[[5 6]\n",
      " [7 8]]\n"
     ]
    }
   ],
   "source": [
    "a = np.array([[1,2],[3,4]])\n",
    "b = np.array([[5,6],[7,8]])\n",
    "print(a)\n",
    "print(b)"
   ]
  },
  {
   "cell_type": "markdown",
   "id": "82b36abd",
   "metadata": {},
   "source": [
    "* np.concatenate((a,b)) 의 기본 병합 방향은 행방향, axis=0\n",
    "* 행방향으로 합칠 때는 두 행렬의 열의 길이가 같아야 합쳐짐\n"
   ]
  },
  {
   "cell_type": "code",
   "execution_count": 82,
   "id": "6145a15a",
   "metadata": {},
   "outputs": [
    {
     "data": {
      "text/plain": [
       "(4, 2)"
      ]
     },
     "execution_count": 82,
     "metadata": {},
     "output_type": "execute_result"
    }
   ],
   "source": [
    "np.concatenate((a,b))\n",
    "np.concatenate((a,b)).shape"
   ]
  },
  {
   "cell_type": "markdown",
   "id": "3d962a9a",
   "metadata": {},
   "source": [
    "* axis=1은 열방향으로 붙음\n",
    "* 두 행렬의 행 길이가 같아야 붙음"
   ]
  },
  {
   "cell_type": "code",
   "execution_count": 83,
   "id": "1b726b5f",
   "metadata": {},
   "outputs": [
    {
     "data": {
      "text/plain": [
       "(2, 4)"
      ]
     },
     "execution_count": 83,
     "metadata": {},
     "output_type": "execute_result"
    }
   ],
   "source": [
    "np.concatenate((a,b), axis=1).shape"
   ]
  },
  {
   "cell_type": "code",
   "execution_count": null,
   "id": "4ffd3fca",
   "metadata": {},
   "outputs": [],
   "source": []
  },
  {
   "cell_type": "markdown",
   "id": "8b63ff29",
   "metadata": {},
   "source": [
    "## 벡터와 matrix는 합칠 수 없다\n"
   ]
  },
  {
   "cell_type": "markdown",
   "id": "6b50e166",
   "metadata": {},
   "source": [
    "## 합치는 방향의 모양이 일치하지 않으면 합치기 X"
   ]
  },
  {
   "cell_type": "code",
   "execution_count": 3,
   "id": "9106827c",
   "metadata": {},
   "outputs": [
    {
     "name": "stdout",
     "output_type": "stream",
     "text": [
      "[[1 2]\n",
      " [3 4]]\n",
      "(2, 2)\n",
      "2\n",
      "[[5 6]]\n",
      "(1, 2)\n",
      "2\n"
     ]
    }
   ],
   "source": [
    "c = np.array([[1,2],[3,4]])\n",
    "d = np.array([[5,6]])\n",
    "print(c)\n",
    "print(c.shape)\n",
    "print(c.ndim)\n",
    "print(d)\n",
    "print(d.shape)\n",
    "print(d.ndim)"
   ]
  },
  {
   "cell_type": "code",
   "execution_count": 4,
   "id": "4dee8117",
   "metadata": {},
   "outputs": [
    {
     "name": "stdout",
     "output_type": "stream",
     "text": [
      "(3, 2)\n",
      "[[1 2]\n",
      " [3 4]\n",
      " [5 6]]\n"
     ]
    }
   ],
   "source": [
    "concat_row2 = np.concatenate((c,d), axis=0)\n",
    "print(concat_row2.shape)\n",
    "print(concat_row2)"
   ]
  },
  {
   "cell_type": "code",
   "execution_count": null,
   "id": "c7b9c5fc",
   "metadata": {},
   "outputs": [],
   "source": []
  },
  {
   "cell_type": "markdown",
   "id": "a29c12c3",
   "metadata": {},
   "source": [
    "## 전치 행렬 만들기\n",
    "* .T\n",
    "* .transpose()\n",
    "* .reshape()\n",
    "\n"
   ]
  },
  {
   "cell_type": "markdown",
   "id": "1fff0545",
   "metadata": {},
   "source": [
    "## 브로드 캐스팅\n",
    "* 벡터와 스칼라, 또는 매트릭스와 벡터를 연산할 때 자동으로 행렬 크기를 맞춰 주는 것\n",
    " "
   ]
  },
  {
   "cell_type": "code",
   "execution_count": 6,
   "id": "3575f2db",
   "metadata": {},
   "outputs": [
    {
     "data": {
      "text/plain": [
       "array([[ 1,  2,  3,  4,  5],\n",
       "       [ 6,  7,  8,  9, 10],\n",
       "       [11, 12, 13, 14, 15]])"
      ]
     },
     "execution_count": 6,
     "metadata": {},
     "output_type": "execute_result"
    }
   ],
   "source": [
    "a=np.arange(1,16).reshape(3,5)\n",
    "a"
   ]
  },
  {
   "cell_type": "code",
   "execution_count": 7,
   "id": "89433356",
   "metadata": {
    "scrolled": true
   },
   "outputs": [
    {
     "data": {
      "text/plain": [
       "array([[ 4,  5,  6,  7,  8],\n",
       "       [ 9, 10, 11, 12, 13],\n",
       "       [14, 15, 16, 17, 18]])"
      ]
     },
     "execution_count": 7,
     "metadata": {},
     "output_type": "execute_result"
    }
   ],
   "source": [
    "a=a+3\n",
    "a"
   ]
  },
  {
   "cell_type": "code",
   "execution_count": 8,
   "id": "7e77e15b",
   "metadata": {},
   "outputs": [
    {
     "name": "stdout",
     "output_type": "stream",
     "text": [
      "(3, 5)\n",
      "(5,)\n"
     ]
    },
    {
     "data": {
      "text/plain": [
       "array([[ 5,  7,  9, 11, 13],\n",
       "       [10, 12, 14, 16, 18],\n",
       "       [15, 17, 19, 21, 23]])"
      ]
     },
     "execution_count": 8,
     "metadata": {},
     "output_type": "execute_result"
    }
   ],
   "source": [
    "b = np.array([1,2,3,4,5])\n",
    "print(a.shape)\n",
    "print(b.shape)\n",
    "a + b"
   ]
  },
  {
   "cell_type": "code",
   "execution_count": 9,
   "id": "fdd399f4",
   "metadata": {},
   "outputs": [
    {
     "name": "stdout",
     "output_type": "stream",
     "text": [
      "(3, 5)\n",
      "(5,)\n"
     ]
    }
   ],
   "source": [
    "b = np.array([1,2,3,4,5])\n",
    "print(a.shape)\n",
    "print(b.shape)\n",
    "c =  a + b"
   ]
  },
  {
   "cell_type": "code",
   "execution_count": 10,
   "id": "d1495159",
   "metadata": {},
   "outputs": [
    {
     "data": {
      "text/plain": [
       "array([19, 17, 15])"
      ]
     },
     "execution_count": 10,
     "metadata": {},
     "output_type": "execute_result"
    }
   ],
   "source": [
    "c[2][:3][::-1]"
   ]
  }
 ],
 "metadata": {
  "kernelspec": {
   "display_name": "Python 3 (ipykernel)",
   "language": "python",
   "name": "python3"
  },
  "language_info": {
   "codemirror_mode": {
    "name": "ipython",
    "version": 3
   },
   "file_extension": ".py",
   "mimetype": "text/x-python",
   "name": "python",
   "nbconvert_exporter": "python",
   "pygments_lexer": "ipython3",
   "version": "3.10.14"
  }
 },
 "nbformat": 4,
 "nbformat_minor": 5
}
