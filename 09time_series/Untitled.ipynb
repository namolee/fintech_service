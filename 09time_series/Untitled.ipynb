{
 "cells": [
  {
   "cell_type": "code",
   "execution_count": 3,
   "id": "72e742be",
   "metadata": {
    "scrolled": true
   },
   "outputs": [
    {
     "name": "stderr",
     "output_type": "stream",
     "text": [
      "'quadprog', 'fracdiff', 'lmtest', 'tseries', 'urca', 'RcppArmadillo'(들)을 또한 설치합니다.\n",
      "\n",
      "\n"
     ]
    },
    {
     "name": "stdout",
     "output_type": "stream",
     "text": [
      "\n",
      "  There are binary versions available but the source versions are later:\n",
      "                  binary   source needs_compilation\n",
      "fracdiff           1.5-2    1.5-3              TRUE\n",
      "tseries          0.10-53  0.10-58              TRUE\n",
      "urca               1.3-3    1.3-4              TRUE\n",
      "RcppArmadillo 0.12.2.0.0 14.0.2-1              TRUE\n",
      "forecast            8.21   8.23.0              TRUE\n",
      "\n",
      "  Binaries will be installed\n",
      "package 'quadprog' successfully unpacked and MD5 sums checked\n",
      "package 'fracdiff' successfully unpacked and MD5 sums checked\n",
      "package 'lmtest' successfully unpacked and MD5 sums checked\n",
      "package 'tseries' successfully unpacked and MD5 sums checked\n",
      "package 'urca' successfully unpacked and MD5 sums checked\n",
      "package 'RcppArmadillo' successfully unpacked and MD5 sums checked\n",
      "package 'forecast' successfully unpacked and MD5 sums checked\n",
      "\n",
      "The downloaded binary packages are in\n",
      "\tC:\\Users\\5-11\\AppData\\Local\\Temp\\Rtmp0qCwTM\\downloaded_packages\n"
     ]
    },
    {
     "name": "stderr",
     "output_type": "stream",
     "text": [
      "'leaps', 'locfit'(들)을 또한 설치합니다.\n",
      "\n",
      "\n"
     ]
    },
    {
     "name": "stdout",
     "output_type": "stream",
     "text": [
      "\n",
      "  There are binary versions available but the source versions are later:\n",
      "        binary   source needs_compilation\n",
      "leaps      3.1      3.2              TRUE\n",
      "locfit 1.5-9.7 1.5-9.10              TRUE\n",
      "\n",
      "  Binaries will be installed\n",
      "package 'leaps' successfully unpacked and MD5 sums checked\n",
      "package 'locfit' successfully unpacked and MD5 sums checked\n",
      "package 'TSA' successfully unpacked and MD5 sums checked\n",
      "\n",
      "The downloaded binary packages are in\n",
      "\tC:\\Users\\5-11\\AppData\\Local\\Temp\\Rtmp0qCwTM\\downloaded_packages\n"
     ]
    },
    {
     "name": "stderr",
     "output_type": "stream",
     "text": [
      "Registered S3 method overwritten by 'quantmod':\n",
      "  method            from\n",
      "  as.zoo.data.frame zoo \n",
      "\n",
      "Registered S3 methods overwritten by 'TSA':\n",
      "  method       from    \n",
      "  fitted.Arima forecast\n",
      "  plot.Arima   forecast\n",
      "\n",
      "\n",
      "다음의 패키지를 부착합니다: 'TSA'\n",
      "\n",
      "\n",
      "The following objects are masked from 'package:stats':\n",
      "\n",
      "    acf, arima\n",
      "\n",
      "\n",
      "The following object is masked from 'package:utils':\n",
      "\n",
      "    tar\n",
      "\n",
      "\n"
     ]
    }
   ],
   "source": [
    "install.packages('forecast')\n",
    "install.packages('TSA')\n",
    "library(forecast)\n",
    "library(TSA)"
   ]
  },
  {
   "cell_type": "code",
   "execution_count": 5,
   "id": "8b1309cc",
   "metadata": {},
   "outputs": [
    {
     "data": {
      "image/png": "[encoded data removed]",
      "text/plain": [
       "Plot with title \"Milk Sales -- Seasonal Adjustment\""
      ]
     },
     "metadata": {
      "image/png": {
       "height": 420,
       "width": 420
      }
     },
     "output_type": "display_data"
    }
   ],
   "source": [
    "data(milk)\n",
    "plot(milk, main='Milk Sales -- Seasonal Adjustment')\n",
    "lines(seasadj(decompose(milk)), col=2, lwd=2)"
   ]
  },
  {
   "cell_type": "code",
   "execution_count": null,
   "id": "1cd88571",
   "metadata": {},
   "outputs": [],
   "source": []
  },
  {
   "cell_type": "code",
   "execution_count": 8,
   "id": "45fd6849",
   "metadata": {},
   "outputs": [],
   "source": [
    "mm3 <- filter(milk, f=rep(1/3, 3))\n",
    "mm6 <- filter(milk, f=rep(1/6, 6))\n",
    "mm12 <- filter(milk, f=rep(1/12, 12))"
   ]
  },
  {
   "cell_type": "code",
   "execution_count": 9,
   "id": "3aa58389",
   "metadata": {},
   "outputs": [
    {
     "data": {
      "image/png": "[encoded data removed]",
      "text/plain": [
       "Plot with title \"12-points moving average\""
      ]
     },
     "metadata": {
      "image/png": {
       "height": 420,
       "width": 420
      }
     },
     "output_type": "display_data"
    }
   ],
   "source": [
    "par(mfcol=c(4,1))\n",
    "plot(milk, main=\"Milk: original data\")\n",
    "plot(mm3, main=\"3-points moving average\")\n",
    "plot(mm6, main=\"6-points moving average\")\n",
    "plot(mm12, main=\"12-points moving average\")"
   ]
  },
  {
   "cell_type": "code",
   "execution_count": null,
   "id": "544a21db",
   "metadata": {},
   "outputs": [],
   "source": []
  },
  {
   "cell_type": "markdown",
   "id": "7a406567",
   "metadata": {},
   "source": [
    "## 이동평균 평활법 4가지"
   ]
  },
  {
   "cell_type": "code",
   "execution_count": 10,
   "id": "19774cbb",
   "metadata": {},
   "outputs": [],
   "source": [
    "#install.packages('forecast')\n",
    "library(forecast)"
   ]
  },
  {
   "cell_type": "code",
   "execution_count": null,
   "id": "674ebc7f",
   "metadata": {},
   "outputs": [],
   "source": [
    "dd1 <- matrix(c(1342, 1442, 1252, 1343,\n",
    "                1425, 1362, 1256, 1272,\n",
    "                  1243, 1359, 1412, 1253,\n",
    "                1201, 1478, 1322, 1406,\n",
    "                1254, 1289, 1497, 1208))"
   ]
  },
  {
   "cell_type": "code",
   "execution_count": null,
   "id": "6d9d3b4e",
   "metadata": {},
   "outputs": [],
   "source": [
    "dd1.ts <- ts(data=dd1, start=c(2016,1), frequency=4)\n",
    "dd1.ts\n"
   ]
  },
  {
   "cell_type": "code",
   "execution_count": null,
   "id": "9fed62e4",
   "metadata": {},
   "outputs": [],
   "source": [
    "ff <- filter(dd1.ts, filter=rep(1, 4)/4, method=\"convolution\", sides=1)\n",
    "#합성곱 필터링 신경망과 같은것"
   ]
  },
  {
   "cell_type": "code",
   "execution_count": null,
   "id": "ba79a0bb",
   "metadata": {},
   "outputs": [],
   "source": [
    "ff"
   ]
  },
  {
   "cell_type": "code",
   "execution_count": null,
   "id": "d5bd016e",
   "metadata": {},
   "outputs": [],
   "source": [
    "plot(dd1.ts, main=\"Simple Moving Average Smoothing: dd1\")\n",
    "lines(ff, col=\"red\", lty=2, lwd=2)\n",
    "abline(h=mean(dd1.ts), col='red')\n"
   ]
  },
  {
   "cell_type": "code",
   "execution_count": null,
   "id": "f8985f8b",
   "metadata": {},
   "outputs": [],
   "source": [
    "#진행위치, 시작위치가 조금 밀리게 된다.(이동평활을 하게되면)\n",
    "#원본 데이터의 특징, 변동특징은 어느정도 유지하면서 줄어드는 것을 알 수 있다"
   ]
  },
  {
   "cell_type": "code",
   "execution_count": null,
   "id": "11fcdc42",
   "metadata": {},
   "outputs": [],
   "source": [
    "### Box-Pierce test\n",
    "* 귀무가설은 독립적이다.\n",
    "* 대립가설은 자기상관이 있다\n",
    "* p-value가 0.05보다 크면 독립성 획득, 0.05보다 작으면 자기 상관성 유지"
   ]
  },
  {
   "cell_type": "code",
   "execution_count": null,
   "id": "0a3f3903",
   "metadata": {},
   "outputs": [],
   "source": [
    "res <- ff[-1:-3, ] - dd1.ts[-1:-3, ]\n",
    "Box.test(res)\n"
   ]
  },
  {
   "cell_type": "code",
   "execution_count": null,
   "id": "d8d0d87a",
   "metadata": {},
   "outputs": [],
   "source": [
    "## 2. 이중 이동평균 평활법 (Double Moving Average Smoothing)\n"
   ]
  },
  {
   "cell_type": "code",
   "execution_count": null,
   "id": "2e6069ea",
   "metadata": {},
   "outputs": [],
   "source": [
    "ff1 <- filter(dd1.ts, filter=rep(1,3)/3, method=\"convolution\", sides=1)\n",
    "ff2 <- filter(ff1, filter=rep(1,3)/3, method=\"convolution\", sides=1)\n"
   ]
  },
  {
   "cell_type": "code",
   "execution_count": null,
   "id": "ca1b169f",
   "metadata": {},
   "outputs": [],
   "source": [
    "ff1"
   ]
  },
  {
   "cell_type": "code",
   "execution_count": null,
   "id": "07751cd9",
   "metadata": {},
   "outputs": [],
   "source": [
    "ff2"
   ]
  },
  {
   "cell_type": "code",
   "execution_count": null,
   "id": "43e87026",
   "metadata": {},
   "outputs": [],
   "source": [
    "plot(dd1.ts, main=\"Double Moving Average Smoothing: dd1\")\n",
    "lines(ff2, col=\"red\", lty=2, lwd=2)\n",
    "abline(h=mean(dd1.ts), col='red')\n"
   ]
  },
  {
   "cell_type": "code",
   "execution_count": null,
   "id": "76610450",
   "metadata": {},
   "outputs": [],
   "source": [
    "res <- ff2[-1:-3, ] - dd1.ts[-1:-3, ]\n",
    "Box.test(res)\n"
   ]
  },
  {
   "cell_type": "code",
   "execution_count": null,
   "id": "fbbb7140",
   "metadata": {},
   "outputs": [],
   "source": []
  },
  {
   "cell_type": "code",
   "execution_count": null,
   "id": "7f194252",
   "metadata": {},
   "outputs": [],
   "source": []
  },
  {
   "cell_type": "code",
   "execution_count": null,
   "id": "46c1e6a1",
   "metadata": {},
   "outputs": [],
   "source": []
  },
  {
   "cell_type": "code",
   "execution_count": null,
   "id": "f8bf8eab",
   "metadata": {},
   "outputs": [],
   "source": []
  }
 ],
 "metadata": {
  "kernelspec": {
   "display_name": "R",
   "language": "R",
   "name": "ir"
  },
  "language_info": {
   "codemirror_mode": "r",
   "file_extension": ".r",
   "mimetype": "text/x-r-source",
   "name": "R",
   "pygments_lexer": "r",
   "version": "4.1.3"
  }
 },
 "nbformat": 4,
 "nbformat_minor": 5
}
