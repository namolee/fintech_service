{
 "cells": [
  {
   "cell_type": "code",
   "execution_count": 6,
   "id": "6f5a6711",
   "metadata": {},
   "outputs": [],
   "source": [
    "import naversearch as ns"
   ]
  },
  {
   "cell_type": "code",
   "execution_count": null,
   "id": "0adbd36c",
   "metadata": {},
   "outputs": [],
   "source": [
    "ns.naver_search()"
   ]
  }
 ],
 "metadata": {
  "kernelspec": {
   "display_name": "Python 3 (ipykernel)",
   "language": "python",
   "name": "python3"
  },
  "language_info": {
   "codemirror_mode": {
    "name": "ipython",
    "version": 3
   },
   "file_extension": ".py",
   "mimetype": "text/x-python",
   "name": "python",
   "nbconvert_exporter": "python",
   "pygments_lexer": "ipython3",
   "version": "3.10.14"
  }
 },
 "nbformat": 4,
 "nbformat_minor": 5
}
