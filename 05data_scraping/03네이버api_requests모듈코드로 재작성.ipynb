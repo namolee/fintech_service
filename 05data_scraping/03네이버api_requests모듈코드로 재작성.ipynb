{
 "cells": [
  {
   "cell_type": "markdown",
   "id": "93a5291b",
   "metadata": {},
   "source": [
    "# 1.requests 모듈: HTTP프로토콜을 사용할 수 있게 해주는 라이브러리\n",
    "\n",
    "## request 모듈 사용 설명서:\n",
    "https://requests.readthedocs.io/en/latest/user/quickstart/#make-a-request"
   ]
  },
  {
   "cell_type": "markdown",
   "id": "c27fe568",
   "metadata": {},
   "source": [
    "# 2. request 모듈 설치\n",
    "\n",
    "## conda install requests\n",
    "\n",
    "## pip install requests"
   ]
  },
  {
   "cell_type": "markdown",
   "id": "ba2ff3cc",
   "metadata": {},
   "source": [
    "# 3. requests 모듈 사용법"
   ]
  },
  {
   "cell_type": "markdown",
   "id": "2729c629",
   "metadata": {},
   "source": [
    "## 1) 모듈 불러오기: import requests"
   ]
  },
  {
   "cell_type": "code",
   "execution_count": 3,
   "id": "ae09e15b",
   "metadata": {},
   "outputs": [],
   "source": [
    "import os\n",
    "from dotenv import load_dotenv \n",
    "import requests"
   ]
  },
  {
   "cell_type": "code",
   "execution_count": 4,
   "id": "ef9f470a",
   "metadata": {},
   "outputs": [
    {
     "data": {
      "text/plain": [
       "True"
      ]
     },
     "execution_count": 4,
     "metadata": {},
     "output_type": "execute_result"
    }
   ],
   "source": [
    "load_dotenv()"
   ]
  },
  {
   "cell_type": "markdown",
   "id": "89e1325f",
   "metadata": {},
   "source": [
    "## 2)HTTP 접근 요청 get,post\n",
    "### r = requests.get(URL, parameters)\n",
    "### r = requests.post(URL, data={key:value})"
   ]
  },
  {
   "cell_type": "markdown",
   "id": "359bf884",
   "metadata": {},
   "source": [
    "## 3) URL 파라미터\n",
    "### params = {파라미터1: value, 파라미터2: value, 파라미터3: value}\n",
    "### payload = {'key1' : 'value1', 'key2':'value2'}\n",
    "### r = requests.get(URL, params=payload)"
   ]
  },
  {
   "cell_type": "markdown",
   "id": "1a3ca67a",
   "metadata": {},
   "source": [
    "## 4) 만들어진 URL 확인: print(r.url)"
   ]
  },
  {
   "cell_type": "markdown",
   "id": "9f8691e7",
   "metadata": {},
   "source": [
    "## 5) header 값 넣기: \n",
    "### r = requests.head(user-agent값)\n",
    "### headers={'key1':'value1', 'key2':'value2'}\n",
    "### r = requests.get(URL, params=payload, headers=headers)\n"
   ]
  },
  {
   "cell_type": "markdown",
   "id": "aaa5eadf",
   "metadata": {},
   "source": [
    "## 6) 응답요소 response content: r.text, r.json()\n",
    "## response = r.text\n",
    "## response = r.josn()"
   ]
  },
  {
   "cell_type": "markdown",
   "id": "600d0bd9",
   "metadata": {},
   "source": [
    "## 7) 응답코드 r.status_code"
   ]
  },
  {
   "cell_type": "markdown",
   "id": "bfa78c13",
   "metadata": {},
   "source": [
    "# 네이버 검색 API 코드를 urllib에서 requests로 변경하기"
   ]
  },
  {
   "cell_type": "code",
   "execution_count": null,
   "id": "c6e8383e",
   "metadata": {},
   "outputs": [],
   "source": [
    "\n",
    "client_id = \"YOUR_CLIENT_ID\"\n",
    "client_secret = \"YOUR_CLIENT_SECRET\"\n",
    "encText = urllib.parse.quote(\"검색할 단어\")\n",
    "url = \"https://openapi.naver.com/v1/search/blog?query=\" + encText # JSON 결과\n",
    "# url = \"https://openapi.naver.com/v1/search/blog.xml?query=\" + encText # XML 결과\n",
    "request = urllib.request.Request(url)\n",
    "request.add_header(\"X-Naver-Client-Id\",client_id)\n",
    "request.add_header(\"X-Naver-Client-Secret\",client_secret)\n",
    "response = urllib.request.urlopen(request)\n",
    "rescode = response.getcode()\n",
    "if(rescode==200):\n",
    "    response_body = response.read()\n",
    "    print(response_body.decode('utf-8'))\n",
    "else:\n",
    "    print(\"Error Code:\" + rescode)"
   ]
  },
  {
   "cell_type": "code",
   "execution_count": 20,
   "id": "26c36f0b",
   "metadata": {},
   "outputs": [],
   "source": [
    "import requests\n",
    "import pandas as pd"
   ]
  },
  {
   "cell_type": "code",
   "execution_count": 18,
   "id": "ef71b87a",
   "metadata": {},
   "outputs": [
    {
     "name": "stdout",
     "output_type": "stream",
     "text": [
      "https://openapi.naver.com/v1/search/blog.json?query=%ED%95%80%ED%85%8C%ED%81%AC&display=10&start=1&sort=sim\n"
     ]
    }
   ],
   "source": [
    "url = \"https://openapi.naver.com/v1/search/blog.json\"\n",
    "payload = {'query':'핀테크','display':10, 'start':1,'sort':'sim'}\n",
    "headers = {\"X-Naver-Client-Id\" : os.getenv('client_id'), \"X-Naver-Client-Secret\" : os.getenv('client_secret')}\n",
    "r = requests.get(url, params=payload, headers=headers)\n",
    "print(r.url)\n",
    "if(r.status_code==200):\n",
    "    data=r.json()\n",
    "    \n",
    "else:\n",
    "    print(\"Error Code:\" + r.status_code)\n"
   ]
  },
  {
   "cell_type": "code",
   "execution_count": 22,
   "id": "17c40b75",
   "metadata": {},
   "outputs": [
    {
     "data": {
      "text/html": [
       "<div>\n",
       "<style scoped>\n",
       "    .dataframe tbody tr th:only-of-type {\n",
       "        vertical-align: middle;\n",
       "    }\n",
       "\n",
       "    .dataframe tbody tr th {\n",
       "        vertical-align: top;\n",
       "    }\n",
       "\n",
       "    .dataframe thead th {\n",
       "        text-align: right;\n",
       "    }\n",
       "</style>\n",
       "<table border=\"1\" class=\"dataframe\">\n",
       "  <thead>\n",
       "    <tr style=\"text-align: right;\">\n",
       "      <th></th>\n",
       "      <th>title</th>\n",
       "      <th>link</th>\n",
       "      <th>description</th>\n",
       "      <th>bloggername</th>\n",
       "      <th>bloggerlink</th>\n",
       "      <th>postdate</th>\n",
       "    </tr>\n",
       "  </thead>\n",
       "  <tbody>\n",
       "    <tr>\n",
       "      <th>0</th>\n",
       "      <td>서울시, &lt;b&gt;핀테크&lt;/b&gt;, 가계대출, 신한은행, 대출 금리 인상...</td>\n",
       "      <td>https://blog.naver.com/angeldia/223521411021</td>\n",
       "      <td>이끌 &lt;b&gt;핀테크&lt;/b&gt; 스타트업 6곳 선정 발표 2024-07-22 13:44:0...</td>\n",
       "      <td>Fin. cube.</td>\n",
       "      <td>blog.naver.com/angeldia</td>\n",
       "      <td>20240722</td>\n",
       "    </tr>\n",
       "    <tr>\n",
       "      <th>1</th>\n",
       "      <td>달러스왑 &lt;b&gt;핀테크&lt;/b&gt;만으로 800% 수익 난다</td>\n",
       "      <td>https://blog.naver.com/balmin/223520733366</td>\n",
       "      <td>달러스왑 &lt;b&gt;핀테크&lt;/b&gt;만으로 800% 수익 난다! 저자 손대식 출판 지식과감성...</td>\n",
       "      <td>위편삼절의 독서공간</td>\n",
       "      <td>blog.naver.com/balmin</td>\n",
       "      <td>20240721</td>\n",
       "    </tr>\n",
       "    <tr>\n",
       "      <th>2</th>\n",
       "      <td>목돈 만들기 앱테크 : 소셜 &lt;b&gt;핀테크&lt;/b&gt; 아임인 시작해 볼까?</td>\n",
       "      <td>https://blog.naver.com/jkyun0621/223522303455</td>\n",
       "      <td>목돈 만들기 앱테크 : 소셜 &lt;b&gt;핀테크&lt;/b&gt; 아임인 시작해 볼까? 한국 전통문화...</td>\n",
       "      <td>경제현미경의 디테일한 시야</td>\n",
       "      <td>blog.naver.com/jkyun0621</td>\n",
       "      <td>20240723</td>\n",
       "    </tr>\n",
       "    <tr>\n",
       "      <th>3</th>\n",
       "      <td>손대식, &amp;lt;달러스왑 &lt;b&gt;핀테크&lt;/b&gt;만으로 800% 수익 난다!&amp;gt;</td>\n",
       "      <td>https://blog.naver.com/writeread/223519959546</td>\n",
       "      <td>달러스왑 &lt;b&gt;핀테크&lt;/b&gt;만으로 800% 수익 난다! 저자 손대식 출판 지식과감성...</td>\n",
       "      <td>Over the Rainbow</td>\n",
       "      <td>blog.naver.com/writeread</td>\n",
       "      <td>20240721</td>\n",
       "    </tr>\n",
       "    <tr>\n",
       "      <th>4</th>\n",
       "      <td>아임인 온라인 계모임 &lt;b&gt;핀테크&lt;/b&gt; 플랫폼 feat. 스테이지 채권추심...</td>\n",
       "      <td>https://blog.naver.com/disneyworld777/22350373...</td>\n",
       "      <td>계모임 #&lt;b&gt;핀테크&lt;/b&gt; #플랫폼 #프로모션 #코드 #프로모션코드 #아임인프로모...</td>\n",
       "      <td>경제적자유를찾아서</td>\n",
       "      <td>blog.naver.com/disneyworld777</td>\n",
       "      <td>20240706</td>\n",
       "    </tr>\n",
       "    <tr>\n",
       "      <th>5</th>\n",
       "      <td>WISE 영국 &lt;b&gt;핀테크&lt;/b&gt; 송금 앱 - 싱가포르에서 한국 계좌로 송금 후기</td>\n",
       "      <td>https://blog.naver.com/gahyun9898/223522337531</td>\n",
       "      <td>☺️ #해외송금어플 #해외송금앱 #와이즈해외송금앱 #와이즈송금후기 #센트비후기 #와...</td>\n",
       "      <td>꾸역이의 일상블로그</td>\n",
       "      <td>blog.naver.com/gahyun9898</td>\n",
       "      <td>20240723</td>\n",
       "    </tr>\n",
       "    <tr>\n",
       "      <th>6</th>\n",
       "      <td>달러스왑 &lt;b&gt;핀테크&lt;/b&gt;만으로 800% 수익 난다 북 리뷰!</td>\n",
       "      <td>https://blog.naver.com/catsman/223510449282</td>\n",
       "      <td>달러스왑 &lt;b&gt;핀테크&lt;/b&gt;만으로 800% 수익 난다! 저자 손대식 출판 지식과감성...</td>\n",
       "      <td>냥이를 말해봐</td>\n",
       "      <td>blog.naver.com/catsman</td>\n",
       "      <td>20240712</td>\n",
       "    </tr>\n",
       "    <tr>\n",
       "      <th>7</th>\n",
       "      <td>투자의 새로운 시각 '달러스왑 &lt;b&gt;핀테크&lt;/b&gt;만으로 800% 수익 난다...</td>\n",
       "      <td>https://blog.naver.com/hyejj1226/223520593837</td>\n",
       "      <td>[도서서평] 투자의 새로운 시각 '달러스왑 &lt;b&gt;핀테크&lt;/b&gt;만으로 800% 수익 ...</td>\n",
       "      <td>꿈쟁이의 감성 스타일링</td>\n",
       "      <td>blog.naver.com/hyejj1226</td>\n",
       "      <td>20240721</td>\n",
       "    </tr>\n",
       "    <tr>\n",
       "      <th>8</th>\n",
       "      <td>쿠팡 정산 올라 &lt;b&gt;핀테크&lt;/b&gt; 활용 사업자 선정산하는 방법</td>\n",
       "      <td>https://blog.naver.com/moonkra7/223513479061</td>\n",
       "      <td>올라 &lt;b&gt;핀테크&lt;/b&gt;란? 올라 &lt;b&gt;핀테크&lt;/b&gt;는 2020년 9월 런칭해서 하...</td>\n",
       "      <td>달그래의 쏠쏠한 재테크</td>\n",
       "      <td>blog.naver.com/moonkra7</td>\n",
       "      <td>20240715</td>\n",
       "    </tr>\n",
       "    <tr>\n",
       "      <th>9</th>\n",
       "      <td>[도서] 달러스왑 &lt;b&gt;핀테크&lt;/b&gt;만으로 800%수익난다!</td>\n",
       "      <td>https://blog.naver.com/chekini/223517557241</td>\n",
       "      <td>[도서명] 달러스왑 &lt;b&gt;핀테크&lt;/b&gt;만으로 800% 수익난다! 부제 (일본의 눈물...</td>\n",
       "      <td>asdf의 홈로그</td>\n",
       "      <td>blog.naver.com/chekini</td>\n",
       "      <td>20240718</td>\n",
       "    </tr>\n",
       "  </tbody>\n",
       "</table>\n",
       "</div>"
      ],
      "text/plain": [
       "                                            title  \\\n",
       "0       서울시, <b>핀테크</b>, 가계대출, 신한은행, 대출 금리 인상...    \n",
       "1                   달러스왑 <b>핀테크</b>만으로 800% 수익 난다   \n",
       "2          목돈 만들기 앱테크 : 소셜 <b>핀테크</b> 아임인 시작해 볼까?   \n",
       "3     손대식, &lt;달러스왑 <b>핀테크</b>만으로 800% 수익 난다!&gt;   \n",
       "4  아임인 온라인 계모임 <b>핀테크</b> 플랫폼 feat. 스테이지 채권추심...    \n",
       "5   WISE 영국 <b>핀테크</b> 송금 앱 - 싱가포르에서 한국 계좌로 송금 후기   \n",
       "6             달러스왑 <b>핀테크</b>만으로 800% 수익 난다 북 리뷰!   \n",
       "7   투자의 새로운 시각 '달러스왑 <b>핀테크</b>만으로 800% 수익 난다...    \n",
       "8             쿠팡 정산 올라 <b>핀테크</b> 활용 사업자 선정산하는 방법   \n",
       "9               [도서] 달러스왑 <b>핀테크</b>만으로 800%수익난다!   \n",
       "\n",
       "                                                link  \\\n",
       "0       https://blog.naver.com/angeldia/223521411021   \n",
       "1         https://blog.naver.com/balmin/223520733366   \n",
       "2      https://blog.naver.com/jkyun0621/223522303455   \n",
       "3      https://blog.naver.com/writeread/223519959546   \n",
       "4  https://blog.naver.com/disneyworld777/22350373...   \n",
       "5     https://blog.naver.com/gahyun9898/223522337531   \n",
       "6        https://blog.naver.com/catsman/223510449282   \n",
       "7      https://blog.naver.com/hyejj1226/223520593837   \n",
       "8       https://blog.naver.com/moonkra7/223513479061   \n",
       "9        https://blog.naver.com/chekini/223517557241   \n",
       "\n",
       "                                         description       bloggername  \\\n",
       "0  이끌 <b>핀테크</b> 스타트업 6곳 선정 발표 2024-07-22 13:44:0...        Fin. cube.   \n",
       "1  달러스왑 <b>핀테크</b>만으로 800% 수익 난다! 저자 손대식 출판 지식과감성...        위편삼절의 독서공간   \n",
       "2  목돈 만들기 앱테크 : 소셜 <b>핀테크</b> 아임인 시작해 볼까? 한국 전통문화...    경제현미경의 디테일한 시야   \n",
       "3  달러스왑 <b>핀테크</b>만으로 800% 수익 난다! 저자 손대식 출판 지식과감성...  Over the Rainbow   \n",
       "4  계모임 #<b>핀테크</b> #플랫폼 #프로모션 #코드 #프로모션코드 #아임인프로모...         경제적자유를찾아서   \n",
       "5  ☺️ #해외송금어플 #해외송금앱 #와이즈해외송금앱 #와이즈송금후기 #센트비후기 #와...        꾸역이의 일상블로그   \n",
       "6  달러스왑 <b>핀테크</b>만으로 800% 수익 난다! 저자 손대식 출판 지식과감성...           냥이를 말해봐   \n",
       "7  [도서서평] 투자의 새로운 시각 '달러스왑 <b>핀테크</b>만으로 800% 수익 ...      꿈쟁이의 감성 스타일링   \n",
       "8  올라 <b>핀테크</b>란? 올라 <b>핀테크</b>는 2020년 9월 런칭해서 하...      달그래의 쏠쏠한 재테크   \n",
       "9  [도서명] 달러스왑 <b>핀테크</b>만으로 800% 수익난다! 부제 (일본의 눈물...         asdf의 홈로그   \n",
       "\n",
       "                     bloggerlink  postdate  \n",
       "0        blog.naver.com/angeldia  20240722  \n",
       "1          blog.naver.com/balmin  20240721  \n",
       "2       blog.naver.com/jkyun0621  20240723  \n",
       "3       blog.naver.com/writeread  20240721  \n",
       "4  blog.naver.com/disneyworld777  20240706  \n",
       "5      blog.naver.com/gahyun9898  20240723  \n",
       "6         blog.naver.com/catsman  20240712  \n",
       "7       blog.naver.com/hyejj1226  20240721  \n",
       "8        blog.naver.com/moonkra7  20240715  \n",
       "9         blog.naver.com/chekini  20240718  "
      ]
     },
     "execution_count": 22,
     "metadata": {},
     "output_type": "execute_result"
    }
   ],
   "source": [
    "df = pd.json_normalize(data['items'])\n",
    "df"
   ]
  },
  {
   "cell_type": "code",
   "execution_count": 24,
   "id": "ca72c7c5",
   "metadata": {},
   "outputs": [],
   "source": [
    "def servicefunc():\n",
    "    service=input(\"사용할 서비스 입력:\")\n",
    "    cate=\"\"\n",
    "    if service =='blog':\n",
    "        cate='blog'\n",
    "    elif service =='book':\n",
    "        cate='book'\n",
    "    elif service =='doc':\n",
    "        cate='doc'\n",
    "    elif service =='news':\n",
    "        cate='news'\n",
    "    sear=input(\"검색어 입력: \")\n",
    "    \n",
    "    url = f\"https://openapi.naver.com/v1/search/{cate}.json\"\n",
    "    payload = {f'query':{sear},'display':10, 'start':1,'sort':'sim'}\n",
    "    headers = {\"X-Naver-Client-Id\" : os.getenv('cient_id'), \"X-Naver-Client-Secret\" : os.getenv('client_secret')}\n",
    "    r = requests.get(url, params=payload, headers=headers)\n",
    "    print(r.url)\n",
    "    if(r.status_code==200):\n",
    "        data=r.json()\n",
    "        df2 = pd.json_normalize(data['items'])\n",
    "    else:\n",
    "        print(\"Error Code:\" + r.status_code)\n"
   ]
  },
  {
   "cell_type": "code",
   "execution_count": 25,
   "id": "bf44ea74",
   "metadata": {},
   "outputs": [
    {
     "name": "stdout",
     "output_type": "stream",
     "text": [
      "사용할 서비스 입력:book\n",
      "검색어 입력: 핀테크\n",
      "https://openapi.naver.com/v1/search/book.json?query=%ED%95%80%ED%85%8C%ED%81%AC&display=10&start=1&sort=sim\n"
     ]
    }
   ],
   "source": [
    "servicefunc()"
   ]
  },
  {
   "cell_type": "code",
   "execution_count": null,
   "id": "85384116",
   "metadata": {},
   "outputs": [],
   "source": []
  },
  {
   "cell_type": "code",
   "execution_count": null,
   "id": "a22b9a69",
   "metadata": {},
   "outputs": [],
   "source": []
  },
  {
   "cell_type": "code",
   "execution_count": 30,
   "id": "f8197c7c",
   "metadata": {},
   "outputs": [],
   "source": [
    "import requests\n",
    "import pandas as pd\n",
    "import time"
   ]
  },
  {
   "cell_type": "code",
   "execution_count": 33,
   "id": "954d0804",
   "metadata": {},
   "outputs": [],
   "source": [
    "def naver_search():\n",
    "    service = input('''검색 서비스 번호를 입력하세요:\n",
    "    1. 블로그\n",
    "    2. 책\n",
    "    3. 뉴스\n",
    "    4. 전문자료\n",
    "    ''')\n",
    "    \n",
    "    query = input(\"검색어를 입력하세요: \")\n",
    "    if(service=='1'):\n",
    "        service='blog'\n",
    "    elif(service=='2'):\n",
    "        service='book'\n",
    "    elif(service=='3'):\n",
    "        service='news'\n",
    "    elif(service=='4'):\n",
    "        service='doc'\n",
    "    \n",
    "    book_lists = []\n",
    "    page = 1\n",
    "    start = 1\n",
    "    while True:\n",
    "        client_id = os.getenv('cient_id') # 네이버 api에 접속 가능한 id \n",
    "        client_secret = os.getenv('client_secret')       # 네이버 api에 접속 가능한 pw \n",
    "        url = f\"https://openapi.naver.com/v1/search/{service}.json\"\n",
    "        payload = dict(query=query,display=10, start=1,sort='sim')\n",
    "        headers={\"X-Naver-Client-Id\":client_id,\"X-Naver-Client-Secret\":client_secret}\n",
    "    \n",
    "        try:\n",
    "            r=requests.get(url,params=payload, headers=headers)\n",
    "            if(r.status_code==200):\n",
    "                data = r.json()\n",
    "                book_lists.append(data)\n",
    "                total_page = data['total'] // 10 + 1\n",
    "\n",
    "            else:\n",
    "                print(\"Error Code:\" + rescode)\n",
    "                break\n",
    "\n",
    "            if page < total_page:\n",
    "                page += 1\n",
    "                if start != 991:\n",
    "                    start += 10\n",
    "                elif start == 991:\n",
    "                    start += 9\n",
    "                print(f\"{page:03d}/{total_page:03d}, start: {start} 추출중\", end=\"\\r\")\n",
    "            else:\n",
    "                break\n",
    "            time.sleep(0.5)\n",
    "        except Exception as e:\n",
    "            print(e)\n",
    "            break\n",
    "\n",
    "\n",
    "    print(len(book_lists))\n",
    "    result = pd.DataFrame()\n",
    "    for book_list in book_lists:\n",
    "        temp = pd.json_normalize(book_list['items'])\n",
    "        result = pd.concat([result, temp])\n",
    "    result\n",
    "    result.to_csv(f\"naver_{service}_api_fintech_{query}_result.csv\", encoding=\"utf-8\")"
   ]
  },
  {
   "cell_type": "code",
   "execution_count": 34,
   "id": "d89fdd22",
   "metadata": {
    "scrolled": true
   },
   "outputs": [
    {
     "name": "stdout",
     "output_type": "stream",
     "text": [
      "검색 서비스 번호를 입력하세요:\n",
      "    1. 블로그\n",
      "    2. 책\n",
      "    3. 뉴스\n",
      "    4. 전문자료\n",
      "    2\n",
      "검색어를 입력하세요: 금리\n",
      "100/010, start: 91 추출중\n"
     ]
    }
   ],
   "source": [
    "naver_search()"
   ]
  },
  {
   "cell_type": "code",
   "execution_count": null,
   "id": "62c1408f",
   "metadata": {},
   "outputs": [],
   "source": []
  }
 ],
 "metadata": {
  "kernelspec": {
   "display_name": "Python 3 (ipykernel)",
   "language": "python",
   "name": "python3"
  },
  "language_info": {
   "codemirror_mode": {
    "name": "ipython",
    "version": 3
   },
   "file_extension": ".py",
   "mimetype": "text/x-python",
   "name": "python",
   "nbconvert_exporter": "python",
   "pygments_lexer": "ipython3",
   "version": "3.10.14"
  }
 },
 "nbformat": 4,
 "nbformat_minor": 5
}
