{
 "cells": [
  {
   "cell_type": "markdown",
   "id": "ba4548ae",
   "metadata": {},
   "source": [
    "# DB에서 상장 기업 정보를 받아 네이버 증권에서 주가 수집하기"
   ]
  },
  {
   "cell_type": "code",
   "execution_count": 13,
   "id": "58897beb",
   "metadata": {},
   "outputs": [],
   "source": [
    "import os\n",
    "import pandas as pd\n",
    "from datetime import date\n",
    "from dotenv import load_dotenv\n",
    "from sqlalchemy import create_engine\n",
    "import pymysql\n",
    "import time\n",
    "import requests\n",
    "from bs4 import BeautifulSoup as bs"
   ]
  },
  {
   "cell_type": "code",
   "execution_count": 2,
   "id": "bb2cc5b3",
   "metadata": {},
   "outputs": [
    {
     "data": {
      "text/plain": [
       "True"
      ]
     },
     "execution_count": 2,
     "metadata": {},
     "output_type": "execute_result"
    }
   ],
   "source": [
    "pymysql.install_as_MySQLdb()\n",
    "load_dotenv(dotenv_path=\".env_db\")"
   ]
  },
  {
   "cell_type": "code",
   "execution_count": 3,
   "id": "6f3326d6",
   "metadata": {},
   "outputs": [],
   "source": [
    "engine = create_engine(f'{os.getenv(\"db\")}+{os.getenv(\"dbtype\")}://{os.getenv(\"id\")}:{os.getenv(\"pw\")}@{os.getenv(\"host\")}/{os.getenv(\"database\")}')\n",
    "conn = engine.connect()\n",
    "data = pd.read_sql('2024_07_29_stock_company_info',con=conn)\n",
    "conn.close()"
   ]
  },
  {
   "cell_type": "code",
   "execution_count": 8,
   "id": "f7297164",
   "metadata": {},
   "outputs": [
    {
     "name": "stdout",
     "output_type": "stream",
     "text": [
      "https://finance.naver.com/item/main.naver?code=062040\n"
     ]
    }
   ],
   "source": [
    "for code in data['종목코드'][:1]:\n",
    "    url=f\"https://finance.naver.com/item/main.naver?code={code}\"\n",
    "    print(url)"
   ]
  },
  {
   "cell_type": "code",
   "execution_count": 14,
   "id": "7f7a0e09",
   "metadata": {},
   "outputs": [],
   "source": [
    "r=requests.get(url)\n",
    "    \n",
    "soup=bs(r.text,'lxml')"
   ]
  },
  {
   "cell_type": "code",
   "execution_count": 16,
   "id": "0443d2f9",
   "metadata": {},
   "outputs": [
    {
     "data": {
      "text/plain": [
       "'산일전기'"
      ]
     },
     "execution_count": 16,
     "metadata": {},
     "output_type": "execute_result"
    }
   ],
   "source": [
    "#회사명\n",
    "soup.select_one('h2').text"
   ]
  },
  {
   "cell_type": "code",
   "execution_count": 17,
   "id": "64377d8e",
   "metadata": {},
   "outputs": [
    {
     "data": {
      "text/plain": [
       "'062040'"
      ]
     },
     "execution_count": 17,
     "metadata": {},
     "output_type": "execute_result"
    }
   ],
   "source": [
    "#종목코드\n",
    "soup.select_one('.code').text"
   ]
  },
  {
   "cell_type": "code",
   "execution_count": 46,
   "id": "3f7f6f5e",
   "metadata": {},
   "outputs": [
    {
     "data": {
      "text/plain": [
       "'46,000'"
      ]
     },
     "execution_count": 46,
     "metadata": {},
     "output_type": "execute_result"
    }
   ],
   "source": [
    "#현재가\n",
    "soup.select_one('div > p.no_today .blind').text\n"
   ]
  },
  {
   "cell_type": "code",
   "execution_count": 50,
   "id": "eb5ea3ab",
   "metadata": {},
   "outputs": [
    {
     "data": {
      "text/plain": [
       "'11,000'"
      ]
     },
     "execution_count": 50,
     "metadata": {},
     "output_type": "execute_result"
    }
   ],
   "source": [
    "#변동금액\n",
    "soup.select_one('div > p.no_exday > em:nth-child(2) .blind').text\n"
   ]
  },
  {
   "cell_type": "code",
   "execution_count": 135,
   "id": "c8c2384f",
   "metadata": {},
   "outputs": [
    {
     "data": {
      "text/plain": [
       "'31.43'"
      ]
     },
     "execution_count": 135,
     "metadata": {},
     "output_type": "execute_result"
    }
   ],
   "source": [
    "#변동률\n",
    "soup.select_one('div > p.no_exday > em:nth-child(4) .blind').text\n",
    "\n"
   ]
  },
  {
   "cell_type": "code",
   "execution_count": 73,
   "id": "2df16847",
   "metadata": {},
   "outputs": [
    {
     "data": {
      "text/plain": [
       "'35,000'"
      ]
     },
     "execution_count": 73,
     "metadata": {},
     "output_type": "execute_result"
    }
   ],
   "source": [
    "#전일\n",
    "soup.select_one('.first em .blind').text"
   ]
  },
  {
   "cell_type": "code",
   "execution_count": 109,
   "id": "a4f46695",
   "metadata": {},
   "outputs": [
    {
     "data": {
      "text/plain": [
       "'49,200'"
      ]
     },
     "execution_count": 109,
     "metadata": {},
     "output_type": "execute_result"
    }
   ],
   "source": [
    "#고가\n",
    "soup.select_one('td .no_up .blind').text"
   ]
  },
  {
   "cell_type": "code",
   "execution_count": 115,
   "id": "6aad5228",
   "metadata": {},
   "outputs": [
    {
     "data": {
      "text/plain": [
       "'15,138,846'"
      ]
     },
     "execution_count": 115,
     "metadata": {},
     "output_type": "execute_result"
    }
   ],
   "source": [
    "#거래량\n",
    "soup.select_one('tr > td:nth-child(3) .blind').text"
   ]
  },
  {
   "cell_type": "code",
   "execution_count": 129,
   "id": "c69d1384",
   "metadata": {},
   "outputs": [],
   "source": [
    "soup.select_one('#chart_area > div.rate_info > table > tbody > tr:nth-child(2)')"
   ]
  },
  {
   "cell_type": "code",
   "execution_count": null,
   "id": "0cbb915f",
   "metadata": {},
   "outputs": [],
   "source": []
  },
  {
   "cell_type": "code",
   "execution_count": null,
   "id": "3feb7bfd",
   "metadata": {},
   "outputs": [],
   "source": []
  }
 ],
 "metadata": {
  "kernelspec": {
   "display_name": "Python 3 (ipykernel)",
   "language": "python",
   "name": "python3"
  },
  "language_info": {
   "codemirror_mode": {
    "name": "ipython",
    "version": 3
   },
   "file_extension": ".py",
   "mimetype": "text/x-python",
   "name": "python",
   "nbconvert_exporter": "python",
   "pygments_lexer": "ipython3",
   "version": "3.10.14"
  }
 },
 "nbformat": 4,
 "nbformat_minor": 5
}
