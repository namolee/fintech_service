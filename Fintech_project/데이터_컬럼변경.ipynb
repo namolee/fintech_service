{
 "cells": [
  {
   "cell_type": "code",
   "execution_count": 1,
   "id": "b73041e9",
   "metadata": {},
   "outputs": [],
   "source": [
    "import pandas as pd"
   ]
  },
  {
   "cell_type": "code",
   "execution_count": 33,
   "id": "d10ff565",
   "metadata": {},
   "outputs": [],
   "source": [
    "data = pd.read_csv(\"./review_data/pascucci_reviews_google.csv\")"
   ]
  },
  {
   "cell_type": "code",
   "execution_count": 34,
   "id": "00180232",
   "metadata": {},
   "outputs": [
    {
     "data": {
      "text/html": [
       "<div>\n",
       "<style scoped>\n",
       "    .dataframe tbody tr th:only-of-type {\n",
       "        vertical-align: middle;\n",
       "    }\n",
       "\n",
       "    .dataframe tbody tr th {\n",
       "        vertical-align: top;\n",
       "    }\n",
       "\n",
       "    .dataframe thead th {\n",
       "        text-align: right;\n",
       "    }\n",
       "</style>\n",
       "<table border=\"1\" class=\"dataframe\">\n",
       "  <thead>\n",
       "    <tr style=\"text-align: right;\">\n",
       "      <th></th>\n",
       "      <th>ID</th>\n",
       "      <th>Date</th>\n",
       "      <th>Review</th>\n",
       "    </tr>\n",
       "  </thead>\n",
       "  <tbody>\n",
       "    <tr>\n",
       "      <th>0</th>\n",
       "      <td>이용욱</td>\n",
       "      <td>4년 전</td>\n",
       "      <td>2층 흡연공간, 강남역 대로변보다 조용해서 미팅, 공부 그리고 휴식하기 좋습니다!!</td>\n",
       "    </tr>\n",
       "    <tr>\n",
       "      <th>1</th>\n",
       "      <td>최현주</td>\n",
       "      <td>2년 전</td>\n",
       "      <td>좁은 감이 있지만, 그래서 대화집중이 잘 되는 곳! 흡연실도 따로 있음!</td>\n",
       "    </tr>\n",
       "    <tr>\n",
       "      <th>2</th>\n",
       "      <td>JAY LIM</td>\n",
       "      <td>9달 전</td>\n",
       "      <td>이층 흡연실 좋아요^^</td>\n",
       "    </tr>\n",
       "    <tr>\n",
       "      <th>3</th>\n",
       "      <td>In Chu</td>\n",
       "      <td>2년 전</td>\n",
       "      <td>직원분이 언제나 친절하게 응대해주셔서 편안한 곳 입니다.</td>\n",
       "    </tr>\n",
       "    <tr>\n",
       "      <th>4</th>\n",
       "      <td>박정환</td>\n",
       "      <td>5년 전</td>\n",
       "      <td>강남에서 주차무료인 커피숍이란!!</td>\n",
       "    </tr>\n",
       "    <tr>\n",
       "      <th>5</th>\n",
       "      <td>ming ming</td>\n",
       "      <td>3년 전</td>\n",
       "      <td>좋음</td>\n",
       "    </tr>\n",
       "    <tr>\n",
       "      <th>6</th>\n",
       "      <td>Hatip Kemal</td>\n",
       "      <td>1년 전</td>\n",
       "      <td>강남 지역의 멋진 카페 가게</td>\n",
       "    </tr>\n",
       "  </tbody>\n",
       "</table>\n",
       "</div>"
      ],
      "text/plain": [
       "            ID  Date                                          Review\n",
       "0          이용욱  4년 전  2층 흡연공간, 강남역 대로변보다 조용해서 미팅, 공부 그리고 휴식하기 좋습니다!!\n",
       "1          최현주  2년 전        좁은 감이 있지만, 그래서 대화집중이 잘 되는 곳! 흡연실도 따로 있음!\n",
       "2      JAY LIM  9달 전                                    이층 흡연실 좋아요^^\n",
       "3       In Chu  2년 전                 직원분이 언제나 친절하게 응대해주셔서 편안한 곳 입니다.\n",
       "4          박정환  5년 전                              강남에서 주차무료인 커피숍이란!!\n",
       "5    ming ming  3년 전                                              좋음\n",
       "6  Hatip Kemal  1년 전                                 강남 지역의 멋진 카페 가게"
      ]
     },
     "execution_count": 34,
     "metadata": {},
     "output_type": "execute_result"
    }
   ],
   "source": [
    "data"
   ]
  },
  {
   "cell_type": "code",
   "execution_count": 35,
   "id": "62d41d2f",
   "metadata": {},
   "outputs": [],
   "source": [
    "data = data.drop(columns=['ID'])"
   ]
  },
  {
   "cell_type": "code",
   "execution_count": 36,
   "id": "87e20ddb",
   "metadata": {
    "scrolled": true
   },
   "outputs": [
    {
     "data": {
      "text/html": [
       "<div>\n",
       "<style scoped>\n",
       "    .dataframe tbody tr th:only-of-type {\n",
       "        vertical-align: middle;\n",
       "    }\n",
       "\n",
       "    .dataframe tbody tr th {\n",
       "        vertical-align: top;\n",
       "    }\n",
       "\n",
       "    .dataframe thead th {\n",
       "        text-align: right;\n",
       "    }\n",
       "</style>\n",
       "<table border=\"1\" class=\"dataframe\">\n",
       "  <thead>\n",
       "    <tr style=\"text-align: right;\">\n",
       "      <th></th>\n",
       "      <th>Date</th>\n",
       "      <th>Review</th>\n",
       "    </tr>\n",
       "  </thead>\n",
       "  <tbody>\n",
       "    <tr>\n",
       "      <th>0</th>\n",
       "      <td>4년 전</td>\n",
       "      <td>2층 흡연공간, 강남역 대로변보다 조용해서 미팅, 공부 그리고 휴식하기 좋습니다!!</td>\n",
       "    </tr>\n",
       "    <tr>\n",
       "      <th>1</th>\n",
       "      <td>2년 전</td>\n",
       "      <td>좁은 감이 있지만, 그래서 대화집중이 잘 되는 곳! 흡연실도 따로 있음!</td>\n",
       "    </tr>\n",
       "    <tr>\n",
       "      <th>2</th>\n",
       "      <td>9달 전</td>\n",
       "      <td>이층 흡연실 좋아요^^</td>\n",
       "    </tr>\n",
       "    <tr>\n",
       "      <th>3</th>\n",
       "      <td>2년 전</td>\n",
       "      <td>직원분이 언제나 친절하게 응대해주셔서 편안한 곳 입니다.</td>\n",
       "    </tr>\n",
       "    <tr>\n",
       "      <th>4</th>\n",
       "      <td>5년 전</td>\n",
       "      <td>강남에서 주차무료인 커피숍이란!!</td>\n",
       "    </tr>\n",
       "    <tr>\n",
       "      <th>5</th>\n",
       "      <td>3년 전</td>\n",
       "      <td>좋음</td>\n",
       "    </tr>\n",
       "    <tr>\n",
       "      <th>6</th>\n",
       "      <td>1년 전</td>\n",
       "      <td>강남 지역의 멋진 카페 가게</td>\n",
       "    </tr>\n",
       "  </tbody>\n",
       "</table>\n",
       "</div>"
      ],
      "text/plain": [
       "   Date                                          Review\n",
       "0  4년 전  2층 흡연공간, 강남역 대로변보다 조용해서 미팅, 공부 그리고 휴식하기 좋습니다!!\n",
       "1  2년 전        좁은 감이 있지만, 그래서 대화집중이 잘 되는 곳! 흡연실도 따로 있음!\n",
       "2  9달 전                                    이층 흡연실 좋아요^^\n",
       "3  2년 전                 직원분이 언제나 친절하게 응대해주셔서 편안한 곳 입니다.\n",
       "4  5년 전                              강남에서 주차무료인 커피숍이란!!\n",
       "5  3년 전                                              좋음\n",
       "6  1년 전                                 강남 지역의 멋진 카페 가게"
      ]
     },
     "execution_count": 36,
     "metadata": {},
     "output_type": "execute_result"
    }
   ],
   "source": [
    "data"
   ]
  },
  {
   "cell_type": "code",
   "execution_count": 37,
   "id": "e337931a",
   "metadata": {},
   "outputs": [],
   "source": [
    "data.to_csv('pascucci_reviews_google.csv', index=False, encoding='utf-8-sig')"
   ]
  },
  {
   "cell_type": "code",
   "execution_count": null,
   "id": "7c243b8e",
   "metadata": {},
   "outputs": [],
   "source": []
  },
  {
   "cell_type": "code",
   "execution_count": null,
   "id": "7ca9069b",
   "metadata": {},
   "outputs": [],
   "source": []
  },
  {
   "cell_type": "code",
   "execution_count": null,
   "id": "ac18259d",
   "metadata": {},
   "outputs": [],
   "source": []
  },
  {
   "cell_type": "code",
   "execution_count": null,
   "id": "011ab490",
   "metadata": {},
   "outputs": [],
   "source": []
  },
  {
   "cell_type": "code",
   "execution_count": 38,
   "id": "8bc618c6",
   "metadata": {},
   "outputs": [
    {
     "data": {
      "text/html": [
       "<div>\n",
       "<style scoped>\n",
       "    .dataframe tbody tr th:only-of-type {\n",
       "        vertical-align: middle;\n",
       "    }\n",
       "\n",
       "    .dataframe tbody tr th {\n",
       "        vertical-align: top;\n",
       "    }\n",
       "\n",
       "    .dataframe thead th {\n",
       "        text-align: right;\n",
       "    }\n",
       "</style>\n",
       "<table border=\"1\" class=\"dataframe\">\n",
       "  <thead>\n",
       "    <tr style=\"text-align: right;\">\n",
       "      <th></th>\n",
       "      <th>작성 날짜</th>\n",
       "      <th>리뷰 내용</th>\n",
       "    </tr>\n",
       "  </thead>\n",
       "  <tbody>\n",
       "    <tr>\n",
       "      <th>0</th>\n",
       "      <td>2023.09.21.</td>\n",
       "      <td>파스쿠찌 검색하다가 대로가 아닌 골목에 위치해서 놀람. 1층은 거의 좌석없고 2층 ...</td>\n",
       "    </tr>\n",
       "    <tr>\n",
       "      <th>1</th>\n",
       "      <td>2019.10.29.</td>\n",
       "      <td>NaN</td>\n",
       "    </tr>\n",
       "  </tbody>\n",
       "</table>\n",
       "</div>"
      ],
      "text/plain": [
       "         작성 날짜                                              리뷰 내용\n",
       "0  2023.09.21.  파스쿠찌 검색하다가 대로가 아닌 골목에 위치해서 놀람. 1층은 거의 좌석없고 2층 ...\n",
       "1  2019.10.29.                                                NaN"
      ]
     },
     "execution_count": 38,
     "metadata": {},
     "output_type": "execute_result"
    }
   ],
   "source": [
    "data2 = pd.read_csv(\"./review_data/pascucci_reviews_kakao.csv\")\n",
    "data2"
   ]
  },
  {
   "cell_type": "code",
   "execution_count": 39,
   "id": "9b90fade",
   "metadata": {},
   "outputs": [],
   "source": [
    "data2.rename(columns={'작성 날짜': 'Date', '리뷰 내용': 'Review'}, inplace=True)"
   ]
  },
  {
   "cell_type": "code",
   "execution_count": 40,
   "id": "2d6c5c5a",
   "metadata": {},
   "outputs": [
    {
     "data": {
      "text/html": [
       "<div>\n",
       "<style scoped>\n",
       "    .dataframe tbody tr th:only-of-type {\n",
       "        vertical-align: middle;\n",
       "    }\n",
       "\n",
       "    .dataframe tbody tr th {\n",
       "        vertical-align: top;\n",
       "    }\n",
       "\n",
       "    .dataframe thead th {\n",
       "        text-align: right;\n",
       "    }\n",
       "</style>\n",
       "<table border=\"1\" class=\"dataframe\">\n",
       "  <thead>\n",
       "    <tr style=\"text-align: right;\">\n",
       "      <th></th>\n",
       "      <th>Date</th>\n",
       "      <th>Review</th>\n",
       "    </tr>\n",
       "  </thead>\n",
       "  <tbody>\n",
       "    <tr>\n",
       "      <th>0</th>\n",
       "      <td>2023.09.21.</td>\n",
       "      <td>파스쿠찌 검색하다가 대로가 아닌 골목에 위치해서 놀람. 1층은 거의 좌석없고 2층 ...</td>\n",
       "    </tr>\n",
       "    <tr>\n",
       "      <th>1</th>\n",
       "      <td>2019.10.29.</td>\n",
       "      <td>NaN</td>\n",
       "    </tr>\n",
       "  </tbody>\n",
       "</table>\n",
       "</div>"
      ],
      "text/plain": [
       "          Date                                             Review\n",
       "0  2023.09.21.  파스쿠찌 검색하다가 대로가 아닌 골목에 위치해서 놀람. 1층은 거의 좌석없고 2층 ...\n",
       "1  2019.10.29.                                                NaN"
      ]
     },
     "execution_count": 40,
     "metadata": {},
     "output_type": "execute_result"
    }
   ],
   "source": [
    "data2"
   ]
  },
  {
   "cell_type": "code",
   "execution_count": 41,
   "id": "cb67d829",
   "metadata": {},
   "outputs": [],
   "source": [
    "# Date 컬럼을 날짜 형식으로 변환한 후, 년-월 형식으로 변환\n",
    "data2['Date'] = pd.to_datetime(data2['Date'], errors='coerce').dt.to_period('M').astype(str)\n"
   ]
  },
  {
   "cell_type": "code",
   "execution_count": 42,
   "id": "fc09c198",
   "metadata": {},
   "outputs": [
    {
     "data": {
      "text/html": [
       "<div>\n",
       "<style scoped>\n",
       "    .dataframe tbody tr th:only-of-type {\n",
       "        vertical-align: middle;\n",
       "    }\n",
       "\n",
       "    .dataframe tbody tr th {\n",
       "        vertical-align: top;\n",
       "    }\n",
       "\n",
       "    .dataframe thead th {\n",
       "        text-align: right;\n",
       "    }\n",
       "</style>\n",
       "<table border=\"1\" class=\"dataframe\">\n",
       "  <thead>\n",
       "    <tr style=\"text-align: right;\">\n",
       "      <th></th>\n",
       "      <th>Date</th>\n",
       "      <th>Review</th>\n",
       "    </tr>\n",
       "  </thead>\n",
       "  <tbody>\n",
       "    <tr>\n",
       "      <th>0</th>\n",
       "      <td>2023-09</td>\n",
       "      <td>파스쿠찌 검색하다가 대로가 아닌 골목에 위치해서 놀람. 1층은 거의 좌석없고 2층 ...</td>\n",
       "    </tr>\n",
       "    <tr>\n",
       "      <th>1</th>\n",
       "      <td>2019-10</td>\n",
       "      <td>NaN</td>\n",
       "    </tr>\n",
       "  </tbody>\n",
       "</table>\n",
       "</div>"
      ],
      "text/plain": [
       "      Date                                             Review\n",
       "0  2023-09  파스쿠찌 검색하다가 대로가 아닌 골목에 위치해서 놀람. 1층은 거의 좌석없고 2층 ...\n",
       "1  2019-10                                                NaN"
      ]
     },
     "execution_count": 42,
     "metadata": {},
     "output_type": "execute_result"
    }
   ],
   "source": [
    "data2"
   ]
  },
  {
   "cell_type": "code",
   "execution_count": 43,
   "id": "49825ad4",
   "metadata": {},
   "outputs": [],
   "source": [
    "data2.to_csv('pascucci_reviews_kakao.csv', index=False, encoding='utf-8-sig')"
   ]
  },
  {
   "cell_type": "code",
   "execution_count": 49,
   "id": "7331db42",
   "metadata": {},
   "outputs": [
    {
     "data": {
      "text/html": [
       "<div>\n",
       "<style scoped>\n",
       "    .dataframe tbody tr th:only-of-type {\n",
       "        vertical-align: middle;\n",
       "    }\n",
       "\n",
       "    .dataframe tbody tr th {\n",
       "        vertical-align: top;\n",
       "    }\n",
       "\n",
       "    .dataframe thead th {\n",
       "        text-align: right;\n",
       "    }\n",
       "</style>\n",
       "<table border=\"1\" class=\"dataframe\">\n",
       "  <thead>\n",
       "    <tr style=\"text-align: right;\">\n",
       "      <th></th>\n",
       "      <th>Date</th>\n",
       "      <th>Review</th>\n",
       "    </tr>\n",
       "  </thead>\n",
       "  <tbody>\n",
       "    <tr>\n",
       "      <th>0</th>\n",
       "      <td>2023-09</td>\n",
       "      <td>파스쿠찌 검색하다가 대로가 아닌 골목에 위치해서 놀람. 1층은 거의 좌석없고 2층 ...</td>\n",
       "    </tr>\n",
       "    <tr>\n",
       "      <th>1</th>\n",
       "      <td>2019-10</td>\n",
       "      <td>NaN</td>\n",
       "    </tr>\n",
       "  </tbody>\n",
       "</table>\n",
       "</div>"
      ],
      "text/plain": [
       "      Date                                             Review\n",
       "0  2023-09  파스쿠찌 검색하다가 대로가 아닌 골목에 위치해서 놀람. 1층은 거의 좌석없고 2층 ...\n",
       "1  2019-10                                                NaN"
      ]
     },
     "execution_count": 49,
     "metadata": {},
     "output_type": "execute_result"
    }
   ],
   "source": [
    "test = pd.read_csv(\"./pascucci_reviews_kakao.csv\")\n",
    "test"
   ]
  }
 ],
 "metadata": {
  "kernelspec": {
   "display_name": "Python 3 (ipykernel)",
   "language": "python",
   "name": "python3"
  },
  "language_info": {
   "codemirror_mode": {
    "name": "ipython",
    "version": 3
   },
   "file_extension": ".py",
   "mimetype": "text/x-python",
   "name": "python",
   "nbconvert_exporter": "python",
   "pygments_lexer": "ipython3",
   "version": "3.10.14"
  }
 },
 "nbformat": 4,
 "nbformat_minor": 5
}
