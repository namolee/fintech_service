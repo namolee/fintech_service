{
 "cells": [
  {
   "cell_type": "code",
   "execution_count": 3,
   "id": "b5621e2a",
   "metadata": {},
   "outputs": [
    {
     "name": "stdout",
     "output_type": "stream",
     "text": [
      "Python은 간결하고 읽기 쉬운 문법을 가진 인기 있는 프로그래밍 언어 중 하나입니다. Guido van Rossum이 개발한 Python은 다양한 운영 체제에서 사용할 수 있으며, 객체 지향, 함수형, 동적 타입 언어로 분류됩니다.\n",
      "\n",
      "Python은 다양한 분야에서 사용되며, 웹 개발, 데이터 과학, 인공 지능, 자동화, 게임 개발 등 다양한 분야에서 활용됩니다. Python은 커뮤니티가 활발하며, 다양한 라이브러리와 프레임워크가 있어 쉽게 개발할 수 있습니다.\n",
      "\n",
      "또한 Python은 인터프리터 언어로 실행 속도가 느릴 수 있지만, C나 C++로 작성된 확장 모듈을 사용하여 성능을 개선할 수 있습니다. Python의 강력한 특징 중 하나는 다양한 라이브러리와 패키지를 통해 다양한 기능을 제공하고 있어 빠르고 효율적으로 개발할 수 있다는 점입니다.\n"
     ]
    }
   ],
   "source": [
    "import os\n",
    "import openai  # 'openai' 모듈을 올바르게 가져옵니다.\n",
    "\n",
    "# 윈도우 환경변수에 등록했던 OPENAI_API_KEY를 불러와 사용\n",
    "openai.api_key = os.environ['OPENAI_API_KEY']\n",
    "\n",
    "# ChatGPT API 호출\n",
    "response = openai.ChatCompletion.create(\n",
    "    model=\"gpt-3.5-turbo\",\n",
    "    messages=[\n",
    "        {\"role\": \"user\", \"content\": \"Python에 대해 알려주세요\"},\n",
    "    ],\n",
    ")\n",
    "\n",
    "# 결과 출력\n",
    "print(response['choices'][0]['message']['content'])\n"
   ]
  }
 ],
 "metadata": {
  "kernelspec": {
   "display_name": "Python 3 (ipykernel)",
   "language": "python",
   "name": "python3"
  },
  "language_info": {
   "codemirror_mode": {
    "name": "ipython",
    "version": 3
   },
   "file_extension": ".py",
   "mimetype": "text/x-python",
   "name": "python",
   "nbconvert_exporter": "python",
   "pygments_lexer": "ipython3",
   "version": "3.11.10"
  }
 },
 "nbformat": 4,
 "nbformat_minor": 5
}
