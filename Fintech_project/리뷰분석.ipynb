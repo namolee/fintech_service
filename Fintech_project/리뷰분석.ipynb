{
 "cells": [
  {
   "cell_type": "code",
   "execution_count": 1,
   "id": "c7067b67",
   "metadata": {},
   "outputs": [],
   "source": [
    "import pandas as pd\n",
    "import numpy as np\n",
    "import matplotlib.pyplot as plt\n",
    "import seaborn as sns\n",
    "\n",
    "from wordcloud import WordCloud\n",
    "from konlpy.tag import Okt\n"
   ]
  },
  {
   "cell_type": "code",
   "execution_count": 3,
   "id": "9a69f173",
   "metadata": {},
   "outputs": [
    {
     "ename": "NameError",
     "evalue": "name 'pd' is not defined",
     "output_type": "error",
     "traceback": [
      "\u001b[0;31m---------------------------------------------------------------------------\u001b[0m",
      "\u001b[0;31mNameError\u001b[0m                                 Traceback (most recent call last)",
      "Cell \u001b[0;32mIn[3], line 1\u001b[0m\n\u001b[0;32m----> 1\u001b[0m reviews_df \u001b[38;5;241m=\u001b[39m \u001b[43mpd\u001b[49m\u001b[38;5;241m.\u001b[39mread_csv(\u001b[38;5;124m\"\u001b[39m\u001b[38;5;124m./data/뱅뱅막국수_reviews_추천순.csv\u001b[39m\u001b[38;5;124m\"\u001b[39m)\n",
      "\u001b[0;31mNameError\u001b[0m: name 'pd' is not defined"
     ]
    }
   ],
   "source": [
    "reviews_df = pd.read_csv(\"./data/뱅뱅막국수_reviews_추천순.csv\")"
   ]
  },
  {
   "cell_type": "code",
   "execution_count": 3,
   "id": "daf3e9a1",
   "metadata": {
    "scrolled": true
   },
   "outputs": [
    {
     "data": {
      "text/html": [
       "<div>\n",
       "<style scoped>\n",
       "    .dataframe tbody tr th:only-of-type {\n",
       "        vertical-align: middle;\n",
       "    }\n",
       "\n",
       "    .dataframe tbody tr th {\n",
       "        vertical-align: top;\n",
       "    }\n",
       "\n",
       "    .dataframe thead th {\n",
       "        text-align: right;\n",
       "    }\n",
       "</style>\n",
       "<table border=\"1\" class=\"dataframe\">\n",
       "  <thead>\n",
       "    <tr style=\"text-align: right;\">\n",
       "      <th></th>\n",
       "      <th>Index</th>\n",
       "      <th>Date</th>\n",
       "      <th>Review</th>\n",
       "    </tr>\n",
       "  </thead>\n",
       "  <tbody>\n",
       "    <tr>\n",
       "      <th>0</th>\n",
       "      <td>1</td>\n",
       "      <td>2024년 11월 7일 목요일</td>\n",
       "      <td>그 유명한 맛집 뱅뱅막국수 다녀왔습니당 주문하고 바로 뽑아내는 메밀 자가제면이라 면...</td>\n",
       "    </tr>\n",
       "    <tr>\n",
       "      <th>1</th>\n",
       "      <td>2</td>\n",
       "      <td>2024년 11월 4일 월요일</td>\n",
       "      <td>도곡동맛집 뱅뱅막국수는 유튜브 먹방에서 보고 찾아갔어요.진짜 점심때 사람이 많아 맛...</td>\n",
       "    </tr>\n",
       "    <tr>\n",
       "      <th>2</th>\n",
       "      <td>3</td>\n",
       "      <td>2024년 11월 3일 일요일</td>\n",
       "      <td>처음 방문해봤는데.. 웨이팅이 있을만하네요👍 애매한 시간에 가서 바로 들어갔고\\n양...</td>\n",
       "    </tr>\n",
       "    <tr>\n",
       "      <th>3</th>\n",
       "      <td>4</td>\n",
       "      <td>2024년 10월 14일 월요일</td>\n",
       "      <td>뱅뱅막국수!\\n강남 도곡동 뱅뱅사거리 막국수 맛집!이네요.뱅뱅 돌린 메밀면에 돌돌 ...</td>\n",
       "    </tr>\n",
       "    <tr>\n",
       "      <th>4</th>\n",
       "      <td>5</td>\n",
       "      <td>2024년 10월 16일 수요일</td>\n",
       "      <td>강남역 최애 맛집 뱅뱅막국수 다녀왔습니다 🍜✨\\n\\n오늘 간만에 와이프와 늦은 점심...</td>\n",
       "    </tr>\n",
       "    <tr>\n",
       "      <th>...</th>\n",
       "      <td>...</td>\n",
       "      <td>...</td>\n",
       "      <td>...</td>\n",
       "    </tr>\n",
       "    <tr>\n",
       "      <th>983</th>\n",
       "      <td>984</td>\n",
       "      <td>2024년 8월 6일 화요일</td>\n",
       "      <td>참기름 막국수랑 육전 조합 최고에요!!\\n맛집으로 추천합니다❤️</td>\n",
       "    </tr>\n",
       "    <tr>\n",
       "      <th>984</th>\n",
       "      <td>985</td>\n",
       "      <td>2024년 4월 30일 화요일</td>\n",
       "      <td>저녁시간에 가서 웨이팅 있었습니다. 자극적이지 않고 맛있었어요 :)</td>\n",
       "    </tr>\n",
       "    <tr>\n",
       "      <th>985</th>\n",
       "      <td>986</td>\n",
       "      <td>2024년 7월 4일 목요일</td>\n",
       "      <td>깔끔하고 단백하고 너무 맛있어요 ^^</td>\n",
       "    </tr>\n",
       "    <tr>\n",
       "      <th>986</th>\n",
       "      <td>987</td>\n",
       "      <td>2024년 7월 20일 토요일</td>\n",
       "      <td>양재역 근처 맛집입니다!! 우연히 들어가서 먹었는데 너무 맛있었어요 ㅎㅎ 더운 여름...</td>\n",
       "    </tr>\n",
       "    <tr>\n",
       "      <th>987</th>\n",
       "      <td>988</td>\n",
       "      <td>2024년 7월 8일 월요일</td>\n",
       "      <td>너무너무 맛있어요 4번째 왔어요</td>\n",
       "    </tr>\n",
       "  </tbody>\n",
       "</table>\n",
       "<p>988 rows × 3 columns</p>\n",
       "</div>"
      ],
      "text/plain": [
       "     Index               Date  \\\n",
       "0        1   2024년 11월 7일 목요일   \n",
       "1        2   2024년 11월 4일 월요일   \n",
       "2        3   2024년 11월 3일 일요일   \n",
       "3        4  2024년 10월 14일 월요일   \n",
       "4        5  2024년 10월 16일 수요일   \n",
       "..     ...                ...   \n",
       "983    984    2024년 8월 6일 화요일   \n",
       "984    985   2024년 4월 30일 화요일   \n",
       "985    986    2024년 7월 4일 목요일   \n",
       "986    987   2024년 7월 20일 토요일   \n",
       "987    988    2024년 7월 8일 월요일   \n",
       "\n",
       "                                                Review  \n",
       "0    그 유명한 맛집 뱅뱅막국수 다녀왔습니당 주문하고 바로 뽑아내는 메밀 자가제면이라 면...  \n",
       "1    도곡동맛집 뱅뱅막국수는 유튜브 먹방에서 보고 찾아갔어요.진짜 점심때 사람이 많아 맛...  \n",
       "2    처음 방문해봤는데.. 웨이팅이 있을만하네요👍 애매한 시간에 가서 바로 들어갔고\\n양...  \n",
       "3    뱅뱅막국수!\\n강남 도곡동 뱅뱅사거리 막국수 맛집!이네요.뱅뱅 돌린 메밀면에 돌돌 ...  \n",
       "4    강남역 최애 맛집 뱅뱅막국수 다녀왔습니다 🍜✨\\n\\n오늘 간만에 와이프와 늦은 점심...  \n",
       "..                                                 ...  \n",
       "983                참기름 막국수랑 육전 조합 최고에요!!\\n맛집으로 추천합니다❤️  \n",
       "984              저녁시간에 가서 웨이팅 있었습니다. 자극적이지 않고 맛있었어요 :)  \n",
       "985                               깔끔하고 단백하고 너무 맛있어요 ^^  \n",
       "986  양재역 근처 맛집입니다!! 우연히 들어가서 먹었는데 너무 맛있었어요 ㅎㅎ 더운 여름...  \n",
       "987                                  너무너무 맛있어요 4번째 왔어요  \n",
       "\n",
       "[988 rows x 3 columns]"
      ]
     },
     "execution_count": 3,
     "metadata": {},
     "output_type": "execute_result"
    }
   ],
   "source": [
    "reviews_df"
   ]
  },
  {
   "cell_type": "code",
   "execution_count": 5,
   "id": "fa9d0cf9-d804-423f-a17c-3f60a5fab495",
   "metadata": {},
   "outputs": [
    {
     "data": {
      "text/plain": [
       "Index(['Index', 'Date', 'Review'], dtype='object')"
      ]
     },
     "execution_count": 5,
     "metadata": {},
     "output_type": "execute_result"
    }
   ],
   "source": [
    "reviews_df.columns"
   ]
  },
  {
   "cell_type": "code",
   "execution_count": null,
   "id": "25d43c2b",
   "metadata": {},
   "outputs": [],
   "source": [
    "reviews_df[[]]"
   ]
  },
  {
   "cell_type": "code",
   "execution_count": 2,
   "id": "d951f9ef",
   "metadata": {},
   "outputs": [
    {
     "ename": "NameError",
     "evalue": "name 'reviews_df' is not defined",
     "output_type": "error",
     "traceback": [
      "\u001b[0;31m---------------------------------------------------------------------------\u001b[0m",
      "\u001b[0;31mNameError\u001b[0m                                 Traceback (most recent call last)",
      "Cell \u001b[0;32mIn[2], line 2\u001b[0m\n\u001b[1;32m      1\u001b[0m \u001b[38;5;66;03m# 텍스트 데이터 전처리\u001b[39;00m\n\u001b[0;32m----> 2\u001b[0m text_data \u001b[38;5;241m=\u001b[39m \u001b[38;5;124m'\u001b[39m\u001b[38;5;124m \u001b[39m\u001b[38;5;124m'\u001b[39m\u001b[38;5;241m.\u001b[39mjoin(review \u001b[38;5;28;01mfor\u001b[39;00m review \u001b[38;5;129;01min\u001b[39;00m \u001b[43mreviews_df\u001b[49m[\u001b[38;5;124m'\u001b[39m\u001b[38;5;124mReview\u001b[39m\u001b[38;5;124m'\u001b[39m]\u001b[38;5;241m.\u001b[39mastype(\u001b[38;5;28mstr\u001b[39m))\n\u001b[1;32m      4\u001b[0m \u001b[38;5;66;03m# 형태소 분석기 (Okt) 사용하여 명사 추출\u001b[39;00m\n\u001b[1;32m      5\u001b[0m okt \u001b[38;5;241m=\u001b[39m Okt()\n",
      "\u001b[0;31mNameError\u001b[0m: name 'reviews_df' is not defined"
     ]
    }
   ],
   "source": [
    "# 텍스트 데이터 전처리\n",
    "text_data = ' '.join(review for review in reviews_df['Review'].astype(str))\n",
    "\n",
    "# 형태소 분석기 (Okt) 사용하여 명사 추출\n",
    "okt = Okt()\n",
    "nouns = okt.nouns(text_data)\n",
    "nouns_text = ' '.join(nouns)\n",
    "\n",
    "# WordCloud 생성\n",
    "wordcloud = WordCloud(\n",
    "    font_path='/usr/share/fonts/truetype/nanum/NanumGothic.ttf',  # 한글 폰트 경로 (윈도우 기준)\n",
    "    width=800,\n",
    "    height=400,\n",
    "    background_color='white'\n",
    ").generate(nouns_text)\n",
    "\n",
    "# WordCloud 시각화\n",
    "plt.figure(figsize=(20, 10))\n",
    "plt.imshow(wordcloud, interpolation='bilinear')\n",
    "plt.axis('off')\n",
    "plt.show()"
   ]
  },
  {
   "cell_type": "code",
   "execution_count": null,
   "id": "12601fff",
   "metadata": {},
   "outputs": [],
   "source": []
  },
  {
   "cell_type": "code",
   "execution_count": 7,
   "id": "042158bd",
   "metadata": {},
   "outputs": [],
   "source": [
    "from nltk import FreqDist"
   ]
  },
  {
   "cell_type": "code",
   "execution_count": 8,
   "id": "f581ee3d-35d4-4832-ba77-be3783b29c84",
   "metadata": {},
   "outputs": [],
   "source": [
    "from matplotlib import font_manager, rc\n",
    "\n",
    "# 한글 폰트 설정\n",
    "plt.rcParams['font.family'] = 'NanumGothic'  # 'NanumGothic'이 설치된 경우\n",
    "plt.rcParams['axes.unicode_minus'] = False  # 마이너스 기호 깨짐 방지"
   ]
  },
  {
   "cell_type": "code",
   "execution_count": 10,
   "id": "47333d46",
   "metadata": {},
   "outputs": [
    {
     "data": {
      "image/png": "[encoded data removed]",
      "text/plain": [
       "<Figure size 1200x600 with 1 Axes>"
      ]
     },
     "metadata": {},
     "output_type": "display_data"
    }
   ],
   "source": [
    "# 텍스트 데이터 전처리\n",
    "text_data = ' '.join(review for review in reviews_df['Review'].astype(str))\n",
    "\n",
    "# 형태소 분석기 (Okt) 사용하여 명사 추출\n",
    "okt = Okt()\n",
    "nouns = okt.nouns(text_data)\n",
    "\n",
    "# 단어 빈도수 계산\n",
    "word_freq = FreqDist(nouns)\n",
    "\n",
    "# 가장 많이 나온 상위 20개 단어 선택\n",
    "top_words = word_freq.most_common(20)\n",
    "\n",
    "# 단어와 빈도수를 분리\n",
    "words = [word for word, freq in top_words]\n",
    "frequencies = [freq for word, freq in top_words]\n",
    "\n",
    "# 막대그래프 생성\n",
    "plt.figure(figsize=(12, 6))\n",
    "plt.barh(words, frequencies, color='skyblue')\n",
    "plt.xlabel('빈도수')\n",
    "plt.ylabel('단어')\n",
    "plt.title('가장 많이 나온 단어 빈도수')\n",
    "plt.gca().invert_yaxis()  # 빈도수가 높은 단어가 위로 오도록 설정\n",
    "plt.show()"
   ]
  },
  {
   "cell_type": "code",
   "execution_count": null,
   "id": "ac9a566d",
   "metadata": {},
   "outputs": [],
   "source": []
  },
  {
   "cell_type": "code",
   "execution_count": 11,
   "id": "67d31913",
   "metadata": {},
   "outputs": [],
   "source": [
    "from collections import Counter"
   ]
  },
  {
   "cell_type": "code",
   "execution_count": 12,
   "id": "2b8f6f3f",
   "metadata": {},
   "outputs": [
    {
     "data": {
      "image/png": "[encoded data removed]",
      "text/plain": [
       "<Figure size 800x600 with 1 Axes>"
      ]
     },
     "metadata": {},
     "output_type": "display_data"
    }
   ],
   "source": [
    "# 감성 사전 로드\n",
    "# 간단한 긍정/부정 단어 리스트를 정의 (한국어 감성 사전을 사용하는 것이 이상적)\n",
    "positive_words = [\"맛있\", \"좋다\", \"최고\", \"추천\", \"친절\", \"감사\", \"훌륭\", \"깔끔\", \"행복\",\"존맛\",\"JMT\",\"맛집\",]\n",
    "negative_words = [\"맛없\",\"별로\", \"나쁘다\", \"불친절\", \"비싸다\", \"최악\", \"실망\", \"불만\", \"더럽다\",\"헛걸음\"]\n",
    "\n",
    "# 형태소 분석기 (Okt) 초기화\n",
    "okt = Okt()\n",
    "\n",
    "# 리뷰에 대한 감성 점수 계산 함수\n",
    "def sentiment_score(text):\n",
    "    tokens = okt.morphs(text)  # 형태소 추출\n",
    "    pos_count = sum(1 for word in tokens if word in positive_words)\n",
    "    neg_count = sum(1 for word in tokens if word in negative_words)\n",
    "    if pos_count > neg_count:\n",
    "        return \"긍정\"\n",
    "    elif neg_count > pos_count:\n",
    "        return \"부정\"\n",
    "    else:\n",
    "        return \"중립\"\n",
    "\n",
    "# NaN 값을 빈 문자열로 대체\n",
    "reviews_df['Review'] = reviews_df['Review'].fillna('')\n",
    "# 감성 점수 계산\n",
    "reviews_df['감성'] = reviews_df['Review'].apply(sentiment_score)\n",
    "\n",
    "# 감성 분석 결과 개수 카운트\n",
    "sentiment_counts = reviews_df['감성'].value_counts()\n",
    "\n",
    "# 시각화\n",
    "plt.figure(figsize=(8, 6))\n",
    "sentiment_counts.plot(kind='bar', color=['skyblue', 'salmon', 'gray'])\n",
    "plt.title('긍정 / 부정 / 중립 리뷰 비율')\n",
    "plt.xlabel('감성')\n",
    "plt.ylabel('리뷰 수')\n",
    "plt.xticks(rotation=0)\n",
    "plt.show()"
   ]
  },
  {
   "cell_type": "code",
   "execution_count": 14,
   "id": "68b3f2dd",
   "metadata": {},
   "outputs": [
    {
     "name": "stdout",
     "output_type": "stream",
     "text": [
      "중립 리뷰 예시:\n",
      "2    처음 방문해봤는데.. 웨이팅이 있을만하네요👍 애매한 시간에 가서 바로 들어갔고\\n양...\n",
      "5    막국수집인만큼 들기름막국수,참기름막국수 정말 맛있어요\\n참기름막국수에 곤드레랑 궁채...\n",
      "6    다섯번째 들리는데 리뷰는 처음 올리네요\\n오늘은 세트에 굴전이 나왔기 때문이져\\n나...\n",
      "Name: Review, dtype: object\n",
      "\n",
      "긍정 리뷰 예시:\n",
      "0    그 유명한 맛집 뱅뱅막국수 다녀왔습니당 주문하고 바로 뽑아내는 메밀 자가제면이라 면...\n",
      "1    도곡동맛집 뱅뱅막국수는 유튜브 먹방에서 보고 찾아갔어요.진짜 점심때 사람이 많아 맛...\n",
      "3    뱅뱅막국수!\\n강남 도곡동 뱅뱅사거리 막국수 맛집!이네요.뱅뱅 돌린 메밀면에 돌돌 ...\n",
      "Name: Review, dtype: object\n",
      "\n",
      "부정 리뷰 예시:\n",
      "242    막국수 별로 안좋아하는데 너무 맛있음.. 면발이 기가 막힘!!\\n줄 선 보람이 있네...\n",
      "390    뱅뱅막국수... 말로는 들었는데 먹으러 온건 처음이네...\\n자가제면으로 돌돌말아먹...\n",
      "402    너무 맛있게 먹었어요.\\n참기름 막국수 저번에 너무 맛있게 먹었는데 오늘은 코다리 ...\n",
      "Name: Review, dtype: object\n"
     ]
    }
   ],
   "source": [
    "# 각 감성별 리뷰 예시를 추출\n",
    "num_samples = 3  # 감성별로 출력할 리뷰 수 설정\n",
    "\n",
    "# 중립 리뷰 예시\n",
    "neutral_reviews = reviews_df[reviews_df['감성'] == '중립']['Review'].head(num_samples)\n",
    "print(\"중립 리뷰 예시:\")\n",
    "print(neutral_reviews)\n",
    "\n",
    "# 긍정 리뷰 예시\n",
    "positive_reviews = reviews_df[reviews_df['감성'] == '긍정']['Review'].head(num_samples)\n",
    "print(\"\\n긍정 리뷰 예시:\")\n",
    "print(positive_reviews)\n",
    "\n",
    "# 부정 리뷰 예시\n",
    "negative_reviews = reviews_df[reviews_df['감성'] == '부정']['Review'].head(num_samples)\n",
    "print(\"\\n부정 리뷰 예시:\")\n",
    "print(negative_reviews)\n"
   ]
  }
 ],
 "metadata": {
  "kernelspec": {
   "display_name": "Python 3 (ipykernel)",
   "language": "python",
   "name": "python3"
  },
  "language_info": {
   "codemirror_mode": {
    "name": "ipython",
    "version": 3
   },
   "file_extension": ".py",
   "mimetype": "text/x-python",
   "name": "python",
   "nbconvert_exporter": "python",
   "pygments_lexer": "ipython3",
   "version": "3.10.14"
  }
 },
 "nbformat": 4,
 "nbformat_minor": 5
}
